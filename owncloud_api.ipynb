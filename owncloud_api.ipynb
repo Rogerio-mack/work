{
  "nbformat": 4,
  "nbformat_minor": 0,
  "metadata": {
    "colab": {
      "provenance": [],
      "authorship_tag": "ABX9TyMODoRwGKeMBOEavyVmihS9",
      "include_colab_link": true
    },
    "kernelspec": {
      "name": "python3",
      "display_name": "Python 3"
    },
    "language_info": {
      "name": "python"
    }
  },
  "cells": [
    {
      "cell_type": "markdown",
      "metadata": {
        "id": "view-in-github",
        "colab_type": "text"
      },
      "source": [
        "<a href=\"https://colab.research.google.com/github/Rogerio-mack/work/blob/main/owncloud_api.ipynb\" target=\"_parent\"><img src=\"https://colab.research.google.com/assets/colab-badge.svg\" alt=\"Open In Colab\"/></a>"
      ]
    },
    {
      "cell_type": "markdown",
      "source": [
        "# API para acesso a `owncloud`\n",
        "\n",
        "Documentação [aqui](https://github.com/owncloud/pyocclient) "
      ],
      "metadata": {
        "id": "vtOiH8_Fxux1"
      }
    },
    {
      "cell_type": "code",
      "execution_count": null,
      "metadata": {
        "colab": {
          "base_uri": "https://localhost:8080/"
        },
        "id": "n1rtJfYrJp5v",
        "outputId": "24324a27-1e22-49f9-b7b8-ac7bf060d667"
      },
      "outputs": [
        {
          "output_type": "stream",
          "name": "stdout",
          "text": [
            "Looking in indexes: https://pypi.org/simple, https://us-python.pkg.dev/colab-wheels/public/simple/\n",
            "Collecting pyocclient\n",
            "  Downloading pyocclient-0.6.tar.gz (28 kB)\n",
            "Requirement already satisfied: requests>=2.0.1 in /usr/local/lib/python3.7/dist-packages (from pyocclient) (2.23.0)\n",
            "Requirement already satisfied: six in /usr/local/lib/python3.7/dist-packages (from pyocclient) (1.15.0)\n",
            "Requirement already satisfied: idna<3,>=2.5 in /usr/local/lib/python3.7/dist-packages (from requests>=2.0.1->pyocclient) (2.10)\n",
            "Requirement already satisfied: certifi>=2017.4.17 in /usr/local/lib/python3.7/dist-packages (from requests>=2.0.1->pyocclient) (2022.6.15)\n",
            "Requirement already satisfied: urllib3!=1.25.0,!=1.25.1,<1.26,>=1.21.1 in /usr/local/lib/python3.7/dist-packages (from requests>=2.0.1->pyocclient) (1.24.3)\n",
            "Requirement already satisfied: chardet<4,>=3.0.2 in /usr/local/lib/python3.7/dist-packages (from requests>=2.0.1->pyocclient) (3.0.4)\n",
            "Building wheels for collected packages: pyocclient\n",
            "  Building wheel for pyocclient (setup.py) ... \u001b[?25l\u001b[?25hdone\n",
            "  Created wheel for pyocclient: filename=pyocclient-0.6-py3-none-any.whl size=26057 sha256=6b59739517768042736b81dd1701e725db1041b4259e8c1fda9274f9599fb508\n",
            "  Stored in directory: /root/.cache/pip/wheels/fd/4b/94/c7ed8749c157aeef88f1a23dfe0709c3b64b5ec36964d3d15f\n",
            "Successfully built pyocclient\n",
            "Installing collected packages: pyocclient\n",
            "Successfully installed pyocclient-0.6\n"
          ]
        }
      ],
      "source": [
        "!pip install pyocclient"
      ]
    },
    {
      "cell_type": "markdown",
      "source": [
        "# Acesso Direto\n",
        "\n",
        "O usuário loga na `owncloud`. "
      ],
      "metadata": {
        "id": "Ox3iDBcOy78N"
      }
    },
    {
      "cell_type": "markdown",
      "source": [
        "## Conecta e cria um novo diretório, OK"
      ],
      "metadata": {
        "id": "A-m492SluduF"
      }
    },
    {
      "cell_type": "code",
      "source": [
        "import owncloud\n",
        "\n",
        "oc = owncloud.Client('https://mackcloud.mackenzie.br/owncloud')\n",
        "\n",
        "oc.login('d1115665', 'XXXXXXXXX') # inclua seu user e pw\n",
        "\n",
        "oc.mkdir('testdir')"
      ],
      "metadata": {
        "colab": {
          "base_uri": "https://localhost:8080/"
        },
        "id": "qXfLdDtEJybL",
        "outputId": "1f30964f-40a7-41cd-bc36-595fa195d022"
      },
      "execution_count": null,
      "outputs": [
        {
          "output_type": "execute_result",
          "data": {
            "text/plain": [
              "True"
            ]
          },
          "metadata": {},
          "execution_count": 4
        }
      ]
    },
    {
      "cell_type": "markdown",
      "source": [
        "## Cria um arquivo, faz upload para o novo diretório e gera o link de comparilhamento, OK"
      ],
      "metadata": {
        "id": "Orge3UgYvehm"
      }
    },
    {
      "cell_type": "code",
      "source": [
        "!echo 'hello' > hello.txt"
      ],
      "metadata": {
        "id": "a6TS5NrILqn8"
      },
      "execution_count": null,
      "outputs": []
    },
    {
      "cell_type": "code",
      "source": [
        "oc.put_file('testdir/hello.txt', 'hello.txt')\n",
        "\n",
        "link_info = oc.share_file_with_link('testdir/hello.txt')\n",
        "\n",
        "print('Here is the link to share ' + link_info.get_link())"
      ],
      "metadata": {
        "colab": {
          "base_uri": "https://localhost:8080/"
        },
        "id": "0XG_gT_wLd9k",
        "outputId": "a0fbf440-a3dc-448c-8233-f5559cbe5568"
      },
      "execution_count": null,
      "outputs": [
        {
          "output_type": "stream",
          "name": "stdout",
          "text": [
            "Here is the link to sharehttps://mackcloud.mackenzie.br/owncloud/index.php/s/mYNY2okydEhYG9d\n"
          ]
        }
      ]
    },
    {
      "cell_type": "markdown",
      "source": [
        "## Faz download do arquivo criado, OK \n",
        "\n",
        "Através da conexão do usuário"
      ],
      "metadata": {
        "id": "tWniTVlyvr60"
      }
    },
    {
      "cell_type": "code",
      "source": [
        "oc.get_file('testdir/hello.txt', 'hello2.txt')"
      ],
      "metadata": {
        "colab": {
          "base_uri": "https://localhost:8080/"
        },
        "id": "icA3ARV2P38U",
        "outputId": "fae8c293-b92a-44e7-e2ce-d34af8d340bd"
      },
      "execution_count": null,
      "outputs": [
        {
          "output_type": "execute_result",
          "data": {
            "text/plain": [
              "True"
            ]
          },
          "metadata": {},
          "execution_count": 7
        }
      ]
    },
    {
      "cell_type": "markdown",
      "source": [
        "# Acesso pelo compartilhamento, ERROR\n",
        "\n",
        "Nos acessos anteriores o usuário está logado na owncloud. Através do compartilhamento qualquer um poderia acessar o arquivo através do link sem a necessidade de login na `owncloud`. "
      ],
      "metadata": {
        "id": "oNsRoRWfwRo9"
      }
    },
    {
      "cell_type": "markdown",
      "source": [
        "## Pelo compartilhamento da pasta..., ERROR"
      ],
      "metadata": {
        "id": "sys7gCw8xhFN"
      }
    },
    {
      "cell_type": "code",
      "source": [
        "public_link = 'https://mackcloud.mackenzie.br/owncloud/index.php/s/g9TSqStm2UQ7TYC'\n",
        "\n",
        "oc = owncloud.Client.from_public_link(public_link)\n",
        "oc.get_file('/hello.txt', 'hello3.txt')"
      ],
      "metadata": {
        "colab": {
          "base_uri": "https://localhost:8080/",
          "height": 321
        },
        "id": "NwICpifow0X_",
        "outputId": "250bb056-c7a9-4a54-f5f9-2e8d1499c42b"
      },
      "execution_count": null,
      "outputs": [
        {
          "output_type": "error",
          "ename": "HTTPResponseError",
          "evalue": "ignored",
          "traceback": [
            "\u001b[0;31m---------------------------------------------------------------------------\u001b[0m",
            "\u001b[0;31mHTTPResponseError\u001b[0m                         Traceback (most recent call last)",
            "\u001b[0;32m<ipython-input-16-f7e39007d546>\u001b[0m in \u001b[0;36m<module>\u001b[0;34m\u001b[0m\n\u001b[1;32m      2\u001b[0m \u001b[0;34m\u001b[0m\u001b[0m\n\u001b[1;32m      3\u001b[0m \u001b[0moc\u001b[0m \u001b[0;34m=\u001b[0m \u001b[0mowncloud\u001b[0m\u001b[0;34m.\u001b[0m\u001b[0mClient\u001b[0m\u001b[0;34m.\u001b[0m\u001b[0mfrom_public_link\u001b[0m\u001b[0;34m(\u001b[0m\u001b[0mpublic_link\u001b[0m\u001b[0;34m)\u001b[0m\u001b[0;34m\u001b[0m\u001b[0;34m\u001b[0m\u001b[0m\n\u001b[0;32m----> 4\u001b[0;31m \u001b[0moc\u001b[0m\u001b[0;34m.\u001b[0m\u001b[0mget_file\u001b[0m\u001b[0;34m(\u001b[0m\u001b[0;34m'/hello.txt'\u001b[0m\u001b[0;34m,\u001b[0m \u001b[0;34m'hello3.txt'\u001b[0m\u001b[0;34m)\u001b[0m\u001b[0;34m\u001b[0m\u001b[0;34m\u001b[0m\u001b[0m\n\u001b[0m",
            "\u001b[0;32m/usr/local/lib/python3.7/dist-packages/owncloud/owncloud.py\u001b[0m in \u001b[0;36mget_file\u001b[0;34m(self, remote_path, local_file)\u001b[0m\n\u001b[1;32m    517\u001b[0m             \u001b[0;32mreturn\u001b[0m \u001b[0;32mTrue\u001b[0m\u001b[0;34m\u001b[0m\u001b[0;34m\u001b[0m\u001b[0m\n\u001b[1;32m    518\u001b[0m         \u001b[0;32melif\u001b[0m \u001b[0mres\u001b[0m\u001b[0;34m.\u001b[0m\u001b[0mstatus_code\u001b[0m \u001b[0;34m>=\u001b[0m \u001b[0;36m400\u001b[0m\u001b[0;34m:\u001b[0m\u001b[0;34m\u001b[0m\u001b[0;34m\u001b[0m\u001b[0m\n\u001b[0;32m--> 519\u001b[0;31m             \u001b[0;32mraise\u001b[0m \u001b[0mHTTPResponseError\u001b[0m\u001b[0;34m(\u001b[0m\u001b[0mres\u001b[0m\u001b[0;34m)\u001b[0m\u001b[0;34m\u001b[0m\u001b[0;34m\u001b[0m\u001b[0m\n\u001b[0m\u001b[1;32m    520\u001b[0m         \u001b[0;32mreturn\u001b[0m \u001b[0;32mFalse\u001b[0m\u001b[0;34m\u001b[0m\u001b[0;34m\u001b[0m\u001b[0m\n\u001b[1;32m    521\u001b[0m \u001b[0;34m\u001b[0m\u001b[0m\n",
            "\u001b[0;31mHTTPResponseError\u001b[0m: HTTP error: 404"
          ]
        }
      ]
    },
    {
      "cell_type": "markdown",
      "source": [
        "## Pelo compartilhamento do arquivo..., ERROR"
      ],
      "metadata": {
        "id": "EUiYuDn1xnkU"
      }
    },
    {
      "cell_type": "code",
      "source": [
        "public_link = 'https://mackcloud.mackenzie.br/owncloud/index.php/s/mYNY2okydEhYG9d'\n",
        "\n",
        "oc = owncloud.Client.from_public_link(public_link)\n",
        "oc.get_file(public_link,'hello3.txt')"
      ],
      "metadata": {
        "colab": {
          "base_uri": "https://localhost:8080/",
          "height": 321
        },
        "id": "5HTfIlk6wVC1",
        "outputId": "c01f9833-e9f0-44c6-98db-aa1cf15864dc"
      },
      "execution_count": null,
      "outputs": [
        {
          "output_type": "error",
          "ename": "HTTPResponseError",
          "evalue": "ignored",
          "traceback": [
            "\u001b[0;31m---------------------------------------------------------------------------\u001b[0m",
            "\u001b[0;31mHTTPResponseError\u001b[0m                         Traceback (most recent call last)",
            "\u001b[0;32m<ipython-input-14-9fcec767151d>\u001b[0m in \u001b[0;36m<module>\u001b[0;34m\u001b[0m\n\u001b[1;32m      2\u001b[0m \u001b[0;34m\u001b[0m\u001b[0m\n\u001b[1;32m      3\u001b[0m \u001b[0moc\u001b[0m \u001b[0;34m=\u001b[0m \u001b[0mowncloud\u001b[0m\u001b[0;34m.\u001b[0m\u001b[0mClient\u001b[0m\u001b[0;34m.\u001b[0m\u001b[0mfrom_public_link\u001b[0m\u001b[0;34m(\u001b[0m\u001b[0mpublic_link\u001b[0m\u001b[0;34m)\u001b[0m\u001b[0;34m\u001b[0m\u001b[0;34m\u001b[0m\u001b[0m\n\u001b[0;32m----> 4\u001b[0;31m \u001b[0moc\u001b[0m\u001b[0;34m.\u001b[0m\u001b[0mget_file\u001b[0m\u001b[0;34m(\u001b[0m\u001b[0mpublic_link\u001b[0m\u001b[0;34m,\u001b[0m\u001b[0;34m'hello3.txt'\u001b[0m\u001b[0;34m)\u001b[0m\u001b[0;34m\u001b[0m\u001b[0;34m\u001b[0m\u001b[0m\n\u001b[0m",
            "\u001b[0;32m/usr/local/lib/python3.7/dist-packages/owncloud/owncloud.py\u001b[0m in \u001b[0;36mget_file\u001b[0;34m(self, remote_path, local_file)\u001b[0m\n\u001b[1;32m    517\u001b[0m             \u001b[0;32mreturn\u001b[0m \u001b[0;32mTrue\u001b[0m\u001b[0;34m\u001b[0m\u001b[0;34m\u001b[0m\u001b[0m\n\u001b[1;32m    518\u001b[0m         \u001b[0;32melif\u001b[0m \u001b[0mres\u001b[0m\u001b[0;34m.\u001b[0m\u001b[0mstatus_code\u001b[0m \u001b[0;34m>=\u001b[0m \u001b[0;36m400\u001b[0m\u001b[0;34m:\u001b[0m\u001b[0;34m\u001b[0m\u001b[0;34m\u001b[0m\u001b[0m\n\u001b[0;32m--> 519\u001b[0;31m             \u001b[0;32mraise\u001b[0m \u001b[0mHTTPResponseError\u001b[0m\u001b[0;34m(\u001b[0m\u001b[0mres\u001b[0m\u001b[0;34m)\u001b[0m\u001b[0;34m\u001b[0m\u001b[0;34m\u001b[0m\u001b[0m\n\u001b[0m\u001b[1;32m    520\u001b[0m         \u001b[0;32mreturn\u001b[0m \u001b[0;32mFalse\u001b[0m\u001b[0;34m\u001b[0m\u001b[0;34m\u001b[0m\u001b[0m\n\u001b[1;32m    521\u001b[0m \u001b[0;34m\u001b[0m\u001b[0m\n",
            "\u001b[0;31mHTTPResponseError\u001b[0m: HTTP error: 404"
          ]
        }
      ]
    }
  ]
}