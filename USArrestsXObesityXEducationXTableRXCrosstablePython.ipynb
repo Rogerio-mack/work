{
  "nbformat": 4,
  "nbformat_minor": 0,
  "metadata": {
    "colab": {
      "name": "USArrestsXObesityXEducationXTableRXCrosstablePython.ipynb",
      "provenance": [],
      "authorship_tag": "ABX9TyPrIwCaM0Ha4y17KBn8y/1h",
      "include_colab_link": true
    },
    "kernelspec": {
      "name": "python3",
      "display_name": "Python 3"
    },
    "language_info": {
      "name": "python"
    }
  },
  "cells": [
    {
      "cell_type": "markdown",
      "metadata": {
        "id": "view-in-github",
        "colab_type": "text"
      },
      "source": [
        "<a href=\"https://colab.research.google.com/github/Rogerio-mack/work/blob/main/USArrestsXObesityXEducationXTableRXCrosstablePython.ipynb\" target=\"_parent\"><img src=\"https://colab.research.google.com/assets/colab-badge.svg\" alt=\"Open In Colab\"/></a>"
      ]
    },
    {
      "cell_type": "code",
      "metadata": {
        "id": "6fwH_jrFJYUw"
      },
      "source": [
        "import numpy as np\n",
        "import pandas as pd\n",
        "import matplotlib.pyplot as plt\n",
        "%matplotlib inline\n",
        "from matplotlib.lines import Line2D\n",
        "import seaborn as sns\n"
      ],
      "execution_count": 1,
      "outputs": []
    },
    {
      "cell_type": "code",
      "metadata": {
        "colab": {
          "base_uri": "https://localhost:8080/",
          "height": 204
        },
        "id": "6I2vLw9PJbc8",
        "outputId": "450ad8fd-7beb-4a92-d502-4312d6fadb97"
      },
      "source": [
        "df_obesity = pd.read_csv('https://visdatasets.github.io/datasets/higher_education_vs_obesity.csv')\n",
        "df_obesity.head()"
      ],
      "execution_count": 2,
      "outputs": [
        {
          "output_type": "execute_result",
          "data": {
            "text/html": [
              "<div>\n",
              "<style scoped>\n",
              "    .dataframe tbody tr th:only-of-type {\n",
              "        vertical-align: middle;\n",
              "    }\n",
              "\n",
              "    .dataframe tbody tr th {\n",
              "        vertical-align: top;\n",
              "    }\n",
              "\n",
              "    .dataframe thead th {\n",
              "        text-align: right;\n",
              "    }\n",
              "</style>\n",
              "<table border=\"1\" class=\"dataframe\">\n",
              "  <thead>\n",
              "    <tr style=\"text-align: right;\">\n",
              "      <th></th>\n",
              "      <th>State</th>\n",
              "      <th>BA Degree Percentage</th>\n",
              "      <th>Obesity Percentage</th>\n",
              "      <th>Obesity vs Higher Education</th>\n",
              "    </tr>\n",
              "  </thead>\n",
              "  <tbody>\n",
              "    <tr>\n",
              "      <th>0</th>\n",
              "      <td>Alabama</td>\n",
              "      <td>24.0</td>\n",
              "      <td>35.7</td>\n",
              "      <td>More obesity than higher education</td>\n",
              "    </tr>\n",
              "    <tr>\n",
              "      <th>1</th>\n",
              "      <td>Alaska</td>\n",
              "      <td>28.8</td>\n",
              "      <td>31.4</td>\n",
              "      <td>More obesity than higher education</td>\n",
              "    </tr>\n",
              "    <tr>\n",
              "      <th>2</th>\n",
              "      <td>Arizona</td>\n",
              "      <td>28.0</td>\n",
              "      <td>29.0</td>\n",
              "      <td>More obesity than higher education</td>\n",
              "    </tr>\n",
              "    <tr>\n",
              "      <th>3</th>\n",
              "      <td>Arkansas</td>\n",
              "      <td>21.5</td>\n",
              "      <td>35.7</td>\n",
              "      <td>More obesity than higher education</td>\n",
              "    </tr>\n",
              "    <tr>\n",
              "      <th>4</th>\n",
              "      <td>California</td>\n",
              "      <td>32.0</td>\n",
              "      <td>25.0</td>\n",
              "      <td>More higher education than obesity</td>\n",
              "    </tr>\n",
              "  </tbody>\n",
              "</table>\n",
              "</div>"
            ],
            "text/plain": [
              "        State  ...         Obesity vs Higher Education\n",
              "0     Alabama  ...  More obesity than higher education\n",
              "1      Alaska  ...  More obesity than higher education\n",
              "2     Arizona  ...  More obesity than higher education\n",
              "3    Arkansas  ...  More obesity than higher education\n",
              "4  California  ...  More higher education than obesity\n",
              "\n",
              "[5 rows x 4 columns]"
            ]
          },
          "metadata": {},
          "execution_count": 2
        }
      ]
    },
    {
      "cell_type": "code",
      "metadata": {
        "colab": {
          "base_uri": "https://localhost:8080/"
        },
        "id": "kPBZQ3cSJx0c",
        "outputId": "9eafbf80-734a-447e-e908-a1ed32ae42fa"
      },
      "source": [
        "df_obesity.shape"
      ],
      "execution_count": 3,
      "outputs": [
        {
          "output_type": "execute_result",
          "data": {
            "text/plain": [
              "(52, 4)"
            ]
          },
          "metadata": {},
          "execution_count": 3
        }
      ]
    },
    {
      "cell_type": "code",
      "metadata": {
        "colab": {
          "base_uri": "https://localhost:8080/",
          "height": 204
        },
        "id": "IP4ADdwqKAiI",
        "outputId": "c3f444ec-8146-4910-c5f4-07fb2504761b"
      },
      "source": [
        "df_arrests = pd.read_csv('https://vincentarelbundock.github.io/Rdatasets/csv/datasets/USArrests.csv',index_col=0).reset_index()\n",
        "df_arrests.rename(columns={'index':'State'},inplace=True)\n",
        "df_arrests.head()"
      ],
      "execution_count": 4,
      "outputs": [
        {
          "output_type": "execute_result",
          "data": {
            "text/html": [
              "<div>\n",
              "<style scoped>\n",
              "    .dataframe tbody tr th:only-of-type {\n",
              "        vertical-align: middle;\n",
              "    }\n",
              "\n",
              "    .dataframe tbody tr th {\n",
              "        vertical-align: top;\n",
              "    }\n",
              "\n",
              "    .dataframe thead th {\n",
              "        text-align: right;\n",
              "    }\n",
              "</style>\n",
              "<table border=\"1\" class=\"dataframe\">\n",
              "  <thead>\n",
              "    <tr style=\"text-align: right;\">\n",
              "      <th></th>\n",
              "      <th>State</th>\n",
              "      <th>Murder</th>\n",
              "      <th>Assault</th>\n",
              "      <th>UrbanPop</th>\n",
              "      <th>Rape</th>\n",
              "    </tr>\n",
              "  </thead>\n",
              "  <tbody>\n",
              "    <tr>\n",
              "      <th>0</th>\n",
              "      <td>Alabama</td>\n",
              "      <td>13.2</td>\n",
              "      <td>236</td>\n",
              "      <td>58</td>\n",
              "      <td>21.2</td>\n",
              "    </tr>\n",
              "    <tr>\n",
              "      <th>1</th>\n",
              "      <td>Alaska</td>\n",
              "      <td>10.0</td>\n",
              "      <td>263</td>\n",
              "      <td>48</td>\n",
              "      <td>44.5</td>\n",
              "    </tr>\n",
              "    <tr>\n",
              "      <th>2</th>\n",
              "      <td>Arizona</td>\n",
              "      <td>8.1</td>\n",
              "      <td>294</td>\n",
              "      <td>80</td>\n",
              "      <td>31.0</td>\n",
              "    </tr>\n",
              "    <tr>\n",
              "      <th>3</th>\n",
              "      <td>Arkansas</td>\n",
              "      <td>8.8</td>\n",
              "      <td>190</td>\n",
              "      <td>50</td>\n",
              "      <td>19.5</td>\n",
              "    </tr>\n",
              "    <tr>\n",
              "      <th>4</th>\n",
              "      <td>California</td>\n",
              "      <td>9.0</td>\n",
              "      <td>276</td>\n",
              "      <td>91</td>\n",
              "      <td>40.6</td>\n",
              "    </tr>\n",
              "  </tbody>\n",
              "</table>\n",
              "</div>"
            ],
            "text/plain": [
              "        State  Murder  Assault  UrbanPop  Rape\n",
              "0     Alabama    13.2      236        58  21.2\n",
              "1      Alaska    10.0      263        48  44.5\n",
              "2     Arizona     8.1      294        80  31.0\n",
              "3    Arkansas     8.8      190        50  19.5\n",
              "4  California     9.0      276        91  40.6"
            ]
          },
          "metadata": {},
          "execution_count": 4
        }
      ]
    },
    {
      "cell_type": "code",
      "metadata": {
        "colab": {
          "base_uri": "https://localhost:8080/",
          "height": 204
        },
        "id": "8zVExubALJwg",
        "outputId": "d768e4c0-95a8-47fc-9923-46a09b6b6f9a"
      },
      "source": [
        "df = df_arrests.merge(df_obesity, how='outer', on='State')\n",
        "# df.drop(columns=['Murder','Assault','Rape'],inplace=True)\n",
        "df.drop(columns=['Assault','Obesity Percentage','Rape'],inplace=True)\n",
        "df.head()"
      ],
      "execution_count": 5,
      "outputs": [
        {
          "output_type": "execute_result",
          "data": {
            "text/html": [
              "<div>\n",
              "<style scoped>\n",
              "    .dataframe tbody tr th:only-of-type {\n",
              "        vertical-align: middle;\n",
              "    }\n",
              "\n",
              "    .dataframe tbody tr th {\n",
              "        vertical-align: top;\n",
              "    }\n",
              "\n",
              "    .dataframe thead th {\n",
              "        text-align: right;\n",
              "    }\n",
              "</style>\n",
              "<table border=\"1\" class=\"dataframe\">\n",
              "  <thead>\n",
              "    <tr style=\"text-align: right;\">\n",
              "      <th></th>\n",
              "      <th>State</th>\n",
              "      <th>Murder</th>\n",
              "      <th>UrbanPop</th>\n",
              "      <th>BA Degree Percentage</th>\n",
              "      <th>Obesity vs Higher Education</th>\n",
              "    </tr>\n",
              "  </thead>\n",
              "  <tbody>\n",
              "    <tr>\n",
              "      <th>0</th>\n",
              "      <td>Alabama</td>\n",
              "      <td>13.2</td>\n",
              "      <td>58.0</td>\n",
              "      <td>24.0</td>\n",
              "      <td>More obesity than higher education</td>\n",
              "    </tr>\n",
              "    <tr>\n",
              "      <th>1</th>\n",
              "      <td>Alaska</td>\n",
              "      <td>10.0</td>\n",
              "      <td>48.0</td>\n",
              "      <td>28.8</td>\n",
              "      <td>More obesity than higher education</td>\n",
              "    </tr>\n",
              "    <tr>\n",
              "      <th>2</th>\n",
              "      <td>Arizona</td>\n",
              "      <td>8.1</td>\n",
              "      <td>80.0</td>\n",
              "      <td>28.0</td>\n",
              "      <td>More obesity than higher education</td>\n",
              "    </tr>\n",
              "    <tr>\n",
              "      <th>3</th>\n",
              "      <td>Arkansas</td>\n",
              "      <td>8.8</td>\n",
              "      <td>50.0</td>\n",
              "      <td>21.5</td>\n",
              "      <td>More obesity than higher education</td>\n",
              "    </tr>\n",
              "    <tr>\n",
              "      <th>4</th>\n",
              "      <td>California</td>\n",
              "      <td>9.0</td>\n",
              "      <td>91.0</td>\n",
              "      <td>32.0</td>\n",
              "      <td>More higher education than obesity</td>\n",
              "    </tr>\n",
              "  </tbody>\n",
              "</table>\n",
              "</div>"
            ],
            "text/plain": [
              "        State  Murder  ...  BA Degree Percentage         Obesity vs Higher Education\n",
              "0     Alabama    13.2  ...                  24.0  More obesity than higher education\n",
              "1      Alaska    10.0  ...                  28.8  More obesity than higher education\n",
              "2     Arizona     8.1  ...                  28.0  More obesity than higher education\n",
              "3    Arkansas     8.8  ...                  21.5  More obesity than higher education\n",
              "4  California     9.0  ...                  32.0  More higher education than obesity\n",
              "\n",
              "[5 rows x 5 columns]"
            ]
          },
          "metadata": {},
          "execution_count": 5
        }
      ]
    },
    {
      "cell_type": "code",
      "metadata": {
        "colab": {
          "base_uri": "https://localhost:8080/"
        },
        "id": "3swGfO35MmDu",
        "outputId": "b2ff1e5a-5fd3-4e99-eded-68164228ccb3"
      },
      "source": [
        "df.isnull().sum()"
      ],
      "execution_count": 6,
      "outputs": [
        {
          "output_type": "execute_result",
          "data": {
            "text/plain": [
              "State                          0\n",
              "Murder                         2\n",
              "UrbanPop                       2\n",
              "BA Degree Percentage           0\n",
              "Obesity vs Higher Education    0\n",
              "dtype: int64"
            ]
          },
          "metadata": {},
          "execution_count": 6
        }
      ]
    },
    {
      "cell_type": "code",
      "metadata": {
        "id": "ucMjhtXbMqg9"
      },
      "source": [
        "df = df.dropna()"
      ],
      "execution_count": 7,
      "outputs": []
    },
    {
      "cell_type": "code",
      "metadata": {
        "colab": {
          "base_uri": "https://localhost:8080/"
        },
        "id": "Lv9RB9CONH0r",
        "outputId": "8093ef5c-e604-4405-e690-dbab56fc1bf4"
      },
      "source": [
        "df[ df.columns[-1] ].value_counts()"
      ],
      "execution_count": 8,
      "outputs": [
        {
          "output_type": "execute_result",
          "data": {
            "text/plain": [
              "More obesity than higher education    30\n",
              "More higher education than obesity    20\n",
              "Name: Obesity vs Higher Education, dtype: int64"
            ]
          },
          "metadata": {},
          "execution_count": 8
        }
      ]
    },
    {
      "cell_type": "code",
      "metadata": {
        "id": "SCtjZbI5PgKv"
      },
      "source": [
        "from sklearn.preprocessing import StandardScaler\n",
        "\n",
        "scaler = StandardScaler()\n",
        "scaler.fit(df.drop(columns=['State','Obesity vs Higher Education']))\n",
        "X = scaler.transform(df.drop(columns=['State','Obesity vs Higher Education']))"
      ],
      "execution_count": 9,
      "outputs": []
    },
    {
      "cell_type": "code",
      "metadata": {
        "colab": {
          "base_uri": "https://localhost:8080/"
        },
        "id": "8Qu6jysNOR_n",
        "outputId": "934f32d6-42f8-4c47-8fcc-5e41645adb47"
      },
      "source": [
        "from sklearn import metrics\n",
        "from sklearn.cluster import KMeans\n",
        "\n",
        "for n_clusters in range(2,11):\n",
        "  clf = KMeans(n_clusters = n_clusters , random_state= 1984)  \n",
        "  clf.fit(X)\n",
        "  labels = clf.labels_\n",
        "  print('Silhueta média para', n_clusters , 'clusters: ', np.round( metrics.silhouette_score(X, labels, metric='euclidean'),3))"
      ],
      "execution_count": 10,
      "outputs": [
        {
          "output_type": "stream",
          "name": "stdout",
          "text": [
            "Silhueta média para 2 clusters:  0.304\n",
            "Silhueta média para 3 clusters:  0.316\n",
            "Silhueta média para 4 clusters:  0.301\n",
            "Silhueta média para 5 clusters:  0.291\n",
            "Silhueta média para 6 clusters:  0.286\n",
            "Silhueta média para 7 clusters:  0.277\n",
            "Silhueta média para 8 clusters:  0.295\n",
            "Silhueta média para 9 clusters:  0.306\n",
            "Silhueta média para 10 clusters:  0.304\n"
          ]
        }
      ]
    },
    {
      "cell_type": "code",
      "metadata": {
        "colab": {
          "base_uri": "https://localhost:8080/"
        },
        "id": "jg8otqvgNU59",
        "outputId": "b04f2de9-0c66-4015-e19d-5b7039700541"
      },
      "source": [
        "# Configura e instancia o estimador \n",
        "clf = KMeans(n_clusters = 3 , random_state= 1984)  # seed, para a reprodutibilidade dos resultados\n",
        "\n",
        "# Ajusta o estimador aos dados\n",
        "clf.fit(X) # somente os atributos Murder e UrbanPop\n",
        "\n",
        "# Obtém os resultados do modelo\n",
        "labels = clf.labels_\n",
        "centroids = clf.cluster_centers_\n",
        "\n",
        "print(labels)\n",
        "print(centroids)"
      ],
      "execution_count": 15,
      "outputs": [
        {
          "output_type": "stream",
          "name": "stdout",
          "text": [
            "[0 0 1 0 1 1 1 1 0 0 1 2 1 0 2 1 0 0 2 1 1 0 1 0 0 2 2 0 2 1 0 1 0 2 0 0 1\n",
            " 1 1 0 2 0 0 1 2 1 1 2 2 0]\n",
            "[[ 0.8829393  -0.20168488 -0.77619952]\n",
            " [-0.30360231  0.8071068   0.88990416]\n",
            " [-1.08094018 -1.02739379 -0.12583534]]\n"
          ]
        }
      ]
    },
    {
      "cell_type": "code",
      "metadata": {
        "id": "EWKWMiw5PvCf"
      },
      "source": [
        "df['Cluster'] = labels"
      ],
      "execution_count": 16,
      "outputs": []
    },
    {
      "cell_type": "code",
      "metadata": {
        "colab": {
          "base_uri": "https://localhost:8080/",
          "height": 297
        },
        "id": "ImEsE_pbO-oA",
        "outputId": "bed4f009-7f48-42b0-d48c-3a920ad079cc"
      },
      "source": [
        "g = pd.DataFrame( df.groupby('Cluster').mean() ).reset_index()\n",
        "\n",
        "fig, ax = plt.subplots(1,len(g),figsize=(12,4),sharey=True)\n",
        "\n",
        "for i in range(len(g)):\n",
        "  sns.barplot(data=g[g.Cluster==i].drop(columns='Cluster'),ax=ax[i])\n",
        "  ax[i].set_title('Grupo ' + str(i), fontsize=14, weight='bold')\n",
        "\n",
        "plt.tight_layout()\n",
        "plt.show()"
      ],
      "execution_count": 18,
      "outputs": [
        {
          "output_type": "display_data",
          "data": {
            "image/png": "[encoded data removed]",
            "text/plain": [
              "<Figure size 864x288 with 3 Axes>"
            ]
          },
          "metadata": {
            "needs_background": "light"
          }
        }
      ]
    },
    {
      "cell_type": "code",
      "metadata": {
        "colab": {
          "base_uri": "https://localhost:8080/",
          "height": 204
        },
        "id": "CLW_QA9URJcA",
        "outputId": "231fa504-a8d5-46a1-e5c4-9a91843de8fe"
      },
      "source": [
        "cross = pd.crosstab(index=df['Cluster'], \n",
        "                             columns=df['Obesity vs Higher Education'],\n",
        "                             margins=True)\n",
        "\n",
        "cross"
      ],
      "execution_count": 19,
      "outputs": [
        {
          "output_type": "execute_result",
          "data": {
            "text/html": [
              "<div>\n",
              "<style scoped>\n",
              "    .dataframe tbody tr th:only-of-type {\n",
              "        vertical-align: middle;\n",
              "    }\n",
              "\n",
              "    .dataframe tbody tr th {\n",
              "        vertical-align: top;\n",
              "    }\n",
              "\n",
              "    .dataframe thead th {\n",
              "        text-align: right;\n",
              "    }\n",
              "</style>\n",
              "<table border=\"1\" class=\"dataframe\">\n",
              "  <thead>\n",
              "    <tr style=\"text-align: right;\">\n",
              "      <th>Obesity vs Higher Education</th>\n",
              "      <th>More higher education than obesity</th>\n",
              "      <th>More obesity than higher education</th>\n",
              "      <th>All</th>\n",
              "    </tr>\n",
              "    <tr>\n",
              "      <th>Cluster</th>\n",
              "      <th></th>\n",
              "      <th></th>\n",
              "      <th></th>\n",
              "    </tr>\n",
              "  </thead>\n",
              "  <tbody>\n",
              "    <tr>\n",
              "      <th>0</th>\n",
              "      <td>1</td>\n",
              "      <td>19</td>\n",
              "      <td>20</td>\n",
              "    </tr>\n",
              "    <tr>\n",
              "      <th>1</th>\n",
              "      <td>16</td>\n",
              "      <td>3</td>\n",
              "      <td>19</td>\n",
              "    </tr>\n",
              "    <tr>\n",
              "      <th>2</th>\n",
              "      <td>3</td>\n",
              "      <td>8</td>\n",
              "      <td>11</td>\n",
              "    </tr>\n",
              "    <tr>\n",
              "      <th>All</th>\n",
              "      <td>20</td>\n",
              "      <td>30</td>\n",
              "      <td>50</td>\n",
              "    </tr>\n",
              "  </tbody>\n",
              "</table>\n",
              "</div>"
            ],
            "text/plain": [
              "Obesity vs Higher Education  More higher education than obesity  ...  All\n",
              "Cluster                                                          ...     \n",
              "0                                                             1  ...   20\n",
              "1                                                            16  ...   19\n",
              "2                                                             3  ...   11\n",
              "All                                                          20  ...   50\n",
              "\n",
              "[4 rows x 3 columns]"
            ]
          },
          "metadata": {},
          "execution_count": 19
        }
      ]
    }
  ]
}