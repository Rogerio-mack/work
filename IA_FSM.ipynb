{
  "nbformat": 4,
  "nbformat_minor": 0,
  "metadata": {
    "kernelspec": {
      "display_name": "Python 3",
      "language": "python",
      "name": "python3"
    },
    "language_info": {
      "codemirror_mode": {
        "name": "ipython",
        "version": 3
      },
      "file_extension": ".py",
      "mimetype": "text/x-python",
      "name": "python",
      "nbconvert_exporter": "python",
      "pygments_lexer": "ipython3",
      "version": "3.7.6"
    },
    "colab": {
      "name": "IA_FSM.ipynb",
      "provenance": [],
      "include_colab_link": true
    }
  },
  "cells": [
    {
      "cell_type": "markdown",
      "metadata": {
        "id": "view-in-github",
        "colab_type": "text"
      },
      "source": [
        "<a href=\"https://colab.research.google.com/github/Rogerio-mack/work/blob/main/IA_FSM.ipynb\" target=\"_parent\"><img src=\"https://colab.research.google.com/assets/colab-badge.svg\" alt=\"Open In Colab\"/></a>"
      ]
    },
    {
      "cell_type": "markdown",
      "metadata": {
        "id": "pqEhMdFQO3A-"
      },
      "source": [
        "<head>\n",
        "  <meta name=\"author\" content=\"Rogério de Oliveira\">\n",
        "  <meta institution=\"author\" content=\"Universidade Presbiteriana Mackenzie\">\n",
        "</head>\n",
        "\n",
        "<img src=\"http://meusite.mackenzie.br/rogerio/mackenzie_logo/UPM.2_horizontal_vermelho.jpg\" width=300, align=\"right\"> \n",
        "\n",
        "<br>\n",
        "<br>\n",
        "\n",
        "# Inteligência Artificial\n",
        "---\n"
      ]
    },
    {
      "cell_type": "markdown",
      "metadata": {
        "id": "Ft_9aFfOqXav"
      },
      "source": [
        "# FSM\n",
        "\n",
        "Uma máquina de estados finitas pode ser implementada com simples encadeamentos de `ifs` embora implementações mais eficientes e elegantes possam e devem ser feitas.\n",
        "\n",
        "![imagem](https://github.com/Rogerio-mack/work/blob/main/figuras/fsm_ends_aba.png?raw=true)"
      ]
    },
    {
      "cell_type": "markdown",
      "metadata": {
        "id": "WAX_262jq0rT"
      },
      "source": [
        "O FSM acima verifica se uma cadeia de caracteres termina por 'aba' e pode ser implementado como abaixo."
      ]
    },
    {
      "cell_type": "code",
      "metadata": {
        "id": "5KMpwOV2jbIL",
        "colab": {
          "base_uri": "https://localhost:8080/"
        },
        "outputId": "055feb61-48ea-4c65-f237-ace64977ee78"
      },
      "source": [
        "def match(s):\n",
        "  state = 0\n",
        "\n",
        "  for c in s:\n",
        "    # print('before', c, state)\n",
        "    if state == 0:\n",
        "      if c in ['a']:\n",
        "        state = 1\n",
        "        continue\n",
        "    if state == 1:\n",
        "      if c in ['b']:\n",
        "        state = 2\n",
        "      else:\n",
        "        state = 0\n",
        "      continue\n",
        "    if state == 2:\n",
        "      if c in ['a']:\n",
        "        state = 1\n",
        "      continue  \n",
        "    # print('after', c, state)    \n",
        "\n",
        "  if state == 1:\n",
        "    print('It matches')\n",
        "  else:\n",
        "    print('It doesn\\'t match')\n",
        "\n",
        "  return\n",
        "\n",
        "print(match('abc'))\n",
        "print(match('ab'))\n",
        "print(match('aba'))\n",
        "print(match('baba'))        \n",
        "print(match('xyzababa'))  \n",
        "print(match('xyzababab'))   \n",
        "print(match('xyzabaabab'))              \n",
        "print(match('xyzabaababax'))    "
      ],
      "execution_count": null,
      "outputs": [
        {
          "output_type": "stream",
          "name": "stdout",
          "text": [
            "It doesn't match\n",
            "None\n",
            "It doesn't match\n",
            "None\n",
            "It matches\n",
            "None\n",
            "It matches\n",
            "None\n",
            "It matches\n",
            "None\n",
            "It doesn't match\n",
            "None\n",
            "It doesn't match\n",
            "None\n",
            "It doesn't match\n",
            "None\n"
          ]
        }
      ]
    },
    {
      "cell_type": "markdown",
      "metadata": {
        "id": "qCp6ccYqrA0g"
      },
      "source": [
        "Mas formas mais estruturadas podem ser implementadas como a seguir."
      ]
    },
    {
      "cell_type": "markdown",
      "metadata": {
        "id": "4L6-U_yIQ2V-"
      },
      "source": [
        "# FSM: Expressão Regular - ab*c\n",
        "\n",
        "Implementa o FSM abaixo que verifica se uma *string* corresponde à expressão regular `ab*c`.\n",
        "\n",
        "![imagem](https://github.com/Rogerio-mack/work/blob/main/figuras/fsm_abc.png?raw=true)"
      ]
    },
    {
      "cell_type": "markdown",
      "metadata": {
        "id": "OESENZDoU-DP"
      },
      "source": [
        "Os estados são modelados como co-rotinas Python que executam um loop infinito no qual aceitam a entrada, decidem a transição e atualizam o estado atual do FSM. A função de transição pode ser tão simples como um conjunto de `ifs` como temos aqui ou um sistema bem mais complexo que poderia envolver uma função complexa de decisão.\n",
        "\n",
        "A implementação abaixo empregar generators e coroutines de Python e você pode encontrar mais sobre esses recursos logo abaixo."
      ]
    },
    {
      "cell_type": "code",
      "metadata": {
        "id": "tSn1neTbQ2WC"
      },
      "source": [
        "def start(fn):\n",
        "    def wrapper(*args, **kwargs):\n",
        "        v = fn(*args, **kwargs)\n",
        "        v.send(None)\n",
        "        return v\n",
        "    return wrapper"
      ],
      "execution_count": 6,
      "outputs": []
    },
    {
      "cell_type": "code",
      "metadata": {
        "id": "rrgsBFvIQ2WC"
      },
      "source": [
        "class RegexFSM:\n",
        "    def __init__(self):\n",
        "        self.start = self._create_start()\n",
        "        self.q1 = self._create_q1()\n",
        "        self.q2 = self._create_q2()\n",
        "        self.q3 = self._create_q3()\n",
        "        \n",
        "        self.current_state = self.start\n",
        "        self.stopped = False\n",
        "        \n",
        "    def send(self, char):\n",
        "        try:\n",
        "            self.current_state.send(char)\n",
        "        except StopIteration:\n",
        "            self.stopped = True\n",
        "        \n",
        "    def does_match(self):\n",
        "        if self.stopped:\n",
        "            return False\n",
        "        return self.current_state == self.q3\n",
        "\n",
        "    @start\n",
        "    def _create_start(self):\n",
        "        while True:\n",
        "            char = yield\n",
        "            if char == 'a':\n",
        "                self.current_state = self.q1\n",
        "            else:\n",
        "                break\n",
        "    \n",
        "    @start\n",
        "    def _create_q1(self):\n",
        "        while True:\n",
        "            char = yield\n",
        "            if char == 'b':\n",
        "                self.current_state = self.q2\n",
        "            elif char == 'c':\n",
        "                self.current_state = self.q3\n",
        "            else:\n",
        "                break\n",
        "\n",
        "    @start\n",
        "    def _create_q2(self):\n",
        "        while True:\n",
        "            char = yield\n",
        "            if char == 'b':\n",
        "                self.current_state = self.q2\n",
        "            elif char == 'c':\n",
        "                self.current_state = self.q3\n",
        "            else:\n",
        "                break\n",
        "\n",
        "    @start\n",
        "    def _create_q3(self):\n",
        "        while True:\n",
        "            char = yield\n",
        "            break"
      ],
      "execution_count": 7,
      "outputs": []
    },
    {
      "cell_type": "code",
      "metadata": {
        "id": "imdPl2NRQ2WD"
      },
      "source": [
        "def grep_regex(text):\n",
        "    evaluator = RegexFSM()\n",
        "    for ch in text:\n",
        "        evaluator.send(ch)\n",
        "    return evaluator.does_match()"
      ],
      "execution_count": 8,
      "outputs": []
    },
    {
      "cell_type": "code",
      "metadata": {
        "colab": {
          "base_uri": "https://localhost:8080/"
        },
        "id": "hhYk-TcZQ2WD",
        "outputId": "0ab17e28-745e-4e66-920b-69af157ed453"
      },
      "source": [
        "grep_regex(\"a\")"
      ],
      "execution_count": 9,
      "outputs": [
        {
          "output_type": "execute_result",
          "data": {
            "text/plain": [
              "False"
            ]
          },
          "metadata": {},
          "execution_count": 9
        }
      ]
    },
    {
      "cell_type": "code",
      "metadata": {
        "colab": {
          "base_uri": "https://localhost:8080/"
        },
        "id": "h0ZRDlL_Q2WD",
        "outputId": "b2eebb78-a4d0-469c-a324-9f4097651773"
      },
      "source": [
        "grep_regex(\"ab\")"
      ],
      "execution_count": 10,
      "outputs": [
        {
          "output_type": "execute_result",
          "data": {
            "text/plain": [
              "False"
            ]
          },
          "metadata": {},
          "execution_count": 10
        }
      ]
    },
    {
      "cell_type": "code",
      "metadata": {
        "colab": {
          "base_uri": "https://localhost:8080/"
        },
        "id": "9QjRJO5KQ2WE",
        "outputId": "9204fe14-f82a-4793-ddec-baa7aa804ca8"
      },
      "source": [
        "grep_regex(\"ac\")"
      ],
      "execution_count": 11,
      "outputs": [
        {
          "output_type": "execute_result",
          "data": {
            "text/plain": [
              "True"
            ]
          },
          "metadata": {},
          "execution_count": 11
        }
      ]
    },
    {
      "cell_type": "code",
      "metadata": {
        "colab": {
          "base_uri": "https://localhost:8080/"
        },
        "id": "v0PqMsilQ2WE",
        "outputId": "906af023-8fd0-4f30-a8d4-24990800a74c"
      },
      "source": [
        "grep_regex(\"abc\")"
      ],
      "execution_count": 12,
      "outputs": [
        {
          "output_type": "execute_result",
          "data": {
            "text/plain": [
              "True"
            ]
          },
          "metadata": {},
          "execution_count": 12
        }
      ]
    },
    {
      "cell_type": "code",
      "metadata": {
        "colab": {
          "base_uri": "https://localhost:8080/"
        },
        "id": "tPZ402TQQ2WE",
        "outputId": "0b925cb0-3d05-4b80-8979-fc1af9de342a"
      },
      "source": [
        "grep_regex(\"aba\")"
      ],
      "execution_count": 13,
      "outputs": [
        {
          "output_type": "execute_result",
          "data": {
            "text/plain": [
              "False"
            ]
          },
          "metadata": {},
          "execution_count": 13
        }
      ]
    },
    {
      "cell_type": "code",
      "metadata": {
        "colab": {
          "base_uri": "https://localhost:8080/"
        },
        "id": "3eKEO9jTQ2WE",
        "outputId": "465f6c6e-b196-40f9-a76f-b0da974bf517"
      },
      "source": [
        "grep_regex(\"abbbbbbbc\")"
      ],
      "execution_count": 14,
      "outputs": [
        {
          "output_type": "execute_result",
          "data": {
            "text/plain": [
              "True"
            ]
          },
          "metadata": {},
          "execution_count": 14
        }
      ]
    },
    {
      "cell_type": "code",
      "metadata": {
        "colab": {
          "base_uri": "https://localhost:8080/"
        },
        "id": "w8jrKPPGQ2WF",
        "outputId": "33375a99-6fa0-4232-f46f-d585be9cad49"
      },
      "source": [
        "grep_regex(\"abcc\")"
      ],
      "execution_count": 15,
      "outputs": [
        {
          "output_type": "execute_result",
          "data": {
            "text/plain": [
              "False"
            ]
          },
          "metadata": {},
          "execution_count": 15
        }
      ]
    },
    {
      "cell_type": "code",
      "metadata": {
        "colab": {
          "base_uri": "https://localhost:8080/"
        },
        "id": "0Hjhb6THQ2WF",
        "outputId": "9608a005-31c5-4bcb-fc76-3b5779f4063f"
      },
      "source": [
        "grep_regex(\"abcd\")"
      ],
      "execution_count": 16,
      "outputs": [
        {
          "output_type": "execute_result",
          "data": {
            "text/plain": [
              "False"
            ]
          },
          "metadata": {},
          "execution_count": 16
        }
      ]
    },
    {
      "cell_type": "code",
      "metadata": {
        "colab": {
          "base_uri": "https://localhost:8080/"
        },
        "id": "p_rQPv_ZQ2WG",
        "outputId": "c15ce8ba-c053-4323-b56d-a6e398838cf6"
      },
      "source": [
        "grep_regex(\"bcbc\")"
      ],
      "execution_count": 17,
      "outputs": [
        {
          "output_type": "execute_result",
          "data": {
            "text/plain": [
              "False"
            ]
          },
          "metadata": {},
          "execution_count": 17
        }
      ]
    },
    {
      "cell_type": "markdown",
      "metadata": {
        "id": "rCCZ04mwWnY4"
      },
      "source": [
        "# Generators\n",
        "\n",
        "`Generators` em Python são funções retomáveis que geram valores enquanto alguém, ao chamar a `next` função, continua solicitando. Elas empregam o comando `yield` para retornar um valor a cada `next`."
      ]
    },
    {
      "cell_type": "markdown",
      "metadata": {
        "id": "8r8MSwKUX2a1"
      },
      "source": [
        "## Exemplo 1"
      ]
    },
    {
      "cell_type": "code",
      "metadata": {
        "colab": {
          "base_uri": "https://localhost:8080/"
        },
        "id": "NarKWh3JXxsm",
        "outputId": "ca7efc73-7792-4083-9f43-9ad2a5ba3891"
      },
      "source": [
        "def simpleGeneratorFun():\n",
        "    yield 1\n",
        "    yield 2\n",
        "    yield 3\n",
        "  \n",
        "for value in simpleGeneratorFun(): \n",
        "    print(value)"
      ],
      "execution_count": 1,
      "outputs": [
        {
          "output_type": "stream",
          "name": "stdout",
          "text": [
            "1\n",
            "2\n",
            "3\n"
          ]
        }
      ]
    },
    {
      "cell_type": "code",
      "metadata": {
        "colab": {
          "base_uri": "https://localhost:8080/"
        },
        "id": "lbiNx9F2ZpXi",
        "outputId": "34a789c5-2de7-48f6-a3e9-15febe7d8b67"
      },
      "source": [
        "x = simpleGeneratorFun()\n",
        "  \n",
        "print(x.__next__())  \n",
        "print(x.__next__())\n",
        "print(x.__next__())"
      ],
      "execution_count": 2,
      "outputs": [
        {
          "output_type": "stream",
          "name": "stdout",
          "text": [
            "1\n",
            "2\n",
            "3\n"
          ]
        }
      ]
    },
    {
      "cell_type": "markdown",
      "metadata": {
        "id": "yDPLqZ_DX6L4"
      },
      "source": [
        "## Exemplo 2"
      ]
    },
    {
      "cell_type": "code",
      "metadata": {
        "colab": {
          "base_uri": "https://localhost:8080/"
        },
        "id": "CXJD3Rq5WLrZ",
        "outputId": "e910dd0d-db13-4fd4-b2d6-650456a5ffb1"
      },
      "source": [
        "# Generator\n",
        "def print_even(test_list) :\n",
        "\tfor i in test_list:\n",
        "\t\tif i % 2 == 0:\n",
        "\t\t\tyield i\n",
        "\n",
        "# initializing list\n",
        "test_list = [1, 4, 5, 6, 7]\n",
        "\n",
        "# printing initial list\n",
        "print (\"The original list is : \" + str(test_list))\n",
        "\n",
        "# printing even numbers\n",
        "print (\"The even numbers in list are : \", end = \" \")\n",
        "for j in print_even(test_list):\n",
        "\tprint (j, end = \" \")\n"
      ],
      "execution_count": 3,
      "outputs": [
        {
          "output_type": "stream",
          "name": "stdout",
          "text": [
            "The original list is : [1, 4, 5, 6, 7]\n",
            "The even numbers in list are :  4 6 "
          ]
        }
      ]
    },
    {
      "cell_type": "markdown",
      "metadata": {
        "id": "X1Lv4EtNXJFX"
      },
      "source": [
        "# Coroutines\n",
        "\n",
        "`Coroutines` em Python, assim como os geradores, são funções retomáveis mas, em vez de gerar valores, elas os consomem valores em tempo real.  Elas também empregam o comando `yield` para consumir um valor.\n",
        "\n",
        "As co-rotinas são generalizações de sub-rotinas. Eles são usados ​​para multitarefa cooperativa, em que um processo produz voluntariamente (doa) controle periodicamente ou quando ocioso, para permitir que vários aplicativos sejam executados simultaneamente. Ao contrário das sub-rotinas, as co-rotinas têm muitos pontos de entrada para suspender e retomar a execução. A co-rotina pode suspender sua execução e transferir o controle para outra co-rotina e pode retomar novamente a execução do ponto em que parou. Também não existe uma função principal para chamar co-rotinas em uma ordem particular e coordenar os resultados. Desse modo a co-rotinas parecem ideais para a implementação de FSM.\n",
        "\n",
        "Antes de empregar uma co-rotina ela precisar ser *started*, o que pode ser feito com um `next` ou um `send(None)`. "
      ]
    },
    {
      "cell_type": "markdown",
      "metadata": {
        "id": "j0Ty-LcxgFQ8"
      },
      "source": [
        "## Exemplo"
      ]
    },
    {
      "cell_type": "code",
      "metadata": {
        "id": "sldLGEkWcaau"
      },
      "source": [
        "def print_name(contains):\n",
        "  print('Searching contains:{}'.format(contains))\n",
        "  while True:\n",
        "    name = (yield)\n",
        "    if contains in name:\n",
        "      print(name)\n",
        "    else:\n",
        "      print('None')\n"
      ],
      "execution_count": 4,
      "outputs": []
    },
    {
      "cell_type": "code",
      "metadata": {
        "colab": {
          "base_uri": "https://localhost:8080/"
        },
        "id": "I-wC5FHkaJ6S",
        "outputId": "8ab13843-01f8-4a36-9aed-63101532ced5"
      },
      "source": [
        "# calling coroutine, nothing will happen\n",
        "corou = print_name(\"Dear\")\n",
        "\n",
        "# This will start execution of coroutine and\n",
        "# Prints first line \"Searching prefix...\"\n",
        "# and advance execution to the first yield expression\n",
        "\n",
        "# corou.__next__() # or\n",
        "corou.send(None)\n",
        "\n",
        "# sending inputs\n",
        "corou.send(\"Friend\")\n",
        "corou.send(\"Dear Friend\")\n",
        "corou.send(\"Friend, my Dear\")\n"
      ],
      "execution_count": 5,
      "outputs": [
        {
          "output_type": "stream",
          "name": "stdout",
          "text": [
            "Searching contains:Dear\n",
            "None\n",
            "Dear Friend\n",
            "Friend, my Dear\n"
          ]
        }
      ]
    }
  ]
}