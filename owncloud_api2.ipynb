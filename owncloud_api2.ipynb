{
  "nbformat": 4,
  "nbformat_minor": 0,
  "metadata": {
    "colab": {
      "provenance": [],
      "authorship_tag": "ABX9TyOrFhoau5JaXUsHOjSBPNN6",
      "include_colab_link": true
    },
    "kernelspec": {
      "name": "python3",
      "display_name": "Python 3"
    },
    "language_info": {
      "name": "python"
    }
  },
  "cells": [
    {
      "cell_type": "markdown",
      "metadata": {
        "id": "view-in-github",
        "colab_type": "text"
      },
      "source": [
        "<a href=\"https://colab.research.google.com/github/Rogerio-mack/work/blob/main/owncloud_api2.ipynb\" target=\"_parent\"><img src=\"https://colab.research.google.com/assets/colab-badge.svg\" alt=\"Open In Colab\"/></a>"
      ]
    },
    {
      "cell_type": "code",
      "execution_count": null,
      "metadata": {
        "id": "n1rtJfYrJp5v"
      },
      "outputs": [],
      "source": [
        "!pip install pyocclient"
      ]
    },
    {
      "cell_type": "code",
      "source": [
        "# !pip install pyocclient\n",
        "import owncloud\n",
        "\n",
        "!echo 'hello' > hello_toupload.txt\n",
        "\n",
        "public_link = 'https://mackcloud.mackenzie.br/owncloud/index.php/s/wp2rBlrNfuSzpfC' # pasta xyz pública e sem senha, vc pode acessar pelo Browser se quiser\n",
        "\n",
        "oc = owncloud.Client.from_public_link(public_link)\n",
        "\n",
        "try:\n",
        "  oc.drop_file('hello_toupload.txt')\n",
        "  print('Upload Successfully Executed')\n",
        "except Exception as e: \n",
        "  print(str(e))\n",
        "\n",
        "try:\n",
        "  oc.get_file('/hello_toupload.txt', 'hello_downloaded.txt')\n",
        "  print('Download Successfully Executed')\n",
        "except Exception as e: \n",
        "  print(str(e))"
      ],
      "metadata": {
        "id": "J6AzwMzwVEQ2",
        "outputId": "110f55c8-a8d8-4d40-ca34-b5ce8d39c97e",
        "colab": {
          "base_uri": "https://localhost:8080/"
        }
      },
      "execution_count": null,
      "outputs": [
        {
          "output_type": "stream",
          "name": "stdout",
          "text": [
            "HTTP error: 405\n",
            "HTTP error: 404\n"
          ]
        }
      ]
    }
  ]
}