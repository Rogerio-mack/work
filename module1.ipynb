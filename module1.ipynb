{
  "nbformat": 4,
  "nbformat_minor": 0,
  "metadata": {
    "colab": {
      "name": "module1.ipynb",
      "provenance": [],
      "authorship_tag": "ABX9TyPhP4d2GmnsF3dbXDl661WV",
      "include_colab_link": true
    },
    "kernelspec": {
      "name": "python3",
      "display_name": "Python 3"
    },
    "language_info": {
      "name": "python"
    }
  },
  "cells": [
    {
      "cell_type": "markdown",
      "metadata": {
        "id": "view-in-github",
        "colab_type": "text"
      },
      "source": [
        "<a href=\"https://colab.research.google.com/github/Rogerio-mack/work/blob/main/module1.ipynb\" target=\"_parent\"><img src=\"https://colab.research.google.com/assets/colab-badge.svg\" alt=\"Open In Colab\"/></a>"
      ]
    },
    {
      "cell_type": "code",
      "execution_count": 1,
      "metadata": {
        "colab": {
          "base_uri": "https://localhost:8080/"
        },
        "id": "ACEU8JPL7PRV",
        "outputId": "2c6ad64c-9bbb-4753-8959-15e23b6f0334"
      },
      "outputs": [
        {
          "output_type": "stream",
          "name": "stdout",
          "text": [
            "--2022-06-16 15:22:16--  https://github.com/Rogerio-mack/work/raw/main/module1.py\n",
            "Resolving github.com (github.com)... 140.82.121.4\n",
            "Connecting to github.com (github.com)|140.82.121.4|:443... connected.\n",
            "HTTP request sent, awaiting response... 302 Found\n",
            "Location: https://raw.githubusercontent.com/Rogerio-mack/work/main/module1.py [following]\n",
            "--2022-06-16 15:22:16--  https://raw.githubusercontent.com/Rogerio-mack/work/main/module1.py\n",
            "Resolving raw.githubusercontent.com (raw.githubusercontent.com)... 185.199.108.133, 185.199.109.133, 185.199.110.133, ...\n",
            "Connecting to raw.githubusercontent.com (raw.githubusercontent.com)|185.199.108.133|:443... connected.\n",
            "HTTP request sent, awaiting response... 200 OK\n",
            "Length: 215 [text/plain]\n",
            "Saving to: ‘module1.py’\n",
            "\n",
            "\rmodule1.py            0%[                    ]       0  --.-KB/s               \rmodule1.py          100%[===================>]     215  --.-KB/s    in 0s      \n",
            "\n",
            "2022-06-16 15:22:16 (3.32 MB/s) - ‘module1.py’ saved [215/215]\n",
            "\n"
          ]
        }
      ],
      "source": [
        "!wget https://github.com/Rogerio-mack/work/raw/main/module1.py"
      ]
    },
    {
      "cell_type": "code",
      "source": [
        "# del module1"
      ],
      "metadata": {
        "id": "yttOu48VC3qA"
      },
      "execution_count": 2,
      "outputs": []
    },
    {
      "cell_type": "code",
      "source": [
        "import module1  \n",
        "from module1 import *\n",
        "list(module1.__dict__.keys())"
      ],
      "metadata": {
        "colab": {
          "base_uri": "https://localhost:8080/"
        },
        "id": "nuzfBQge_nNI",
        "outputId": "0a6aaab9-68fc-4f35-9625-301249552d8c"
      },
      "execution_count": 3,
      "outputs": [
        {
          "output_type": "execute_result",
          "data": {
            "text/plain": [
              "['__name__',\n",
              " '__doc__',\n",
              " '__package__',\n",
              " '__loader__',\n",
              " '__spec__',\n",
              " '__file__',\n",
              " '__cached__',\n",
              " '__builtins__',\n",
              " '__all__',\n",
              " 'printer',\n",
              " 'print1',\n",
              " 'print2',\n",
              " 'print3']"
            ]
          },
          "metadata": {},
          "execution_count": 3
        }
      ]
    },
    {
      "cell_type": "code",
      "source": [
        "printer('Hello!')"
      ],
      "metadata": {
        "colab": {
          "base_uri": "https://localhost:8080/"
        },
        "id": "lubIpwb17dDv",
        "outputId": "95f324ea-5b2d-49bb-c65c-b1e32458e83e"
      },
      "execution_count": 4,
      "outputs": [
        {
          "output_type": "stream",
          "name": "stdout",
          "text": [
            "Hello!\n"
          ]
        }
      ]
    },
    {
      "cell_type": "code",
      "source": [
        "help(module1.printer)"
      ],
      "metadata": {
        "colab": {
          "base_uri": "https://localhost:8080/"
        },
        "id": "Zku3Y-J9BoWp",
        "outputId": "08004219-2ccd-4ba4-de43-6b3457f8e59c"
      },
      "execution_count": 5,
      "outputs": [
        {
          "output_type": "stream",
          "name": "stdout",
          "text": [
            "Help on function printer in module module1:\n",
            "\n",
            "printer(x)\n",
            "\n"
          ]
        }
      ]
    },
    {
      "cell_type": "code",
      "source": [
        "import inspect\n",
        "print(inspect.getsource(module1.print2))"
      ],
      "metadata": {
        "colab": {
          "base_uri": "https://localhost:8080/"
        },
        "id": "e-yYSfnQBta3",
        "outputId": "b168bb4e-5b06-4c9b-8b52-e3d843d0b421"
      },
      "execution_count": 6,
      "outputs": [
        {
          "output_type": "stream",
          "name": "stdout",
          "text": [
            "def print2():\n",
            "  print(\"Python is \" + cool)\n",
            "  return\n",
            "\n"
          ]
        }
      ]
    },
    {
      "cell_type": "code",
      "source": [
        "cool = 'Oie!'\n",
        "print(cool)\n",
        "\n",
        "def print4():\n",
        "  print(\"Python is \" + cool)\n",
        "  return\n",
        "\n",
        "print4()"
      ],
      "metadata": {
        "colab": {
          "base_uri": "https://localhost:8080/"
        },
        "id": "WVX2ksNvD-TP",
        "outputId": "ce621838-9103-42b9-c47b-7bc139aa7d50"
      },
      "execution_count": 7,
      "outputs": [
        {
          "output_type": "stream",
          "name": "stdout",
          "text": [
            "Oie!\n",
            "Python is Oie!\n"
          ]
        }
      ]
    },
    {
      "cell_type": "code",
      "source": [
        "print2()"
      ],
      "metadata": {
        "colab": {
          "base_uri": "https://localhost:8080/",
          "height": 287
        },
        "id": "lRSKdYUkG9zA",
        "outputId": "d3ec7078-b76c-46c3-95e3-5e3768facc96"
      },
      "execution_count": 8,
      "outputs": [
        {
          "output_type": "error",
          "ename": "NameError",
          "evalue": "ignored",
          "traceback": [
            "\u001b[0;31m---------------------------------------------------------------------------\u001b[0m",
            "\u001b[0;31mNameError\u001b[0m                                 Traceback (most recent call last)",
            "\u001b[0;32m<ipython-input-8-245738c6bcfa>\u001b[0m in \u001b[0;36m<module>\u001b[0;34m()\u001b[0m\n\u001b[0;32m----> 1\u001b[0;31m \u001b[0mprint2\u001b[0m\u001b[0;34m(\u001b[0m\u001b[0;34m)\u001b[0m\u001b[0;34m\u001b[0m\u001b[0;34m\u001b[0m\u001b[0m\n\u001b[0m",
            "\u001b[0;32m/content/module1.py\u001b[0m in \u001b[0;36mprint2\u001b[0;34m()\u001b[0m\n\u001b[1;32m     10\u001b[0m \u001b[0;34m\u001b[0m\u001b[0m\n\u001b[1;32m     11\u001b[0m \u001b[0;32mdef\u001b[0m \u001b[0mprint2\u001b[0m\u001b[0;34m(\u001b[0m\u001b[0;34m)\u001b[0m\u001b[0;34m:\u001b[0m\u001b[0;34m\u001b[0m\u001b[0;34m\u001b[0m\u001b[0m\n\u001b[0;32m---> 12\u001b[0;31m   \u001b[0mprint\u001b[0m\u001b[0;34m(\u001b[0m\u001b[0;34m\"Python is \"\u001b[0m \u001b[0;34m+\u001b[0m \u001b[0mcool\u001b[0m\u001b[0;34m)\u001b[0m\u001b[0;34m\u001b[0m\u001b[0;34m\u001b[0m\u001b[0m\n\u001b[0m\u001b[1;32m     13\u001b[0m   \u001b[0;32mreturn\u001b[0m\u001b[0;34m\u001b[0m\u001b[0;34m\u001b[0m\u001b[0m\n\u001b[1;32m     14\u001b[0m \u001b[0;34m\u001b[0m\u001b[0m\n",
            "\u001b[0;31mNameError\u001b[0m: name 'cool' is not defined"
          ]
        }
      ]
    }
  ]
}