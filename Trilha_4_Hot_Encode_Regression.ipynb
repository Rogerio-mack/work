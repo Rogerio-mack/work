{
  "nbformat": 4,
  "nbformat_minor": 0,
  "metadata": {
    "colab": {
      "name": "Trilha 4 Hot Encode Regression.ipynb",
      "provenance": [],
      "collapsed_sections": [],
      "include_colab_link": true
    },
    "kernelspec": {
      "name": "python3",
      "display_name": "Python 3"
    }
  },
  "cells": [
    {
      "cell_type": "markdown",
      "metadata": {
        "id": "view-in-github",
        "colab_type": "text"
      },
      "source": [
        "<a href=\"https://colab.research.google.com/github/Rogerio-mack/work/blob/main/Trilha_4_Hot_Encode_Regression.ipynb\" target=\"_parent\"><img src=\"https://colab.research.google.com/assets/colab-badge.svg\" alt=\"Open In Colab\"/></a>"
      ]
    },
    {
      "cell_type": "code",
      "metadata": {
        "id": "T6FFPMh10lvO",
        "colab": {
          "base_uri": "https://localhost:8080/"
        },
        "outputId": "233dc829-d8a4-489f-e43c-ea77a5ce2cb7"
      },
      "source": [
        "import numpy as np\n",
        "import pandas as pd\n",
        "import statsmodels.api as sm"
      ],
      "execution_count": 1,
      "outputs": [
        {
          "output_type": "stream",
          "name": "stderr",
          "text": [
            "/usr/local/lib/python3.7/dist-packages/statsmodels/tools/_testing.py:19: FutureWarning: pandas.util.testing is deprecated. Use the functions in the public API at pandas.testing instead.\n",
            "  import pandas.util.testing as tm\n"
          ]
        }
      ]
    },
    {
      "cell_type": "markdown",
      "metadata": {
        "id": "xir7T5-tsJJa"
      },
      "source": [
        "# Obtendo os dados"
      ]
    },
    {
      "cell_type": "code",
      "metadata": {
        "colab": {
          "base_uri": "https://localhost:8080/",
          "height": 204
        },
        "id": "1rI9MHBaO9qR",
        "outputId": "1aeb500b-c227-4479-c306-6259bc54f6be"
      },
      "source": [
        "df = pd.read_excel('http://meusite.mackenzie.br/rogerio/ML/TRILHA_4_TAREFA.xlsx')\n",
        "df.head()"
      ],
      "execution_count": 2,
      "outputs": [
        {
          "output_type": "execute_result",
          "data": {
            "text/html": [
              "<div>\n",
              "<style scoped>\n",
              "    .dataframe tbody tr th:only-of-type {\n",
              "        vertical-align: middle;\n",
              "    }\n",
              "\n",
              "    .dataframe tbody tr th {\n",
              "        vertical-align: top;\n",
              "    }\n",
              "\n",
              "    .dataframe thead th {\n",
              "        text-align: right;\n",
              "    }\n",
              "</style>\n",
              "<table border=\"1\" class=\"dataframe\">\n",
              "  <thead>\n",
              "    <tr style=\"text-align: right;\">\n",
              "      <th></th>\n",
              "      <th>bairro</th>\n",
              "      <th>areaM2</th>\n",
              "      <th>suites</th>\n",
              "      <th>dormitorios</th>\n",
              "      <th>banheiros</th>\n",
              "      <th>vagas</th>\n",
              "      <th>preco</th>\n",
              "    </tr>\n",
              "  </thead>\n",
              "  <tbody>\n",
              "    <tr>\n",
              "      <th>0</th>\n",
              "      <td>vila-nova-conceicao</td>\n",
              "      <td>32</td>\n",
              "      <td>1</td>\n",
              "      <td>1</td>\n",
              "      <td>1</td>\n",
              "      <td>1</td>\n",
              "      <td>490000</td>\n",
              "    </tr>\n",
              "    <tr>\n",
              "      <th>1</th>\n",
              "      <td>vila-nova-conceicao</td>\n",
              "      <td>157</td>\n",
              "      <td>2</td>\n",
              "      <td>2</td>\n",
              "      <td>2</td>\n",
              "      <td>2</td>\n",
              "      <td>3180000</td>\n",
              "    </tr>\n",
              "    <tr>\n",
              "      <th>2</th>\n",
              "      <td>vila-nova-conceicao</td>\n",
              "      <td>205</td>\n",
              "      <td>2</td>\n",
              "      <td>3</td>\n",
              "      <td>3</td>\n",
              "      <td>3</td>\n",
              "      <td>1900000</td>\n",
              "    </tr>\n",
              "    <tr>\n",
              "      <th>3</th>\n",
              "      <td>vila-nova-conceicao</td>\n",
              "      <td>193</td>\n",
              "      <td>3</td>\n",
              "      <td>3</td>\n",
              "      <td>3</td>\n",
              "      <td>3</td>\n",
              "      <td>3565000</td>\n",
              "    </tr>\n",
              "    <tr>\n",
              "      <th>4</th>\n",
              "      <td>vila-nova-conceicao</td>\n",
              "      <td>116</td>\n",
              "      <td>1</td>\n",
              "      <td>3</td>\n",
              "      <td>2</td>\n",
              "      <td>2</td>\n",
              "      <td>1605000</td>\n",
              "    </tr>\n",
              "  </tbody>\n",
              "</table>\n",
              "</div>"
            ],
            "text/plain": [
              "                bairro  areaM2  suites  dormitorios  banheiros  vagas    preco\n",
              "0  vila-nova-conceicao      32       1            1          1      1   490000\n",
              "1  vila-nova-conceicao     157       2            2          2      2  3180000\n",
              "2  vila-nova-conceicao     205       2            3          3      3  1900000\n",
              "3  vila-nova-conceicao     193       3            3          3      3  3565000\n",
              "4  vila-nova-conceicao     116       1            3          2      2  1605000"
            ]
          },
          "metadata": {},
          "execution_count": 2
        }
      ]
    },
    {
      "cell_type": "markdown",
      "metadata": {
        "id": "R4T821bBttsU"
      },
      "source": [
        "# Hot Encode"
      ]
    },
    {
      "cell_type": "code",
      "metadata": {
        "colab": {
          "base_uri": "https://localhost:8080/",
          "height": 204
        },
        "id": "NjwgWk5F7Yxm",
        "outputId": "8090d0d6-40d0-4476-c4d9-4dbbf101edc9"
      },
      "source": [
        "df = pd.get_dummies(df, prefix_sep='_')\n",
        "df.head()\n",
        "\n"
      ],
      "execution_count": 3,
      "outputs": [
        {
          "output_type": "execute_result",
          "data": {
            "text/html": [
              "<div>\n",
              "<style scoped>\n",
              "    .dataframe tbody tr th:only-of-type {\n",
              "        vertical-align: middle;\n",
              "    }\n",
              "\n",
              "    .dataframe tbody tr th {\n",
              "        vertical-align: top;\n",
              "    }\n",
              "\n",
              "    .dataframe thead th {\n",
              "        text-align: right;\n",
              "    }\n",
              "</style>\n",
              "<table border=\"1\" class=\"dataframe\">\n",
              "  <thead>\n",
              "    <tr style=\"text-align: right;\">\n",
              "      <th></th>\n",
              "      <th>areaM2</th>\n",
              "      <th>suites</th>\n",
              "      <th>dormitorios</th>\n",
              "      <th>banheiros</th>\n",
              "      <th>vagas</th>\n",
              "      <th>preco</th>\n",
              "      <th>bairro_morumbi</th>\n",
              "      <th>bairro_paraiso</th>\n",
              "      <th>bairro_vila-mariana</th>\n",
              "      <th>bairro_vila-nova-conceicao</th>\n",
              "      <th>bairro_vila-sonia</th>\n",
              "    </tr>\n",
              "  </thead>\n",
              "  <tbody>\n",
              "    <tr>\n",
              "      <th>0</th>\n",
              "      <td>32</td>\n",
              "      <td>1</td>\n",
              "      <td>1</td>\n",
              "      <td>1</td>\n",
              "      <td>1</td>\n",
              "      <td>490000</td>\n",
              "      <td>0</td>\n",
              "      <td>0</td>\n",
              "      <td>0</td>\n",
              "      <td>1</td>\n",
              "      <td>0</td>\n",
              "    </tr>\n",
              "    <tr>\n",
              "      <th>1</th>\n",
              "      <td>157</td>\n",
              "      <td>2</td>\n",
              "      <td>2</td>\n",
              "      <td>2</td>\n",
              "      <td>2</td>\n",
              "      <td>3180000</td>\n",
              "      <td>0</td>\n",
              "      <td>0</td>\n",
              "      <td>0</td>\n",
              "      <td>1</td>\n",
              "      <td>0</td>\n",
              "    </tr>\n",
              "    <tr>\n",
              "      <th>2</th>\n",
              "      <td>205</td>\n",
              "      <td>2</td>\n",
              "      <td>3</td>\n",
              "      <td>3</td>\n",
              "      <td>3</td>\n",
              "      <td>1900000</td>\n",
              "      <td>0</td>\n",
              "      <td>0</td>\n",
              "      <td>0</td>\n",
              "      <td>1</td>\n",
              "      <td>0</td>\n",
              "    </tr>\n",
              "    <tr>\n",
              "      <th>3</th>\n",
              "      <td>193</td>\n",
              "      <td>3</td>\n",
              "      <td>3</td>\n",
              "      <td>3</td>\n",
              "      <td>3</td>\n",
              "      <td>3565000</td>\n",
              "      <td>0</td>\n",
              "      <td>0</td>\n",
              "      <td>0</td>\n",
              "      <td>1</td>\n",
              "      <td>0</td>\n",
              "    </tr>\n",
              "    <tr>\n",
              "      <th>4</th>\n",
              "      <td>116</td>\n",
              "      <td>1</td>\n",
              "      <td>3</td>\n",
              "      <td>2</td>\n",
              "      <td>2</td>\n",
              "      <td>1605000</td>\n",
              "      <td>0</td>\n",
              "      <td>0</td>\n",
              "      <td>0</td>\n",
              "      <td>1</td>\n",
              "      <td>0</td>\n",
              "    </tr>\n",
              "  </tbody>\n",
              "</table>\n",
              "</div>"
            ],
            "text/plain": [
              "   areaM2  suites  ...  bairro_vila-nova-conceicao  bairro_vila-sonia\n",
              "0      32       1  ...                           1                  0\n",
              "1     157       2  ...                           1                  0\n",
              "2     205       2  ...                           1                  0\n",
              "3     193       3  ...                           1                  0\n",
              "4     116       1  ...                           1                  0\n",
              "\n",
              "[5 rows x 11 columns]"
            ]
          },
          "metadata": {},
          "execution_count": 3
        }
      ]
    },
    {
      "cell_type": "markdown",
      "metadata": {
        "id": "u1Uvh-bct4ma"
      },
      "source": [
        "# Regressão com todos atributos"
      ]
    },
    {
      "cell_type": "code",
      "metadata": {
        "id": "6pdqSxWHsTrl",
        "colab": {
          "base_uri": "https://localhost:8080/"
        },
        "outputId": "ce981ad7-d928-4bc2-ec10-058edbdcdc35"
      },
      "source": [
        "X = sm.add_constant(df.drop(columns='preco'))\n",
        "model = sm.OLS(df.preco,X)\n",
        "\n",
        "result = model.fit()\n",
        "print(result.summary())\n"
      ],
      "execution_count": 4,
      "outputs": [
        {
          "output_type": "stream",
          "name": "stdout",
          "text": [
            "                            OLS Regression Results                            \n",
            "==============================================================================\n",
            "Dep. Variable:                  preco   R-squared:                       0.795\n",
            "Model:                            OLS   Adj. R-squared:                  0.795\n",
            "Method:                 Least Squares   F-statistic:                     1611.\n",
            "Date:                Fri, 10 Sep 2021   Prob (F-statistic):               0.00\n",
            "Time:                        02:12:08   Log-Likelihood:                -54290.\n",
            "No. Observations:                3741   AIC:                         1.086e+05\n",
            "Df Residuals:                    3731   BIC:                         1.087e+05\n",
            "Df Model:                           9                                         \n",
            "Covariance Type:            nonrobust                                         \n",
            "==============================================================================================\n",
            "                                 coef    std err          t      P>|t|      [0.025      0.975]\n",
            "----------------------------------------------------------------------------------------------\n",
            "const                      -2.282e+05   2.85e+04     -8.013      0.000   -2.84e+05   -1.72e+05\n",
            "areaM2                      7580.2937    241.143     31.435      0.000    7107.508    8053.079\n",
            "suites                      1.532e+05   1.33e+04     11.524      0.000    1.27e+05    1.79e+05\n",
            "dormitorios                -9.971e+04    1.5e+04     -6.655      0.000   -1.29e+05   -7.03e+04\n",
            "banheiros                   4755.9925   8373.499      0.568      0.570   -1.17e+04    2.12e+04\n",
            "vagas                       3.331e+05   1.36e+04     24.503      0.000    3.06e+05     3.6e+05\n",
            "bairro_morumbi             -8.776e+04   3.67e+04     -2.393      0.017    -1.6e+05   -1.59e+04\n",
            "bairro_paraiso             -4448.3187    1.9e+04     -0.234      0.815   -4.17e+04    3.28e+04\n",
            "bairro_vila-mariana        -2.058e+05   1.51e+04    -13.635      0.000   -2.35e+05   -1.76e+05\n",
            "bairro_vila-nova-conceicao   6.82e+05   1.81e+04     37.725      0.000    6.47e+05    7.17e+05\n",
            "bairro_vila-sonia          -6.123e+05   2.62e+04    -23.405      0.000   -6.64e+05   -5.61e+05\n",
            "==============================================================================\n",
            "Omnibus:                     1315.549   Durbin-Watson:                   1.972\n",
            "Prob(Omnibus):                  0.000   Jarque-Bera (JB):            12370.154\n",
            "Skew:                           1.401   Prob(JB):                         0.00\n",
            "Kurtosis:                      11.457   Cond. No.                     1.17e+17\n",
            "==============================================================================\n",
            "\n",
            "Warnings:\n",
            "[1] Standard Errors assume that the covariance matrix of the errors is correctly specified.\n",
            "[2] The smallest eigenvalue is 6.33e-27. This might indicate that there are\n",
            "strong multicollinearity problems or that the design matrix is singular.\n"
          ]
        }
      ]
    },
    {
      "cell_type": "markdown",
      "metadata": {
        "id": "djVBAmA0uOMq"
      },
      "source": [
        "# Regressão com Coeficiente Independente 0"
      ]
    },
    {
      "cell_type": "code",
      "metadata": {
        "id": "l1WGJ3yOepoA",
        "colab": {
          "base_uri": "https://localhost:8080/"
        },
        "outputId": "3144c8a6-35af-4ed6-8a66-a729bff49442"
      },
      "source": [
        "X = df.drop(columns='preco')\n",
        "model = sm.OLS(df.preco,X)\n",
        "\n",
        "result = model.fit()\n",
        "print(result.summary())\n"
      ],
      "execution_count": 5,
      "outputs": [
        {
          "output_type": "stream",
          "name": "stdout",
          "text": [
            "                            OLS Regression Results                            \n",
            "==============================================================================\n",
            "Dep. Variable:                  preco   R-squared:                       0.795\n",
            "Model:                            OLS   Adj. R-squared:                  0.795\n",
            "Method:                 Least Squares   F-statistic:                     1611.\n",
            "Date:                Fri, 10 Sep 2021   Prob (F-statistic):               0.00\n",
            "Time:                        02:12:08   Log-Likelihood:                -54290.\n",
            "No. Observations:                3741   AIC:                         1.086e+05\n",
            "Df Residuals:                    3731   BIC:                         1.087e+05\n",
            "Df Model:                           9                                         \n",
            "Covariance Type:            nonrobust                                         \n",
            "==============================================================================================\n",
            "                                 coef    std err          t      P>|t|      [0.025      0.975]\n",
            "----------------------------------------------------------------------------------------------\n",
            "areaM2                      7580.2937    241.143     31.435      0.000    7107.508    8053.079\n",
            "suites                      1.532e+05   1.33e+04     11.524      0.000    1.27e+05    1.79e+05\n",
            "dormitorios                -9.971e+04    1.5e+04     -6.655      0.000   -1.29e+05   -7.03e+04\n",
            "banheiros                   4755.9925   8373.499      0.568      0.570   -1.17e+04    2.12e+04\n",
            "vagas                       3.331e+05   1.36e+04     24.503      0.000    3.06e+05     3.6e+05\n",
            "bairro_morumbi              -3.16e+05   5.35e+04     -5.911      0.000   -4.21e+05   -2.11e+05\n",
            "bairro_paraiso             -2.327e+05   3.73e+04     -6.242      0.000   -3.06e+05    -1.6e+05\n",
            "bairro_vila-mariana         -4.34e+05    3.5e+04    -12.390      0.000   -5.03e+05   -3.65e+05\n",
            "bairro_vila-nova-conceicao  4.538e+05   3.46e+04     13.120      0.000    3.86e+05    5.22e+05\n",
            "bairro_vila-sonia          -8.405e+05   4.42e+04    -19.024      0.000   -9.27e+05   -7.54e+05\n",
            "==============================================================================\n",
            "Omnibus:                     1315.549   Durbin-Watson:                   1.972\n",
            "Prob(Omnibus):                  0.000   Jarque-Bera (JB):            12370.154\n",
            "Skew:                           1.401   Prob(JB):                         0.00\n",
            "Kurtosis:                      11.457   Cond. No.                     1.50e+03\n",
            "==============================================================================\n",
            "\n",
            "Warnings:\n",
            "[1] Standard Errors assume that the covariance matrix of the errors is correctly specified.\n",
            "[2] The condition number is large, 1.5e+03. This might indicate that there are\n",
            "strong multicollinearity or other numerical problems.\n"
          ]
        }
      ]
    },
    {
      "cell_type": "markdown",
      "metadata": {
        "id": "Rt8Tz9Fiulc5"
      },
      "source": [
        "# Excluindo coeficientes com p-value < 0.05"
      ]
    },
    {
      "cell_type": "code",
      "metadata": {
        "id": "opO0_QmVxmBh",
        "colab": {
          "base_uri": "https://localhost:8080/"
        },
        "outputId": "1970f2c5-890b-443f-d6ba-c0496ab2ac00"
      },
      "source": [
        "X = sm.add_constant(df.drop(columns=['preco','bairro_morumbi','banheiros','bairro_paraiso']))\n",
        "model = sm.OLS(df.preco,X)\n",
        "\n",
        "result = model.fit()\n",
        "print(result.summary())"
      ],
      "execution_count": 6,
      "outputs": [
        {
          "output_type": "stream",
          "name": "stdout",
          "text": [
            "                            OLS Regression Results                            \n",
            "==============================================================================\n",
            "Dep. Variable:                  preco   R-squared:                       0.795\n",
            "Model:                            OLS   Adj. R-squared:                  0.795\n",
            "Method:                 Least Squares   F-statistic:                     2070.\n",
            "Date:                Fri, 10 Sep 2021   Prob (F-statistic):               0.00\n",
            "Time:                        02:12:08   Log-Likelihood:                -54292.\n",
            "No. Observations:                3741   AIC:                         1.086e+05\n",
            "Df Residuals:                    3733   BIC:                         1.086e+05\n",
            "Df Model:                           7                                         \n",
            "Covariance Type:            nonrobust                                         \n",
            "==============================================================================================\n",
            "                                 coef    std err          t      P>|t|      [0.025      0.975]\n",
            "----------------------------------------------------------------------------------------------\n",
            "const                      -2.449e+05   3.64e+04     -6.733      0.000   -3.16e+05   -1.74e+05\n",
            "areaM2                      7646.0983    238.360     32.078      0.000    7178.769    8113.428\n",
            "suites                      1.567e+05   1.23e+04     12.754      0.000    1.33e+05    1.81e+05\n",
            "dormitorios                -9.808e+04   1.47e+04     -6.690      0.000   -1.27e+05   -6.93e+04\n",
            "vagas                       3.303e+05   1.34e+04     24.620      0.000    3.04e+05    3.57e+05\n",
            "bairro_vila-mariana        -1.874e+05   2.11e+04     -8.876      0.000   -2.29e+05   -1.46e+05\n",
            "bairro_vila-nova-conceicao  6.989e+05   2.47e+04     28.311      0.000     6.5e+05    7.47e+05\n",
            "bairro_vila-sonia          -5.935e+05   3.34e+04    -17.776      0.000   -6.59e+05   -5.28e+05\n",
            "==============================================================================\n",
            "Omnibus:                     1311.635   Durbin-Watson:                   1.970\n",
            "Prob(Omnibus):                  0.000   Jarque-Bera (JB):            12304.070\n",
            "Skew:                           1.396   Prob(JB):                         0.00\n",
            "Kurtosis:                      11.434   Cond. No.                         835.\n",
            "==============================================================================\n",
            "\n",
            "Warnings:\n",
            "[1] Standard Errors assume that the covariance matrix of the errors is correctly specified.\n"
          ]
        }
      ]
    },
    {
      "cell_type": "markdown",
      "metadata": {
        "id": "5DZViWKYhReu"
      },
      "source": [
        "# Com `scikit-learn`"
      ]
    },
    {
      "cell_type": "code",
      "metadata": {
        "colab": {
          "base_uri": "https://localhost:8080/"
        },
        "id": "jsCGUQE2ee1l",
        "outputId": "343edd69-8444-4595-c59f-364b1607aa5a"
      },
      "source": [
        "from sklearn.linear_model import LinearRegression\n",
        "from sklearn.metrics import mean_squared_error, r2_score\n",
        "\n",
        "X = df.drop(columns='preco')\n",
        "y = df.preco \n",
        "\n",
        "model = LinearRegression()\n",
        "model.fit(X,y)\n",
        "\n",
        "y_pred = model.predict(X)\n",
        "\n",
        "print(model.coef_)\n",
        "print('Coeficiente de Determinação: %.2f' % r2_score(y, y_pred))\n"
      ],
      "execution_count": 17,
      "outputs": [
        {
          "output_type": "stream",
          "name": "stdout",
          "text": [
            "[   7580.2937138   153221.40341281  -99708.35230991    4755.99248854\n",
            "  333076.83836808  -42113.22742563   41195.10760713 -160132.27570366\n",
            "  727676.92622231 -566626.53070015]\n",
            "Coeficiente de Determinação: 0.80\n"
          ]
        }
      ]
    }
  ]
}