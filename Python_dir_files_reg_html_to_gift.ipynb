{
  "nbformat": 4,
  "nbformat_minor": 0,
  "metadata": {
    "colab": {
      "name": "Python_dir_files_reg_html_to_gift",
      "provenance": [],
      "include_colab_link": true
    },
    "kernelspec": {
      "display_name": "Python 3",
      "name": "python3"
    }
  },
  "cells": [
    {
      "cell_type": "markdown",
      "metadata": {
        "id": "view-in-github",
        "colab_type": "text"
      },
      "source": [
        "<a href=\"https://colab.research.google.com/github/Rogerio-mack/work/blob/main/Python_dir_files_reg_html_to_gift.ipynb\" target=\"_parent\"><img src=\"https://colab.research.google.com/assets/colab-badge.svg\" alt=\"Open In Colab\"/></a>"
      ]
    },
    {
      "cell_type": "markdown",
      "metadata": {
        "id": "OMW-EdMZ_Zwy"
      },
      "source": [
        "Processa arquivos de questões html no diretório /content e gera em /content/output arquivo de questões gift"
      ]
    },
    {
      "cell_type": "code",
      "metadata": {
        "id": "WwlhhSaonfOG"
      },
      "source": [
        "import re\n",
        "# as per recommendation from @freylis, compile once only\n",
        "# CLEANR = re.compile('<.*?>') \n",
        "CLEANR = re.compile('<.*?>|&([a-z0-9]+|#[0-9]{1,6}|#x[0-9a-f]{1,6});')\n",
        "\n",
        "def cleanhtml(raw_html):\n",
        "  cleantext = re.sub(CLEANR, '', raw_html)\n",
        "  return cleantext\n",
        "\n",
        "  "
      ],
      "execution_count": 18,
      "outputs": []
    },
    {
      "cell_type": "code",
      "metadata": {
        "id": "GMbkXP49i1gK"
      },
      "source": [
        "def process(path, f, outputpath):\n",
        "  infile = open(path + '/' + f,'r') \n",
        "  outfile = open(outputpath + '/' + f.replace('q','g'),'w')\n",
        "\n",
        "  roman = ['\\\\ni. ', '\\\\nii. ', '\\\\niii. ', '\\\\niv. ', '\\\\nv. ' ]\n",
        "  oli = False\n",
        "  ioli = 0\n",
        "\n",
        "  ola = False\n",
        "  iola = 0\n",
        "\n",
        "  resp = ''\n",
        "  resps = {'a':0,'b':1,'c':2,'d':3,'e':4}\n",
        "\n",
        "  q = f[1:5].split('.')[0]\n",
        "  \n",
        "  for line in infile:\n",
        "\n",
        "    if resp == '':                                      # Resposta\n",
        "      resp = resps[ line[2] ]\n",
        "      continue\n",
        "\n",
        "    if line[0:4] == '<img':                            # Se inserida imagem na questão\n",
        "      texto = line\n",
        "      outfile.write(texto)\n",
        "      continue\n",
        "\n",
        "    line = line.replace('Questão #q#','(Questão_' + q + ')\\\\n')  \n",
        "\n",
        "    if line.count('<ol type=\"i\">') != 0:                # Trata lista de frases\n",
        "      line = line.replace('<ol type=\"i\">','\\\\n',1)\n",
        "      oli = True\n",
        "\n",
        "    if oli:  \n",
        "      if line.count('<li>') != 0:\n",
        "        line = line.replace('<li>',roman[ioli])\n",
        "        ioli = ioli + 1\n",
        "      line = line.replace('</li>','')\n",
        "      if line.count('</ol>') != 0:\n",
        "        line = line.replace('</ol>','\\\\n')\n",
        "        oli = False\n",
        "        ioli = 0\n",
        "      line = line.strip(' ')  \n",
        "\n",
        "    if line.count('<ol type=\"a\">') != 0:               # Trata lista de alternativas\n",
        "      line = line.replace('<ol type=\"a\">','{',1)\n",
        "      ola = True\n",
        "\n",
        "    line = line.replace(':','\\:')                      # Caracteres especiais\n",
        "    line = line.replace('=','\\=') \n",
        "\n",
        "    if ola:  \n",
        "      if line.count('<li>') != 0:\n",
        "        if iola == resp:\n",
        "          line = line.replace('<li>','= ')\n",
        "        else:\n",
        "          line = line.replace('<li>','~ ') \n",
        "        iola = iola + 1\n",
        "      line = line.replace('</li>','')\n",
        "      if line.count('</ol>') != 0:\n",
        "        line = line.replace('</ol>','}')\n",
        "        ola = False\n",
        "        iola = 0\n",
        "      line = line.strip(' ')  \n",
        "\n",
        "    texto = cleanhtml(line)\n",
        "\n",
        "    texto = texto.replace('\\:','\\:\\\\n')                # Salta linhas\n",
        "    outfile.write(texto)\n",
        "\n",
        "  infile.close()\n",
        "  outfile.close()\n",
        "\n",
        "  infile = open(outputpath + '/' + f.replace('q','g'),'r')\n",
        "  print(infile.read())\n",
        "  infile.close()\n",
        "\n",
        "  return\n"
      ],
      "execution_count": 19,
      "outputs": []
    },
    {
      "cell_type": "code",
      "metadata": {
        "id": "0CFctWLG3n0l"
      },
      "source": [
        "import os\n",
        "path = '/content'\n",
        "files = os.listdir(path)\n",
        "\n",
        "if not(os.path.exists('/content/output')):\n",
        "  os.mkdir('/content/output')\n",
        "\n",
        "for f in files:\n",
        "  print(10*'* ' + f + ' ' + 10*'* ')\n",
        "  if f[0] == 'q':\n",
        "    process('/content', f, '/content/output')"
      ],
      "execution_count": null,
      "outputs": []
    },
    {
      "cell_type": "code",
      "metadata": {
        "id": "GYYL6dOi927n"
      },
      "source": [
        "import os\n",
        "path = '/content/output'\n",
        "\n",
        "if os.path.exists(path + '/' + 'final_gift.txt'):\n",
        "  os.remove(path + '/' + 'final_gift.txt')\n",
        "\n",
        "files = os.listdir(path)\n",
        "\n",
        "for f in sorted(files):\n",
        "  if not(os.path.exists(path + '/' + 'final_gift.txt')):\n",
        "    outfile = open(path + '/' + 'final_gift.txt','w')\n",
        "  \n",
        "  print(10*'* ' + f + ' ' + 10*'* ')\n",
        "  infile = open(path + '/' + f,'r') \n",
        "  for line in infile:\n",
        "    outfile.write(line)\n",
        "  infile.close()\n",
        "  \n",
        "outfile.close()\n",
        "\n",
        "infile = open(path + '/' + 'final_gift.txt','r')\n",
        "print(infile.read())\n",
        "infile.close()"
      ],
      "execution_count": null,
      "outputs": []
    }
  ]
}