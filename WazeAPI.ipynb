{
  "nbformat": 4,
  "nbformat_minor": 0,
  "metadata": {
    "colab": {
      "provenance": [],
      "authorship_tag": "ABX9TyM3H1FwT3D7FUqIEmODNGKz",
      "include_colab_link": true
    },
    "kernelspec": {
      "name": "python3",
      "display_name": "Python 3"
    },
    "language_info": {
      "name": "python"
    }
  },
  "cells": [
    {
      "cell_type": "markdown",
      "metadata": {
        "id": "view-in-github",
        "colab_type": "text"
      },
      "source": [
        "<a href=\"https://colab.research.google.com/github/Rogerio-mack/work/blob/main/WazeAPI.ipynb\" target=\"_parent\"><img src=\"https://colab.research.google.com/assets/colab-badge.svg\" alt=\"Open In Colab\"/></a>"
      ]
    },
    {
      "cell_type": "markdown",
      "source": [
        "# Waze API to get time and distance\n",
        "\n",
        "https://github.com/kovacsbalu/WazeRouteCalculator"
      ],
      "metadata": {
        "id": "F0up5xE8Au4B"
      }
    },
    {
      "cell_type": "code",
      "source": [
        "!pip install WazeRouteCalculator"
      ],
      "metadata": {
        "colab": {
          "base_uri": "https://localhost:8080/"
        },
        "id": "BfmNexYm5g26",
        "outputId": "afda247e-b462-4bea-da67-fd7e1b797b21"
      },
      "execution_count": 1,
      "outputs": [
        {
          "output_type": "stream",
          "name": "stdout",
          "text": [
            "Looking in indexes: https://pypi.org/simple, https://us-python.pkg.dev/colab-wheels/public/simple/\n",
            "Collecting WazeRouteCalculator\n",
            "  Downloading WazeRouteCalculator-0.15-py3-none-any.whl (16 kB)\n",
            "Requirement already satisfied: requests in /usr/local/lib/python3.8/dist-packages (from WazeRouteCalculator) (2.25.1)\n",
            "Requirement already satisfied: certifi>=2017.4.17 in /usr/local/lib/python3.8/dist-packages (from requests->WazeRouteCalculator) (2022.12.7)\n",
            "Requirement already satisfied: chardet<5,>=3.0.2 in /usr/local/lib/python3.8/dist-packages (from requests->WazeRouteCalculator) (4.0.0)\n",
            "Requirement already satisfied: urllib3<1.27,>=1.21.1 in /usr/local/lib/python3.8/dist-packages (from requests->WazeRouteCalculator) (1.24.3)\n",
            "Requirement already satisfied: idna<3,>=2.5 in /usr/local/lib/python3.8/dist-packages (from requests->WazeRouteCalculator) (2.10)\n",
            "Installing collected packages: WazeRouteCalculator\n",
            "Successfully installed WazeRouteCalculator-0.15\n"
          ]
        }
      ]
    },
    {
      "cell_type": "markdown",
      "source": [
        "# Exemplo"
      ],
      "metadata": {
        "id": "TB5DUpigAJsh"
      }
    },
    {
      "cell_type": "code",
      "execution_count": 8,
      "metadata": {
        "colab": {
          "base_uri": "https://localhost:8080/"
        },
        "id": "Qr8Sd33y5en7",
        "outputId": "03776dd1-bff4-41a4-fdd5-012d768616b1"
      },
      "outputs": [
        {
          "output_type": "stream",
          "name": "stderr",
          "text": [
            "From: Budapest, Hungary - to: Gyor, Hungary\n",
            "INFO:WazeRouteCalculator.WazeRouteCalculator:From: Budapest, Hungary - to: Gyor, Hungary\n",
            "Start coords: (47.467660814, 19.077617881)\n",
            "DEBUG:WazeRouteCalculator.WazeRouteCalculator:Start coords: (47.467660814, 19.077617881)\n",
            "End coords: (47.67936706542969, 17.707035064697266)\n",
            "DEBUG:WazeRouteCalculator.WazeRouteCalculator:End coords: (47.67936706542969, 17.707035064697266)\n",
            "Time 67.15 minutes, distance 118.27 km.\n",
            "INFO:WazeRouteCalculator.WazeRouteCalculator:Time 67.15 minutes, distance 118.27 km.\n"
          ]
        },
        {
          "output_type": "execute_result",
          "data": {
            "text/plain": [
              "(67.15, 118.269)"
            ]
          },
          "metadata": {},
          "execution_count": 8
        }
      ],
      "source": [
        "import WazeRouteCalculator\n",
        "\n",
        "logger = WazeRouteCalculator.logging.getLogger('WazeRouteCalculator.WazeRouteCalculator')\n",
        "logger.setLevel(WazeRouteCalculator.logging.DEBUG)\n",
        "handler = WazeRouteCalculator.logging.StreamHandler()\n",
        "logger.addHandler(handler)\n",
        "\n",
        "from_address = 'Budapest, Hungary'\n",
        "to_address = 'Gyor, Hungary'\n",
        "region = 'EU'\n",
        "route = WazeRouteCalculator.WazeRouteCalculator(from_address, to_address, region)\n",
        "route.calc_route_info()"
      ]
    },
    {
      "cell_type": "markdown",
      "source": [
        "# Take care!"
      ],
      "metadata": {
        "id": "HTW92cqaAL_h"
      }
    },
    {
      "cell_type": "code",
      "source": [
        "from_address = 'São Paulo, Brazil'\n",
        "to_address = 'Franca, Brazil'\n",
        "region = 'EU'\n",
        "route = WazeRouteCalculator.WazeRouteCalculator(from_address, to_address, region)\n",
        "route.calc_route_info()"
      ],
      "metadata": {
        "colab": {
          "base_uri": "https://localhost:8080/"
        },
        "id": "EWxzgEKQ6yBC",
        "outputId": "cd77ee79-b0bf-4b39-ace1-53677f744715"
      },
      "execution_count": 18,
      "outputs": [
        {
          "output_type": "stream",
          "name": "stderr",
          "text": [
            "From: São Paulo, Brazil - to: Franca, Brazil\n",
            "INFO:WazeRouteCalculator.WazeRouteCalculator:From: São Paulo, Brazil - to: Franca, Brazil\n",
            "Start coords: (-3.72414493560791, -38.53307342529297)\n",
            "DEBUG:WazeRouteCalculator.WazeRouteCalculator:Start coords: (-3.72414493560791, -38.53307342529297)\n",
            "End coords: (-3.7933692932128906, -38.446414947509766)\n",
            "DEBUG:WazeRouteCalculator.WazeRouteCalculator:End coords: (-3.7933692932128906, -38.446414947509766)\n",
            "Time 35.63 minutes, distance 18.03 km.\n",
            "INFO:WazeRouteCalculator.WazeRouteCalculator:Time 35.63 minutes, distance 18.03 km.\n"
          ]
        },
        {
          "output_type": "execute_result",
          "data": {
            "text/plain": [
              "(35.63333333333333, 18.034)"
            ]
          },
          "metadata": {},
          "execution_count": 18
        }
      ]
    },
    {
      "cell_type": "markdown",
      "source": [
        "# Corrected Address"
      ],
      "metadata": {
        "id": "o_O2lm1xAOVa"
      }
    },
    {
      "cell_type": "code",
      "source": [
        "from_address = 'R Dr Diogo de Faria, 561 - São Paulo - SP - Brazil '\n",
        "to_address = 'R da Consolação, 930 - São Paulo - SP - Brazil '\n",
        "route = WazeRouteCalculator.WazeRouteCalculator(from_address, to_address)\n",
        "route.calc_route_info()"
      ],
      "metadata": {
        "colab": {
          "base_uri": "https://localhost:8080/"
        },
        "id": "JipmaT1l7nrC",
        "outputId": "83e81dd5-9ada-444d-e880-4b887eef35ff"
      },
      "execution_count": 25,
      "outputs": [
        {
          "output_type": "stream",
          "name": "stderr",
          "text": [
            "From: R Dr Diogo de Faria, 561 - São Paulo - SP - Brazil  - to: R da Consolação, 930 - São Paulo - SP - Brazil \n",
            "INFO:WazeRouteCalculator.WazeRouteCalculator:From: R Dr Diogo de Faria, 561 - São Paulo - SP - Brazil  - to: R da Consolação, 930 - São Paulo - SP - Brazil \n",
            "Start coords: (-23.59583282470703, -46.642337799072266)\n",
            "DEBUG:WazeRouteCalculator.WazeRouteCalculator:Start coords: (-23.59583282470703, -46.642337799072266)\n",
            "End coords: (-23.553598403930664, -46.66063690185547)\n",
            "DEBUG:WazeRouteCalculator.WazeRouteCalculator:End coords: (-23.553598403930664, -46.66063690185547)\n",
            "Time 25.87 minutes, distance 9.78 km.\n",
            "INFO:WazeRouteCalculator.WazeRouteCalculator:Time 25.87 minutes, distance 9.78 km.\n"
          ]
        },
        {
          "output_type": "execute_result",
          "data": {
            "text/plain": [
              "(25.866666666666667, 9.777)"
            ]
          },
          "metadata": {},
          "execution_count": 25
        }
      ]
    },
    {
      "cell_type": "markdown",
      "source": [
        "# All routes"
      ],
      "metadata": {
        "id": "Evh7d7IUAVV6"
      }
    },
    {
      "cell_type": "code",
      "source": [
        "route.calc_all_routes_info()"
      ],
      "metadata": {
        "colab": {
          "base_uri": "https://localhost:8080/"
        },
        "id": "1MnNVnuT-ZH6",
        "outputId": "4220b733-d793-4296-a4f5-7252e1b86816"
      },
      "execution_count": 26,
      "outputs": [
        {
          "output_type": "stream",
          "name": "stderr",
          "text": [
            "Min\tMax\n",
            "25.83\t30.93 minutes\n",
            "7.46\t9.78 km\n",
            "INFO:WazeRouteCalculator.WazeRouteCalculator:Min\tMax\n",
            "25.83\t30.93 minutes\n",
            "7.46\t9.78 km\n"
          ]
        },
        {
          "output_type": "execute_result",
          "data": {
            "text/plain": [
              "{'Best-Av. 23 de Maio São Paulo': (25.833333333333332, 9.777),\n",
              " 'Natural-R. Augusta São Paulo': (30.05, 7.8),\n",
              " 'Natural-Av. Paulista São Paulo': (30.933333333333334, 7.472),\n",
              " 'Natural-Al. Campinas São Paulo': (29.25, 7.768),\n",
              " 'Natural-R. Tutóia São Paulo': (30.2, 7.464),\n",
              " 'Natural-Av. 23 de Maio São Paulo': (30.233333333333334, 7.562),\n",
              " 'Natural-R. São Carlos do Pinhal São Paulo': (30.566666666666666, 7.651)}"
            ]
          },
          "metadata": {},
          "execution_count": 26
        }
      ]
    },
    {
      "cell_type": "markdown",
      "source": [
        "# Mean time versus real time"
      ],
      "metadata": {
        "id": "o8-rbRMsAYKZ"
      }
    },
    {
      "cell_type": "code",
      "source": [
        "route.calc_route_info(real_time=False)"
      ],
      "metadata": {
        "colab": {
          "base_uri": "https://localhost:8080/"
        },
        "id": "V3MRukVp-3rL",
        "outputId": "cb01b7d0-cc33-423f-f7da-e51ed738a8a7"
      },
      "execution_count": 29,
      "outputs": [
        {
          "output_type": "stream",
          "name": "stderr",
          "text": [
            "Time 19.30 minutes, distance 9.78 km.\n",
            "INFO:WazeRouteCalculator.WazeRouteCalculator:Time 19.30 minutes, distance 9.78 km.\n"
          ]
        },
        {
          "output_type": "execute_result",
          "data": {
            "text/plain": [
              "(19.3, 9.777)"
            ]
          },
          "metadata": {},
          "execution_count": 29
        }
      ]
    },
    {
      "cell_type": "code",
      "source": [
        "route.calc_route_info()"
      ],
      "metadata": {
        "colab": {
          "base_uri": "https://localhost:8080/"
        },
        "id": "tWWjY705-8cP",
        "outputId": "06b76346-3cca-4ddb-fa57-0522be6a145b"
      },
      "execution_count": 28,
      "outputs": [
        {
          "output_type": "stream",
          "name": "stderr",
          "text": [
            "Time 25.02 minutes, distance 9.78 km.\n",
            "INFO:WazeRouteCalculator.WazeRouteCalculator:Time 25.02 minutes, distance 9.78 km.\n"
          ]
        },
        {
          "output_type": "execute_result",
          "data": {
            "text/plain": [
              "(25.016666666666666, 9.777)"
            ]
          },
          "metadata": {},
          "execution_count": 28
        }
      ]
    },
    {
      "cell_type": "markdown",
      "source": [
        "# Departure time delay "
      ],
      "metadata": {
        "id": "NkbNIE6AAkBJ"
      }
    },
    {
      "cell_type": "code",
      "source": [
        "route.calc_route_info(time_delta=120)"
      ],
      "metadata": {
        "colab": {
          "base_uri": "https://localhost:8080/"
        },
        "id": "Xbc4srGQ_185",
        "outputId": "5c1d0ebb-a269-49d0-db77-91d09da0c262"
      },
      "execution_count": 30,
      "outputs": [
        {
          "output_type": "stream",
          "name": "stderr",
          "text": [
            "Time 17.22 minutes, distance 9.78 km.\n",
            "INFO:WazeRouteCalculator.WazeRouteCalculator:Time 17.22 minutes, distance 9.78 km.\n"
          ]
        },
        {
          "output_type": "execute_result",
          "data": {
            "text/plain": [
              "(17.216666666666665, 9.777)"
            ]
          },
          "metadata": {},
          "execution_count": 30
        }
      ]
    }
  ]
}