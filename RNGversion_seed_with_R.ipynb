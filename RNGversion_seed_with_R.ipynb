{
  "nbformat": 4,
  "nbformat_minor": 0,
  "metadata": {
    "colab": {
      "name": "RNGversion_seed_with_R.ipynb",
      "provenance": [],
      "authorship_tag": "ABX9TyMXUD+LNVUrWB7+RlK2Lws/",
      "include_colab_link": true
    },
    "kernelspec": {
      "name": "ir",
      "display_name": "R"
    },
    "language_info": {
      "name": "R"
    }
  },
  "cells": [
    {
      "cell_type": "markdown",
      "metadata": {
        "id": "view-in-github",
        "colab_type": "text"
      },
      "source": [
        "<a href=\"https://colab.research.google.com/github/Rogerio-mack/work/blob/main/RNGversion_seed_with_R.ipynb\" target=\"_parent\"><img src=\"https://colab.research.google.com/assets/colab-badge.svg\" alt=\"Open In Colab\"/></a>"
      ]
    },
    {
      "cell_type": "code",
      "metadata": {
        "colab": {
          "base_uri": "https://localhost:8080/",
          "height": 71
        },
        "id": "totXuewLqQUE",
        "outputId": "9ac8b0b9-3571-4369-e7a0-f40d473ba424"
      },
      "source": [
        "RNGversion(\"3.5.2\")\n",
        "set.seed(1987)\n",
        "\n",
        "sample(1:100,10)"
      ],
      "execution_count": 19,
      "outputs": [
        {
          "output_type": "stream",
          "name": "stderr",
          "text": [
            "Warning message in RNGkind(\"Mersenne-Twister\", \"Inversion\", \"Rounding\"):\n",
            "“non-uniform 'Rounding' sampler used”\n"
          ]
        },
        {
          "output_type": "display_data",
          "data": {
            "text/plain": [
              " [1] 10 80 60 38 96 95 36 22 55 32"
            ],
            "text/latex": "\\begin{enumerate*}\n\\item 10\n\\item 80\n\\item 60\n\\item 38\n\\item 96\n\\item 95\n\\item 36\n\\item 22\n\\item 55\n\\item 32\n\\end{enumerate*}\n",
            "text/markdown": "1. 10\n2. 80\n3. 60\n4. 38\n5. 96\n6. 95\n7. 36\n8. 22\n9. 55\n10. 32\n\n\n",
            "text/html": [
              "<style>\n",
              ".list-inline {list-style: none; margin:0; padding: 0}\n",
              ".list-inline>li {display: inline-block}\n",
              ".list-inline>li:not(:last-child)::after {content: \"\\00b7\"; padding: 0 .5ex}\n",
              "</style>\n",
              "<ol class=list-inline><li>10</li><li>80</li><li>60</li><li>38</li><li>96</li><li>95</li><li>36</li><li>22</li><li>55</li><li>32</li></ol>\n"
            ]
          },
          "metadata": {}
        }
      ]
    },
    {
      "cell_type": "code",
      "metadata": {
        "colab": {
          "base_uri": "https://localhost:8080/",
          "height": 35
        },
        "id": "QZGRZtgqn8jq",
        "outputId": "4a3d6155-9a51-4722-a1b0-3a0b598811e7"
      },
      "source": [
        "RNGversion(\"3.6\")\n",
        "set.seed(1987)\n",
        "\n",
        "sample(1:100,10)"
      ],
      "execution_count": 22,
      "outputs": [
        {
          "output_type": "display_data",
          "data": {
            "text/plain": [
              " [1] 73 24 10  2 16  7 21 53 28 27"
            ],
            "text/latex": "\\begin{enumerate*}\n\\item 73\n\\item 24\n\\item 10\n\\item 2\n\\item 16\n\\item 7\n\\item 21\n\\item 53\n\\item 28\n\\item 27\n\\end{enumerate*}\n",
            "text/markdown": "1. 73\n2. 24\n3. 10\n4. 2\n5. 16\n6. 7\n7. 21\n8. 53\n9. 28\n10. 27\n\n\n",
            "text/html": [
              "<style>\n",
              ".list-inline {list-style: none; margin:0; padding: 0}\n",
              ".list-inline>li {display: inline-block}\n",
              ".list-inline>li:not(:last-child)::after {content: \"\\00b7\"; padding: 0 .5ex}\n",
              "</style>\n",
              "<ol class=list-inline><li>73</li><li>24</li><li>10</li><li>2</li><li>16</li><li>7</li><li>21</li><li>53</li><li>28</li><li>27</li></ol>\n"
            ]
          },
          "metadata": {}
        }
      ]
    },
    {
      "cell_type": "code",
      "metadata": {
        "colab": {
          "base_uri": "https://localhost:8080/",
          "height": 105
        },
        "id": "hIVOm8h1rJ8c",
        "outputId": "c34c72b5-36c4-4bc6-b5d4-3de8e86005db"
      },
      "source": [
        "RNGversion(\"3.5.2\")\n",
        "set.seed(1987)\n",
        "sample(1:100,10)\n",
        "\n",
        "set.seed(123)\n",
        "sample(1:100,10)\n",
        "\n",
        "set.seed(1987)\n",
        "sample(1:100,10)"
      ],
      "execution_count": 25,
      "outputs": [
        {
          "output_type": "stream",
          "name": "stderr",
          "text": [
            "Warning message in RNGkind(\"Mersenne-Twister\", \"Inversion\", \"Rounding\"):\n",
            "“non-uniform 'Rounding' sampler used”\n"
          ]
        },
        {
          "output_type": "display_data",
          "data": {
            "text/plain": [
              " [1] 10 80 60 38 96 95 36 22 55 32"
            ],
            "text/latex": "\\begin{enumerate*}\n\\item 10\n\\item 80\n\\item 60\n\\item 38\n\\item 96\n\\item 95\n\\item 36\n\\item 22\n\\item 55\n\\item 32\n\\end{enumerate*}\n",
            "text/markdown": "1. 10\n2. 80\n3. 60\n4. 38\n5. 96\n6. 95\n7. 36\n8. 22\n9. 55\n10. 32\n\n\n",
            "text/html": [
              "<style>\n",
              ".list-inline {list-style: none; margin:0; padding: 0}\n",
              ".list-inline>li {display: inline-block}\n",
              ".list-inline>li:not(:last-child)::after {content: \"\\00b7\"; padding: 0 .5ex}\n",
              "</style>\n",
              "<ol class=list-inline><li>10</li><li>80</li><li>60</li><li>38</li><li>96</li><li>95</li><li>36</li><li>22</li><li>55</li><li>32</li></ol>\n"
            ]
          },
          "metadata": {}
        },
        {
          "output_type": "display_data",
          "data": {
            "text/plain": [
              " [1] 29 79 41 86 91  5 50 83 51 42"
            ],
            "text/latex": "\\begin{enumerate*}\n\\item 29\n\\item 79\n\\item 41\n\\item 86\n\\item 91\n\\item 5\n\\item 50\n\\item 83\n\\item 51\n\\item 42\n\\end{enumerate*}\n",
            "text/markdown": "1. 29\n2. 79\n3. 41\n4. 86\n5. 91\n6. 5\n7. 50\n8. 83\n9. 51\n10. 42\n\n\n",
            "text/html": [
              "<style>\n",
              ".list-inline {list-style: none; margin:0; padding: 0}\n",
              ".list-inline>li {display: inline-block}\n",
              ".list-inline>li:not(:last-child)::after {content: \"\\00b7\"; padding: 0 .5ex}\n",
              "</style>\n",
              "<ol class=list-inline><li>29</li><li>79</li><li>41</li><li>86</li><li>91</li><li>5</li><li>50</li><li>83</li><li>51</li><li>42</li></ol>\n"
            ]
          },
          "metadata": {}
        },
        {
          "output_type": "display_data",
          "data": {
            "text/plain": [
              " [1] 10 80 60 38 96 95 36 22 55 32"
            ],
            "text/latex": "\\begin{enumerate*}\n\\item 10\n\\item 80\n\\item 60\n\\item 38\n\\item 96\n\\item 95\n\\item 36\n\\item 22\n\\item 55\n\\item 32\n\\end{enumerate*}\n",
            "text/markdown": "1. 10\n2. 80\n3. 60\n4. 38\n5. 96\n6. 95\n7. 36\n8. 22\n9. 55\n10. 32\n\n\n",
            "text/html": [
              "<style>\n",
              ".list-inline {list-style: none; margin:0; padding: 0}\n",
              ".list-inline>li {display: inline-block}\n",
              ".list-inline>li:not(:last-child)::after {content: \"\\00b7\"; padding: 0 .5ex}\n",
              "</style>\n",
              "<ol class=list-inline><li>10</li><li>80</li><li>60</li><li>38</li><li>96</li><li>95</li><li>36</li><li>22</li><li>55</li><li>32</li></ol>\n"
            ]
          },
          "metadata": {}
        }
      ]
    }
  ]
}