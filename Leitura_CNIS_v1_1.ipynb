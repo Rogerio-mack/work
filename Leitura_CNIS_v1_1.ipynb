{
  "nbformat": 4,
  "nbformat_minor": 0,
  "metadata": {
    "colab": {
      "name": "Leitura CNIS v1.1.ipynb",
      "provenance": [],
      "collapsed_sections": [],
      "include_colab_link": true
    },
    "kernelspec": {
      "name": "python3",
      "display_name": "Python 3"
    },
    "language_info": {
      "name": "python"
    }
  },
  "cells": [
    {
      "cell_type": "markdown",
      "metadata": {
        "id": "view-in-github",
        "colab_type": "text"
      },
      "source": [
        "<a href=\"https://colab.research.google.com/github/Rogerio-mack/work/blob/main/Leitura_CNIS_v1_1.ipynb\" target=\"_parent\"><img src=\"https://colab.research.google.com/assets/colab-badge.svg\" alt=\"Open In Colab\"/></a>"
      ]
    },
    {
      "cell_type": "code",
      "metadata": {
        "colab": {
          "base_uri": "https://localhost:8080/"
        },
        "id": "4DB0d8rNfrgD",
        "outputId": "2c3b4ac9-40cd-4834-cc4a-c05c41d91300"
      },
      "source": [
        "import re\n",
        "import pandas as pd\n",
        "\n",
        "!pip install pdflib\n",
        "!pip install db-sqlite3\n",
        "\n",
        "from pdflib import Document\n",
        "\n",
        "from google.colab import drive\n",
        "drive.mount('/content/drive')\n",
        "\n",
        "#doc = Document(\"/content/drive/MyDrive/MackPrevIA/Exemplos de CNIS/CNIS-Cristina Mitiyo Maru Inagaki.pdf\")\n",
        "doc = Document(\"/content/CNIS Caio.pdf\")\n"
      ],
      "execution_count": null,
      "outputs": [
        {
          "output_type": "stream",
          "name": "stdout",
          "text": [
            "Requirement already satisfied: pdflib in /usr/local/lib/python3.7/dist-packages (0.3.0)\n",
            "Requirement already satisfied: six in /usr/local/lib/python3.7/dist-packages (from pdflib) (1.15.0)\n",
            "Requirement already satisfied: cython in /usr/local/lib/python3.7/dist-packages (from pdflib) (0.29.24)\n",
            "Requirement already satisfied: lxml in /usr/local/lib/python3.7/dist-packages (from pdflib) (4.2.6)\n",
            "Requirement already satisfied: db-sqlite3 in /usr/local/lib/python3.7/dist-packages (0.0.1)\n",
            "Requirement already satisfied: db in /usr/local/lib/python3.7/dist-packages (from db-sqlite3) (0.1.1)\n",
            "Requirement already satisfied: antiorm in /usr/local/lib/python3.7/dist-packages (from db->db-sqlite3) (1.2.1)\n",
            "Drive already mounted at /content/drive; to attempt to forcibly remount, call drive.mount(\"/content/drive\", force_remount=True).\n"
          ]
        }
      ]
    },
    {
      "cell_type": "markdown",
      "metadata": {
        "id": "gvUJvRBygEse"
      },
      "source": [
        "Informações do Beneficiário"
      ]
    },
    {
      "cell_type": "code",
      "metadata": {
        "id": "WYKg-R_xgHye"
      },
      "source": [
        "def get_client(page): \n",
        "  client = {\n",
        "      \"Nome\": page[5].split(\"Nome: \", 1)[1],\n",
        "      \"NIT\": page[5].split(\"NIT: \", 1)[1][:14],\n",
        "      \"CPF\": page[5].split(\"CPF: \", 1)[1][:14],\n",
        "      \"Nome da mãe\": page[6].split(\"Nome da mãe: \", 1)[1],\n",
        "      \"Data de nascimento\": page[6].split(\"Data de nascimento: \", 1)[1][:10],\n",
        "  }\n",
        "\n",
        "  client = pd.DataFrame.from_records(client, index=[0])\n",
        "  client[\"Data de criação do arquivo\"] = page[3].split(\"Extrato Previdenciário\")[1].strip()\n",
        "  #Helaine e Júlia\n",
        "  # TODO: Após ler o Sexo da tela, inserir o Sexo\n",
        "  #client.insert(0,  \"Sexo\", \"M\")\n",
        "  #client[\"Sexo\"] = client[\"Sexo\"].ffill()\n",
        "\n",
        "  client.head()\n",
        "  return client"
      ],
      "execution_count": null,
      "outputs": []
    },
    {
      "cell_type": "markdown",
      "metadata": {
        "id": "e9IFh6bVgZ1g"
      },
      "source": [
        "Funções Auxiliares\n"
      ]
    },
    {
      "cell_type": "code",
      "metadata": {
        "id": "Aog12TFKgcY2"
      },
      "source": [
        "def check_empty_values(val: list) -> list:\n",
        "    for i in range(5, len(val)):\n",
        "\n",
        "        # Data Fim\n",
        "        if i == 5 and \"/\" not in val[i]:\n",
        "            val.insert(i, None)\n",
        "\n",
        "        # Últ. Remun.\n",
        "        elif i == 7:\n",
        "            if \"/\" not in val[i]:\n",
        "                val.insert(i, None)\n",
        "\n",
        "    # Indicadores e/ou Últ. Remun. se for preciso\n",
        "    while len(val) < 9:\n",
        "        val.append(None)\n",
        "\n",
        "    val.append([])\n",
        "    return val\n",
        "\n",
        "# Substitui espaços em brancos maiores que 1 pelo caracter &\n",
        "def remove_blank_spaces(line: str) -> str:\n",
        "    return re.sub('  +', '&', line)\n",
        "\n",
        "# Retorna o index da coluna dada a palavra\n",
        "def get_colum_index(page: list, var: str) -> int:\n",
        "    for line in page:\n",
        "        if var in line:\n",
        "            return page.index(line)\n",
        "\n",
        "    return -1\n",
        "\n",
        "def check_empty_values_rem(val: list) -> list:\n",
        "\n",
        "    # For loop com entre os valores das remunerações\n",
        "    for index in range(0, 9, 3):\n",
        "\n",
        "        if index < len(val):  # Verificando a existência dos dados\n",
        "\n",
        "            if val[index][2] == '/':  # Verificando a existência da data\n",
        "\n",
        "                if val[index + 1][-3] == ',':  # Verificando a existência da remuneração\n",
        "\n",
        "                    if index + 2 < len(val):  # Verificando a existência dos dados\n",
        "\n",
        "                        if val[index + 2][\n",
        "                                2] == '/':  # Verificando a existência dos indicadores - LBYL\n",
        "                            val.insert(index + 2, None)\n",
        "\n",
        "                    else:  # Inserindo o valor vazio caso os dados sejam inexistentes\n",
        "                        val.append(None)\n",
        "\n",
        "        else:\n",
        "            for i in range(3):\n",
        "                val.append(None)\n",
        "\n",
        "    return val  # Retornando a lista\n",
        "\n",
        "# Função que normaliza o json\n",
        "def rem_list_to_json_normalized(indexes: list, val: list, seq: str) -> list:\n",
        "    rem_dict = {}\n",
        "    rem_list = []\n",
        "\n",
        "    for i in range(0, 9, 3):\n",
        "        if val[i]:\n",
        "            rem_dict = {\n",
        "                index: value\n",
        "                for index, value in zip(indexes[:3], val[i:i + 3])\n",
        "            }\n",
        "            rem_dict[\"Seq.\"] = seq\n",
        "            rem_list.append(rem_dict)\n",
        "\n",
        "    return rem_list\n",
        "\n",
        "# Função para normalizar as remunerações\n",
        "def clean_up_data_normalized(dados: list, linha: list, df_relacao, df_remuneracao) -> None:\n",
        "    global seq, rem_final\n",
        "\n",
        "    line = remove_blank_spaces(linha).split(\"&\")  # Pegando a linha\n",
        "\n",
        "    if line[0].isnumeric(\n",
        "    ):  # Verificando se o primeiro valor da linha é numérico\n",
        "        values: list = check_empty_values(line)\n",
        "        seq = line[0]\n",
        "\n",
        "        result: dict = {index: value for index, value in zip(indexes_rel, values)}\n",
        "        #print(result)\n",
        "        df_relacao.append(pd.DataFrame.from_records(result, index=[0]))\n",
        "\n",
        "    else:\n",
        "        rem: list = check_empty_values_rem(line)\n",
        "        rem_json: list = rem_list_to_json_normalized(indexes_rem, rem, seq)\n",
        "\n",
        "        dfs: list = [pd.DataFrame.from_records(elem, index=[0]) for elem in rem_json]\n",
        "        \n",
        "        df_remuneracao.append(pd.concat(dfs, ignore_index=True))\n",
        "\n",
        "def clean_data(seq, linha, df_remuneracao):\n",
        "\n",
        "  line = remove_blank_spaces(linha).split(\"&\")\n",
        "\n",
        "  if line[0].isnumeric():\n",
        "      seq = line[0]\n",
        "\n",
        "  else:\n",
        "\n",
        "    rem: list = check_empty_values_rem(line)\n",
        "    rem_json: list = rem_list_to_json_normalized(indexes_rem, rem, seq)\n",
        "\n",
        "    dfs: list = [pd.DataFrame.from_records(elem, index=[0]) for elem in rem_json]\n",
        "    \n",
        "    df_remuneracao.append(pd.concat(dfs, ignore_index=True))  \n",
        "\n",
        "  return seq\n"
      ],
      "execution_count": null,
      "outputs": []
    },
    {
      "cell_type": "markdown",
      "metadata": {
        "id": "bCvHDS_kgdxw"
      },
      "source": [
        "Vínculos\n"
      ]
    },
    {
      "cell_type": "code",
      "metadata": {
        "id": "Cxsa00uGgnVX"
      },
      "source": [
        "def get_vinculos(page, client):\n",
        "  global indexes_rel, indexes_rem\n",
        "\n",
        "  # Filtrando Relações Previdenciárias e removendo colunas\n",
        "  rel_prev = [line for line in page if line[0].isnumeric()]\n",
        "\n",
        "  # Pegando colunas Padrões das Relações\n",
        "  colunas = page[get_colum_index(page, \"Seq.\")]\n",
        "  colunas = remove_blank_spaces(colunas)\n",
        "  # colunas = colunas[:len(colunas) - 12] + \"&Indicadores&Remuneracoes\"\n",
        "  colunas = colunas[:len(colunas) - 12] + \"&Indicadores\"  # Versao normalizada\n",
        "  indexes_rel = colunas.split(\"&\")\n",
        "\n",
        "  # Pegando colunas Padrões das Remunerações\n",
        "  colunas = page[get_colum_index(page, \"Competência\")]\n",
        "  colunas = remove_blank_spaces(colunas)\n",
        "  indexes_rem = colunas.split(\"&\")\n",
        "\n",
        "  ult_rel: int = 0\n",
        "  seq: int\n",
        "  rem_final: list = []\n",
        "  df_relacao1: list = []\n",
        "  df_remuneracao: list = []\n",
        "\n",
        "  # Percorrendo lista de relações\n",
        "  for n in range(len(rel_prev)):\n",
        "      clean_up_data_normalized(client, rel_prev[n], df_relacao1, df_remuneracao)\n",
        "\n",
        "  # Alterando as opções do print do Dataframe\n",
        "  pd.set_option(\"display.max_rows\", None, \"display.max_columns\", None)\n",
        "\n",
        "  #print(df_relacao)\n",
        "  df_relacao1 = pd.concat(df_relacao1, ignore_index=True)\n",
        "  df_relacao1.drop_duplicates()\n",
        "\n",
        "  #Helaine e Júlia - definindo o CPF como index de df_relacao\n",
        "  df_relacao1.insert(0, 'CPF', client['CPF'])\n",
        "  df_relacao1[\"CPF\"] = df_relacao1['CPF'].ffill()\n",
        "  df_relacao1=df_relacao1.set_index('CPF')\n",
        "\n",
        "  return df_relacao1\n",
        "\n"
      ],
      "execution_count": null,
      "outputs": []
    },
    {
      "cell_type": "code",
      "metadata": {
        "id": "Ecyvqsa330ZW"
      },
      "source": [
        ""
      ],
      "execution_count": null,
      "outputs": []
    },
    {
      "cell_type": "markdown",
      "metadata": {
        "id": "_a373bjZh0vz"
      },
      "source": [
        "Função para obtenção de remunerações\n"
      ]
    },
    {
      "cell_type": "code",
      "metadata": {
        "id": "Z5_gBbV2h8Lh"
      },
      "source": [
        "def get_rem(page: list) -> pd.DataFrame:\n",
        "    \n",
        "    rel_prev = [line for line in page if line[0].isnumeric()]\n",
        "\n",
        "    colunas = page[get_colum_index(page, \"Competência\")]\n",
        "    colunas = remove_blank_spaces(colunas)\n",
        "    indexes_rem = colunas.split(\"&\")\n",
        "    df_remuneracao: list = []\n",
        "    seq = 0\n",
        "\n",
        "    for n in range(len(rel_prev)):\n",
        "      seq = clean_data(seq, rel_prev[n], df_remuneracao)\n",
        "\n",
        "    df_remuneracao = pd.concat(df_remuneracao, ignore_index=True)\n",
        "\n",
        "    #Helaine e Júlia - Define a coluna Seq. como índice do DataFrame\n",
        "    df_remuneracao = df_remuneracao.set_index('Seq.')\n",
        "\n",
        "    return df_remuneracao"
      ],
      "execution_count": null,
      "outputs": []
    },
    {
      "cell_type": "markdown",
      "metadata": {
        "id": "P_SF1d3cih8K"
      },
      "source": [
        "Obtenção dos Dados para exibição no Front End\n"
      ]
    },
    {
      "cell_type": "code",
      "metadata": {
        "colab": {
          "base_uri": "https://localhost:8080/"
        },
        "id": "O9Bksgfs2ZVH",
        "outputId": "76bdfc4c-0438-4a3a-c1a3-1f5b1c567d29"
      },
      "source": [
        "for pag in range(doc.no_of_pages):\n",
        "    page2 = doc.get_page(pag+1).lines\n",
        "    print(page2)"
      ],
      "execution_count": null,
      "outputs": [
        {
          "output_type": "stream",
          "name": "stdout",
          "text": [
            "['Página 1 de 3', 'INSS - INSTITUTO NACIONAL DO SEGURO SOCIAL', 'CNIS - Cadastro Nacional de Informações Sociais', 'Extrato Previdenciário                                                                        03/05/2021 19:56:50', 'Identificação do Filiado', 'NIT: 212.90749.68-1                             CPF: 448.064.718-01               Nome: CAIO BATISTA MARTINS', 'Data de nascimento: 03/04/1996                                                    Nome da mãe: RENATA BATISTA MARTINS', 'Relações Previdenciárias', 'Seq.         NIT           Código Emp.        Origem do Vínculo                                   Data Início     Data Fim         Tipo Filiado no Vínculo      Últ. Remun. Indicadores', '1    212.90749.68-1   67.185.546/0001-35    CARTORIO DO REG CIVIL PESSOAS NATURAIS 21           02/03/2015     31/08/2017               Empregado               08/2017', 'SUBDISTRITO', 'Remunerações', 'Competência        Remuneração            Indicadores          Competência           Remuneração            Indicadores            Competência            Remuneração     Indicadores', '03/2015              976,65                                      04/2015              1.010,33                                      05/2015                976,65', '06/2015             1.010,33                                     07/2015               993,08                                       08/2015               1.010,33', '09/2015             1.010,33                                     10/2015              1.010,33                                      11/2015               1.062,58', '12/2015             1.016,54                                     01/2016              1.059,92                                      02/2016               1.089,14', '03/2016             1.089,14                                     04/2016              1.452,19                                      05/2016               1.067,89', '06/2016             1.089,14                                     07/2016              1.089,14                                      08/2016               1.089,14', '09/2016             1.016,54                                     10/2016              1.089,14                                      11/2016               1.092,77', '12/2016             1.092,77                                     01/2017              1.150,84                                      02/2017               1.072,78', '03/2017             1.639,17                                     04/2017              1.053,74                                      05/2017                975,69', '06/2017             1.072,78                                     07/2017              1.092,77                                      08/2017                935,72', 'Seq.         NIT           Código Emp.        Origem do Vínculo                                   Data Início     Data Fim         Tipo Filiado no Vínculo      Últ. Remun. Indicadores', '2    212.90749.68-1       48.665.574        CLINICA VETERINARIA E PET SHOP JARDIM MARIA         02/05/2018     01/02/2020               Empregado               02/2020', 'ESTELA LTDA', 'Remunerações', 'Competência        Remuneração            Indicadores          Competência           Remuneração            Indicadores            Competência            Remuneração     Indicadores', '05/2018             1.300,00                                     07/2018              1.300,00                                      09/2018               1.300,00', '10/2018             1.300,00                                     11/2018              1.300,00                                      12/2018               1.300,00', '01/2019             1.300,00                                     02/2019              1.300,00                                      03/2019               1.300,00', '04/2019             1.300,00                                     05/2019              1.300,00                                      06/2019               1.300,00', 'O INSS poderá rever a qualquer tempo as informações constantes deste extrato, conforme art. 19, § 3° do Decreto 3.048/99.']\n",
            "['Página 2 de 3', 'INSS - INSTITUTO NACIONAL DO SEGURO SOCIAL', 'CNIS - Cadastro Nacional de Informações Sociais', 'Extrato Previdenciário                                                                        03/05/2021 19:56:50', 'Identificação do Filiado', 'NIT: 212.90749.68-1                             CPF: 448.064.718-01              Nome: CAIO BATISTA MARTINS', 'Data de nascimento: 03/04/1996                                                   Nome da mãe: RENATA BATISTA MARTINS', 'Relações Previdenciárias', 'Remunerações', 'Competência        Remuneração           Indicadores          Competência           Remuneração             Indicadores           Competência            Remuneração     Indicadores', '07/2019             1.300,00                                    08/2019              1.487,78                                      09/2019               1.545,55', '10/2019             1.300,00                                    11/2019              1.300,00                                      12/2019               1.300,00', '01/2020             1.300,00                                    02/2020                43,33            PREC-MENOR-MIN', 'Seq.          NIT          Código Emp.       Origem do Vínculo                                    Data Início      Data Fim       Tipo Filiado no Vínculo      Últ. Remun. Indicadores', '3    212.90749.68-1     448.727.122-34     JULIA CLAUDIA RODRIGUES DA CUNHA MOTA                03/08/2020                             Empregado', 'Seq.          NIT          Código Emp.       Origem do Vínculo                                    Data Início      Data Fim       Tipo Filiado no Vínculo      Últ. Remun. Indicadores', '4    212.90749.68-1    51.238.51614/09     JULIA CLAUDIA RODRIGUES DA CUNHA MOTA                03/08/2020                             Empregado               04/2021', 'Remunerações', 'Competência        Remuneração           Indicadores          Competência           Remuneração             Indicadores           Competência            Remuneração     Indicadores', '08/2020             1.205,82                                    09/2020              1.247,40                                      10/2020               1.245,09', '11/2020             1.235,21                                    12/2020              1.254,93                                      01/2021               1.365,56', '02/2021             1.614,06                                    03/2021              1.378,52                                      04/2021               1.598,84', 'Legenda de Indicadores', 'Indicador        Descrição                                                                      Indicador          Descrição', 'PREC-MENOR-MIN          Recolhimento abaixo do valor mínimo', 'O INSS poderá rever a qualquer tempo as informações constantes deste extrato, conforme art. 19, § 3° do Decreto 3.048/99.']\n",
            "['Página 3 de 3', 'INSS - INSTITUTO NACIONAL DO SEGURO SOCIAL', 'CNIS - Cadastro Nacional de Informações Sociais', 'Extrato Previdenciário                                                          03/05/2021 19:56:50', 'Identificação do Filiado', 'NIT: 212.90749.68-1                    CPF: 448.064.718-01                Nome: CAIO BATISTA MARTINS', 'Data de nascimento: 03/04/1996                                            Nome da mãe: RENATA BATISTA MARTINS', 'Você pode conferir a autenticidade do documento em', 'https://meu.inss.gov.br/central/#/aberto/autenticidade/', 'com o código 210503Z4EX5X72', 'O INSS poderá rever a qualquer tempo as informações constantes deste extrato, conforme art. 19, § 3° do Decreto 3.048/99.']\n"
          ]
        }
      ]
    },
    {
      "cell_type": "code",
      "metadata": {
        "id": "qmIomrV0ivyL",
        "colab": {
          "base_uri": "https://localhost:8080/"
        },
        "outputId": "770cbe43-1d0e-4798-f826-82f2d8666f7f"
      },
      "source": [
        "def completa_espaços(len_titulo, info):\n",
        "  if len_titulo > 0 and info != None:\n",
        "    qtde_espacos = abs(len_titulo - len(info))\n",
        "    \n",
        "    if qtde_espacos > 0:\n",
        "      for i in range(qtde_espacos-1):\n",
        "        info = info + ' '\n",
        "    return info\n",
        "  return ''\n",
        "\n",
        "\n",
        "def main():\n",
        "  global df_remuneracao\n",
        "  page = doc.get_page(1).lines\n",
        "  #print(page)\n",
        "  #df_remuneracao: list = []\n",
        "  df_relacao = pd.DataFrame()\n",
        "  df_remuneracao = pd.DataFrame()\n",
        "  client = get_client(page)\n",
        "\n",
        "  #ARRUMAR O RANGE DEPOIS (TIRAR O -1)\n",
        "  for pag in range(doc.no_of_pages-1):\n",
        "    print(pag)\n",
        "    page2 = doc.get_page(pag+1).lines\n",
        "\n",
        "    #df_relacao = df_relacao.append(get_vinculos(page2, client, df_remuneracao))\n",
        "    df_relacao_td = get_vinculos(page2, client)\n",
        "    df_relacao = df_relacao.append(df_relacao_td)\n",
        "    #df_remuneracao = pd.concat(df_remuneracao, ignore_index=True)\n",
        "\n",
        "    #print(df_remuneracao)\n",
        "\n",
        "    #df_remuneracao = df_remuneracao.append(get_rem(page2))\n",
        "    df_remuneracao_td = get_rem(page2)\n",
        "    df_remuneracao = df_remuneracao.append(df_remuneracao_td)\n",
        "    #print(df_remuneracao.head(10))\n",
        "\n",
        "  print(\"\\n\")\n",
        "  print(\"RESUMO DO BENEFICIÁRIO\")\n",
        "  print(\"\\nNome do Beneficiário: \", client.get(\"Nome\").values[0])\n",
        "  print(\"NIT: \", client.get(\"NIT\").values[0])\n",
        "  print(\"CPF: \", client.get(\"CPF\").values[0])\n",
        "  print(\"Nome da mãe: \", client.get(\"Nome da mãe\").values[0])\n",
        "  print(\"Data de nascimento: \", client.get(\"Data de nascimento\").values[0])\n",
        "#  print(\"Sexo: \", client.get(\"Sexo\").values[0])\n",
        "  print(\"\\n\\n\")\n",
        "  print(\"RESUMO DOS VÍNCULOS\")\n",
        "  \n",
        "  print(\"\\nCÓDIGO DA EMPRESA\", end='\\t')\n",
        "  print(\"DATA DE INÍCIO NA EMPRESA\", end='\\t')\n",
        "  print(\"DATA FINAL NA EMPRESA\", end='\\t')\n",
        "  print(\"NOME DA EMPRESA\", end='\\t\\t\\t\\t\\t')\n",
        "  print(\"TIPO DE VÍNCULO COM A EMPRESA\", end='\\t')\n",
        "  print(\"DATA DA ÚLTIMA REMUNERAÇÃO\")\n",
        "\n",
        "  cod_empresa = ''\n",
        "  dt_inicio = ''\n",
        "  dt_fim = ''\n",
        "  nome_empresa = ''\n",
        "  tipo_vinculo = ''\n",
        "  dt_ult_remuneracao = ''\n",
        "  totalContrib = 0\n",
        "\n",
        "\n",
        "  for i in range(len(df_relacao)):\n",
        "    cod_empresa = df_relacao.get(\"Código Emp.\").values[i]\n",
        "    cod_empresa = completa_espaços(25, cod_empresa)\n",
        "    print(cod_empresa, end='')\n",
        "    dt_inicio = df_relacao.get(\"Data Início\").values[i]\n",
        "    dt_inicio = completa_espaços(33, dt_inicio)\n",
        "    print(dt_inicio, end='')\n",
        "    dt_fim = df_relacao.get(\"Data Fim\").values[i]\n",
        "    if(dt_fim != None):\n",
        "      dt_fim = completa_espaços(25, dt_fim)\n",
        "      print(dt_fim, end='')\n",
        "    else:\n",
        "      print('\\t\\t\\t', end='')\n",
        "    nome_empresa = df_relacao.get('Origem do Vínculo').values[i]\n",
        "    nome_empresa = completa_espaços(51, nome_empresa)\n",
        "    print(nome_empresa, end='')\n",
        "    tipo_vinculo = df_relacao.get('Tipo Filiado no Vínculo').values[i]\n",
        "    tipo_vinculo = completa_espaços(35, tipo_vinculo)\n",
        "    print(tipo_vinculo, end='')\n",
        "    dt_ult_remuneracao = df_relacao.get('Últ. Remun.').values[i]\n",
        "    dt_ult_remuneracao = completa_espaços(34, dt_ult_remuneracao)\n",
        "    print(dt_ult_remuneracao)\n",
        "  \n",
        "  print(\"\\n\\n\")\n",
        "  print(\"RESUMO DAS CONTRIBUIÇÕES POR EMPRESA\")\n",
        "  \n",
        "  for i in range(len(df_relacao)):\n",
        "    print('____________________________________________________________________________________________')\n",
        "    \n",
        "    nome_empresa = df_relacao.get('Origem do Vínculo').values[i]\n",
        "    nome_empresa = completa_espaços(47, nome_empresa)\n",
        "    print(\"Empresa: \", nome_empresa)\n",
        "    \n",
        "    print('Seq.: ', df_relacao.get('Seq.').values[i])\n",
        "    try:\n",
        "      df_contr_empresa = df_remuneracao.loc[df_relacao.get('Seq.').values[i]]\n",
        "      #print('loc_rem', df_contr_empresa)\n",
        "    except:\n",
        "      df_contr_empresa = pd.DataFrame()\n",
        "\n",
        "#    print(df_relacao.get('Seq.').values[i])\n",
        "    if(len(df_contr_empresa) > 0):\n",
        "      print(\"\\nDATA DA CONTRIBUIÇÃO\", end='\\t')\n",
        "      print(\"VALOR DA CONTRIBUIÇÃO\")\n",
        "      totalContrib+= len(df_contr_empresa)\n",
        "\n",
        "      for j in range(len(df_contr_empresa)):\n",
        "        print(df_contr_empresa.get('Competência').values[j], end='\\t\\t\\t')\n",
        "        print(df_contr_empresa.get('Remuneração').values[j])\n",
        "    \n",
        "    print(\"\\nQUANTIDADE DE CONTRIBUIÇÕES PELA EMPRESA: \", len(df_contr_empresa))\n",
        "    if len(df_contr_empresa) > 0:\n",
        "      print('PERÍODO DAS CONTRIBUIÇÕES: ', df_contr_empresa.get('Competência').values[0], 'a', df_contr_empresa.get('Competência').values[len(df_contr_empresa)-1])\n",
        "\n",
        "  print(\"\\nQUANTIDADE TOTAL DE CONTRIBUIÇÕES: \", totalContrib)\n",
        "\n",
        "main()\n"
      ],
      "execution_count": null,
      "outputs": [
        {
          "output_type": "stream",
          "name": "stdout",
          "text": [
            "0\n",
            "1\n",
            "\n",
            "\n",
            "RESUMO DO BENEFICIÁRIO\n",
            "\n",
            "Nome do Beneficiário:  CAIO BATISTA MARTINS\n",
            "NIT:  212.90749.68-1\n",
            "CPF:  448.064.718-01\n",
            "Nome da mãe:  RENATA BATISTA MARTINS\n",
            "Data de nascimento:  03/04/1996\n",
            "\n",
            "\n",
            "\n",
            "RESUMO DOS VÍNCULOS\n",
            "\n",
            "CÓDIGO DA EMPRESA\tDATA DE INÍCIO NA EMPRESA\tDATA FINAL NA EMPRESA\tNOME DA EMPRESA\t\t\t\t\tTIPO DE VÍNCULO COM A EMPRESA\tDATA DA ÚLTIMA REMUNERAÇÃO\n",
            "67.185.546/0001-35      02/03/2015                      31/08/2017              CARTORIO DO REG CIVIL PESSOAS NATURAIS 21         Empregado                         08/2017                          \n",
            "48.665.574              02/05/2018                      01/02/2020              CLINICA VETERINARIA E PET SHOP JARDIM MARIA       Empregado                         02/2020                          \n",
            "448.727.122-34          03/08/2020                      \t\t\tJULIA CLAUDIA RODRIGUES DA CUNHA MOTA             Empregado                         \n",
            "51.238.51614/09         03/08/2020                      \t\t\tJULIA CLAUDIA RODRIGUES DA CUNHA MOTA             Empregado                         04/2021                          \n",
            "\n",
            "\n",
            "\n",
            "RESUMO DAS CONTRIBUIÇÕES POR EMPRESA\n",
            "____________________________________________________________________________________________\n",
            "Empresa:  CARTORIO DO REG CIVIL PESSOAS NATURAIS 21     \n",
            "Seq.:  1\n",
            "\n",
            "DATA DA CONTRIBUIÇÃO\tVALOR DA CONTRIBUIÇÃO\n",
            "03/2015\t\t\t976,65\n",
            "04/2015\t\t\t1.010,33\n",
            "05/2015\t\t\t976,65\n",
            "06/2015\t\t\t1.010,33\n",
            "07/2015\t\t\t993,08\n",
            "08/2015\t\t\t1.010,33\n",
            "09/2015\t\t\t1.010,33\n",
            "10/2015\t\t\t1.010,33\n",
            "11/2015\t\t\t1.062,58\n",
            "12/2015\t\t\t1.016,54\n",
            "01/2016\t\t\t1.059,92\n",
            "02/2016\t\t\t1.089,14\n",
            "03/2016\t\t\t1.089,14\n",
            "04/2016\t\t\t1.452,19\n",
            "05/2016\t\t\t1.067,89\n",
            "06/2016\t\t\t1.089,14\n",
            "07/2016\t\t\t1.089,14\n",
            "08/2016\t\t\t1.089,14\n",
            "09/2016\t\t\t1.016,54\n",
            "10/2016\t\t\t1.089,14\n",
            "11/2016\t\t\t1.092,77\n",
            "12/2016\t\t\t1.092,77\n",
            "01/2017\t\t\t1.150,84\n",
            "02/2017\t\t\t1.072,78\n",
            "03/2017\t\t\t1.639,17\n",
            "04/2017\t\t\t1.053,74\n",
            "05/2017\t\t\t975,69\n",
            "06/2017\t\t\t1.072,78\n",
            "07/2017\t\t\t1.092,77\n",
            "08/2017\t\t\t935,72\n",
            "\n",
            "QUANTIDADE DE CONTRIBUIÇÕES PELA EMPRESA:  30\n",
            "PERÍODO DAS CONTRIBUIÇÕES:  03/2015 a 08/2017\n",
            "____________________________________________________________________________________________\n",
            "Empresa:  CLINICA VETERINARIA E PET SHOP JARDIM MARIA   \n",
            "Seq.:  2\n",
            "\n",
            "DATA DA CONTRIBUIÇÃO\tVALOR DA CONTRIBUIÇÃO\n",
            "05/2018\t\t\t1.300,00\n",
            "07/2018\t\t\t1.300,00\n",
            "09/2018\t\t\t1.300,00\n",
            "10/2018\t\t\t1.300,00\n",
            "11/2018\t\t\t1.300,00\n",
            "12/2018\t\t\t1.300,00\n",
            "01/2019\t\t\t1.300,00\n",
            "02/2019\t\t\t1.300,00\n",
            "03/2019\t\t\t1.300,00\n",
            "04/2019\t\t\t1.300,00\n",
            "05/2019\t\t\t1.300,00\n",
            "06/2019\t\t\t1.300,00\n",
            "\n",
            "QUANTIDADE DE CONTRIBUIÇÕES PELA EMPRESA:  12\n",
            "PERÍODO DAS CONTRIBUIÇÕES:  05/2018 a 06/2019\n",
            "____________________________________________________________________________________________\n",
            "Empresa:  JULIA CLAUDIA RODRIGUES DA CUNHA MOTA         \n",
            "Seq.:  3\n",
            "\n",
            "QUANTIDADE DE CONTRIBUIÇÕES PELA EMPRESA:  0\n",
            "____________________________________________________________________________________________\n",
            "Empresa:  JULIA CLAUDIA RODRIGUES DA CUNHA MOTA         \n",
            "Seq.:  4\n",
            "\n",
            "DATA DA CONTRIBUIÇÃO\tVALOR DA CONTRIBUIÇÃO\n",
            "08/2020\t\t\t1.205,82\n",
            "09/2020\t\t\t1.247,40\n",
            "10/2020\t\t\t1.245,09\n",
            "11/2020\t\t\t1.235,21\n",
            "12/2020\t\t\t1.254,93\n",
            "01/2021\t\t\t1.365,56\n",
            "02/2021\t\t\t1.614,06\n",
            "03/2021\t\t\t1.378,52\n",
            "04/2021\t\t\t1.598,84\n",
            "\n",
            "QUANTIDADE DE CONTRIBUIÇÕES PELA EMPRESA:  9\n",
            "PERÍODO DAS CONTRIBUIÇÕES:  08/2020 a 04/2021\n",
            "\n",
            "QUANTIDADE TOTAL DE CONTRIBUIÇÕES:  51\n"
          ]
        }
      ]
    },
    {
      "cell_type": "code",
      "metadata": {
        "id": "5FOErLI77bPe"
      },
      "source": [
        ""
      ],
      "execution_count": null,
      "outputs": []
    },
    {
      "cell_type": "code",
      "metadata": {
        "id": "XpCHX4aS4Xva"
      },
      "source": [
        ""
      ],
      "execution_count": null,
      "outputs": []
    }
  ]
}