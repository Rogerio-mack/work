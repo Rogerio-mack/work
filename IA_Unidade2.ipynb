{
  "nbformat": 4,
  "nbformat_minor": 0,
  "metadata": {
    "colab": {
      "name": "IA_Unidade2.ipynb",
      "provenance": [],
      "authorship_tag": "ABX9TyNPs2P5OlQYxuUdybRRUGVI",
      "include_colab_link": true
    },
    "kernelspec": {
      "name": "python3",
      "display_name": "Python 3"
    },
    "language_info": {
      "name": "python"
    }
  },
  "cells": [
    {
      "cell_type": "markdown",
      "metadata": {
        "id": "view-in-github",
        "colab_type": "text"
      },
      "source": [
        "<a href=\"https://colab.research.google.com/github/Rogerio-mack/work/blob/main/IA_Unidade2.ipynb\" target=\"_parent\"><img src=\"https://colab.research.google.com/assets/colab-badge.svg\" alt=\"Open In Colab\"/></a>"
      ]
    },
    {
      "cell_type": "markdown",
      "metadata": {
        "id": "pqEhMdFQO3A-"
      },
      "source": [
        "<head>\n",
        "  <meta name=\"author\" content=\"Rogério de Oliveira\">\n",
        "  <meta institution=\"author\" content=\"Universidade Presbiteriana Mackenzie\">\n",
        "</head>\n",
        "\n",
        "<img src=\"http://meusite.mackenzie.br/rogerio/mackenzie_logo/UPM.2_horizontal_vermelho.jpg\" width=300, align=\"right\"> \n",
        "\n",
        "<br>\n",
        "<br>\n",
        "\n",
        "# Inteligência Artificial\n",
        "---\n"
      ]
    },
    {
      "cell_type": "markdown",
      "metadata": {
        "id": "kr1fujh4WCAH"
      },
      "source": [
        "# Redes Neurais"
      ]
    },
    {
      "cell_type": "markdown",
      "metadata": {
        "id": "8ImipqFjCFrt"
      },
      "source": [
        "## Modelo de Neurônio Artificial\n",
        "\n",
        "Sobre o trabalho de McCulloch-Pitts, o psicólogo Frank Rosenblatt concebeu em 1957 o Perceptron, um modelo matemático bastante simplificado de um neurônio biológico. Esse modelo é basicamente o mesmo empregado até hoje nos modelos neurais e mesmo redes neurais profundas.\n",
        "\n",
        "<figure>\n",
        "<br>\n",
        "<img src=\"http://meusite.mackenzie.br/rogerio/Deep_Learning/DL_01_perceptron.png\" width=500, align=\"center\">\n",
        "<br>\n",
        "<br>\n",
        "<figcaption><b>Modelo Perceptron de Neurônio Artificial.</b></figcaption>\n",
        "</figure>"
      ]
    },
    {
      "cell_type": "markdown",
      "metadata": {
        "id": "Kps6e_v3WzPY"
      },
      "source": [
        "## Aprendizado do Neurônio Artificial\n",
        "\n",
        "No Perceptron, os pesos nas entradas do neurônio permitiram um esquema de aprendizagem bastante simples e intuitivo: dado um conjunto de treinamento de exemplos de entrada-saída (uma função), o Perceptron deveria aprender a função a partir do ajuste dos pesos das entradas. Para cada elemento do conjunto de treinamento, o Perceptron aumentaria os pesos se a saída do Perceptron para a entrada fosse muito baixa em comparação à saída desse elemento, e diminuiria os pesos se a saída fosse muito alta. Mais formalmente o algoritmo seria:\n",
        "\n",
        "```\n",
        "1.\tComece com um Perceptron com pesos arbitrários e um conjunto de treinamento\n",
        "2.\tPara cada entrada do conjunto de treinamento, calcule a saída do Perceptron\n",
        "3.\tSe a saída do Perceptron é diferente da saída conhecida, então: \n",
        "4.\tSe a saída é maior, diminua os pesos\n",
        "5.\tSe a saída é menor, aumente os pesos \n",
        "6.\tVá para o próximo elemento e repita 2-4 até o Perceptron não cometer mais erros \n",
        "\n",
        "```\n",
        "\n",
        "Essa é uma ideia bastante simples. mas bastante influente de como se dá o aprendizado e, até hoje, o aprendizado se dá basicamente desse modo, mesmo nas redes profundas mais complexas. "
      ]
    },
    {
      "cell_type": "markdown",
      "metadata": {
        "id": "rEiqsMm6GwwQ"
      },
      "source": [
        "# Aprendizado Supervisionado \n",
        "\n",
        "A forma mais clássica de uso de modelos neurais é para o Aprendizado Supervisionado. Um conjunto de *treinamento*, permite que rede aprenda o mapeamento entre as entradas e a saída.\n",
        "\n",
        "<br>\n",
        "<img src=\"http://meusite.mackenzie.br/rogerio/TIC2021S1$/T1/ML.png\" width=500, align=\"center\">\n",
        "<br>\n",
        "<h8 align=\"center\">\n",
        "Vasant Dhar. Data Science and Prediction (ACM 2013)</h8>\n",
        "<br>"
      ]
    },
    {
      "cell_type": "markdown",
      "metadata": {
        "id": "EjY4mt9nYEjS"
      },
      "source": [
        "## Histórico \n",
        "\n",
        "<figure>\n",
        "<br>\n",
        "<img src=\"http://meusite.mackenzie.br/rogerio/Deep_Learning/DL_01_history.png\" width=900, align=\"center\">\n",
        "<br>\n",
        "<br>\n",
        "<figcaption><b>Timeline das Redes Neurais.</b></figcaption>\n",
        "</figure>\n"
      ]
    },
    {
      "cell_type": "markdown",
      "metadata": {
        "_uuid": "9dd9e07c590ca22f0c525222f60f0ebff4e092c6",
        "id": "HpKAvplIAYQ3"
      },
      "source": [
        "## Neurônio Artificial: Perceptron\n",
        " \n",
        "Um neurônio artificial nada mais é do que um artefato de software que faz uma combinação linear das entradas e aplica uma **função de ativação** como a função $sign$, $tanh$ ou $relu$ para produzir uma saída.\n",
        "\n",
        "$$ f(X) = sign( w_0 + w_1 x_1 + ... + w_n x_n ) $$\n",
        "\n",
        "O treinamento do neurônio é feito ajustando-se os pesos $w_n$ de acordo com o erro de predição obtido para se estimar a saída $f(X) \\cong y$.\n",
        "\n",
        "$$ \\min_{W} \\sum || f(X)- y || $$\n",
        "\n",
        "Você pode, então, entender o aprendizado de um neurônio como um **problema de otimização**.\n"
      ]
    },
    {
      "cell_type": "markdown",
      "metadata": {
        "id": "F1FHrlVuZ1WR"
      },
      "source": [
        "## Funções de Ativação\n",
        "Quaisquer combinações de operadores lineares são também lineares. Desse modo, sem uma função de ativação, as redes neurais somente poderiam solucionar problemas linearmente separáveis e seriam, portanto, equivalentes a um modelo de regressão linear. As funções de ativação são uma escolha importante na arquitetura de uma rede neural, pois facilitam a modelagem de relações mais complexas e são, ao final, elas que permitem que uma rede neural seja um aproximador universal de funções.\n",
        "\n",
        "$$ f(x) = \\frac{1}{(1 + e^{-x})} \\quad \\textrm{, Logistic } $$ \n",
        "\n",
        "$$ f(x) = \\frac{e^{x} - e^{-x}}{e^{x} + e^{-x}}\\quad \\textrm{, Tanh} $$ \n",
        "\n",
        "$$ f(x) = max(0,x) \\quad \\textrm{, ReLu} $$ \n",
        "\n",
        "$$ f(x) = log(1 + e^{x}) \\quad \\textrm{, Softplus} $$ "
      ]
    },
    {
      "cell_type": "code",
      "metadata": {
        "colab": {
          "base_uri": "https://localhost:8080/",
          "height": 625
        },
        "id": "yJRQxZ_zaGkr",
        "outputId": "29161efe-5b43-4043-ae34-60a1018446d9"
      },
      "source": [
        "import numpy as np\n",
        "import matplotlib.pyplot as plt\n",
        "%matplotlib inline\n",
        "\n",
        "plt.figure(figsize=(12,8))\n",
        "plt.suptitle('Funções de Ativação', fontsize=14, weight='bold', y=1.05)\n",
        "\n",
        "x = np.arange(-5, 5, 0.01)\n",
        "y = 1 / (1 + np.exp(-x))\n",
        "plt.subplot(2,2,1)\n",
        "plt.plot(x,y)\n",
        "plt.title('Logistic', fontsize=14, weight='bold')\n",
        "# plt.xlabel('Input')\n",
        "plt.ylabel('Output')\n",
        "\n",
        "y = np.tanh(x)\n",
        "plt.subplot(2,2,2)\n",
        "plt.plot(x,y)\n",
        "plt.title('Tanh ', fontsize=14, weight='bold')\n",
        "# plt.xlabel('Input')\n",
        "plt.ylabel('Output')\n",
        "\n",
        "z = np.zeros(len(x))\n",
        "y = np.maximum(z,x)\n",
        "plt.subplot(2,2,3)\n",
        "plt.plot(x,y)\n",
        "plt.title('ReLU ', fontsize=14, weight='bold')\n",
        "plt.xlabel('Input')\n",
        "# plt.ylabel('Output');\n",
        "\n",
        "y = np.log(1+np.exp(x))\n",
        "plt.subplot(2,2,4)\n",
        "plt.plot(x,y)\n",
        "plt.title('Softplus ', fontsize=14, weight='bold')\n",
        "plt.xlabel('Input')\n",
        "# plt.ylabel('Output');\n",
        "\n",
        "plt.tight_layout()\n",
        "plt.show()\n",
        "\n"
      ],
      "execution_count": null,
      "outputs": [
        {
          "output_type": "display_data",
          "data": {
            "image/png": "[encoded data removed]",
            "text/plain": [
              "<Figure size 864x576 with 4 Axes>"
            ]
          },
          "metadata": {
            "tags": [],
            "needs_background": "light"
          }
        }
      ]
    },
    {
      "cell_type": "markdown",
      "metadata": {
        "_uuid": "9dd9e07c590ca22f0c525222f60f0ebff4e092c6",
        "id": "9iqLZxRqnXbI"
      },
      "source": [
        "## Aprendizado do Perceptron **AND**, **OR**, **XOR**\n",
        " \n",
        "Aqui empregamos o [Perceptron Learning Rule](https://en.wikipedia.org/wiki/Perceptron) para o aprendizado das funções `AND` e `OR`. O aprendizado falha para a função `XOR`, pois ela não é linearmente separável.\n",
        "\n",
        "Perceptron Learning Rule:\n",
        "\n",
        "$$ w_i(t+1) = w_i(t) + \\eta (y_j - \\tilde{y}_j(t) ) x_{j,i} \\ $$\n",
        "\n",
        "onde $\\eta$ é a taxa de aprendizado, $i$ são índices das diferentes *features* (atributos) e *j* das diferentes instâncias de pares $(X,y)$. O procedimento é repedido por $n$ épocas (iterações) ao até o erro atingir um determinado threshold $\\epsilon$.\n",
        "\n",
        "$$\\frac{1}{s} \\sum_{j=1}^{s} |y_j - \\tilde{y}_j(t)| \\le \\epsilon $$ \n",
        "\n",
        "\n",
        "\n"
      ]
    },
    {
      "cell_type": "code",
      "metadata": {
        "id": "WwEVMZv41y9D",
        "colab": {
          "base_uri": "https://localhost:8080/",
          "height": 1000
        },
        "outputId": "4c1abb6d-b1df-4037-92e2-4b8cb7271147"
      },
      "source": [
        "import numpy as np\n",
        "import matplotlib.pyplot as plt\n",
        "import seaborn as sns\n",
        "\n",
        "def train_perceptron(learn = 'AND', epochs = 500, learning_rate = 0.2, threshold = 1e-3):\n",
        "\n",
        "  X = np.matrix([ [0,0], [1,0], [0,1], [1,1] ])\n",
        "  learn_f = { 'AND':[-1, -1, -1, 1], 'OR':[-1, 1, 1, 1], 'XOR':[-1, 1, 1, -1] }\n",
        "  y = np.array( learn_f[learn] )\n",
        "\n",
        "  W = np.random.rand(3)\n",
        "\n",
        "  y_pred = np.zeros([4])\n",
        "\n",
        "  error_hist = []\n",
        "\n",
        "  for epoch in range(epochs):\n",
        "    for i in range(np.shape(X)[0]):\n",
        "      y_pred[i] = np.tanh(W[0]*X[i,0] + W[1]*X[i,1] + W[2])\n",
        "\n",
        "    error = 0\n",
        "    for i in range(np.shape(y)[0]):\n",
        "      error = error + np.abs(y[i] - y_pred[i])\n",
        "    error = error / np.shape(y)[0]  #  erro médio\n",
        "\n",
        "    error_hist.append(error)\n",
        "    if error <= threshold: break \n",
        "\n",
        "    for i in range(np.shape(X)[0]):\n",
        "      W[0] = W[0] + learning_rate * (y[i] - y_pred[i]) * X[i,0]\n",
        "      W[1] = W[1] + learning_rate * (y[i] - y_pred[i]) * X[i,1]\n",
        "      W[2] = W[2] + learning_rate * (y[i] - y_pred[i]) \n",
        "\n",
        "  return W, error_hist, y_pred\n",
        "\n",
        "\n",
        "for funcao in ['AND','OR','XOR']:\n",
        "  \n",
        "  W, error_hist, y_pred = train_perceptron(funcao)\n",
        "  # W, error_hist, y_pred = train_perceptron(funcao, 20000)\n",
        "\n",
        "  sns.lineplot(x=range(len(error_hist)),y=error_hist)\n",
        "  plt.title('Training Error for ' + funcao + ' function' )\n",
        "  plt.show()\n",
        "\n",
        "  print(f'Error: \\t\\t\\t {error_hist[len(error_hist)-1] :0.3f}')\n",
        "  print(f'Epochs: \\t\\t {len(error_hist)}')\n",
        "  print(f'Predict: \\t\\t {y_pred}')\n",
        "  print(f'Predict Round: \\t\\t {np.round(y_pred)}')\n",
        "  print(f'Pesos: \\t\\t\\t {W}')\n",
        "\n"
      ],
      "execution_count": null,
      "outputs": [
        {
          "output_type": "display_data",
          "data": {
            "image/png": "[encoded data removed]",
            "text/plain": [
              "<Figure size 432x288 with 1 Axes>"
            ]
          },
          "metadata": {
            "tags": [],
            "needs_background": "light"
          }
        },
        {
          "output_type": "stream",
          "text": [
            "Error: \t\t\t 0.022\n",
            "Epochs: \t\t 500\n",
            "Predict: \t\t [-0.99999406 -0.97467762 -0.97467762  0.96454078]\n",
            "Predict Round: \t\t [-1. -1. -1.  1.]\n",
            "Pesos: \t\t\t [ 4.18757856  4.18757854 -6.36682542]\n"
          ],
          "name": "stdout"
        },
        {
          "output_type": "display_data",
          "data": {
            "image/png": "[encoded data removed]",
            "text/plain": [
              "<Figure size 432x288 with 1 Axes>"
            ]
          },
          "metadata": {
            "tags": [],
            "needs_background": "light"
          }
        },
        {
          "output_type": "stream",
          "text": [
            "Error: \t\t\t 0.011\n",
            "Epochs: \t\t 500\n",
            "Predict: \t\t [-0.97474607  0.98990911  0.98990589  0.99999934]\n",
            "Predict Round: \t\t [-1.  1.  1.  1.]\n",
            "Pesos: \t\t\t [ 4.82373046  4.8235707  -2.18062026]\n"
          ],
          "name": "stdout"
        },
        {
          "output_type": "display_data",
          "data": {
            "image/png": "[encoded data removed]",
            "text/plain": [
              "<Figure size 432x288 with 1 Axes>"
            ]
          },
          "metadata": {
            "tags": [],
            "needs_background": "light"
          }
        },
        {
          "output_type": "stream",
          "text": [
            "Error: \t\t\t 1.000\n",
            "Epochs: \t\t 500\n",
            "Predict: \t\t [-5.55111512e-17  2.77555756e-17  2.77555756e-17  1.11022302e-16]\n",
            "Predict Round: \t\t [-0.  0.  0.  0.]\n",
            "Pesos: \t\t\t [ 8.32667268e-17  8.32667268e-17 -5.55111512e-17]\n"
          ],
          "name": "stdout"
        }
      ]
    },
    {
      "cell_type": "markdown",
      "metadata": {
        "id": "HsPn5sjStnpn"
      },
      "source": [
        "## `scikit-learn` Perceptron\n",
        "\n",
        "Acima desenvolvemos o aprendizado do Perceptron *by scratch* (do zero). Mas talvez interesse a você empregar a classe Perceptron do pacote `scikit-Learn`. O resultado será o mesmo do modelo acima.\n",
        "\n",
        "A classe `Perceptron` encontra-se no `scikit-learn` dentro dos Classificadores lineares (SVM, regressão logística, etc.) que são treinados por métodos de gradiente descendente que você verá a seguir.\n",
        "\n",
        "O uso da classe `Perceptron` segue de perto o esquema de muitos outros classificadores (como SVM, regressão logística e árvores de decisão). \n",
        "Podemos sumarizar esses passos em:\n",
        "\n",
        "1. Define Model `m`\n",
        "3. Train Model `m.fit(X,y)`\n",
        "4. Predict Model `m.predict(X_test)`\n",
        "5. Check results `m.score(X,y)`\n",
        "\n",
        "Onde `X` e `y` são as variáveis do conjunto de treinamento e `X_test` as entradas que desejamos fazer a predição. Confortável com esse modelo? Esse esquema será bastante empregado na construção dos nossos modelos.\n",
        "\n",
        "\n"
      ]
    },
    {
      "cell_type": "code",
      "metadata": {
        "colab": {
          "base_uri": "https://localhost:8080/"
        },
        "id": "3MTkcqV_r2zI",
        "outputId": "f787ab04-c474-4af0-a58e-d9a39da93150"
      },
      "source": [
        "from sklearn.linear_model import Perceptron\n",
        "\n",
        "X = [[0., 0.], [0., 1.], [1., 0.], [1., 1.]]\n",
        "\n",
        "for f, y in { 'AND':[0, 0, 0, 1], 'OR':[0, 1, 1, 1], 'XOR':[0, 1, 1, 0] }.items():\n",
        "  \n",
        "  print('\\n Função: ', f); print(80*'-')\n",
        "\n",
        "  ppn = Perceptron(max_iter=40, eta0=0.1, random_state=1234)\n",
        "  print(ppn)\n",
        "  ppn.fit(X, y)    \n",
        " \n",
        "  y_pred = ppn.predict([[0, 0], [0, 1], [1, 0], [1, 1]])\n",
        "  print(y_pred)\n",
        " \n",
        "  print(ppn.score(X,y))\n",
        "\n"
      ],
      "execution_count": null,
      "outputs": [
        {
          "output_type": "stream",
          "text": [
            "\n",
            " Função:  AND\n",
            "--------------------------------------------------------------------------------\n",
            "Perceptron(alpha=0.0001, class_weight=None, early_stopping=False, eta0=0.1,\n",
            "           fit_intercept=True, max_iter=40, n_iter_no_change=5, n_jobs=None,\n",
            "           penalty=None, random_state=1234, shuffle=True, tol=0.001,\n",
            "           validation_fraction=0.1, verbose=0, warm_start=False)\n",
            "[0 0 0 1]\n",
            "1.0\n",
            "\n",
            " Função:  OR\n",
            "--------------------------------------------------------------------------------\n",
            "Perceptron(alpha=0.0001, class_weight=None, early_stopping=False, eta0=0.1,\n",
            "           fit_intercept=True, max_iter=40, n_iter_no_change=5, n_jobs=None,\n",
            "           penalty=None, random_state=1234, shuffle=True, tol=0.001,\n",
            "           validation_fraction=0.1, verbose=0, warm_start=False)\n",
            "[0 1 1 1]\n",
            "1.0\n",
            "\n",
            " Função:  XOR\n",
            "--------------------------------------------------------------------------------\n",
            "Perceptron(alpha=0.0001, class_weight=None, early_stopping=False, eta0=0.1,\n",
            "           fit_intercept=True, max_iter=40, n_iter_no_change=5, n_jobs=None,\n",
            "           penalty=None, random_state=1234, shuffle=True, tol=0.001,\n",
            "           validation_fraction=0.1, verbose=0, warm_start=False)\n",
            "[0 0 0 0]\n",
            "0.5\n"
          ],
          "name": "stdout"
        }
      ]
    },
    {
      "cell_type": "markdown",
      "metadata": {
        "id": "0zypweTbwKKJ"
      },
      "source": [
        "## Experimentando Redes Neurais *sem programação*\n",
        "\n"
      ]
    },
    {
      "cell_type": "code",
      "metadata": {
        "colab": {
          "base_uri": "https://localhost:8080/",
          "height": 621
        },
        "id": "_8B-QHiawu4p",
        "outputId": "bb576af6-57d5-426b-c5da-0e725bab72bf"
      },
      "source": [
        "from IPython.display import IFrame\n",
        "IFrame('https://playground.tensorflow.org/', width='100%', height=600, style=\"-webkit-transform:scale(0.1);-moz-transform-scale(0.1);\")"
      ],
      "execution_count": null,
      "outputs": [
        {
          "output_type": "execute_result",
          "data": {
            "text/html": [
              "\n",
              "        <iframe\n",
              "            width=\"100%\"\n",
              "            height=\"600\"\n",
              "            src=\"https://playground.tensorflow.org/?style=-webkit-transform%3Ascale%280.1%29%3B-moz-transform-scale%280.1%29%3B\"\n",
              "            frameborder=\"0\"\n",
              "            allowfullscreen\n",
              "        ></iframe>\n",
              "        "
            ],
            "text/plain": [
              "<IPython.lib.display.IFrame at 0x7f5762665f90>"
            ]
          },
          "metadata": {
            "tags": []
          },
          "execution_count": 4
        }
      ]
    },
    {
      "cell_type": "markdown",
      "metadata": {
        "id": "gSFl3l-d4T1k"
      },
      "source": [
        "## Multilayer Perceptron, redes multicamada\n",
        "\n",
        "Como você viu os perceptrons podem ser conectados, a saída de um sendo a entrada de outros elementos, de modo a formar da rede neural em camadas.\n",
        "\n",
        "As camadas externas são as camadas de entrada e saída da rede. As camadas internas são as camadas de ocultas (hidden) da rede. As redes podem ter diferentes configurações com diferentes números de entradas, saídas e número de camadas. \n",
        "\n",
        ">>> *As redes podem ter diferentes configurações com diferentes números de entradas, saídas e número de camadas.* \n",
        "\n",
        "Essas redes são conhecidas também como feed-forward ou, mais modernamente, como modelos sequenciais. As entradas são processadas em sequência, uma camada após a outra. \n",
        "\n",
        "O problema é que o modelo de aprendizado do perceptron não pode mais ser aplicado diretamente a uma rede multicamada. \n",
        "\n",
        "\n",
        "<figure>\n",
        "<br>\n",
        "<img src=\"http://meusite.mackenzie.br/rogerio/Deep_Learning/DL_01_multilayer.png\" width=400, align=\"center\">\n",
        "<br>\n",
        "<br>\n",
        "<figcaption><b>Rede de Neurônicos Multicamada.</b></figcaption>\n",
        "</figure>\n",
        "\n",
        "\n"
      ]
    },
    {
      "cell_type": "markdown",
      "metadata": {
        "id": "LFvFWN8C4edo"
      },
      "source": [
        "## Backpropagation\n",
        "\n",
        "Embora a ideia seja a mesma, o ajuste dos pesos para treinamento de uma rede multicamada difere bastante do ajuste dos pesos de um único perceptron e você deve notar que o ajuste terá magnitudes diferentes em cada camada. \n",
        "\n",
        "Aqui será útil empregarmos uma simplificação. Vamos supor uma rede de duas camadas definida pelas funções: \n",
        "\n",
        "$$ x \\rightarrow  w_1 x = z \\rightarrow  w_2  z^2  = y $$\n",
        "\n",
        "Essas não são a função do perceptron, mas servem para ilustrar o procedimento. \n",
        "\n",
        "A primeira camada calcula  $w_1 x = z$ , e esse valor é a entrada para um novo cálculo e fornece a saída final  $w_2 z^2  = y$. É claro que ao final $y = w_2 ( w_1 x )^2$,  ou ainda $y = w_2 w_1^2 x^2$ , mas o processamento da rede é em camadas e a operação em cada uma delas, feita separadamente. Isso é importante para o ajuste dos pesos. Essas camadas e o ajustes *retropagados* encontram-se representados abaixo.\n",
        "\n",
        "\n",
        "<figure>\n",
        "<br>\n",
        "<img src=\"http://meusite.mackenzie.br/rogerio/Deep_Learning/DL_01_backpropagation.png\" width=500, align=\"center\">\n",
        "<br>\n",
        "<br>\n",
        "<figcaption><b>Esquema do aprendizado da rede: retropropagação do erro.</b></figcaption>\n",
        "</figure>\n"
      ]
    },
    {
      "cell_type": "markdown",
      "metadata": {
        "id": "ofNcGHA4WdiC"
      },
      "source": [
        "# Métodos de Busca\n",
        "\n"
      ]
    },
    {
      "cell_type": "markdown",
      "metadata": {
        "id": "CCEZvyxJa1_R"
      },
      "source": [
        "# State Space Search\n",
        "\n",
        "<br>\n",
        "<br>\n",
        "<img src=\"http://meusite.mackenzie.br/rogerio/StateSpaceSearch.gif\" width=500, align=\"center\">\n",
        "<br>\n",
        "<br>\n",
        "\n"
      ]
    },
    {
      "cell_type": "markdown",
      "metadata": {
        "id": "wOJZWIhkd0ox"
      },
      "source": [
        "É uma tupla ($S$, $A$, $Action(s)$, $Result(s,a)$, $Custo(s,a)$):\n",
        "\n",
        "1. $S$ é o conjunto de todos os estados possíveis;\n",
        "2. $A$ é o conjunto de ações possíveis, não relacionadas a um estado particular, mas em relação a todo o espaço de estados;\n",
        "3. $Action(s)$ é a função que estabelece qual ação é possível realizar em um determinado estado;\n",
        "4. $Result(s, a)$ é a função que retorna o estado alcançado realizando a ação a no estado s\n",
        "5. $Custo(s, a)$ é o custo de realização de uma ação"
      ]
    },
    {
      "cell_type": "markdown",
      "metadata": {
        "id": "rmGdGvc9Zqch"
      },
      "source": [
        "# Algoritmos de Busca\n",
        "\n",
        "* Uninformed search algorithms: \n",
        "\n",
        "  * Breadth First Search\n",
        "  * Depth First Search\n",
        "  * Depth Limited Search\n",
        "  * Iterative Deepening Search\n",
        "\n",
        "* Informed search algorithms\n",
        "\n",
        "  * Best First Search\n",
        "  * Uniform Cost Search\n",
        "  * A* Search\n",
        "  * Recursive Best First Search"
      ]
    },
    {
      "cell_type": "markdown",
      "metadata": {
        "id": "XL0FbJp8Cx8c"
      },
      "source": [
        "![imagem](http://meusite.mackenzie.br/rogerio/algoritmobusca.png)"
      ]
    },
    {
      "cell_type": "markdown",
      "metadata": {
        "id": "0DXB4FO3SGwO"
      },
      "source": [
        "## Representação em um grafo\n",
        "\n",
        "Grafo uniforme.\n",
        "\n",
        "![imagem](http://meusite.mackenzie.br/rogerio/graph.png)"
      ]
    },
    {
      "cell_type": "code",
      "metadata": {
        "id": "7tgJW-LD9G3e"
      },
      "source": [
        "graph = {'A': ['B', 'C', 'E'],\n",
        "         'B': ['A', 'D', 'E'],\n",
        "         'C': ['A', 'F', 'G'],\n",
        "         'D': ['B'],\n",
        "         'E': ['A', 'B', 'D'],\n",
        "         'F': ['C'],\n",
        "         'G': ['C']}"
      ],
      "execution_count": 48,
      "outputs": []
    },
    {
      "cell_type": "markdown",
      "metadata": {
        "id": "_LqQxUtNaOZI"
      },
      "source": [
        "(NOTA: Árvores são mais simples para busca que grafos. Primeiramente porque quando um novo nodo é gerado, podemos estar seguros que ele nunca foi visitado antes nem nunca será gerado depois.)"
      ]
    },
    {
      "cell_type": "markdown",
      "metadata": {
        "id": "U-d_NJ0AWuq4"
      },
      "source": [
        "## Pesquisa em Largura e em Profundidade"
      ]
    },
    {
      "cell_type": "markdown",
      "metadata": {
        "id": "x9ZzasqsXTRn"
      },
      "source": [
        "* **BFS** pesquisamos todos os nós da árvore lançando uma rede ampla, ou seja, percorremos um nível inteiro de nós filhos primeiro, antes de passarmos para atravessar os nós netos. E atravessamos todo um nível de nós de netos antes de passarmos por nós de bisnetos. O BFS explora os nós mais próximos primeiro e depois se afasta da origem.\n",
        "\n",
        "* **DFS** sempre exploramos o nó mais profundo; ou seja, seguimos um caminho o mais fundo possível e, se chegarmos ao beco sem saída, voltamos e tentamos um caminho diferente até chegarmos ao fim.\n",
        "\n",
        "\n",
        "> O DFS requer menos memória do que o BFS\n",
        "\n",
        "> Mas o DFS não encontra necessariamente o caminho mais curto para um nó, enquanto o BFS o faz"
      ]
    },
    {
      "cell_type": "markdown",
      "metadata": {
        "id": "3p-DhoBYQUxo"
      },
      "source": [
        "![imagem](http://meusite.mackenzie.br/rogerio/bfs_versus_dfs.jpeg)\n"
      ]
    },
    {
      "cell_type": "markdown",
      "metadata": {
        "id": "i5J7hWskT1qw"
      },
      "source": [
        "## Percorrendo todos os nós bfs"
      ]
    },
    {
      "cell_type": "code",
      "metadata": {
        "colab": {
          "base_uri": "https://localhost:8080/"
        },
        "id": "Av6ZK35lFr5O",
        "outputId": "c96edf40-548f-4052-80d5-dc588c0427ce"
      },
      "source": [
        "def bfs(graph, node):\n",
        "  \n",
        "    visited = []\n",
        "    queue = []\n",
        "    visited.append(node)\n",
        "    queue.append(node)\n",
        "    \n",
        "    while queue:\n",
        "        node = queue.pop(0) \n",
        "        \n",
        "        for neighbor in graph[node]:\n",
        "            if neighbor not in visited:\n",
        "                visited.append(neighbor)\n",
        "                \n",
        "                print\n",
        "                queue.append(neighbor)\n",
        "    \n",
        "    return visited\n",
        "\n",
        "\n",
        "bfs(graph, 'A')"
      ],
      "execution_count": 49,
      "outputs": [
        {
          "output_type": "execute_result",
          "data": {
            "text/plain": [
              "['A', 'B', 'C', 'E', 'D', 'F', 'G']"
            ]
          },
          "metadata": {},
          "execution_count": 49
        }
      ]
    },
    {
      "cell_type": "code",
      "metadata": {
        "colab": {
          "base_uri": "https://localhost:8080/"
        },
        "id": "a0MAIcIuHQ8W",
        "outputId": "784b4c01-b4ba-481d-8c84-80adf014dce6"
      },
      "source": [
        "def bfs(graph, node):\n",
        "  \n",
        "    visited = []\n",
        "    queue = []\n",
        "    visited.append(node)\n",
        "    queue.append(node)\n",
        "    \n",
        "    while queue:\n",
        "        print(' queue  : ', queue)\n",
        "        node = queue.pop(0) \n",
        "\n",
        "        print('\\n node   : ', node)\n",
        "        \n",
        "        for neighbor in graph[node]:\n",
        "            if neighbor not in visited:\n",
        "                visited.append(neighbor)\n",
        "\n",
        "                print(' visited: ', visited)\n",
        "                queue.append(neighbor)\n",
        "    \n",
        "    return visited\n",
        "\n",
        "\n",
        "bfs(graph, 'A')"
      ],
      "execution_count": 50,
      "outputs": [
        {
          "output_type": "stream",
          "name": "stdout",
          "text": [
            " queue  :  ['A']\n",
            "\n",
            " node   :  A\n",
            " visited:  ['A', 'B']\n",
            " visited:  ['A', 'B', 'C']\n",
            " visited:  ['A', 'B', 'C', 'E']\n",
            " queue  :  ['B', 'C', 'E']\n",
            "\n",
            " node   :  B\n",
            " visited:  ['A', 'B', 'C', 'E', 'D']\n",
            " queue  :  ['C', 'E', 'D']\n",
            "\n",
            " node   :  C\n",
            " visited:  ['A', 'B', 'C', 'E', 'D', 'F']\n",
            " visited:  ['A', 'B', 'C', 'E', 'D', 'F', 'G']\n",
            " queue  :  ['E', 'D', 'F', 'G']\n",
            "\n",
            " node   :  E\n",
            " queue  :  ['D', 'F', 'G']\n",
            "\n",
            " node   :  D\n",
            " queue  :  ['F', 'G']\n",
            "\n",
            " node   :  F\n",
            " queue  :  ['G']\n",
            "\n",
            " node   :  G\n"
          ]
        },
        {
          "output_type": "execute_result",
          "data": {
            "text/plain": [
              "['A', 'B', 'C', 'E', 'D', 'F', 'G']"
            ]
          },
          "metadata": {},
          "execution_count": 50
        }
      ]
    },
    {
      "cell_type": "markdown",
      "metadata": {
        "id": "gayJlSHFT86B"
      },
      "source": [
        "## Percorrendo todos os nós dfs\n",
        "\n",
        "(recursivo)"
      ]
    },
    {
      "cell_type": "code",
      "metadata": {
        "colab": {
          "base_uri": "https://localhost:8080/"
        },
        "id": "0Y9i9vJtBs21",
        "outputId": "9ad2e062-1f17-47c2-90fe-379574d46944"
      },
      "source": [
        "def dfs(visited, graph, node):\n",
        "\n",
        "    \n",
        "    if node not in visited:\n",
        "        print('\\n node   : ', node)\n",
        "\n",
        "        visited.add(node)\n",
        "\n",
        "        print(' visited: ', visited)\n",
        "        for neighbor in graph[node]:\n",
        "            dfs(visited, graph, neighbor)\n",
        "\n",
        "    return list(visited)\n",
        "\n",
        "visited = set()\n",
        "dfs(visited, graph, 'A')"
      ],
      "execution_count": 51,
      "outputs": [
        {
          "output_type": "stream",
          "name": "stdout",
          "text": [
            "\n",
            " node   :  A\n",
            " visited:  {'A'}\n",
            "\n",
            " node   :  B\n",
            " visited:  {'A', 'B'}\n",
            "\n",
            " node   :  D\n",
            " visited:  {'A', 'D', 'B'}\n",
            "\n",
            " node   :  E\n",
            " visited:  {'A', 'D', 'B', 'E'}\n",
            "\n",
            " node   :  C\n",
            " visited:  {'A', 'D', 'B', 'C', 'E'}\n",
            "\n",
            " node   :  F\n",
            " visited:  {'A', 'D', 'F', 'B', 'C', 'E'}\n",
            "\n",
            " node   :  G\n",
            " visited:  {'A', 'D', 'F', 'G', 'B', 'C', 'E'}\n"
          ]
        },
        {
          "output_type": "execute_result",
          "data": {
            "text/plain": [
              "['A', 'D', 'F', 'G', 'B', 'C', 'E']"
            ]
          },
          "metadata": {},
          "execution_count": 51
        }
      ]
    },
    {
      "cell_type": "markdown",
      "metadata": {
        "id": "l-lSu7r0UEYX"
      },
      "source": [
        "## Encontrando um Menor Caminho\n",
        "\n",
        "Adicionando um objetivo"
      ]
    },
    {
      "cell_type": "code",
      "metadata": {
        "colab": {
          "base_uri": "https://localhost:8080/"
        },
        "id": "nj0d27B4PVh4",
        "outputId": "3028d4af-e8db-4f88-b351-e2336bd580b9"
      },
      "source": [
        "# Menor caminho entre dois nós empregando bfs\n",
        "def bfs_shortest_path(graph, start, goal):\n",
        "\n",
        "    visited = []\n",
        "    queue = [[start]]\n",
        "\n",
        "    if start == goal:\n",
        "        return \"Start = Goal, no problem!\"\n",
        " \n",
        "    while queue:\n",
        "\n",
        "        path = queue.pop(0)\n",
        "        node = path[-1] # último nó do caminho\n",
        "        \n",
        "        if node not in visited:\n",
        "\n",
        "            neighbours = graph[node]\n",
        "\n",
        "            for neighbour in neighbours:\n",
        "\n",
        "                new_path = list(path)\n",
        "                new_path.append(neighbour)\n",
        "                queue.append(new_path)\n",
        "\n",
        "                if neighbour == goal: # encontrou\n",
        "                    return new_path\n",
        " \n",
        "            visited.append(node)\n",
        " \n",
        "    return \"Não existe caminho :(\"\n",
        " \n",
        "bfs_shortest_path(graph, 'A', 'F') "
      ],
      "execution_count": 66,
      "outputs": [
        {
          "output_type": "execute_result",
          "data": {
            "text/plain": [
              "['A', 'C', 'F']"
            ]
          },
          "metadata": {},
          "execution_count": 66
        }
      ]
    },
    {
      "cell_type": "code",
      "metadata": {
        "colab": {
          "base_uri": "https://localhost:8080/"
        },
        "id": "8cJ5CWxK9sid",
        "outputId": "690c3907-a490-40d7-9b93-24ac8e1ebf99"
      },
      "source": [
        "# Menor caminho entre dois nós empregando bfs\n",
        "def bfs_shortest_path(graph, start, goal):\n",
        "\n",
        "    visited = []\n",
        "    queue = [[start]]\n",
        "\n",
        "    if start == goal:\n",
        "        return \"Start = Goal, no problem!\"\n",
        " \n",
        "    while queue:\n",
        "\n",
        "        path = queue.pop(0)\n",
        "        node = path[-1] # último nó do caminho\n",
        "        \n",
        "        if node not in visited:\n",
        "            print('\\n node   : ', node)\n",
        "\n",
        "            neighbours = graph[node]\n",
        "\n",
        "            for neighbour in neighbours:\n",
        "\n",
        "                new_path = list(path)\n",
        "                new_path.append(neighbour)\n",
        "                queue.append(new_path)\n",
        "\n",
        "                print(' queue  : ', queue)\n",
        "\n",
        "                if neighbour == goal: # encontrou\n",
        "                    return new_path\n",
        " \n",
        "            visited.append(node)\n",
        "            print(' visited: ', visited)\n",
        " \n",
        "    return \"Não existe caminho :(\"\n",
        " \n",
        "bfs_shortest_path(graph, 'A', 'F') "
      ],
      "execution_count": 65,
      "outputs": [
        {
          "output_type": "stream",
          "name": "stdout",
          "text": [
            "\n",
            " node   :  A\n",
            " queue  :  [['A', 'B']]\n",
            " queue  :  [['A', 'B'], ['A', 'C']]\n",
            " queue  :  [['A', 'B'], ['A', 'C'], ['A', 'E']]\n",
            " visited:  ['A']\n",
            "\n",
            " node   :  B\n",
            " queue  :  [['A', 'C'], ['A', 'E'], ['A', 'B', 'A']]\n",
            " queue  :  [['A', 'C'], ['A', 'E'], ['A', 'B', 'A'], ['A', 'B', 'D']]\n",
            " queue  :  [['A', 'C'], ['A', 'E'], ['A', 'B', 'A'], ['A', 'B', 'D'], ['A', 'B', 'E']]\n",
            " visited:  ['A', 'B']\n",
            "\n",
            " node   :  C\n",
            " queue  :  [['A', 'E'], ['A', 'B', 'A'], ['A', 'B', 'D'], ['A', 'B', 'E'], ['A', 'C', 'A']]\n",
            " queue  :  [['A', 'E'], ['A', 'B', 'A'], ['A', 'B', 'D'], ['A', 'B', 'E'], ['A', 'C', 'A'], ['A', 'C', 'F']]\n"
          ]
        },
        {
          "output_type": "execute_result",
          "data": {
            "text/plain": [
              "['A', 'C', 'F']"
            ]
          },
          "metadata": {},
          "execution_count": 65
        }
      ]
    }
  ]
}