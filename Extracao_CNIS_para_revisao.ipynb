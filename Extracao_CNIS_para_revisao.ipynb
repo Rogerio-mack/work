{
  "nbformat": 4,
  "nbformat_minor": 0,
  "metadata": {
    "colab": {
      "name": "Extracao_CNIS_para_revisao.ipynb",
      "provenance": [],
      "collapsed_sections": [],
      "include_colab_link": true
    },
    "kernelspec": {
      "name": "python3",
      "display_name": "Python 3"
    },
    "language_info": {
      "name": "python"
    }
  },
  "cells": [
    {
      "cell_type": "markdown",
      "metadata": {
        "id": "view-in-github",
        "colab_type": "text"
      },
      "source": [
        "<a href=\"https://colab.research.google.com/github/Rogerio-mack/work/blob/main/Extracao_CNIS_para_revisao.ipynb\" target=\"_parent\"><img src=\"https://colab.research.google.com/assets/colab-badge.svg\" alt=\"Open In Colab\"/></a>"
      ]
    },
    {
      "cell_type": "markdown",
      "metadata": {
        "id": "n4csUjF72PFU"
      },
      "source": [
        "# Extrator de dados de remunerações - CNIS\n",
        "\n",
        "Notebook contendo o extrator de remunerações do CNIS"
      ]
    },
    {
      "cell_type": "markdown",
      "metadata": {
        "id": "McyV44Qt2Yxp"
      },
      "source": [
        "## Importando as libraries\n",
        "\n",
        "- Utilizamos o pandas para criar o dataframe  \n",
        "- Utilizamos o pdflib para ler o PDF  \n",
        "- Utilizamos o re para criar um [Regex](https://pt.wikipedia.org/wiki/Express%C3%A3o_regular)\n"
      ]
    },
    {
      "cell_type": "code",
      "metadata": {
        "colab": {
          "base_uri": "https://localhost:8080/"
        },
        "id": "hRwz9UST2q1f",
        "outputId": "ca2a21c1-e0f6-4a4e-d9b5-c01623f8d567"
      },
      "source": [
        "import re\n",
        "import pandas as pd\n",
        "\n",
        "!pip install pdflib\n",
        "from pdflib import Document"
      ],
      "execution_count": null,
      "outputs": [
        {
          "output_type": "stream",
          "name": "stdout",
          "text": [
            "Collecting pdflib\n",
            "  Downloading pdflib-0.3.0-cp37-cp37m-manylinux2010_x86_64.whl (5.8 MB)\n",
            "\u001b[K     |████████████████████████████████| 5.8 MB 23.9 MB/s \n",
            "\u001b[?25hRequirement already satisfied: lxml in /usr/local/lib/python3.7/dist-packages (from pdflib) (4.2.6)\n",
            "Requirement already satisfied: six in /usr/local/lib/python3.7/dist-packages (from pdflib) (1.15.0)\n",
            "Requirement already satisfied: cython in /usr/local/lib/python3.7/dist-packages (from pdflib) (0.29.24)\n",
            "Installing collected packages: pdflib\n",
            "Successfully installed pdflib-0.3.0\n"
          ]
        }
      ]
    },
    {
      "cell_type": "markdown",
      "metadata": {
        "id": "iBKiN_cd3IvK"
      },
      "source": [
        "## Extração do PDF\n",
        "\n",
        "### Extraindo uma página do CNIS \n",
        "\n",
        "Para exemplificar estamos utilizando apenas uma página do CNIS"
      ]
    },
    {
      "cell_type": "code",
      "metadata": {
        "id": "wAk_60cyrhJi",
        "colab": {
          "base_uri": "https://localhost:8080/"
        },
        "outputId": "30838f7c-106d-43d6-989d-5a2b5b17975f"
      },
      "source": [
        "from google.colab import drive\n",
        "drive.mount('/content/drive')"
      ],
      "execution_count": null,
      "outputs": [
        {
          "output_type": "stream",
          "name": "stdout",
          "text": [
            "Mounted at /content/drive\n"
          ]
        }
      ]
    },
    {
      "cell_type": "code",
      "metadata": {
        "id": "HegA7UOS3Hyo",
        "colab": {
          "base_uri": "https://localhost:8080/"
        },
        "outputId": "ea65b166-8e1f-408b-af46-56094c9c613b"
      },
      "source": [
        "doc = Document(\"/content/drive/MyDrive/MackPrevIA/Exemplos de CNIS/CNIS-Cristina Mitiyo Maru Inagaki.pdf\")\n",
        "page1 = doc.get_page(1).lines\n",
        "print(page1)"
      ],
      "execution_count": null,
      "outputs": [
        {
          "output_type": "stream",
          "name": "stdout",
          "text": [
            "['Página 1 de 9', 'INSS - INSTITUTO NACIONAL DO SEGURO SOCIAL', 'CNIS - Cadastro Nacional de Informações Sociais', 'Extrato Previdenciário                                                                         27/04/2021 19:02:47', 'Identificação do Filiado', 'NIT: 122.05604.68-8                              CPF: 088.153.748-92              Nome: CRISTINA MITIYO MARU INAGAKI', 'Data de nascimento: 03/01/1965                                                    Nome da mãe: ALICE AKIY KAWAMATA', 'Relações Previdenciárias', 'Seq.         NIT           Código Emp.        Origem do Vínculo                                   Data Início     Data Fim         Tipo Filiado no Vínculo       Últ. Remun. Indicadores', '1    122.05604.68-8       47.192.091        COTIA TRABALHO TEMPORARIO LTDA EM                   13/05/1985     28/06/1985               Empregado                           AVRC-DEF', 'RECUPERACAO JUDICIAL', 'Seq.         NIT           Código Emp.        Origem do Vínculo                                   Data Início     Data Fim         Tipo Filiado no Vínculo       Últ. Remun. Indicadores', '2    122.05604.68-8   56.991.888/0008-00    ENGESA ENGENHEIROS ESPECIALIZADOS S A               08/09/1987     12/07/1991               Empregado                12/1989     ACNISVR', 'Remunerações', 'Competência        Remuneração            Indicadores          Competência           Remuneração            Indicadores            Competência            Remuneração      Indicadores', '09/1987            15.051,99                                     10/1987              20.555,00                                     11/1987                26.979,99', '12/1987            28.374,99                                     01/1988              30.982,98                                     02/1988                38.905,99', '03/1988            45.205,00                                     04/1988              67.807,99                                     05/1988                78.786,98', '06/1988            92.716,99                                     07/1988             109.109,96                                     08/1988               128.401,02', '09/1988           155.865,98                                     10/1988             240.950,04                                     11/1988               321.741,02', '12/1988           446.235,00                                     01/1989               620,00                                       02/1989                 525,99', '03/1989              500,99                                      04/1989               983,00                                       05/1989                1.225,99', '06/1989             1.333,00                                     07/1989              2.191,00                                      08/1989                2.390,99', '09/1989             1.252,00                                     10/1989              4.854,99                                      11/1989                8.242,00', '12/1989            12.631,00', 'Seq.         NIT           Código Emp.        Origem do Vínculo                                   Data Início     Data Fim         Tipo Filiado no Vínculo       Últ. Remun. Indicadores', '3    122.05604.68-8   61.192.571/0002-40    JOHNSON & JOHNSON COMERCIO E                        15/07/1991     07/05/2012               Empregado                07/2001    AVRC-DEF', 'DISTRIBUICAO LTDA', 'Remunerações', 'Competência        Remuneração            Indicadores          Competência           Remuneração            Indicadores            Competência            Remuneração      Indicadores', '07/1991           147.704,50                                     08/1991             312.953,00                                     09/1991               359.893,80', 'O INSS poderá rever a qualquer tempo as informações constantes deste extrato, conforme art. 19, § 3° do Decreto 3.048/99.']\n"
          ]
        }
      ]
    },
    {
      "cell_type": "markdown",
      "metadata": {
        "id": "eKzWRovh7p8H"
      },
      "source": [
        "### Pegando os dados iniciais do cliente\n",
        "\n",
        "Extraindo a informação inicial do cliente utilizando index da lista de strings e armazenando em um dataframe"
      ]
    },
    {
      "cell_type": "code",
      "metadata": {
        "colab": {
          "base_uri": "https://localhost:8080/",
          "height": 80
        },
        "id": "yjZN15Rq7pd7",
        "outputId": "9d21244e-df41-471f-f654-2d0e7105f9bb"
      },
      "source": [
        "client = {\n",
        "    \"Nome\": page1[5].split(\"Nome: \", 1)[1],\n",
        "    \"NIT\": page1[5].split(\"NIT: \", 1)[1][:14],\n",
        "    \"CPF\": page1[5].split(\"CPF: \", 1)[1][:14],\n",
        "    \"Nome da mãe\": page1[6].split(\"Nome da mãe: \", 1)[1],\n",
        "    \"Data de nascimento\": page1[6].split(\"Data de nascimento: \", 1)[1][:10],\n",
        "}\n",
        "\n",
        "client = pd.DataFrame.from_records(client, index=[0])\n",
        "client[\"Data de criação do arquivo\"] = page1[3].split(\"Extrato Previdenciário\")[1].strip()\n",
        "\n",
        "client.head()"
      ],
      "execution_count": null,
      "outputs": [
        {
          "output_type": "execute_result",
          "data": {
            "text/html": [
              "<div>\n",
              "<style scoped>\n",
              "    .dataframe tbody tr th:only-of-type {\n",
              "        vertical-align: middle;\n",
              "    }\n",
              "\n",
              "    .dataframe tbody tr th {\n",
              "        vertical-align: top;\n",
              "    }\n",
              "\n",
              "    .dataframe thead th {\n",
              "        text-align: right;\n",
              "    }\n",
              "</style>\n",
              "<table border=\"1\" class=\"dataframe\">\n",
              "  <thead>\n",
              "    <tr style=\"text-align: right;\">\n",
              "      <th></th>\n",
              "      <th>CPF</th>\n",
              "      <th>Data de nascimento</th>\n",
              "      <th>NIT</th>\n",
              "      <th>Nome</th>\n",
              "      <th>Nome da mãe</th>\n",
              "      <th>Data de criação do arquivo</th>\n",
              "    </tr>\n",
              "  </thead>\n",
              "  <tbody>\n",
              "    <tr>\n",
              "      <th>0</th>\n",
              "      <td>088.153.748-92</td>\n",
              "      <td>03/01/1965</td>\n",
              "      <td>122.05604.68-8</td>\n",
              "      <td>CRISTINA MITIYO MARU INAGAKI</td>\n",
              "      <td>ALICE AKIY KAWAMATA</td>\n",
              "      <td>27/04/2021 19:02:47</td>\n",
              "    </tr>\n",
              "  </tbody>\n",
              "</table>\n",
              "</div>"
            ],
            "text/plain": [
              "              CPF Data de nascimento             NIT  \\\n",
              "0  088.153.748-92         03/01/1965  122.05604.68-8   \n",
              "\n",
              "                           Nome          Nome da mãe  \\\n",
              "0  CRISTINA MITIYO MARU INAGAKI  ALICE AKIY KAWAMATA   \n",
              "\n",
              "  Data de criação do arquivo  \n",
              "0        27/04/2021 19:02:47  "
            ]
          },
          "metadata": {},
          "execution_count": 65
        }
      ]
    },
    {
      "cell_type": "markdown",
      "metadata": {
        "id": "5smHuAt9BNJ5"
      },
      "source": [
        "### Declarando funções auxíliares\n",
        "\n",
        "Essas funções são utilizadas para auxíliar e simplificar as extrações de remunerações.\n",
        "\n",
        "#### _check_empty_values_ \n",
        " \n",
        "Verifica os valores vazios nas linhas de relações previdenciárias para manter o padrão da tabela,\n",
        "caso o valor não seja encontrado adicionamos o valor ```None```. Essa função retorna\n",
        "uma lista com os dados que irá virar uma tabela no futuro.\n",
        "\n",
        "E.g\n",
        "\n",
        "```['1', '108.87248.60-5', '49.282.643/0001-64', 'AMELIA DA CONCEICAO DE OLIVEIRA', '02/07/1979', '01/02/1980', 'Empregado', None, 'AVRC-DEF']```\n"
      ]
    },
    {
      "cell_type": "code",
      "metadata": {
        "id": "fL3Tj_u_RPzo"
      },
      "source": [
        "def check_empty_values(val: list) -> list:\n",
        "    for i in range(5, len(val)):\n",
        "\n",
        "        # Data Fim\n",
        "        if i == 5 and \"/\" not in val[i]:\n",
        "            val.insert(i, None)\n",
        "\n",
        "        # Últ. Remun.\n",
        "        elif i == 7:\n",
        "            if \"/\" not in val[i]:\n",
        "                val.insert(i, None)\n",
        "\n",
        "    # Indicadores e/ou Últ. Remun. se for preciso\n",
        "    while len(val) < 9:\n",
        "        val.append(None)\n",
        "\n",
        "    val.append([])\n",
        "    return val"
      ],
      "execution_count": null,
      "outputs": []
    },
    {
      "cell_type": "markdown",
      "metadata": {
        "id": "53jOf8Kf4Opl"
      },
      "source": [
        "#### _remove_blank_spaces_ \n",
        "\n",
        "Essa função utiliza o [Regex]() para remover os espaços da string, os subtituindo pelo carácter &\n",
        "\n",
        "E.g **_essa  string_** vai se tornar em **_essa&string_**  \n",
        "  \n",
        "  \n",
        "Assim conseguimos saber quando uma palavra inicia e termina.\n",
        "\n"
      ]
    },
    {
      "cell_type": "code",
      "metadata": {
        "id": "Zga6bYph4G4O"
      },
      "source": [
        "# Substitui espaços em brancos maiores que 1 pelo caracter &\n",
        "def remove_blank_spaces(line: str) -> str:\n",
        "    return re.sub('  +', '&', line)"
      ],
      "execution_count": null,
      "outputs": []
    },
    {
      "cell_type": "markdown",
      "metadata": {
        "id": "MkhpC8dTCD07"
      },
      "source": [
        "#### _get_colum_index_\n",
        "\n",
        "Essa função retorna o index da coluna desejada. "
      ]
    },
    {
      "cell_type": "code",
      "metadata": {
        "id": "-ZY__djiCJSY"
      },
      "source": [
        "# Retorna o index da coluna dada a palavra\n",
        "def get_colum_index(page: list, var: str) -> int:\n",
        "    for line in page:\n",
        "        if var in line:\n",
        "            return page.index(line)\n",
        "\n",
        "    return -1"
      ],
      "execution_count": null,
      "outputs": []
    },
    {
      "cell_type": "markdown",
      "metadata": {
        "id": "vnBn485p47Ba"
      },
      "source": [
        "#### _check_empty_values_rem_\n",
        "\n",
        "Essa função faz a mesma coisa que _check_empty_values_ mas para verificar as Remunerações ao invés de Relações Previdenciárias\n",
        "\n",
        "Verifica a estrutura e os espaços vázios nas remunerações, retornando uma lista com os dados, isso mantém o mesmo padrão de lista para todas as remunerações.\n",
        "\n",
        "E.g\n",
        "\n",
        "```['01/1982', '7.705,01', None, '02/1982', '24.260,95', None, '03/1982', '21.119,00', None]```"
      ]
    },
    {
      "cell_type": "code",
      "metadata": {
        "id": "kYxX62Cd4TU4"
      },
      "source": [
        "# Verifica os valores vazios\n",
        "def check_empty_values_rem(val: list) -> list:\n",
        "\n",
        "    # For loop com entre os valores das remunerações\n",
        "    for index in range(0, 9, 3):\n",
        "\n",
        "        if index < len(val):  # Verificando a existência dos dados\n",
        "\n",
        "            if val[index][2] == '/':  # Verificando a existência da data\n",
        "\n",
        "                if val[index + 1][-3] == ',':  # Verificando a existência da remuneração\n",
        "\n",
        "                    if index + 2 < len(val):  # Verificando a existência dos dados\n",
        "\n",
        "                        if val[index + 2][\n",
        "                                2] == '/':  # Verificando a existência dos indicadores - LBYL\n",
        "                            val.insert(index + 2, None)\n",
        "\n",
        "                    else:  # Inserindo o valor vazio caso os dados sejam inexistentes\n",
        "                        val.append(None)\n",
        "\n",
        "        else:\n",
        "            for i in range(3):\n",
        "                val.append(None)\n",
        "\n",
        "    return val  # Retornando a lista"
      ],
      "execution_count": null,
      "outputs": []
    },
    {
      "cell_type": "markdown",
      "metadata": {
        "id": "s-c69o0m4-8y"
      },
      "source": [
        "#### _rem_list_to_json_normalized_\n",
        "\n",
        "Adiciona a coluna de ```Seq.``` para normalizar e conectar as remunerações. Essa função retorna uma lista de dicionários.\n",
        "\n",
        "E.g\n",
        "\n",
        "```[{'Competência': '04/1982', 'Remuneração': '19.427,01', 'Indicadores': None,Seq.': '4'},```\n",
        "  ```{'Competência': '05/1982', 'Remuneração': '15.678,94', 'Indicadores': None, 'Seq.': '4'}]```"
      ]
    },
    {
      "cell_type": "code",
      "metadata": {
        "id": "Avd7pPcJ4-HH"
      },
      "source": [
        "# Função que normaliza o json\n",
        "def rem_list_to_json_normalized(indexes: list, val: list, seq: str) -> list:\n",
        "    rem_dict = {}\n",
        "    rem_list = []\n",
        "\n",
        "    for i in range(0, 9, 3):\n",
        "        if val[i]:\n",
        "            rem_dict = {\n",
        "                index: value\n",
        "                for index, value in zip(indexes[:3], val[i:i + 3])\n",
        "            }\n",
        "            rem_dict[\"Seq.\"] = seq\n",
        "            rem_list.append(rem_dict)\n",
        "\n",
        "    return rem_list"
      ],
      "execution_count": null,
      "outputs": []
    },
    {
      "cell_type": "markdown",
      "metadata": {
        "id": "iauWPUMGTyW7"
      },
      "source": [
        "### Variáveis adicionais\n",
        "\n",
        "Aqui fazemos um tratamento básico para pegar as columas para os dataframes"
      ]
    },
    {
      "cell_type": "code",
      "metadata": {
        "id": "_eHNBIwtT8yk"
      },
      "source": [
        "# Filtrando Relações Previdenciárias e removendo colunas\n",
        "rel_prev = [line for line in page1 if line[0].isnumeric()]\n",
        "\n",
        "# Pegando colunas Padrões das Relações\n",
        "colunas = page1[get_colum_index(page1, \"Seq.\")]\n",
        "colunas = remove_blank_spaces(colunas)\n",
        "# colunas = colunas[:len(colunas) - 12] + \"&Indicadores&Remuneracoes\"\n",
        "colunas = colunas[:len(colunas) - 12] + \"&Indicadores\"  # Versao normalizada\n",
        "indexes_rel = colunas.split(\"&\")\n",
        "\n",
        "# Pegando colunas Padrões das Remunerações\n",
        "colunas = page1[get_colum_index(page1, \"Competência\")]\n",
        "colunas = remove_blank_spaces(colunas)\n",
        "indexes_rem = colunas.split(\"&\")\n",
        "\n",
        "ult_rel: int = 0\n",
        "seq: int\n",
        "rem_final: list = []\n",
        "df_relacao: list = []\n",
        "df_remuneracao: list = []"
      ],
      "execution_count": null,
      "outputs": []
    },
    {
      "cell_type": "markdown",
      "metadata": {
        "id": "7Kb768tpUJLi"
      },
      "source": [
        "### Extraíndo os dados finais\n",
        "\n",
        "Aqui temos a extração de dados da remuneração e das relações previdenciárias\n",
        "\n",
        "#### _clean_up_data_normalized / clean_data_\n",
        "\n",
        "Nessa função os dados são limpos e transformamos os dicionários em tabelas do Pandas"
      ]
    },
    {
      "cell_type": "code",
      "metadata": {
        "id": "Ihsanjn8USxR",
        "colab": {
          "base_uri": "https://localhost:8080/"
        },
        "outputId": "a9c6976f-3631-440a-fe6d-6f5bafb2e39f"
      },
      "source": [
        "# Função para normalizar as remunerações\n",
        "def clean_up_data_normalized(dados: list, linha: list) -> None:\n",
        "    global seq, rem_final\n",
        "\n",
        "    line = remove_blank_spaces(linha).split(\"&\")  # Pegando a linha\n",
        "\n",
        "    if line[0].isnumeric(\n",
        "    ):  # Verificando se o primeiro valor da linha é numérico\n",
        "        values: list = check_empty_values(line)\n",
        "        seq = line[0]\n",
        "\n",
        "        result: dict = {index: value for index, value in zip(indexes_rel, values)}\n",
        "        df_relacao.append(pd.DataFrame.from_records(result, index=[0]))\n",
        "\n",
        "    else:\n",
        "        rem: list = check_empty_values_rem(line)\n",
        "        rem_json: list = rem_list_to_json_normalized(indexes_rem, rem, seq)\n",
        "\n",
        "        dfs: list = [pd.DataFrame.from_records(elem, index=[0]) for elem in rem_json]\n",
        "        \n",
        "        df_remuneracao.append(pd.concat(dfs, ignore_index=True))\n",
        "\n",
        "# Percorrendo lista de relações\n",
        "for n in range(len(rel_prev)):\n",
        "    clean_up_data_normalized(client, rel_prev[n])\n",
        "\n",
        "# Alterando as opções do print do Dataframe\n",
        "pd.set_option(\"display.max_rows\", None, \"display.max_columns\", None)\n",
        "\n",
        "# print(df_relacao)\n",
        "df_relacao = pd.concat(df_relacao, ignore_index=True)\n",
        "df_relacao.drop_duplicates()\n",
        "print(df_relacao.head())\n",
        "print(\"\\n\\n\\n\\n\")\n",
        "df_remuneracao = pd.concat(df_remuneracao, ignore_index=True)\n",
        "print(df_remuneracao)\n"
      ],
      "execution_count": null,
      "outputs": [
        {
          "output_type": "stream",
          "name": "stdout",
          "text": [
            "          Código Emp.    Data Fim          Data Início Indicadores  \\\n",
            "0          47.192.091  28/06/1985           13/05/1985    AVRC-DEF   \n",
            "1  56.991.888/0008-00  12/07/1991           08/09/1987     ACNISVR   \n",
            "2  61.192.571/0002-40  15/07/1991   JOHNSON COMERCIO E   Empregado   \n",
            "\n",
            "              NIT                      Origem do Vínculo Seq.  \\\n",
            "0  122.05604.68-8      COTIA TRABALHO TEMPORARIO LTDA EM    1   \n",
            "1  122.05604.68-8  ENGESA ENGENHEIROS ESPECIALIZADOS S A    2   \n",
            "2  122.05604.68-8                               JOHNSON     3   \n",
            "\n",
            "  Tipo Filiado no Vínculo Últ. Remun.  \n",
            "0               Empregado        None  \n",
            "1               Empregado     12/1989  \n",
            "2              07/05/2012        None  \n",
            "\n",
            "\n",
            "\n",
            "\n",
            "\n",
            "   Competência Indicadores Remuneração Seq.\n",
            "0      09/1987        None   15.051,99    2\n",
            "1      10/1987        None   20.555,00    2\n",
            "2      11/1987        None   26.979,99    2\n",
            "3      12/1987        None   28.374,99    2\n",
            "4      01/1988        None   30.982,98    2\n",
            "5      02/1988        None   38.905,99    2\n",
            "6      03/1988        None   45.205,00    2\n",
            "7      04/1988        None   67.807,99    2\n",
            "8      05/1988        None   78.786,98    2\n",
            "9      06/1988        None   92.716,99    2\n",
            "10     07/1988        None  109.109,96    2\n",
            "11     08/1988        None  128.401,02    2\n",
            "12     09/1988        None  155.865,98    2\n",
            "13     10/1988        None  240.950,04    2\n",
            "14     11/1988        None  321.741,02    2\n",
            "15     12/1988        None  446.235,00    2\n",
            "16     01/1989        None      620,00    2\n",
            "17     02/1989        None      525,99    2\n",
            "18     03/1989        None      500,99    2\n",
            "19     04/1989        None      983,00    2\n",
            "20     05/1989        None    1.225,99    2\n",
            "21     06/1989        None    1.333,00    2\n",
            "22     07/1989        None    2.191,00    2\n",
            "23     08/1989        None    2.390,99    2\n",
            "24     09/1989        None    1.252,00    2\n",
            "25     10/1989        None    4.854,99    2\n",
            "26     11/1989        None    8.242,00    2\n",
            "27     12/1989        None   12.631,00    2\n",
            "28     07/1991        None  147.704,50    3\n",
            "29     08/1991        None  312.953,00    3\n",
            "30     09/1991        None  359.893,80    3\n"
          ]
        }
      ]
    },
    {
      "cell_type": "markdown",
      "metadata": {
        "id": "9FOxaLl_MIDJ"
      },
      "source": [
        "#### _get_rem_\n",
        "\n",
        "Essa função será utilizada para pegar as remunerações da página e utiliza a função auxíliar _clean_data_.\n"
      ]
    },
    {
      "cell_type": "code",
      "metadata": {
        "id": "yXV9V6mrMIW9"
      },
      "source": [
        "def clean_data(seq, linha, df_remuneracao):\n",
        "\n",
        "  line = remove_blank_spaces(linha).split(\"&\")\n",
        "\n",
        "  if line[0].isnumeric():\n",
        "      seq = line[0]\n",
        "\n",
        "  else:\n",
        "\n",
        "    rem: list = check_empty_values_rem(line)\n",
        "    rem_json: list = rem_list_to_json_normalized(indexes_rem, rem, seq)\n",
        "\n",
        "    dfs: list = [pd.DataFrame.from_records(elem, index=[0]) for elem in rem_json]\n",
        "    \n",
        "    df_remuneracao.append(pd.concat(dfs, ignore_index=True))  \n",
        "\n",
        "  return seq\n",
        "\n",
        "\n",
        "\n",
        "def get_rem(page: list) -> pd.DataFrame:\n",
        "\n",
        "    rel_prev = [line for line in page if line[0].isnumeric()]\n",
        "\n",
        "    colunas = page[get_colum_index(page, \"Competência\")]\n",
        "    colunas = remove_blank_spaces(colunas)\n",
        "    indexes_rem = colunas.split(\"&\")\n",
        "    df_remuneracao: list = []\n",
        "    seq = 0\n",
        "\n",
        "    for n in range(len(rel_prev)):\n",
        "      seq = clean_data(seq, rel_prev[n], df_remuneracao)\n",
        "\n",
        "    df_remuneracao = pd.concat(df_remuneracao, ignore_index=True)\n",
        "\n",
        "    return df_remuneracao"
      ],
      "execution_count": null,
      "outputs": []
    },
    {
      "cell_type": "code",
      "metadata": {
        "colab": {
          "base_uri": "https://localhost:8080/"
        },
        "id": "wHCYsJ2GSxLE",
        "outputId": "55414377-937c-46b5-963e-43cfb393c33d"
      },
      "source": [
        "df_remuneracao = get_rem(page1)\n",
        "\n",
        "\n",
        "print(df_remuneracao.head(10))"
      ],
      "execution_count": null,
      "outputs": [
        {
          "output_type": "stream",
          "name": "stdout",
          "text": [
            "  Competência Indicadores Remuneração Seq.\n",
            "0     09/1987        None   15.051,99    2\n",
            "1     10/1987        None   20.555,00    2\n",
            "2     11/1987        None   26.979,99    2\n",
            "3     12/1987        None   28.374,99    2\n",
            "4     01/1988        None   30.982,98    2\n",
            "5     02/1988        None   38.905,99    2\n",
            "6     03/1988        None   45.205,00    2\n",
            "7     04/1988        None   67.807,99    2\n",
            "8     05/1988        None   78.786,98    2\n",
            "9     06/1988        None   92.716,99    2\n"
          ]
        }
      ]
    },
    {
      "cell_type": "markdown",
      "metadata": {
        "id": "qnXuhTQB5PR9"
      },
      "source": [
        "# Dados do Beneficiário\n",
        "---"
      ]
    },
    {
      "cell_type": "markdown",
      "metadata": {
        "id": "ZJyj3u6PwTgo"
      },
      "source": [
        "### FAZER\n",
        "\n",
        "None\n",
        "\n",
        "### PENDENTE\n",
        "\n",
        "None"
      ]
    },
    {
      "cell_type": "code",
      "metadata": {
        "id": "XMTKCSS8sYzn",
        "colab": {
          "base_uri": "https://localhost:8080/",
          "height": 80
        },
        "outputId": "1b691b28-6f22-4956-f02e-37778650b265"
      },
      "source": [
        "client "
      ],
      "execution_count": null,
      "outputs": [
        {
          "output_type": "execute_result",
          "data": {
            "text/html": [
              "<div>\n",
              "<style scoped>\n",
              "    .dataframe tbody tr th:only-of-type {\n",
              "        vertical-align: middle;\n",
              "    }\n",
              "\n",
              "    .dataframe tbody tr th {\n",
              "        vertical-align: top;\n",
              "    }\n",
              "\n",
              "    .dataframe thead th {\n",
              "        text-align: right;\n",
              "    }\n",
              "</style>\n",
              "<table border=\"1\" class=\"dataframe\">\n",
              "  <thead>\n",
              "    <tr style=\"text-align: right;\">\n",
              "      <th></th>\n",
              "      <th>CPF</th>\n",
              "      <th>Data de nascimento</th>\n",
              "      <th>NIT</th>\n",
              "      <th>Nome</th>\n",
              "      <th>Nome da mãe</th>\n",
              "      <th>Data de criação do arquivo</th>\n",
              "    </tr>\n",
              "  </thead>\n",
              "  <tbody>\n",
              "    <tr>\n",
              "      <th>0</th>\n",
              "      <td>088.153.748-92</td>\n",
              "      <td>03/01/1965</td>\n",
              "      <td>122.05604.68-8</td>\n",
              "      <td>CRISTINA MITIYO MARU INAGAKI</td>\n",
              "      <td>ALICE AKIY KAWAMATA</td>\n",
              "      <td>27/04/2021 19:02:47</td>\n",
              "    </tr>\n",
              "  </tbody>\n",
              "</table>\n",
              "</div>"
            ],
            "text/plain": [
              "              CPF Data de nascimento             NIT  \\\n",
              "0  088.153.748-92         03/01/1965  122.05604.68-8   \n",
              "\n",
              "                           Nome          Nome da mãe  \\\n",
              "0  CRISTINA MITIYO MARU INAGAKI  ALICE AKIY KAWAMATA   \n",
              "\n",
              "  Data de criação do arquivo  \n",
              "0        27/04/2021 19:02:47  "
            ]
          },
          "metadata": {},
          "execution_count": 75
        }
      ]
    },
    {
      "cell_type": "markdown",
      "metadata": {
        "id": "KSZWoWau5Xq9"
      },
      "source": [
        "# Dados dos Vínculos\n",
        "---"
      ]
    },
    {
      "cell_type": "markdown",
      "metadata": {
        "id": "wtbTwbvZtZSB"
      },
      "source": [
        "### FAZER\n",
        "1. Programa trabalha uma única página: implementar ´for´ para trabalhar todas as páginas do documento. case: /content/drive/MyDrive/MackPrevIA/Exemplos de CNIS/CNIS Rogerio extrato.pdf \n",
        "\n",
        "2. Erro na tratativa de nomes de Vínculo com &. case: /content/drive/MyDrive/MackPrevIA/Exemplos de CNIS/CNIS-Cristina Mitiyo Maru Inagaki.pdf \n",
        "\n",
        ">> Responsável: Lucas e Daniel\n",
        "\n",
        "### PENDENTE\n",
        "1. Para Origens do vínculo com mais de uma linha trunca para uma única linha. case: /content/drive/MyDrive/MackPrevIA/Exemplos de CNIS/CNIS - Claudia.pdf \n",
        "\n",
        "2. Benefício Auxilio Acidente não tratado. case: /content/drive/MyDrive/MackPrevIA/Exemplos de CNIS/CNIS - Jayr Antonio da Silva.pdf "
      ]
    },
    {
      "cell_type": "code",
      "metadata": {
        "id": "IcGmf0_qs4fj",
        "colab": {
          "base_uri": "https://localhost:8080/",
          "height": 210
        },
        "outputId": "41c51433-bac0-4eef-a796-ffd12f2f6d76"
      },
      "source": [
        "df_relacao"
      ],
      "execution_count": null,
      "outputs": [
        {
          "output_type": "execute_result",
          "data": {
            "text/html": [
              "<div>\n",
              "<style scoped>\n",
              "    .dataframe tbody tr th:only-of-type {\n",
              "        vertical-align: middle;\n",
              "    }\n",
              "\n",
              "    .dataframe tbody tr th {\n",
              "        vertical-align: top;\n",
              "    }\n",
              "\n",
              "    .dataframe thead th {\n",
              "        text-align: right;\n",
              "    }\n",
              "</style>\n",
              "<table border=\"1\" class=\"dataframe\">\n",
              "  <thead>\n",
              "    <tr style=\"text-align: right;\">\n",
              "      <th></th>\n",
              "      <th>Código Emp.</th>\n",
              "      <th>Data Fim</th>\n",
              "      <th>Data Início</th>\n",
              "      <th>Indicadores</th>\n",
              "      <th>NIT</th>\n",
              "      <th>Origem do Vínculo</th>\n",
              "      <th>Seq.</th>\n",
              "      <th>Tipo Filiado no Vínculo</th>\n",
              "      <th>Últ. Remun.</th>\n",
              "    </tr>\n",
              "  </thead>\n",
              "  <tbody>\n",
              "    <tr>\n",
              "      <th>0</th>\n",
              "      <td>47.192.091</td>\n",
              "      <td>28/06/1985</td>\n",
              "      <td>13/05/1985</td>\n",
              "      <td>AVRC-DEF</td>\n",
              "      <td>122.05604.68-8</td>\n",
              "      <td>COTIA TRABALHO TEMPORARIO LTDA EM</td>\n",
              "      <td>1</td>\n",
              "      <td>Empregado</td>\n",
              "      <td>None</td>\n",
              "    </tr>\n",
              "    <tr>\n",
              "      <th>1</th>\n",
              "      <td>56.991.888/0008-00</td>\n",
              "      <td>12/07/1991</td>\n",
              "      <td>08/09/1987</td>\n",
              "      <td>ACNISVR</td>\n",
              "      <td>122.05604.68-8</td>\n",
              "      <td>ENGESA ENGENHEIROS ESPECIALIZADOS S A</td>\n",
              "      <td>2</td>\n",
              "      <td>Empregado</td>\n",
              "      <td>12/1989</td>\n",
              "    </tr>\n",
              "    <tr>\n",
              "      <th>2</th>\n",
              "      <td>61.192.571/0002-40</td>\n",
              "      <td>15/07/1991</td>\n",
              "      <td>JOHNSON COMERCIO E</td>\n",
              "      <td>Empregado</td>\n",
              "      <td>122.05604.68-8</td>\n",
              "      <td>JOHNSON</td>\n",
              "      <td>3</td>\n",
              "      <td>07/05/2012</td>\n",
              "      <td>None</td>\n",
              "    </tr>\n",
              "  </tbody>\n",
              "</table>\n",
              "</div>"
            ],
            "text/plain": [
              "          Código Emp.    Data Fim          Data Início Indicadores  \\\n",
              "0          47.192.091  28/06/1985           13/05/1985    AVRC-DEF   \n",
              "1  56.991.888/0008-00  12/07/1991           08/09/1987     ACNISVR   \n",
              "2  61.192.571/0002-40  15/07/1991   JOHNSON COMERCIO E   Empregado   \n",
              "\n",
              "              NIT                      Origem do Vínculo Seq.  \\\n",
              "0  122.05604.68-8      COTIA TRABALHO TEMPORARIO LTDA EM    1   \n",
              "1  122.05604.68-8  ENGESA ENGENHEIROS ESPECIALIZADOS S A    2   \n",
              "2  122.05604.68-8                               JOHNSON     3   \n",
              "\n",
              "  Tipo Filiado no Vínculo Últ. Remun.  \n",
              "0               Empregado        None  \n",
              "1               Empregado     12/1989  \n",
              "2              07/05/2012        None  "
            ]
          },
          "metadata": {},
          "execution_count": 76
        }
      ]
    },
    {
      "cell_type": "markdown",
      "metadata": {
        "id": "Vthrz9rG5a2M"
      },
      "source": [
        "# Dados das Remunerações\n",
        "---"
      ]
    },
    {
      "cell_type": "markdown",
      "metadata": {
        "id": "nPJETLqju5Ve"
      },
      "source": [
        "### FAZER\n",
        "1. Programa trabalha uma única página: implementar ´for´ para trabalhar todas as páginas do documento. case: /content/drive/MyDrive/MackPrevIA/Exemplos de CNIS/CNIS Rogerio extrato.pdf \n",
        "\n",
        "### PENDENTE\n",
        "\n",
        "1. Presença de Vínculos sem Remuneração. case: /content/drive/MyDrive/MackPrevIA/Exemplos de CNIS/CNIS - Jayr Antonio da Silva.pdf "
      ]
    },
    {
      "cell_type": "code",
      "metadata": {
        "id": "d2N1GLhas0J8",
        "colab": {
          "base_uri": "https://localhost:8080/",
          "height": 1000
        },
        "outputId": "73907ad0-f707-4e7b-e8de-1640e5a267f7"
      },
      "source": [
        "df_remuneracao"
      ],
      "execution_count": null,
      "outputs": [
        {
          "output_type": "execute_result",
          "data": {
            "text/html": [
              "<div>\n",
              "<style scoped>\n",
              "    .dataframe tbody tr th:only-of-type {\n",
              "        vertical-align: middle;\n",
              "    }\n",
              "\n",
              "    .dataframe tbody tr th {\n",
              "        vertical-align: top;\n",
              "    }\n",
              "\n",
              "    .dataframe thead th {\n",
              "        text-align: right;\n",
              "    }\n",
              "</style>\n",
              "<table border=\"1\" class=\"dataframe\">\n",
              "  <thead>\n",
              "    <tr style=\"text-align: right;\">\n",
              "      <th></th>\n",
              "      <th>Competência</th>\n",
              "      <th>Indicadores</th>\n",
              "      <th>Remuneração</th>\n",
              "      <th>Seq.</th>\n",
              "    </tr>\n",
              "  </thead>\n",
              "  <tbody>\n",
              "    <tr>\n",
              "      <th>0</th>\n",
              "      <td>09/1987</td>\n",
              "      <td>None</td>\n",
              "      <td>15.051,99</td>\n",
              "      <td>2</td>\n",
              "    </tr>\n",
              "    <tr>\n",
              "      <th>1</th>\n",
              "      <td>10/1987</td>\n",
              "      <td>None</td>\n",
              "      <td>20.555,00</td>\n",
              "      <td>2</td>\n",
              "    </tr>\n",
              "    <tr>\n",
              "      <th>2</th>\n",
              "      <td>11/1987</td>\n",
              "      <td>None</td>\n",
              "      <td>26.979,99</td>\n",
              "      <td>2</td>\n",
              "    </tr>\n",
              "    <tr>\n",
              "      <th>3</th>\n",
              "      <td>12/1987</td>\n",
              "      <td>None</td>\n",
              "      <td>28.374,99</td>\n",
              "      <td>2</td>\n",
              "    </tr>\n",
              "    <tr>\n",
              "      <th>4</th>\n",
              "      <td>01/1988</td>\n",
              "      <td>None</td>\n",
              "      <td>30.982,98</td>\n",
              "      <td>2</td>\n",
              "    </tr>\n",
              "    <tr>\n",
              "      <th>5</th>\n",
              "      <td>02/1988</td>\n",
              "      <td>None</td>\n",
              "      <td>38.905,99</td>\n",
              "      <td>2</td>\n",
              "    </tr>\n",
              "    <tr>\n",
              "      <th>6</th>\n",
              "      <td>03/1988</td>\n",
              "      <td>None</td>\n",
              "      <td>45.205,00</td>\n",
              "      <td>2</td>\n",
              "    </tr>\n",
              "    <tr>\n",
              "      <th>7</th>\n",
              "      <td>04/1988</td>\n",
              "      <td>None</td>\n",
              "      <td>67.807,99</td>\n",
              "      <td>2</td>\n",
              "    </tr>\n",
              "    <tr>\n",
              "      <th>8</th>\n",
              "      <td>05/1988</td>\n",
              "      <td>None</td>\n",
              "      <td>78.786,98</td>\n",
              "      <td>2</td>\n",
              "    </tr>\n",
              "    <tr>\n",
              "      <th>9</th>\n",
              "      <td>06/1988</td>\n",
              "      <td>None</td>\n",
              "      <td>92.716,99</td>\n",
              "      <td>2</td>\n",
              "    </tr>\n",
              "    <tr>\n",
              "      <th>10</th>\n",
              "      <td>07/1988</td>\n",
              "      <td>None</td>\n",
              "      <td>109.109,96</td>\n",
              "      <td>2</td>\n",
              "    </tr>\n",
              "    <tr>\n",
              "      <th>11</th>\n",
              "      <td>08/1988</td>\n",
              "      <td>None</td>\n",
              "      <td>128.401,02</td>\n",
              "      <td>2</td>\n",
              "    </tr>\n",
              "    <tr>\n",
              "      <th>12</th>\n",
              "      <td>09/1988</td>\n",
              "      <td>None</td>\n",
              "      <td>155.865,98</td>\n",
              "      <td>2</td>\n",
              "    </tr>\n",
              "    <tr>\n",
              "      <th>13</th>\n",
              "      <td>10/1988</td>\n",
              "      <td>None</td>\n",
              "      <td>240.950,04</td>\n",
              "      <td>2</td>\n",
              "    </tr>\n",
              "    <tr>\n",
              "      <th>14</th>\n",
              "      <td>11/1988</td>\n",
              "      <td>None</td>\n",
              "      <td>321.741,02</td>\n",
              "      <td>2</td>\n",
              "    </tr>\n",
              "    <tr>\n",
              "      <th>15</th>\n",
              "      <td>12/1988</td>\n",
              "      <td>None</td>\n",
              "      <td>446.235,00</td>\n",
              "      <td>2</td>\n",
              "    </tr>\n",
              "    <tr>\n",
              "      <th>16</th>\n",
              "      <td>01/1989</td>\n",
              "      <td>None</td>\n",
              "      <td>620,00</td>\n",
              "      <td>2</td>\n",
              "    </tr>\n",
              "    <tr>\n",
              "      <th>17</th>\n",
              "      <td>02/1989</td>\n",
              "      <td>None</td>\n",
              "      <td>525,99</td>\n",
              "      <td>2</td>\n",
              "    </tr>\n",
              "    <tr>\n",
              "      <th>18</th>\n",
              "      <td>03/1989</td>\n",
              "      <td>None</td>\n",
              "      <td>500,99</td>\n",
              "      <td>2</td>\n",
              "    </tr>\n",
              "    <tr>\n",
              "      <th>19</th>\n",
              "      <td>04/1989</td>\n",
              "      <td>None</td>\n",
              "      <td>983,00</td>\n",
              "      <td>2</td>\n",
              "    </tr>\n",
              "    <tr>\n",
              "      <th>20</th>\n",
              "      <td>05/1989</td>\n",
              "      <td>None</td>\n",
              "      <td>1.225,99</td>\n",
              "      <td>2</td>\n",
              "    </tr>\n",
              "    <tr>\n",
              "      <th>21</th>\n",
              "      <td>06/1989</td>\n",
              "      <td>None</td>\n",
              "      <td>1.333,00</td>\n",
              "      <td>2</td>\n",
              "    </tr>\n",
              "    <tr>\n",
              "      <th>22</th>\n",
              "      <td>07/1989</td>\n",
              "      <td>None</td>\n",
              "      <td>2.191,00</td>\n",
              "      <td>2</td>\n",
              "    </tr>\n",
              "    <tr>\n",
              "      <th>23</th>\n",
              "      <td>08/1989</td>\n",
              "      <td>None</td>\n",
              "      <td>2.390,99</td>\n",
              "      <td>2</td>\n",
              "    </tr>\n",
              "    <tr>\n",
              "      <th>24</th>\n",
              "      <td>09/1989</td>\n",
              "      <td>None</td>\n",
              "      <td>1.252,00</td>\n",
              "      <td>2</td>\n",
              "    </tr>\n",
              "    <tr>\n",
              "      <th>25</th>\n",
              "      <td>10/1989</td>\n",
              "      <td>None</td>\n",
              "      <td>4.854,99</td>\n",
              "      <td>2</td>\n",
              "    </tr>\n",
              "    <tr>\n",
              "      <th>26</th>\n",
              "      <td>11/1989</td>\n",
              "      <td>None</td>\n",
              "      <td>8.242,00</td>\n",
              "      <td>2</td>\n",
              "    </tr>\n",
              "    <tr>\n",
              "      <th>27</th>\n",
              "      <td>12/1989</td>\n",
              "      <td>None</td>\n",
              "      <td>12.631,00</td>\n",
              "      <td>2</td>\n",
              "    </tr>\n",
              "    <tr>\n",
              "      <th>28</th>\n",
              "      <td>07/1991</td>\n",
              "      <td>None</td>\n",
              "      <td>147.704,50</td>\n",
              "      <td>3</td>\n",
              "    </tr>\n",
              "    <tr>\n",
              "      <th>29</th>\n",
              "      <td>08/1991</td>\n",
              "      <td>None</td>\n",
              "      <td>312.953,00</td>\n",
              "      <td>3</td>\n",
              "    </tr>\n",
              "    <tr>\n",
              "      <th>30</th>\n",
              "      <td>09/1991</td>\n",
              "      <td>None</td>\n",
              "      <td>359.893,80</td>\n",
              "      <td>3</td>\n",
              "    </tr>\n",
              "  </tbody>\n",
              "</table>\n",
              "</div>"
            ],
            "text/plain": [
              "   Competência Indicadores Remuneração Seq.\n",
              "0      09/1987        None   15.051,99    2\n",
              "1      10/1987        None   20.555,00    2\n",
              "2      11/1987        None   26.979,99    2\n",
              "3      12/1987        None   28.374,99    2\n",
              "4      01/1988        None   30.982,98    2\n",
              "5      02/1988        None   38.905,99    2\n",
              "6      03/1988        None   45.205,00    2\n",
              "7      04/1988        None   67.807,99    2\n",
              "8      05/1988        None   78.786,98    2\n",
              "9      06/1988        None   92.716,99    2\n",
              "10     07/1988        None  109.109,96    2\n",
              "11     08/1988        None  128.401,02    2\n",
              "12     09/1988        None  155.865,98    2\n",
              "13     10/1988        None  240.950,04    2\n",
              "14     11/1988        None  321.741,02    2\n",
              "15     12/1988        None  446.235,00    2\n",
              "16     01/1989        None      620,00    2\n",
              "17     02/1989        None      525,99    2\n",
              "18     03/1989        None      500,99    2\n",
              "19     04/1989        None      983,00    2\n",
              "20     05/1989        None    1.225,99    2\n",
              "21     06/1989        None    1.333,00    2\n",
              "22     07/1989        None    2.191,00    2\n",
              "23     08/1989        None    2.390,99    2\n",
              "24     09/1989        None    1.252,00    2\n",
              "25     10/1989        None    4.854,99    2\n",
              "26     11/1989        None    8.242,00    2\n",
              "27     12/1989        None   12.631,00    2\n",
              "28     07/1991        None  147.704,50    3\n",
              "29     08/1991        None  312.953,00    3\n",
              "30     09/1991        None  359.893,80    3"
            ]
          },
          "metadata": {},
          "execution_count": 77
        }
      ]
    }
  ]
}