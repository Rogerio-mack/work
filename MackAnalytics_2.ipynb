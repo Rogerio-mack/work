{
  "nbformat": 4,
  "nbformat_minor": 0,
  "metadata": {
    "colab": {
      "name": "MackAnalytics_2.ipynb",
      "provenance": [],
      "authorship_tag": "ABX9TyOa7HMKeMFZPyZXLI0JLA5x",
      "include_colab_link": true
    },
    "kernelspec": {
      "name": "python3",
      "display_name": "Python 3"
    },
    "language_info": {
      "name": "python"
    }
  },
  "cells": [
    {
      "cell_type": "markdown",
      "metadata": {
        "id": "view-in-github",
        "colab_type": "text"
      },
      "source": [
        "<a href=\"https://colab.research.google.com/github/Rogerio-mack/work/blob/main/MackAnalytics_2.ipynb\" target=\"_parent\"><img src=\"https://colab.research.google.com/assets/colab-badge.svg\" alt=\"Open In Colab\"/></a>"
      ]
    },
    {
      "cell_type": "markdown",
      "metadata": {
        "id": "npzFTnbgseQX"
      },
      "source": [
        "# Notas do nosso segundo encontro\n",
        "\n",
        "Primeiros programas Python"
      ]
    },
    {
      "cell_type": "code",
      "metadata": {
        "colab": {
          "base_uri": "https://localhost:8080/"
        },
        "id": "O6BB07bnsdOw",
        "outputId": "d43265bd-336b-4bc6-df8e-55fe893d360a"
      },
      "source": [
        "print('Oi Pessoal!')"
      ],
      "execution_count": 1,
      "outputs": [
        {
          "output_type": "stream",
          "name": "stdout",
          "text": [
            "Oi Pessoal!\n"
          ]
        }
      ]
    },
    {
      "cell_type": "markdown",
      "metadata": {
        "id": "0bqGqRpytOp-"
      },
      "source": [
        "## Entrada de dados pelo terminal"
      ]
    },
    {
      "cell_type": "code",
      "metadata": {
        "colab": {
          "base_uri": "https://localhost:8080/"
        },
        "id": "nWi1r9aoteKb",
        "outputId": "052611d7-1326-447e-d5a3-9f96381d55b6"
      },
      "source": [
        "nome = input('Entre com seu nome: ')\n",
        "print(nome)"
      ],
      "execution_count": 2,
      "outputs": [
        {
          "output_type": "stream",
          "name": "stdout",
          "text": [
            "Entre com seu nome: Bianca\n",
            "Bianca\n"
          ]
        }
      ]
    },
    {
      "cell_type": "code",
      "metadata": {
        "colab": {
          "base_uri": "https://localhost:8080/"
        },
        "id": "9Ixn5rbAtyEv",
        "outputId": "1cc81db5-2482-4b90-893b-8f36fc5adb73"
      },
      "source": [
        "type(nome)"
      ],
      "execution_count": 3,
      "outputs": [
        {
          "output_type": "execute_result",
          "data": {
            "text/plain": [
              "str"
            ]
          },
          "metadata": {},
          "execution_count": 3
        }
      ]
    },
    {
      "cell_type": "code",
      "metadata": {
        "colab": {
          "base_uri": "https://localhost:8080/"
        },
        "id": "GmXx93W-t379",
        "outputId": "17860745-95ad-457b-bbaa-4e07792fa717"
      },
      "source": [
        "idade = input('Entre com sua idade: ')\n",
        "print(idade)\n",
        "print( type(idade) )\n"
      ],
      "execution_count": 4,
      "outputs": [
        {
          "output_type": "stream",
          "name": "stdout",
          "text": [
            "Entre com sua idade: 18\n",
            "18\n",
            "<class 'str'>\n"
          ]
        }
      ]
    },
    {
      "cell_type": "code",
      "metadata": {
        "colab": {
          "base_uri": "https://localhost:8080/"
        },
        "id": "z5osFNZquI2E",
        "outputId": "0f4cc73b-b851-4a23-ea97-5caa2217abce"
      },
      "source": [
        "idade = int( input('Entre com sua idade: ') )\n",
        "print(idade)\n",
        "print( type(idade) )"
      ],
      "execution_count": 6,
      "outputs": [
        {
          "output_type": "stream",
          "name": "stdout",
          "text": [
            "Entre com sua idade: 18\n",
            "18\n",
            "<class 'int'>\n"
          ]
        }
      ]
    },
    {
      "cell_type": "code",
      "metadata": {
        "colab": {
          "base_uri": "https://localhost:8080/"
        },
        "id": "dJ3U4knSuUcg",
        "outputId": "1b0713b4-1659-4ec0-e3fd-f86b5a91c1b1"
      },
      "source": [
        "prox_niver = idade + 1\n",
        "print(prox_niver)"
      ],
      "execution_count": 7,
      "outputs": [
        {
          "output_type": "stream",
          "name": "stdout",
          "text": [
            "19\n"
          ]
        }
      ]
    },
    {
      "cell_type": "markdown",
      "metadata": {
        "id": "MCUhegDKunZP"
      },
      "source": [
        "# Variáveis em Python"
      ]
    },
    {
      "cell_type": "code",
      "metadata": {
        "id": "4M4wRlkCBq7R",
        "colab": {
          "base_uri": "https://localhost:8080/"
        },
        "outputId": "40b904fd-6fef-45d4-b01e-6343a859ff8c"
      },
      "source": [
        "var = 10           ; print(var); print(type(var))\n",
        "var = 3.1416       ; print(var); print(type(var))\n",
        "var = 'x'          ; print(var); print(type(var))\n",
        "var = 'Hello'      ; print(var); print(type(var))"
      ],
      "execution_count": 8,
      "outputs": [
        {
          "output_type": "stream",
          "name": "stdout",
          "text": [
            "10\n",
            "<class 'int'>\n",
            "3.1416\n",
            "<class 'float'>\n",
            "x\n",
            "<class 'str'>\n",
            "Hello\n",
            "<class 'str'>\n"
          ]
        }
      ]
    },
    {
      "cell_type": "markdown",
      "metadata": {
        "id": "sJ-v166pv0g2"
      },
      "source": [
        "## Numéricos"
      ]
    },
    {
      "cell_type": "code",
      "metadata": {
        "id": "sG3tCmvGv4I8"
      },
      "source": [
        "r = 2\n",
        "pi = 3.1416"
      ],
      "execution_count": 14,
      "outputs": []
    },
    {
      "cell_type": "code",
      "metadata": {
        "colab": {
          "base_uri": "https://localhost:8080/"
        },
        "id": "xNLgFh-bv92a",
        "outputId": "eaa15d55-c9c9-4457-bf28-4b51f7dad1aa"
      },
      "source": [
        "area = pi*r**2\n",
        "area"
      ],
      "execution_count": 15,
      "outputs": [
        {
          "output_type": "execute_result",
          "data": {
            "text/plain": [
              "12.5664"
            ]
          },
          "metadata": {},
          "execution_count": 15
        }
      ]
    },
    {
      "cell_type": "code",
      "metadata": {
        "colab": {
          "base_uri": "https://localhost:8080/"
        },
        "id": "b4fszDnuwTqb",
        "outputId": "345b81fd-4106-445e-97ff-301438139739"
      },
      "source": [
        "r**(1/2)"
      ],
      "execution_count": 18,
      "outputs": [
        {
          "output_type": "execute_result",
          "data": {
            "text/plain": [
              "1.4142135623730951"
            ]
          },
          "metadata": {},
          "execution_count": 18
        }
      ]
    },
    {
      "cell_type": "markdown",
      "metadata": {
        "id": "LWItVeu9vxqn"
      },
      "source": [
        "## Strings\n",
        "\n"
      ]
    },
    {
      "cell_type": "code",
      "metadata": {
        "colab": {
          "base_uri": "https://localhost:8080/"
        },
        "id": "cF36HkWTwjsP",
        "outputId": "5378e132-d11e-4b83-a97b-25d2024f0676"
      },
      "source": [
        "texto = 'To be or not to be'\n",
        "print(texto) \n",
        "print(type(texto))"
      ],
      "execution_count": 20,
      "outputs": [
        {
          "output_type": "stream",
          "name": "stdout",
          "text": [
            "To be or not to be\n",
            "<class 'str'>\n"
          ]
        }
      ]
    },
    {
      "cell_type": "code",
      "metadata": {
        "colab": {
          "base_uri": "https://localhost:8080/"
        },
        "id": "eDGdjOJMww6s",
        "outputId": "7bda5be0-838f-4d1b-e28a-0eff8ea53009"
      },
      "source": [
        "print('012345678901234567890')\n",
        "print(texto)"
      ],
      "execution_count": 21,
      "outputs": [
        {
          "output_type": "stream",
          "name": "stdout",
          "text": [
            "012345678901234567890\n",
            "To be or not to be\n"
          ]
        }
      ]
    },
    {
      "cell_type": "code",
      "metadata": {
        "colab": {
          "base_uri": "https://localhost:8080/",
          "height": 35
        },
        "id": "bq0OOgSKxNej",
        "outputId": "33537b87-5d4f-4cef-db40-5e1dae2fc626"
      },
      "source": [
        "texto[0:4]"
      ],
      "execution_count": 22,
      "outputs": [
        {
          "output_type": "execute_result",
          "data": {
            "application/vnd.google.colaboratory.intrinsic+json": {
              "type": "string"
            },
            "text/plain": [
              "'To b'"
            ]
          },
          "metadata": {},
          "execution_count": 22
        }
      ]
    },
    {
      "cell_type": "markdown",
      "metadata": {
        "id": "gRu8eIYzyMZA"
      },
      "source": [
        "## Loops (Laços de Programa) "
      ]
    },
    {
      "cell_type": "markdown",
      "metadata": {
        "id": "oW0RQKKLydYZ"
      },
      "source": [
        "* Estrutura Sequencial"
      ]
    },
    {
      "cell_type": "code",
      "metadata": {
        "colab": {
          "base_uri": "https://localhost:8080/"
        },
        "id": "VChDmd0bygNC",
        "outputId": "e606331c-a701-4d54-a54d-3cac4388a96b"
      },
      "source": [
        "x = int( input('Entre com um valor: '))\n",
        "x = x + 1\n",
        "x = x + 1\n",
        "x = x + 1\n",
        "x = x + 1\n",
        "x = x + 1\n",
        "x = x + 1\n",
        "x = x + 1\n",
        "x = x + 1\n",
        "x = x + 1\n",
        "x = x + 1\n",
        "print(x)"
      ],
      "execution_count": 25,
      "outputs": [
        {
          "output_type": "stream",
          "name": "stdout",
          "text": [
            "Entre com um valor: 10\n",
            "20\n"
          ]
        }
      ]
    },
    {
      "cell_type": "markdown",
      "metadata": {
        "id": "rbJedmVlzfCx"
      },
      "source": [
        "* Loop com `for`\n"
      ]
    },
    {
      "cell_type": "code",
      "metadata": {
        "colab": {
          "base_uri": "https://localhost:8080/"
        },
        "id": "3cX2_-NlziuA",
        "outputId": "770efe62-db88-47d1-a2e7-399002b154a5"
      },
      "source": [
        "x = int( input('Entre com um valor: '))\n",
        "\n",
        "for i in range(10):\n",
        "  x = x + 1\n",
        "  print(i)\n",
        "\n",
        "print(x)"
      ],
      "execution_count": 29,
      "outputs": [
        {
          "output_type": "stream",
          "name": "stdout",
          "text": [
            "Entre com um valor: 10\n",
            "0\n",
            "1\n",
            "2\n",
            "3\n",
            "4\n",
            "5\n",
            "6\n",
            "7\n",
            "8\n",
            "9\n",
            "20\n"
          ]
        }
      ]
    },
    {
      "cell_type": "markdown",
      "metadata": {
        "id": "FkRSX0690YmB"
      },
      "source": [
        "### `range`"
      ]
    },
    {
      "cell_type": "code",
      "metadata": {
        "colab": {
          "base_uri": "https://localhost:8080/"
        },
        "id": "LqOHgTO4z6ZN",
        "outputId": "52486eed-c577-4398-d438-5c531ce24266"
      },
      "source": [
        "# range( inicio, fim, passos )\n",
        "range(10)"
      ],
      "execution_count": 27,
      "outputs": [
        {
          "output_type": "execute_result",
          "data": {
            "text/plain": [
              "range(0, 10)"
            ]
          },
          "metadata": {},
          "execution_count": 27
        }
      ]
    },
    {
      "cell_type": "markdown",
      "metadata": {
        "id": "Z97K03Af0jIp"
      },
      "source": [
        "### Identação\n",
        "\n",
        "Erros comuns:\n",
        "\n",
        "```\n",
        "unexpected indent\n",
        "\n",
        "unindent does not match any outer indentation level\n",
        "```"
      ]
    },
    {
      "cell_type": "code",
      "metadata": {
        "colab": {
          "base_uri": "https://localhost:8080/"
        },
        "id": "Lk7Hkb8m0fni",
        "outputId": "cffb309c-f027-4c3b-b5f2-8fffca967535"
      },
      "source": [
        "x = int( input('Entre com um valor: '))\n",
        "\n",
        "for i in range(10):\n",
        "  x = x + 1\n",
        "  print(i)\n",
        "\n",
        "print(x)"
      ],
      "execution_count": 42,
      "outputs": [
        {
          "output_type": "stream",
          "name": "stdout",
          "text": [
            "Entre com um valor: 10\n",
            "0\n",
            "1\n",
            "2\n",
            "3\n",
            "4\n",
            "5\n",
            "6\n",
            "7\n",
            "8\n",
            "9\n",
            "20\n"
          ]
        }
      ]
    },
    {
      "cell_type": "markdown",
      "metadata": {
        "id": "NtMhnHH22LwZ"
      },
      "source": [
        "# If..."
      ]
    },
    {
      "cell_type": "code",
      "metadata": {
        "colab": {
          "base_uri": "https://localhost:8080/"
        },
        "id": "kjdVtO762Nzz",
        "outputId": "44692b4c-965b-45ac-b92f-c3b805437aa4"
      },
      "source": [
        "x = int( input('Entre com um valor maior ou igual a 10: '))\n",
        "\n",
        "if x >= 10:\n",
        "  \n",
        "  for i in range(10):\n",
        "    x = x + 1\n",
        "    print(i)\n",
        "  \n",
        "  print(x)  \n",
        "\n",
        "else:\n",
        "  print('Número precisa ser maior ou igual a 10.')    \n",
        "\n"
      ],
      "execution_count": 46,
      "outputs": [
        {
          "output_type": "stream",
          "name": "stdout",
          "text": [
            "Entre com um valor maior ou igual a 10: 10\n",
            "0\n",
            "1\n",
            "2\n",
            "3\n",
            "4\n",
            "5\n",
            "6\n",
            "7\n",
            "8\n",
            "9\n",
            "20\n"
          ]
        }
      ]
    }
  ]
}