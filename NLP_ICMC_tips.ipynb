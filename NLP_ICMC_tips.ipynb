{
  "nbformat": 4,
  "nbformat_minor": 0,
  "metadata": {
    "colab": {
      "name": "NLP_ICMC_tips.ipynb",
      "provenance": [],
      "collapsed_sections": [],
      "authorship_tag": "ABX9TyNEtvpA1y9kwikQpM2f2e1I",
      "include_colab_link": true
    },
    "kernelspec": {
      "name": "python3",
      "display_name": "Python 3"
    },
    "language_info": {
      "name": "python"
    }
  },
  "cells": [
    {
      "cell_type": "markdown",
      "metadata": {
        "id": "view-in-github",
        "colab_type": "text"
      },
      "source": [
        "<a href=\"https://colab.research.google.com/github/Rogerio-mack/work/blob/main/NLP_ICMC_tips.ipynb\" target=\"_parent\"><img src=\"https://colab.research.google.com/assets/colab-badge.svg\" alt=\"Open In Colab\"/></a>"
      ]
    },
    {
      "cell_type": "markdown",
      "metadata": {
        "id": "qwIMMugUF2SS"
      },
      "source": [
        "https://cursosextensao.usp.br/course/view.php?id=2721"
      ]
    },
    {
      "cell_type": "markdown",
      "metadata": {
        "id": "Zy9M1Nq3hCPS"
      },
      "source": [
        "# Create e Write a file"
      ]
    },
    {
      "cell_type": "code",
      "metadata": {
        "id": "_Lp2u-Inf0MB"
      },
      "source": [
        "outfile = open('/content/output.txt','w')\n",
        "for texto in ['Hello!\\n','Aqui estamos... \\n']:\n",
        "  outfile.write(texto)\n",
        "\n",
        "outfile.close()\n"
      ],
      "execution_count": 53,
      "outputs": []
    },
    {
      "cell_type": "markdown",
      "metadata": {
        "id": "lJj3ESHAhJ2r"
      },
      "source": [
        "# Write *append* in a file"
      ]
    },
    {
      "cell_type": "code",
      "metadata": {
        "id": "VXddnjzYg3xy"
      },
      "source": [
        "outfile = open('/content/output.txt','a')\n",
        "outfile.write('Até breve!')\n",
        "\n",
        "outfile.close()"
      ],
      "execution_count": 54,
      "outputs": []
    },
    {
      "cell_type": "markdown",
      "metadata": {
        "id": "_TsI-QDWpTCy"
      },
      "source": [
        "# Create e Write a file 2"
      ]
    },
    {
      "cell_type": "code",
      "metadata": {
        "id": "DEMlJlyWo9tu"
      },
      "source": [
        "poema = \"\"\"Ou se tem chuva e não se tem sol,\n",
        "ou se tem sol e não se tem chuva!\n",
        "Ou se calça a luva e não se põe o anel,\n",
        "ou se põe o anel e não se calça a luva!\n",
        "Quem sobe nos ares não fica no chão,\n",
        "quem fica no chão não sobe nos ares.\n",
        "É uma grande pena que não se possa\n",
        "estar ao mesmo tempo nos dois lugares!\n",
        "Ou guardo o dinheiro e não compro o doce,\n",
        "ou compro o doce e gasto o dinheiro.\n",
        "Ou isto ou aquilo: ou isto ou aquilo…\n",
        "e vivo escolhendo o dia inteiro!\n",
        "Não sei se brinco, não sei se estudo,\n",
        "se saio correndo ou fico tranquilo.\n",
        "Mas não consegui entender ainda\n",
        "qual é melhor: se é isto ou aquilo.\n",
        "\n",
        "(Ou Isto ou Aquilo – Cecília Meireles)\"\"\"\n",
        "\n",
        "outfile = open('/content/output.txt','w')\n",
        "for texto in poema:\n",
        "  outfile.write(texto)\n",
        "\n",
        "outfile.close()"
      ],
      "execution_count": 55,
      "outputs": []
    },
    {
      "cell_type": "markdown",
      "metadata": {
        "id": "kwoE65fQhPXk"
      },
      "source": [
        "# Read a file"
      ]
    },
    {
      "cell_type": "code",
      "metadata": {
        "colab": {
          "base_uri": "https://localhost:8080/"
        },
        "id": "kMos4wh-gE6U",
        "outputId": "63cc9053-68a4-45a0-b0fc-7cc66817c5da"
      },
      "source": [
        "infile = open('/content/output.txt','r')\n",
        "print(infile.read())\n",
        "infile.close()"
      ],
      "execution_count": 56,
      "outputs": [
        {
          "output_type": "stream",
          "name": "stdout",
          "text": [
            "Ou se tem chuva e não se tem sol,\n",
            "ou se tem sol e não se tem chuva!\n",
            "Ou se calça a luva e não se põe o anel,\n",
            "ou se põe o anel e não se calça a luva!\n",
            "Quem sobe nos ares não fica no chão,\n",
            "quem fica no chão não sobe nos ares.\n",
            "É uma grande pena que não se possa\n",
            "estar ao mesmo tempo nos dois lugares!\n",
            "Ou guardo o dinheiro e não compro o doce,\n",
            "ou compro o doce e gasto o dinheiro.\n",
            "Ou isto ou aquilo: ou isto ou aquilo…\n",
            "e vivo escolhendo o dia inteiro!\n",
            "Não sei se brinco, não sei se estudo,\n",
            "se saio correndo ou fico tranquilo.\n",
            "Mas não consegui entender ainda\n",
            "qual é melhor: se é isto ou aquilo.\n",
            "\n",
            "(Ou Isto ou Aquilo – Cecília Meireles)\n"
          ]
        }
      ]
    },
    {
      "cell_type": "markdown",
      "metadata": {
        "id": "Cp1Ft2vqiu1C"
      },
      "source": [
        "# Read a file *line by line*\n"
      ]
    },
    {
      "cell_type": "code",
      "metadata": {
        "colab": {
          "base_uri": "https://localhost:8080/"
        },
        "id": "GMbkXP49i1gK",
        "outputId": "9b4b1742-f7fa-49de-f009-de373d6b16c8"
      },
      "source": [
        "infile = open('/content/output.txt','r') \n",
        "for line in infile:\n",
        "  print(line)\n",
        "\n",
        "infile.close()\n"
      ],
      "execution_count": 57,
      "outputs": [
        {
          "output_type": "stream",
          "name": "stdout",
          "text": [
            "Ou se tem chuva e não se tem sol,\n",
            "\n",
            "ou se tem sol e não se tem chuva!\n",
            "\n",
            "Ou se calça a luva e não se põe o anel,\n",
            "\n",
            "ou se põe o anel e não se calça a luva!\n",
            "\n",
            "Quem sobe nos ares não fica no chão,\n",
            "\n",
            "quem fica no chão não sobe nos ares.\n",
            "\n",
            "É uma grande pena que não se possa\n",
            "\n",
            "estar ao mesmo tempo nos dois lugares!\n",
            "\n",
            "Ou guardo o dinheiro e não compro o doce,\n",
            "\n",
            "ou compro o doce e gasto o dinheiro.\n",
            "\n",
            "Ou isto ou aquilo: ou isto ou aquilo…\n",
            "\n",
            "e vivo escolhendo o dia inteiro!\n",
            "\n",
            "Não sei se brinco, não sei se estudo,\n",
            "\n",
            "se saio correndo ou fico tranquilo.\n",
            "\n",
            "Mas não consegui entender ainda\n",
            "\n",
            "qual é melhor: se é isto ou aquilo.\n",
            "\n",
            "\n",
            "\n",
            "(Ou Isto ou Aquilo – Cecília Meireles)\n"
          ]
        }
      ]
    },
    {
      "cell_type": "markdown",
      "metadata": {
        "id": "gNSGytkKjZvy"
      },
      "source": [
        "### Colocando as linhas em uma lista"
      ]
    },
    {
      "cell_type": "code",
      "metadata": {
        "colab": {
          "base_uri": "https://localhost:8080/"
        },
        "id": "mREDvkpcjEED",
        "outputId": "9455819d-0786-4bf0-cac7-d6f544210eee"
      },
      "source": [
        "lista = [ ]\n",
        "infile = open('/content/output.txt','r') \n",
        "for line in infile:\n",
        "  lista.append(line)\n",
        "\n",
        "infile.close()\n",
        "\n",
        "lista  "
      ],
      "execution_count": 58,
      "outputs": [
        {
          "output_type": "execute_result",
          "data": {
            "text/plain": [
              "['Ou se tem chuva e não se tem sol,\\n',\n",
              " 'ou se tem sol e não se tem chuva!\\n',\n",
              " 'Ou se calça a luva e não se põe o anel,\\n',\n",
              " 'ou se põe o anel e não se calça a luva!\\n',\n",
              " 'Quem sobe nos ares não fica no chão,\\n',\n",
              " 'quem fica no chão não sobe nos ares.\\n',\n",
              " 'É uma grande pena que não se possa\\n',\n",
              " 'estar ao mesmo tempo nos dois lugares!\\n',\n",
              " 'Ou guardo o dinheiro e não compro o doce,\\n',\n",
              " 'ou compro o doce e gasto o dinheiro.\\n',\n",
              " 'Ou isto ou aquilo: ou isto ou aquilo…\\n',\n",
              " 'e vivo escolhendo o dia inteiro!\\n',\n",
              " 'Não sei se brinco, não sei se estudo,\\n',\n",
              " 'se saio correndo ou fico tranquilo.\\n',\n",
              " 'Mas não consegui entender ainda\\n',\n",
              " 'qual é melhor: se é isto ou aquilo.\\n',\n",
              " '\\n',\n",
              " '(Ou Isto ou Aquilo – Cecília Meireles)']"
            ]
          },
          "metadata": {},
          "execution_count": 58
        }
      ]
    },
    {
      "cell_type": "markdown",
      "metadata": {
        "id": "JSy4UB_6jgVy"
      },
      "source": [
        "### Eliminando *escape characteres*"
      ]
    },
    {
      "cell_type": "code",
      "metadata": {
        "colab": {
          "base_uri": "https://localhost:8080/"
        },
        "id": "3iHgi9CxjQ36",
        "outputId": "565d6087-444e-45b4-9fa8-819d89b36c82"
      },
      "source": [
        "lista = [ ]\n",
        "infile = open('/content/output.txt','r') \n",
        "for line in infile:\n",
        "  line = line.replace('\\n','')\n",
        "  lista.append(line)\n",
        "\n",
        "infile.close()\n",
        "\n",
        "lista  "
      ],
      "execution_count": 59,
      "outputs": [
        {
          "output_type": "execute_result",
          "data": {
            "text/plain": [
              "['Ou se tem chuva e não se tem sol,',\n",
              " 'ou se tem sol e não se tem chuva!',\n",
              " 'Ou se calça a luva e não se põe o anel,',\n",
              " 'ou se põe o anel e não se calça a luva!',\n",
              " 'Quem sobe nos ares não fica no chão,',\n",
              " 'quem fica no chão não sobe nos ares.',\n",
              " 'É uma grande pena que não se possa',\n",
              " 'estar ao mesmo tempo nos dois lugares!',\n",
              " 'Ou guardo o dinheiro e não compro o doce,',\n",
              " 'ou compro o doce e gasto o dinheiro.',\n",
              " 'Ou isto ou aquilo: ou isto ou aquilo…',\n",
              " 'e vivo escolhendo o dia inteiro!',\n",
              " 'Não sei se brinco, não sei se estudo,',\n",
              " 'se saio correndo ou fico tranquilo.',\n",
              " 'Mas não consegui entender ainda',\n",
              " 'qual é melhor: se é isto ou aquilo.',\n",
              " '',\n",
              " '(Ou Isto ou Aquilo – Cecília Meireles)']"
            ]
          },
          "metadata": {},
          "execution_count": 59
        }
      ]
    },
    {
      "cell_type": "markdown",
      "metadata": {
        "id": "LbmL6L5al-Vt"
      },
      "source": [
        "### Split *termos*"
      ]
    },
    {
      "cell_type": "code",
      "metadata": {
        "colab": {
          "base_uri": "https://localhost:8080/"
        },
        "id": "zBRoZTvOl-Vt",
        "outputId": "31577be2-b726-4192-8cc2-657e533f4976"
      },
      "source": [
        "lista = [ ]\n",
        "infile = open('/content/output.txt','r') \n",
        "for line in infile:\n",
        "  for r in['\\n','.','!']:\n",
        "    line = line.replace(r,'')\n",
        "  for termo in line.split(' '):\n",
        "    lista.append(termo)\n",
        "\n",
        "infile.close()\n",
        "\n",
        "lista  "
      ],
      "execution_count": 60,
      "outputs": [
        {
          "output_type": "execute_result",
          "data": {
            "text/plain": [
              "['Ou',\n",
              " 'se',\n",
              " 'tem',\n",
              " 'chuva',\n",
              " 'e',\n",
              " 'não',\n",
              " 'se',\n",
              " 'tem',\n",
              " 'sol,',\n",
              " 'ou',\n",
              " 'se',\n",
              " 'tem',\n",
              " 'sol',\n",
              " 'e',\n",
              " 'não',\n",
              " 'se',\n",
              " 'tem',\n",
              " 'chuva',\n",
              " 'Ou',\n",
              " 'se',\n",
              " 'calça',\n",
              " 'a',\n",
              " 'luva',\n",
              " 'e',\n",
              " 'não',\n",
              " 'se',\n",
              " 'põe',\n",
              " 'o',\n",
              " 'anel,',\n",
              " 'ou',\n",
              " 'se',\n",
              " 'põe',\n",
              " 'o',\n",
              " 'anel',\n",
              " 'e',\n",
              " 'não',\n",
              " 'se',\n",
              " 'calça',\n",
              " 'a',\n",
              " 'luva',\n",
              " 'Quem',\n",
              " 'sobe',\n",
              " 'nos',\n",
              " 'ares',\n",
              " 'não',\n",
              " 'fica',\n",
              " 'no',\n",
              " 'chão,',\n",
              " 'quem',\n",
              " 'fica',\n",
              " 'no',\n",
              " 'chão',\n",
              " 'não',\n",
              " 'sobe',\n",
              " 'nos',\n",
              " 'ares',\n",
              " 'É',\n",
              " 'uma',\n",
              " 'grande',\n",
              " 'pena',\n",
              " 'que',\n",
              " 'não',\n",
              " 'se',\n",
              " 'possa',\n",
              " 'estar',\n",
              " 'ao',\n",
              " 'mesmo',\n",
              " 'tempo',\n",
              " 'nos',\n",
              " 'dois',\n",
              " 'lugares',\n",
              " 'Ou',\n",
              " 'guardo',\n",
              " 'o',\n",
              " 'dinheiro',\n",
              " 'e',\n",
              " 'não',\n",
              " 'compro',\n",
              " 'o',\n",
              " 'doce,',\n",
              " 'ou',\n",
              " 'compro',\n",
              " 'o',\n",
              " 'doce',\n",
              " 'e',\n",
              " 'gasto',\n",
              " 'o',\n",
              " 'dinheiro',\n",
              " 'Ou',\n",
              " 'isto',\n",
              " 'ou',\n",
              " 'aquilo:',\n",
              " 'ou',\n",
              " 'isto',\n",
              " 'ou',\n",
              " 'aquilo…',\n",
              " 'e',\n",
              " 'vivo',\n",
              " 'escolhendo',\n",
              " 'o',\n",
              " 'dia',\n",
              " 'inteiro',\n",
              " 'Não',\n",
              " 'sei',\n",
              " 'se',\n",
              " 'brinco,',\n",
              " 'não',\n",
              " 'sei',\n",
              " 'se',\n",
              " 'estudo,',\n",
              " 'se',\n",
              " 'saio',\n",
              " 'correndo',\n",
              " 'ou',\n",
              " 'fico',\n",
              " 'tranquilo',\n",
              " 'Mas',\n",
              " 'não',\n",
              " 'consegui',\n",
              " 'entender',\n",
              " 'ainda',\n",
              " 'qual',\n",
              " 'é',\n",
              " 'melhor:',\n",
              " 'se',\n",
              " 'é',\n",
              " 'isto',\n",
              " 'ou',\n",
              " 'aquilo',\n",
              " '',\n",
              " '(Ou',\n",
              " 'Isto',\n",
              " 'ou',\n",
              " 'Aquilo',\n",
              " '–',\n",
              " 'Cecília',\n",
              " 'Meireles)']"
            ]
          },
          "metadata": {},
          "execution_count": 60
        }
      ]
    },
    {
      "cell_type": "markdown",
      "metadata": {
        "id": "6nEzlEKdncA_"
      },
      "source": [
        "### Lower e Strip"
      ]
    },
    {
      "cell_type": "code",
      "metadata": {
        "colab": {
          "base_uri": "https://localhost:8080/"
        },
        "id": "y-0RPnk5ncA_",
        "outputId": "bdcb1e97-ccb2-4c71-bdbb-90da27b2982c"
      },
      "source": [
        "lista = [ ]\n",
        "infile = open('/content/output.txt','r') \n",
        "for line in infile:\n",
        "  for r in['\\n','.','!']:\n",
        "    line = line.replace(r,'')\n",
        "  line = line.strip()  # Elimina brancos no início ou no final\n",
        "  for termo in line.split(' '):\n",
        "    lista.append(termo.lower())\n",
        "\n",
        "infile.close()\n",
        "\n",
        "lista  "
      ],
      "execution_count": 61,
      "outputs": [
        {
          "output_type": "execute_result",
          "data": {
            "text/plain": [
              "['ou',\n",
              " 'se',\n",
              " 'tem',\n",
              " 'chuva',\n",
              " 'e',\n",
              " 'não',\n",
              " 'se',\n",
              " 'tem',\n",
              " 'sol,',\n",
              " 'ou',\n",
              " 'se',\n",
              " 'tem',\n",
              " 'sol',\n",
              " 'e',\n",
              " 'não',\n",
              " 'se',\n",
              " 'tem',\n",
              " 'chuva',\n",
              " 'ou',\n",
              " 'se',\n",
              " 'calça',\n",
              " 'a',\n",
              " 'luva',\n",
              " 'e',\n",
              " 'não',\n",
              " 'se',\n",
              " 'põe',\n",
              " 'o',\n",
              " 'anel,',\n",
              " 'ou',\n",
              " 'se',\n",
              " 'põe',\n",
              " 'o',\n",
              " 'anel',\n",
              " 'e',\n",
              " 'não',\n",
              " 'se',\n",
              " 'calça',\n",
              " 'a',\n",
              " 'luva',\n",
              " 'quem',\n",
              " 'sobe',\n",
              " 'nos',\n",
              " 'ares',\n",
              " 'não',\n",
              " 'fica',\n",
              " 'no',\n",
              " 'chão,',\n",
              " 'quem',\n",
              " 'fica',\n",
              " 'no',\n",
              " 'chão',\n",
              " 'não',\n",
              " 'sobe',\n",
              " 'nos',\n",
              " 'ares',\n",
              " 'é',\n",
              " 'uma',\n",
              " 'grande',\n",
              " 'pena',\n",
              " 'que',\n",
              " 'não',\n",
              " 'se',\n",
              " 'possa',\n",
              " 'estar',\n",
              " 'ao',\n",
              " 'mesmo',\n",
              " 'tempo',\n",
              " 'nos',\n",
              " 'dois',\n",
              " 'lugares',\n",
              " 'ou',\n",
              " 'guardo',\n",
              " 'o',\n",
              " 'dinheiro',\n",
              " 'e',\n",
              " 'não',\n",
              " 'compro',\n",
              " 'o',\n",
              " 'doce,',\n",
              " 'ou',\n",
              " 'compro',\n",
              " 'o',\n",
              " 'doce',\n",
              " 'e',\n",
              " 'gasto',\n",
              " 'o',\n",
              " 'dinheiro',\n",
              " 'ou',\n",
              " 'isto',\n",
              " 'ou',\n",
              " 'aquilo:',\n",
              " 'ou',\n",
              " 'isto',\n",
              " 'ou',\n",
              " 'aquilo…',\n",
              " 'e',\n",
              " 'vivo',\n",
              " 'escolhendo',\n",
              " 'o',\n",
              " 'dia',\n",
              " 'inteiro',\n",
              " 'não',\n",
              " 'sei',\n",
              " 'se',\n",
              " 'brinco,',\n",
              " 'não',\n",
              " 'sei',\n",
              " 'se',\n",
              " 'estudo,',\n",
              " 'se',\n",
              " 'saio',\n",
              " 'correndo',\n",
              " 'ou',\n",
              " 'fico',\n",
              " 'tranquilo',\n",
              " 'mas',\n",
              " 'não',\n",
              " 'consegui',\n",
              " 'entender',\n",
              " 'ainda',\n",
              " 'qual',\n",
              " 'é',\n",
              " 'melhor:',\n",
              " 'se',\n",
              " 'é',\n",
              " 'isto',\n",
              " 'ou',\n",
              " 'aquilo',\n",
              " '',\n",
              " '(ou',\n",
              " 'isto',\n",
              " 'ou',\n",
              " 'aquilo',\n",
              " '–',\n",
              " 'cecília',\n",
              " 'meireles)']"
            ]
          },
          "metadata": {},
          "execution_count": 61
        }
      ]
    },
    {
      "cell_type": "code",
      "metadata": {
        "colab": {
          "base_uri": "https://localhost:8080/"
        },
        "id": "g-juyechp6_0",
        "outputId": "c6d18b9a-758a-4ec9-9553-7781bd33f6c2"
      },
      "source": [
        "lista = [ ]\n",
        "infile = open('/content/output.txt','r') \n",
        "texto = infile.read()\n",
        "\n",
        "for r in['\\n','.','!',',',')','(','-']:\n",
        "  texto = texto.replace(r,' ')\n",
        "for termo in texto.split(' '):\n",
        "  lista.append(termo.lower().strip())\n",
        "\n",
        "infile.close()\n",
        "\n",
        "lista  "
      ],
      "execution_count": 62,
      "outputs": [
        {
          "output_type": "execute_result",
          "data": {
            "text/plain": [
              "['ou',\n",
              " 'se',\n",
              " 'tem',\n",
              " 'chuva',\n",
              " 'e',\n",
              " 'não',\n",
              " 'se',\n",
              " 'tem',\n",
              " 'sol',\n",
              " '',\n",
              " 'ou',\n",
              " 'se',\n",
              " 'tem',\n",
              " 'sol',\n",
              " 'e',\n",
              " 'não',\n",
              " 'se',\n",
              " 'tem',\n",
              " 'chuva',\n",
              " '',\n",
              " 'ou',\n",
              " 'se',\n",
              " 'calça',\n",
              " 'a',\n",
              " 'luva',\n",
              " 'e',\n",
              " 'não',\n",
              " 'se',\n",
              " 'põe',\n",
              " 'o',\n",
              " 'anel',\n",
              " '',\n",
              " 'ou',\n",
              " 'se',\n",
              " 'põe',\n",
              " 'o',\n",
              " 'anel',\n",
              " 'e',\n",
              " 'não',\n",
              " 'se',\n",
              " 'calça',\n",
              " 'a',\n",
              " 'luva',\n",
              " '',\n",
              " 'quem',\n",
              " 'sobe',\n",
              " 'nos',\n",
              " 'ares',\n",
              " 'não',\n",
              " 'fica',\n",
              " 'no',\n",
              " 'chão',\n",
              " '',\n",
              " 'quem',\n",
              " 'fica',\n",
              " 'no',\n",
              " 'chão',\n",
              " 'não',\n",
              " 'sobe',\n",
              " 'nos',\n",
              " 'ares',\n",
              " '',\n",
              " 'é',\n",
              " 'uma',\n",
              " 'grande',\n",
              " 'pena',\n",
              " 'que',\n",
              " 'não',\n",
              " 'se',\n",
              " 'possa',\n",
              " 'estar',\n",
              " 'ao',\n",
              " 'mesmo',\n",
              " 'tempo',\n",
              " 'nos',\n",
              " 'dois',\n",
              " 'lugares',\n",
              " '',\n",
              " 'ou',\n",
              " 'guardo',\n",
              " 'o',\n",
              " 'dinheiro',\n",
              " 'e',\n",
              " 'não',\n",
              " 'compro',\n",
              " 'o',\n",
              " 'doce',\n",
              " '',\n",
              " 'ou',\n",
              " 'compro',\n",
              " 'o',\n",
              " 'doce',\n",
              " 'e',\n",
              " 'gasto',\n",
              " 'o',\n",
              " 'dinheiro',\n",
              " '',\n",
              " 'ou',\n",
              " 'isto',\n",
              " 'ou',\n",
              " 'aquilo:',\n",
              " 'ou',\n",
              " 'isto',\n",
              " 'ou',\n",
              " 'aquilo…',\n",
              " 'e',\n",
              " 'vivo',\n",
              " 'escolhendo',\n",
              " 'o',\n",
              " 'dia',\n",
              " 'inteiro',\n",
              " '',\n",
              " 'não',\n",
              " 'sei',\n",
              " 'se',\n",
              " 'brinco',\n",
              " '',\n",
              " 'não',\n",
              " 'sei',\n",
              " 'se',\n",
              " 'estudo',\n",
              " '',\n",
              " 'se',\n",
              " 'saio',\n",
              " 'correndo',\n",
              " 'ou',\n",
              " 'fico',\n",
              " 'tranquilo',\n",
              " '',\n",
              " 'mas',\n",
              " 'não',\n",
              " 'consegui',\n",
              " 'entender',\n",
              " 'ainda',\n",
              " 'qual',\n",
              " 'é',\n",
              " 'melhor:',\n",
              " 'se',\n",
              " 'é',\n",
              " 'isto',\n",
              " 'ou',\n",
              " 'aquilo',\n",
              " '',\n",
              " '',\n",
              " '',\n",
              " 'ou',\n",
              " 'isto',\n",
              " 'ou',\n",
              " 'aquilo',\n",
              " '–',\n",
              " 'cecília',\n",
              " 'meireles',\n",
              " '']"
            ]
          },
          "metadata": {},
          "execution_count": 62
        }
      ]
    },
    {
      "cell_type": "markdown",
      "metadata": {
        "id": "D8e5LmCJrRDl"
      },
      "source": [
        "# `join`, o contrário do `split`"
      ]
    },
    {
      "cell_type": "code",
      "metadata": {
        "colab": {
          "base_uri": "https://localhost:8080/"
        },
        "id": "RrwtYbiKrZpU",
        "outputId": "6191799a-fbcd-4823-e1d7-640350faceca"
      },
      "source": [
        "frase = 'Esta é uma frase completa'\n",
        "lista_frase = frase.split(' ')\n",
        "print(lista_frase)\n",
        "\n",
        "frase_reconstruida = '*'.join(lista_frase)\n",
        "print(frase_reconstruida)"
      ],
      "execution_count": 63,
      "outputs": [
        {
          "output_type": "stream",
          "name": "stdout",
          "text": [
            "['Esta', 'é', 'uma', 'frase', 'completa']\n",
            "Esta*é*uma*frase*completa\n"
          ]
        }
      ]
    },
    {
      "cell_type": "markdown",
      "metadata": {
        "id": "0sSsvSnjtiF8"
      },
      "source": [
        "# Remove `` (nulos etc.)"
      ]
    },
    {
      "cell_type": "code",
      "metadata": {
        "colab": {
          "base_uri": "https://localhost:8080/"
        },
        "id": "kIrqF11TtAEc",
        "outputId": "5e74aec7-edb8-4cde-c34c-76c36ef8896c"
      },
      "source": [
        "lista.remove('')\n",
        "\n",
        "# Cuidado: ERRADO\n",
        "# lista = lista.remove('')\n",
        "\n",
        "print(lista)"
      ],
      "execution_count": 64,
      "outputs": [
        {
          "output_type": "stream",
          "name": "stdout",
          "text": [
            "['ou', 'se', 'tem', 'chuva', 'e', 'não', 'se', 'tem', 'sol', 'ou', 'se', 'tem', 'sol', 'e', 'não', 'se', 'tem', 'chuva', '', 'ou', 'se', 'calça', 'a', 'luva', 'e', 'não', 'se', 'põe', 'o', 'anel', '', 'ou', 'se', 'põe', 'o', 'anel', 'e', 'não', 'se', 'calça', 'a', 'luva', '', 'quem', 'sobe', 'nos', 'ares', 'não', 'fica', 'no', 'chão', '', 'quem', 'fica', 'no', 'chão', 'não', 'sobe', 'nos', 'ares', '', 'é', 'uma', 'grande', 'pena', 'que', 'não', 'se', 'possa', 'estar', 'ao', 'mesmo', 'tempo', 'nos', 'dois', 'lugares', '', 'ou', 'guardo', 'o', 'dinheiro', 'e', 'não', 'compro', 'o', 'doce', '', 'ou', 'compro', 'o', 'doce', 'e', 'gasto', 'o', 'dinheiro', '', 'ou', 'isto', 'ou', 'aquilo:', 'ou', 'isto', 'ou', 'aquilo…', 'e', 'vivo', 'escolhendo', 'o', 'dia', 'inteiro', '', 'não', 'sei', 'se', 'brinco', '', 'não', 'sei', 'se', 'estudo', '', 'se', 'saio', 'correndo', 'ou', 'fico', 'tranquilo', '', 'mas', 'não', 'consegui', 'entender', 'ainda', 'qual', 'é', 'melhor:', 'se', 'é', 'isto', 'ou', 'aquilo', '', '', '', 'ou', 'isto', 'ou', 'aquilo', '–', 'cecília', 'meireles', '']\n"
          ]
        }
      ]
    },
    {
      "cell_type": "markdown",
      "metadata": {
        "id": "Cw3Joxk5sODU"
      },
      "source": [
        "# Tirando acentos `unicode`"
      ]
    },
    {
      "cell_type": "code",
      "metadata": {
        "colab": {
          "base_uri": "https://localhost:8080/"
        },
        "id": "nuowtZUWsYWl",
        "outputId": "773c07da-e7e0-415c-e578-567792ebb4be"
      },
      "source": [
        "!pip install unidecode"
      ],
      "execution_count": 48,
      "outputs": [
        {
          "output_type": "stream",
          "name": "stdout",
          "text": [
            "Collecting unidecode\n",
            "  Downloading Unidecode-1.3.2-py3-none-any.whl (235 kB)\n",
            "\u001b[?25l\r\u001b[K     |█▍                              | 10 kB 23.1 MB/s eta 0:00:01\r\u001b[K     |██▉                             | 20 kB 26.7 MB/s eta 0:00:01\r\u001b[K     |████▏                           | 30 kB 16.1 MB/s eta 0:00:01\r\u001b[K     |█████▋                          | 40 kB 11.9 MB/s eta 0:00:01\r\u001b[K     |███████                         | 51 kB 7.2 MB/s eta 0:00:01\r\u001b[K     |████████▍                       | 61 kB 7.7 MB/s eta 0:00:01\r\u001b[K     |█████████▊                      | 71 kB 7.3 MB/s eta 0:00:01\r\u001b[K     |███████████▏                    | 81 kB 8.1 MB/s eta 0:00:01\r\u001b[K     |████████████▌                   | 92 kB 8.0 MB/s eta 0:00:01\r\u001b[K     |██████████████                  | 102 kB 6.8 MB/s eta 0:00:01\r\u001b[K     |███████████████▎                | 112 kB 6.8 MB/s eta 0:00:01\r\u001b[K     |████████████████▊               | 122 kB 6.8 MB/s eta 0:00:01\r\u001b[K     |██████████████████              | 133 kB 6.8 MB/s eta 0:00:01\r\u001b[K     |███████████████████▌            | 143 kB 6.8 MB/s eta 0:00:01\r\u001b[K     |████████████████████▉           | 153 kB 6.8 MB/s eta 0:00:01\r\u001b[K     |██████████████████████▎         | 163 kB 6.8 MB/s eta 0:00:01\r\u001b[K     |███████████████████████▋        | 174 kB 6.8 MB/s eta 0:00:01\r\u001b[K     |█████████████████████████       | 184 kB 6.8 MB/s eta 0:00:01\r\u001b[K     |██████████████████████████▍     | 194 kB 6.8 MB/s eta 0:00:01\r\u001b[K     |███████████████████████████▉    | 204 kB 6.8 MB/s eta 0:00:01\r\u001b[K     |█████████████████████████████▏  | 215 kB 6.8 MB/s eta 0:00:01\r\u001b[K     |██████████████████████████████▋ | 225 kB 6.8 MB/s eta 0:00:01\r\u001b[K     |████████████████████████████████| 235 kB 6.8 MB/s eta 0:00:01\r\u001b[K     |████████████████████████████████| 235 kB 6.8 MB/s \n",
            "\u001b[?25hInstalling collected packages: unidecode\n",
            "Successfully installed unidecode-1.3.2\n"
          ]
        }
      ]
    },
    {
      "cell_type": "code",
      "metadata": {
        "colab": {
          "base_uri": "https://localhost:8080/"
        },
        "id": "fyGcWYTxsNPE",
        "outputId": "5bd096c4-6df3-46cb-cd40-d70b56763dfd"
      },
      "source": [
        "from unidecode import unidecode\n",
        "\n",
        "print(unidecode('Café'))\n",
        "\n"
      ],
      "execution_count": 49,
      "outputs": [
        {
          "output_type": "stream",
          "name": "stdout",
          "text": [
            "Cafe\n"
          ]
        }
      ]
    },
    {
      "cell_type": "code",
      "metadata": {
        "colab": {
          "base_uri": "https://localhost:8080/"
        },
        "id": "O1LTArgmvTHl",
        "outputId": "82af0e6c-cff5-4fb5-bf20-1331a87c916b"
      },
      "source": [
        "for i in range(len(lista)):\n",
        "  lista[i] = unidecode(lista[i])\n",
        "\n",
        "lista[0:20]"
      ],
      "execution_count": 70,
      "outputs": [
        {
          "output_type": "execute_result",
          "data": {
            "text/plain": [
              "['ou',\n",
              " 'se',\n",
              " 'tem',\n",
              " 'chuva',\n",
              " 'e',\n",
              " 'nao',\n",
              " 'se',\n",
              " 'tem',\n",
              " 'sol',\n",
              " 'ou',\n",
              " 'se',\n",
              " 'tem',\n",
              " 'sol',\n",
              " 'e',\n",
              " 'nao',\n",
              " 'se',\n",
              " 'tem',\n",
              " 'chuva',\n",
              " '',\n",
              " 'ou']"
            ]
          },
          "metadata": {},
          "execution_count": 70
        }
      ]
    },
    {
      "cell_type": "markdown",
      "metadata": {
        "id": "jOwwVeE_uO6V"
      },
      "source": [
        "# Dicionário"
      ]
    },
    {
      "cell_type": "code",
      "metadata": {
        "colab": {
          "base_uri": "https://localhost:8080/"
        },
        "id": "ld8eGAc3ulhN",
        "outputId": "66bf27ee-cea8-4651-d247-e76e84925954"
      },
      "source": [
        "set(lista)"
      ],
      "execution_count": 67,
      "outputs": [
        {
          "output_type": "execute_result",
          "data": {
            "text/plain": [
              "{'',\n",
              " 'a',\n",
              " 'ainda',\n",
              " 'anel',\n",
              " 'ao',\n",
              " 'aquilo',\n",
              " 'aquilo:',\n",
              " 'aquilo…',\n",
              " 'ares',\n",
              " 'brinco',\n",
              " 'calça',\n",
              " 'cecília',\n",
              " 'chuva',\n",
              " 'chão',\n",
              " 'compro',\n",
              " 'consegui',\n",
              " 'correndo',\n",
              " 'dia',\n",
              " 'dinheiro',\n",
              " 'doce',\n",
              " 'dois',\n",
              " 'e',\n",
              " 'entender',\n",
              " 'escolhendo',\n",
              " 'estar',\n",
              " 'estudo',\n",
              " 'fica',\n",
              " 'fico',\n",
              " 'gasto',\n",
              " 'grande',\n",
              " 'guardo',\n",
              " 'inteiro',\n",
              " 'isto',\n",
              " 'lugares',\n",
              " 'luva',\n",
              " 'mas',\n",
              " 'meireles',\n",
              " 'melhor:',\n",
              " 'mesmo',\n",
              " 'no',\n",
              " 'nos',\n",
              " 'não',\n",
              " 'o',\n",
              " 'ou',\n",
              " 'pena',\n",
              " 'possa',\n",
              " 'põe',\n",
              " 'qual',\n",
              " 'que',\n",
              " 'quem',\n",
              " 'saio',\n",
              " 'se',\n",
              " 'sei',\n",
              " 'sobe',\n",
              " 'sol',\n",
              " 'tem',\n",
              " 'tempo',\n",
              " 'tranquilo',\n",
              " 'uma',\n",
              " 'vivo',\n",
              " 'é',\n",
              " '–'}"
            ]
          },
          "metadata": {},
          "execution_count": 67
        }
      ]
    },
    {
      "cell_type": "code",
      "metadata": {
        "colab": {
          "base_uri": "https://localhost:8080/"
        },
        "id": "oy7Fpxtbt_os",
        "outputId": "ddf43a60-4914-49c7-d7ee-c4e21de04976"
      },
      "source": [
        "dic = {}\n",
        "\n",
        "for termo in set(lista):\n",
        "  dic[termo] = lista.count(termo)\n",
        "\n",
        "dic\n",
        "\n"
      ],
      "execution_count": 71,
      "outputs": [
        {
          "output_type": "execute_result",
          "data": {
            "text/plain": [
              "{'': 16,\n",
              " '-': 1,\n",
              " 'a': 2,\n",
              " 'ainda': 1,\n",
              " 'anel': 2,\n",
              " 'ao': 1,\n",
              " 'aquilo': 2,\n",
              " 'aquilo...': 1,\n",
              " 'aquilo:': 1,\n",
              " 'ares': 2,\n",
              " 'brinco': 1,\n",
              " 'calca': 2,\n",
              " 'cecilia': 1,\n",
              " 'chao': 2,\n",
              " 'chuva': 2,\n",
              " 'compro': 2,\n",
              " 'consegui': 1,\n",
              " 'correndo': 1,\n",
              " 'dia': 1,\n",
              " 'dinheiro': 2,\n",
              " 'doce': 2,\n",
              " 'dois': 1,\n",
              " 'e': 10,\n",
              " 'entender': 1,\n",
              " 'escolhendo': 1,\n",
              " 'estar': 1,\n",
              " 'estudo': 1,\n",
              " 'fica': 2,\n",
              " 'fico': 1,\n",
              " 'gasto': 1,\n",
              " 'grande': 1,\n",
              " 'guardo': 1,\n",
              " 'inteiro': 1,\n",
              " 'isto': 4,\n",
              " 'lugares': 1,\n",
              " 'luva': 2,\n",
              " 'mas': 1,\n",
              " 'meireles': 1,\n",
              " 'melhor:': 1,\n",
              " 'mesmo': 1,\n",
              " 'nao': 11,\n",
              " 'no': 2,\n",
              " 'nos': 3,\n",
              " 'o': 7,\n",
              " 'ou': 14,\n",
              " 'pena': 1,\n",
              " 'poe': 2,\n",
              " 'possa': 1,\n",
              " 'qual': 1,\n",
              " 'que': 1,\n",
              " 'quem': 2,\n",
              " 'saio': 1,\n",
              " 'se': 13,\n",
              " 'sei': 2,\n",
              " 'sobe': 2,\n",
              " 'sol': 2,\n",
              " 'tem': 4,\n",
              " 'tempo': 1,\n",
              " 'tranquilo': 1,\n",
              " 'uma': 1,\n",
              " 'vivo': 1}"
            ]
          },
          "metadata": {},
          "execution_count": 71
        }
      ]
    },
    {
      "cell_type": "markdown",
      "metadata": {
        "id": "JVmKQ9eWhohy"
      },
      "source": [
        "# Aspas Triplas\n",
        "\n"
      ]
    },
    {
      "cell_type": "code",
      "metadata": {
        "colab": {
          "base_uri": "https://localhost:8080/",
          "height": 35
        },
        "id": "YqGDZldPhyvh",
        "outputId": "7f1ce056-cd04-45d2-8c43-27711286d87f"
      },
      "source": [
        "\"\"\" Este Texto\n",
        "Tem\n",
        "Quebra \"\"\""
      ],
      "execution_count": 13,
      "outputs": [
        {
          "output_type": "execute_result",
          "data": {
            "application/vnd.google.colaboratory.intrinsic+json": {
              "type": "string"
            },
            "text/plain": [
              "' Este Texto\\nTem\\nQuebra '"
            ]
          },
          "metadata": {},
          "execution_count": 13
        }
      ]
    },
    {
      "cell_type": "markdown",
      "metadata": {
        "id": "xkpHQWu1wlBX"
      },
      "source": [
        "# NLTK\n",
        "\n",
        "https://www.nltk.org/book/\n",
        "\n",
        "Veja alguns corpus lá:\n",
        "\n",
        "* MacMorpho Corpus\tNILC, USP, Brazil\t1M words, tagged (Brazilian Portuguese)\n",
        "* Movie Reviews\tPang, Lee\t2k movie reviews with sentiment polarity classification\n"
      ]
    },
    {
      "cell_type": "code",
      "metadata": {
        "colab": {
          "base_uri": "https://localhost:8080/"
        },
        "id": "HFsuwD-nwmwu",
        "outputId": "1419cfd3-54d0-4e5b-d6fd-50ab4aef5637"
      },
      "source": [
        "import nltk\n",
        "nltk.download()\n"
      ],
      "execution_count": 74,
      "outputs": [
        {
          "name": "stdout",
          "output_type": "stream",
          "text": [
            "NLTK Downloader\n",
            "---------------------------------------------------------------------------\n",
            "    d) Download   l) List    u) Update   c) Config   h) Help   q) Quit\n",
            "---------------------------------------------------------------------------\n",
            "Downloader> l\n",
            "\n",
            "Packages:\n",
            "  [ ] abc................. Australian Broadcasting Commission 2006\n",
            "  [ ] alpino.............. Alpino Dutch Treebank\n",
            "  [ ] averaged_perceptron_tagger Averaged Perceptron Tagger\n",
            "  [ ] averaged_perceptron_tagger_ru Averaged Perceptron Tagger (Russian)\n",
            "  [ ] basque_grammars..... Grammars for Basque\n",
            "  [ ] biocreative_ppi..... BioCreAtIvE (Critical Assessment of Information\n",
            "                           Extraction Systems in Biology)\n",
            "  [ ] bllip_wsj_no_aux.... BLLIP Parser: WSJ Model\n",
            "  [ ] book_grammars....... Grammars from NLTK Book\n",
            "  [ ] brown............... Brown Corpus\n",
            "  [ ] brown_tei........... Brown Corpus (TEI XML Version)\n",
            "  [ ] cess_cat............ CESS-CAT Treebank\n",
            "  [ ] cess_esp............ CESS-ESP Treebank\n",
            "  [ ] chat80.............. Chat-80 Data Files\n",
            "  [ ] city_database....... City Database\n",
            "  [ ] cmudict............. The Carnegie Mellon Pronouncing Dictionary (0.6)\n",
            "  [ ] comparative_sentences Comparative Sentence Dataset\n",
            "  [ ] comtrans............ ComTrans Corpus Sample\n",
            "  [ ] conll2000........... CONLL 2000 Chunking Corpus\n",
            "  [ ] conll2002........... CONLL 2002 Named Entity Recognition Corpus\n",
            "Hit Enter to continue: \n",
            "  [ ] conll2007........... Dependency Treebanks from CoNLL 2007 (Catalan\n",
            "                           and Basque Subset)\n",
            "  [ ] crubadan............ Crubadan Corpus\n",
            "  [ ] dependency_treebank. Dependency Parsed Treebank\n",
            "  [ ] dolch............... Dolch Word List\n",
            "  [ ] europarl_raw........ Sample European Parliament Proceedings Parallel\n",
            "                           Corpus\n",
            "  [ ] floresta............ Portuguese Treebank\n",
            "  [ ] framenet_v15........ FrameNet 1.5\n",
            "  [ ] framenet_v17........ FrameNet 1.7\n",
            "  [ ] gazetteers.......... Gazeteer Lists\n",
            "  [ ] genesis............. Genesis Corpus\n",
            "  [ ] gutenberg........... Project Gutenberg Selections\n",
            "  [ ] ieer................ NIST IE-ER DATA SAMPLE\n",
            "  [ ] inaugural........... C-Span Inaugural Address Corpus\n",
            "  [ ] indian.............. Indian Language POS-Tagged Corpus\n",
            "  [ ] jeita............... JEITA Public Morphologically Tagged Corpus (in\n",
            "                           ChaSen format)\n",
            "  [ ] kimmo............... PC-KIMMO Data Files\n",
            "  [ ] knbc................ KNB Corpus (Annotated blog corpus)\n",
            "  [ ] large_grammars...... Large context-free and feature-based grammars\n",
            "                           for parser comparison\n",
            "Hit Enter to continue: \n",
            "  [ ] lin_thesaurus....... Lin's Dependency Thesaurus\n",
            "  [ ] mac_morpho.......... MAC-MORPHO: Brazilian Portuguese news text with\n",
            "                           part-of-speech tags\n",
            "  [ ] machado............. Machado de Assis -- Obra Completa\n",
            "  [ ] masc_tagged......... MASC Tagged Corpus\n",
            "  [ ] maxent_ne_chunker... ACE Named Entity Chunker (Maximum entropy)\n",
            "  [ ] maxent_treebank_pos_tagger Treebank Part of Speech Tagger (Maximum entropy)\n",
            "  [ ] moses_sample........ Moses Sample Models\n",
            "  [ ] movie_reviews....... Sentiment Polarity Dataset Version 2.0\n",
            "  [ ] mte_teip5........... MULTEXT-East 1984 annotated corpus 4.0\n",
            "  [ ] mwa_ppdb............ The monolingual word aligner (Sultan et al.\n",
            "                           2015) subset of the Paraphrase Database.\n",
            "  [ ] names............... Names Corpus, Version 1.3 (1994-03-29)\n",
            "  [ ] nombank.1.0......... NomBank Corpus 1.0\n",
            "  [ ] nonbreaking_prefixes Non-Breaking Prefixes (Moses Decoder)\n",
            "  [ ] nps_chat............ NPS Chat\n",
            "  [ ] omw................. Open Multilingual Wordnet\n",
            "  [ ] opinion_lexicon..... Opinion Lexicon\n",
            "  [ ] panlex_swadesh...... PanLex Swadesh Corpora\n",
            "  [ ] paradigms........... Paradigm Corpus\n",
            "  [ ] pe08................ Cross-Framework and Cross-Domain Parser\n",
            "                           Evaluation Shared Task\n",
            "Hit Enter to continue: \n",
            "  [ ] perluniprops........ perluniprops: Index of Unicode Version 7.0.0\n",
            "                           character properties in Perl\n",
            "  [ ] pil................. The Patient Information Leaflet (PIL) Corpus\n",
            "  [ ] pl196x.............. Polish language of the XX century sixties\n",
            "  [ ] porter_test......... Porter Stemmer Test Files\n",
            "  [ ] ppattach............ Prepositional Phrase Attachment Corpus\n",
            "  [ ] problem_reports..... Problem Report Corpus\n",
            "  [ ] product_reviews_1... Product Reviews (5 Products)\n",
            "  [ ] product_reviews_2... Product Reviews (9 Products)\n",
            "  [ ] propbank............ Proposition Bank Corpus 1.0\n",
            "  [ ] pros_cons........... Pros and Cons\n",
            "  [ ] ptb................. Penn Treebank\n",
            "  [ ] punkt............... Punkt Tokenizer Models\n",
            "  [ ] qc.................. Experimental Data for Question Classification\n",
            "  [ ] reuters............. The Reuters-21578 benchmark corpus, ApteMod\n",
            "                           version\n",
            "  [ ] rslp................ RSLP Stemmer (Removedor de Sufixos da Lingua\n",
            "                           Portuguesa)\n",
            "  [ ] rte................. PASCAL RTE Challenges 1, 2, and 3\n",
            "  [ ] sample_grammars..... Sample Grammars\n",
            "  [ ] semcor.............. SemCor 3.0\n",
            "Hit Enter to continue: \n",
            "  [ ] senseval............ SENSEVAL 2 Corpus: Sense Tagged Text\n",
            "  [ ] sentence_polarity... Sentence Polarity Dataset v1.0\n",
            "  [ ] sentiwordnet........ SentiWordNet\n",
            "  [ ] shakespeare......... Shakespeare XML Corpus Sample\n",
            "  [ ] sinica_treebank..... Sinica Treebank Corpus Sample\n",
            "  [ ] smultron............ SMULTRON Corpus Sample\n",
            "  [ ] snowball_data....... Snowball Data\n",
            "  [ ] spanish_grammars.... Grammars for Spanish\n",
            "  [ ] state_union......... C-Span State of the Union Address Corpus\n",
            "  [ ] stopwords........... Stopwords Corpus\n",
            "  [ ] subjectivity........ Subjectivity Dataset v1.0\n",
            "  [ ] swadesh............. Swadesh Wordlists\n",
            "  [ ] switchboard......... Switchboard Corpus Sample\n",
            "  [ ] tagsets............. Help on Tagsets\n",
            "  [ ] timit............... TIMIT Corpus Sample\n",
            "  [ ] toolbox............. Toolbox Sample Files\n",
            "  [ ] treebank............ Penn Treebank Sample\n",
            "  [ ] twitter_samples..... Twitter Samples\n",
            "  [ ] udhr2............... Universal Declaration of Human Rights Corpus\n",
            "                           (Unicode Version)\n",
            "  [ ] udhr................ Universal Declaration of Human Rights Corpus\n",
            "Hit Enter to continue: \n",
            "  [ ] unicode_samples..... Unicode Samples\n",
            "  [ ] universal_tagset.... Mappings to the Universal Part-of-Speech Tagset\n",
            "  [ ] universal_treebanks_v20 Universal Treebanks Version 2.0\n",
            "  [ ] vader_lexicon....... VADER Sentiment Lexicon\n",
            "  [ ] verbnet3............ VerbNet Lexicon, Version 3.3\n",
            "  [ ] verbnet............. VerbNet Lexicon, Version 2.1\n",
            "  [ ] webtext............. Web Text Corpus\n",
            "  [ ] wmt15_eval.......... Evaluation data from WMT15\n",
            "  [ ] word2vec_sample..... Word2Vec Sample\n",
            "  [ ] wordnet............. WordNet\n",
            "  [ ] wordnet_ic.......... WordNet-InfoContent\n",
            "  [ ] words............... Word Lists\n",
            "  [ ] ycoe................ York-Toronto-Helsinki Parsed Corpus of Old\n",
            "                           English Prose\n",
            "\n",
            "Collections:\n",
            "  [ ] all-corpora......... All the corpora\n",
            "  [ ] all-nltk............ All packages available on nltk_data gh-pages\n",
            "                           branch\n",
            "  [ ] all................. All packages\n",
            "  [ ] book................ Everything used in the NLTK Book\n",
            "  [ ] popular............. Popular packages\n",
            "Hit Enter to continue: \n",
            "Downloader> \n",
            "  [ ] tests............... Packages for running tests\n",
            "  [ ] third-party......... Third-party data packages\n",
            "\n",
            "([*] marks installed packages)\n",
            "\n",
            "---------------------------------------------------------------------------\n",
            "    d) Download   l) List    u) Update   c) Config   h) Help   q) Quit\n",
            "---------------------------------------------------------------------------\n",
            "\n",
            "---------------------------------------------------------------------------\n",
            "    d) Download   l) List    u) Update   c) Config   h) Help   q) Quit\n",
            "---------------------------------------------------------------------------\n",
            "Downloader> q\n"
          ]
        },
        {
          "output_type": "execute_result",
          "data": {
            "text/plain": [
              "True"
            ]
          },
          "metadata": {},
          "execution_count": 74
        }
      ]
    },
    {
      "cell_type": "markdown",
      "metadata": {
        "id": "o43unYoQ0GT_"
      },
      "source": [
        "# Download 'all'"
      ]
    },
    {
      "cell_type": "code",
      "metadata": {
        "colab": {
          "base_uri": "https://localhost:8080/"
        },
        "id": "gA_ocSiFyo3u",
        "outputId": "ef938a70-8cba-4cf0-ef84-68d35fab9672"
      },
      "source": [
        "nltk.download('all')\n"
      ],
      "execution_count": 76,
      "outputs": [
        {
          "output_type": "stream",
          "name": "stdout",
          "text": [
            "[nltk_data] Downloading collection 'all'\n",
            "[nltk_data]    | \n",
            "[nltk_data]    | Downloading package abc to /root/nltk_data...\n",
            "[nltk_data]    |   Unzipping corpora/abc.zip.\n",
            "[nltk_data]    | Downloading package alpino to /root/nltk_data...\n",
            "[nltk_data]    |   Unzipping corpora/alpino.zip.\n",
            "[nltk_data]    | Downloading package biocreative_ppi to\n",
            "[nltk_data]    |     /root/nltk_data...\n",
            "[nltk_data]    |   Unzipping corpora/biocreative_ppi.zip.\n",
            "[nltk_data]    | Downloading package brown to /root/nltk_data...\n",
            "[nltk_data]    |   Unzipping corpora/brown.zip.\n",
            "[nltk_data]    | Downloading package brown_tei to /root/nltk_data...\n",
            "[nltk_data]    |   Unzipping corpora/brown_tei.zip.\n",
            "[nltk_data]    | Downloading package cess_cat to /root/nltk_data...\n",
            "[nltk_data]    |   Unzipping corpora/cess_cat.zip.\n",
            "[nltk_data]    | Downloading package cess_esp to /root/nltk_data...\n",
            "[nltk_data]    |   Unzipping corpora/cess_esp.zip.\n",
            "[nltk_data]    | Downloading package chat80 to /root/nltk_data...\n",
            "[nltk_data]    |   Unzipping corpora/chat80.zip.\n",
            "[nltk_data]    | Downloading package city_database to\n",
            "[nltk_data]    |     /root/nltk_data...\n",
            "[nltk_data]    |   Unzipping corpora/city_database.zip.\n",
            "[nltk_data]    | Downloading package cmudict to /root/nltk_data...\n",
            "[nltk_data]    |   Unzipping corpora/cmudict.zip.\n",
            "[nltk_data]    | Downloading package comparative_sentences to\n",
            "[nltk_data]    |     /root/nltk_data...\n",
            "[nltk_data]    |   Unzipping corpora/comparative_sentences.zip.\n",
            "[nltk_data]    | Downloading package comtrans to /root/nltk_data...\n",
            "[nltk_data]    | Downloading package conll2000 to /root/nltk_data...\n",
            "[nltk_data]    |   Unzipping corpora/conll2000.zip.\n",
            "[nltk_data]    | Downloading package conll2002 to /root/nltk_data...\n",
            "[nltk_data]    |   Unzipping corpora/conll2002.zip.\n",
            "[nltk_data]    | Downloading package conll2007 to /root/nltk_data...\n",
            "[nltk_data]    | Downloading package crubadan to /root/nltk_data...\n",
            "[nltk_data]    |   Unzipping corpora/crubadan.zip.\n",
            "[nltk_data]    | Downloading package dependency_treebank to\n",
            "[nltk_data]    |     /root/nltk_data...\n",
            "[nltk_data]    |   Unzipping corpora/dependency_treebank.zip.\n",
            "[nltk_data]    | Downloading package dolch to /root/nltk_data...\n",
            "[nltk_data]    |   Unzipping corpora/dolch.zip.\n",
            "[nltk_data]    | Downloading package europarl_raw to\n",
            "[nltk_data]    |     /root/nltk_data...\n",
            "[nltk_data]    |   Unzipping corpora/europarl_raw.zip.\n",
            "[nltk_data]    | Downloading package floresta to /root/nltk_data...\n",
            "[nltk_data]    |   Unzipping corpora/floresta.zip.\n",
            "[nltk_data]    | Downloading package framenet_v15 to\n",
            "[nltk_data]    |     /root/nltk_data...\n",
            "[nltk_data]    |   Unzipping corpora/framenet_v15.zip.\n",
            "[nltk_data]    | Downloading package framenet_v17 to\n",
            "[nltk_data]    |     /root/nltk_data...\n",
            "[nltk_data]    |   Unzipping corpora/framenet_v17.zip.\n",
            "[nltk_data]    | Downloading package gazetteers to /root/nltk_data...\n",
            "[nltk_data]    |   Unzipping corpora/gazetteers.zip.\n",
            "[nltk_data]    | Downloading package genesis to /root/nltk_data...\n",
            "[nltk_data]    |   Unzipping corpora/genesis.zip.\n",
            "[nltk_data]    | Downloading package gutenberg to /root/nltk_data...\n",
            "[nltk_data]    |   Unzipping corpora/gutenberg.zip.\n",
            "[nltk_data]    | Downloading package ieer to /root/nltk_data...\n",
            "[nltk_data]    |   Unzipping corpora/ieer.zip.\n",
            "[nltk_data]    | Downloading package inaugural to /root/nltk_data...\n",
            "[nltk_data]    |   Unzipping corpora/inaugural.zip.\n",
            "[nltk_data]    | Downloading package indian to /root/nltk_data...\n",
            "[nltk_data]    |   Unzipping corpora/indian.zip.\n",
            "[nltk_data]    | Downloading package jeita to /root/nltk_data...\n",
            "[nltk_data]    | Downloading package kimmo to /root/nltk_data...\n",
            "[nltk_data]    |   Unzipping corpora/kimmo.zip.\n",
            "[nltk_data]    | Downloading package knbc to /root/nltk_data...\n",
            "[nltk_data]    | Downloading package lin_thesaurus to\n",
            "[nltk_data]    |     /root/nltk_data...\n",
            "[nltk_data]    |   Unzipping corpora/lin_thesaurus.zip.\n",
            "[nltk_data]    | Downloading package mac_morpho to /root/nltk_data...\n",
            "[nltk_data]    |   Unzipping corpora/mac_morpho.zip.\n",
            "[nltk_data]    | Downloading package machado to /root/nltk_data...\n",
            "[nltk_data]    | Downloading package masc_tagged to /root/nltk_data...\n",
            "[nltk_data]    | Downloading package moses_sample to\n",
            "[nltk_data]    |     /root/nltk_data...\n",
            "[nltk_data]    |   Unzipping models/moses_sample.zip.\n",
            "[nltk_data]    | Downloading package movie_reviews to\n",
            "[nltk_data]    |     /root/nltk_data...\n",
            "[nltk_data]    |   Unzipping corpora/movie_reviews.zip.\n",
            "[nltk_data]    | Downloading package names to /root/nltk_data...\n",
            "[nltk_data]    |   Unzipping corpora/names.zip.\n",
            "[nltk_data]    | Downloading package nombank.1.0 to /root/nltk_data...\n",
            "[nltk_data]    | Downloading package nps_chat to /root/nltk_data...\n",
            "[nltk_data]    |   Unzipping corpora/nps_chat.zip.\n",
            "[nltk_data]    | Downloading package omw to /root/nltk_data...\n",
            "[nltk_data]    |   Unzipping corpora/omw.zip.\n",
            "[nltk_data]    | Downloading package opinion_lexicon to\n",
            "[nltk_data]    |     /root/nltk_data...\n",
            "[nltk_data]    |   Unzipping corpora/opinion_lexicon.zip.\n",
            "[nltk_data]    | Downloading package paradigms to /root/nltk_data...\n",
            "[nltk_data]    |   Unzipping corpora/paradigms.zip.\n",
            "[nltk_data]    | Downloading package pil to /root/nltk_data...\n",
            "[nltk_data]    |   Unzipping corpora/pil.zip.\n",
            "[nltk_data]    | Downloading package pl196x to /root/nltk_data...\n",
            "[nltk_data]    |   Unzipping corpora/pl196x.zip.\n",
            "[nltk_data]    | Downloading package ppattach to /root/nltk_data...\n",
            "[nltk_data]    |   Unzipping corpora/ppattach.zip.\n",
            "[nltk_data]    | Downloading package problem_reports to\n",
            "[nltk_data]    |     /root/nltk_data...\n",
            "[nltk_data]    |   Unzipping corpora/problem_reports.zip.\n",
            "[nltk_data]    | Downloading package propbank to /root/nltk_data...\n",
            "[nltk_data]    | Downloading package ptb to /root/nltk_data...\n",
            "[nltk_data]    |   Unzipping corpora/ptb.zip.\n",
            "[nltk_data]    | Downloading package product_reviews_1 to\n",
            "[nltk_data]    |     /root/nltk_data...\n",
            "[nltk_data]    |   Unzipping corpora/product_reviews_1.zip.\n",
            "[nltk_data]    | Downloading package product_reviews_2 to\n",
            "[nltk_data]    |     /root/nltk_data...\n",
            "[nltk_data]    |   Unzipping corpora/product_reviews_2.zip.\n",
            "[nltk_data]    | Downloading package pros_cons to /root/nltk_data...\n",
            "[nltk_data]    |   Unzipping corpora/pros_cons.zip.\n",
            "[nltk_data]    | Downloading package qc to /root/nltk_data...\n",
            "[nltk_data]    |   Unzipping corpora/qc.zip.\n",
            "[nltk_data]    | Downloading package reuters to /root/nltk_data...\n",
            "[nltk_data]    | Downloading package rte to /root/nltk_data...\n",
            "[nltk_data]    |   Unzipping corpora/rte.zip.\n",
            "[nltk_data]    | Downloading package semcor to /root/nltk_data...\n",
            "[nltk_data]    | Downloading package senseval to /root/nltk_data...\n",
            "[nltk_data]    |   Unzipping corpora/senseval.zip.\n",
            "[nltk_data]    | Downloading package sentiwordnet to\n",
            "[nltk_data]    |     /root/nltk_data...\n",
            "[nltk_data]    |   Unzipping corpora/sentiwordnet.zip.\n",
            "[nltk_data]    | Downloading package sentence_polarity to\n",
            "[nltk_data]    |     /root/nltk_data...\n",
            "[nltk_data]    |   Unzipping corpora/sentence_polarity.zip.\n",
            "[nltk_data]    | Downloading package shakespeare to /root/nltk_data...\n",
            "[nltk_data]    |   Unzipping corpora/shakespeare.zip.\n",
            "[nltk_data]    | Downloading package sinica_treebank to\n",
            "[nltk_data]    |     /root/nltk_data...\n",
            "[nltk_data]    |   Unzipping corpora/sinica_treebank.zip.\n",
            "[nltk_data]    | Downloading package smultron to /root/nltk_data...\n",
            "[nltk_data]    |   Unzipping corpora/smultron.zip.\n",
            "[nltk_data]    | Downloading package state_union to /root/nltk_data...\n",
            "[nltk_data]    |   Unzipping corpora/state_union.zip.\n",
            "[nltk_data]    | Downloading package stopwords to /root/nltk_data...\n",
            "[nltk_data]    |   Unzipping corpora/stopwords.zip.\n",
            "[nltk_data]    | Downloading package subjectivity to\n",
            "[nltk_data]    |     /root/nltk_data...\n",
            "[nltk_data]    |   Unzipping corpora/subjectivity.zip.\n",
            "[nltk_data]    | Downloading package swadesh to /root/nltk_data...\n",
            "[nltk_data]    |   Unzipping corpora/swadesh.zip.\n",
            "[nltk_data]    | Downloading package switchboard to /root/nltk_data...\n",
            "[nltk_data]    |   Unzipping corpora/switchboard.zip.\n",
            "[nltk_data]    | Downloading package timit to /root/nltk_data...\n",
            "[nltk_data]    |   Unzipping corpora/timit.zip.\n",
            "[nltk_data]    | Downloading package toolbox to /root/nltk_data...\n",
            "[nltk_data]    |   Unzipping corpora/toolbox.zip.\n",
            "[nltk_data]    | Downloading package treebank to /root/nltk_data...\n",
            "[nltk_data]    |   Unzipping corpora/treebank.zip.\n",
            "[nltk_data]    | Downloading package twitter_samples to\n",
            "[nltk_data]    |     /root/nltk_data...\n",
            "[nltk_data]    |   Unzipping corpora/twitter_samples.zip.\n",
            "[nltk_data]    | Downloading package udhr to /root/nltk_data...\n",
            "[nltk_data]    |   Unzipping corpora/udhr.zip.\n",
            "[nltk_data]    | Downloading package udhr2 to /root/nltk_data...\n",
            "[nltk_data]    |   Unzipping corpora/udhr2.zip.\n",
            "[nltk_data]    | Downloading package unicode_samples to\n",
            "[nltk_data]    |     /root/nltk_data...\n",
            "[nltk_data]    |   Unzipping corpora/unicode_samples.zip.\n",
            "[nltk_data]    | Downloading package universal_treebanks_v20 to\n",
            "[nltk_data]    |     /root/nltk_data...\n",
            "[nltk_data]    | Downloading package verbnet to /root/nltk_data...\n",
            "[nltk_data]    |   Unzipping corpora/verbnet.zip.\n",
            "[nltk_data]    | Downloading package verbnet3 to /root/nltk_data...\n",
            "[nltk_data]    |   Unzipping corpora/verbnet3.zip.\n",
            "[nltk_data]    | Downloading package webtext to /root/nltk_data...\n",
            "[nltk_data]    |   Unzipping corpora/webtext.zip.\n",
            "[nltk_data]    | Downloading package wordnet to /root/nltk_data...\n",
            "[nltk_data]    |   Unzipping corpora/wordnet.zip.\n",
            "[nltk_data]    | Downloading package wordnet_ic to /root/nltk_data...\n",
            "[nltk_data]    |   Unzipping corpora/wordnet_ic.zip.\n",
            "[nltk_data]    | Downloading package words to /root/nltk_data...\n",
            "[nltk_data]    |   Unzipping corpora/words.zip.\n",
            "[nltk_data]    | Downloading package ycoe to /root/nltk_data...\n",
            "[nltk_data]    |   Unzipping corpora/ycoe.zip.\n",
            "[nltk_data]    | Downloading package rslp to /root/nltk_data...\n",
            "[nltk_data]    |   Unzipping stemmers/rslp.zip.\n",
            "[nltk_data]    | Downloading package maxent_treebank_pos_tagger to\n",
            "[nltk_data]    |     /root/nltk_data...\n",
            "[nltk_data]    |   Unzipping taggers/maxent_treebank_pos_tagger.zip.\n",
            "[nltk_data]    | Downloading package universal_tagset to\n",
            "[nltk_data]    |     /root/nltk_data...\n",
            "[nltk_data]    |   Unzipping taggers/universal_tagset.zip.\n",
            "[nltk_data]    | Downloading package maxent_ne_chunker to\n",
            "[nltk_data]    |     /root/nltk_data...\n",
            "[nltk_data]    |   Unzipping chunkers/maxent_ne_chunker.zip.\n",
            "[nltk_data]    | Downloading package punkt to /root/nltk_data...\n",
            "[nltk_data]    |   Unzipping tokenizers/punkt.zip.\n",
            "[nltk_data]    | Downloading package book_grammars to\n",
            "[nltk_data]    |     /root/nltk_data...\n",
            "[nltk_data]    |   Unzipping grammars/book_grammars.zip.\n",
            "[nltk_data]    | Downloading package sample_grammars to\n",
            "[nltk_data]    |     /root/nltk_data...\n",
            "[nltk_data]    |   Unzipping grammars/sample_grammars.zip.\n",
            "[nltk_data]    | Downloading package spanish_grammars to\n",
            "[nltk_data]    |     /root/nltk_data...\n",
            "[nltk_data]    |   Unzipping grammars/spanish_grammars.zip.\n",
            "[nltk_data]    | Downloading package basque_grammars to\n",
            "[nltk_data]    |     /root/nltk_data...\n",
            "[nltk_data]    |   Unzipping grammars/basque_grammars.zip.\n",
            "[nltk_data]    | Downloading package large_grammars to\n",
            "[nltk_data]    |     /root/nltk_data...\n",
            "[nltk_data]    |   Unzipping grammars/large_grammars.zip.\n",
            "[nltk_data]    | Downloading package tagsets to /root/nltk_data...\n",
            "[nltk_data]    |   Unzipping help/tagsets.zip.\n",
            "[nltk_data]    | Downloading package snowball_data to\n",
            "[nltk_data]    |     /root/nltk_data...\n",
            "[nltk_data]    | Downloading package bllip_wsj_no_aux to\n",
            "[nltk_data]    |     /root/nltk_data...\n",
            "[nltk_data]    |   Unzipping models/bllip_wsj_no_aux.zip.\n",
            "[nltk_data]    | Downloading package word2vec_sample to\n",
            "[nltk_data]    |     /root/nltk_data...\n",
            "[nltk_data]    |   Unzipping models/word2vec_sample.zip.\n",
            "[nltk_data]    | Downloading package panlex_swadesh to\n",
            "[nltk_data]    |     /root/nltk_data...\n",
            "[nltk_data]    | Downloading package mte_teip5 to /root/nltk_data...\n",
            "[nltk_data]    |   Unzipping corpora/mte_teip5.zip.\n",
            "[nltk_data]    | Downloading package averaged_perceptron_tagger to\n",
            "[nltk_data]    |     /root/nltk_data...\n",
            "[nltk_data]    |   Unzipping taggers/averaged_perceptron_tagger.zip.\n",
            "[nltk_data]    | Downloading package averaged_perceptron_tagger_ru to\n",
            "[nltk_data]    |     /root/nltk_data...\n",
            "[nltk_data]    |   Unzipping\n",
            "[nltk_data]    |       taggers/averaged_perceptron_tagger_ru.zip.\n",
            "[nltk_data]    | Downloading package perluniprops to\n",
            "[nltk_data]    |     /root/nltk_data...\n",
            "[nltk_data]    |   Unzipping misc/perluniprops.zip.\n",
            "[nltk_data]    | Downloading package nonbreaking_prefixes to\n",
            "[nltk_data]    |     /root/nltk_data...\n",
            "[nltk_data]    |   Unzipping corpora/nonbreaking_prefixes.zip.\n",
            "[nltk_data]    | Downloading package vader_lexicon to\n",
            "[nltk_data]    |     /root/nltk_data...\n",
            "[nltk_data]    | Downloading package porter_test to /root/nltk_data...\n",
            "[nltk_data]    |   Unzipping stemmers/porter_test.zip.\n",
            "[nltk_data]    | Downloading package wmt15_eval to /root/nltk_data...\n",
            "[nltk_data]    |   Unzipping models/wmt15_eval.zip.\n",
            "[nltk_data]    | Downloading package mwa_ppdb to /root/nltk_data...\n",
            "[nltk_data]    |   Unzipping misc/mwa_ppdb.zip.\n",
            "[nltk_data]    | \n",
            "[nltk_data]  Done downloading collection all\n"
          ]
        },
        {
          "output_type": "execute_result",
          "data": {
            "text/plain": [
              "True"
            ]
          },
          "metadata": {},
          "execution_count": 76
        }
      ]
    },
    {
      "cell_type": "markdown",
      "metadata": {
        "id": "YAz29866z9S-"
      },
      "source": [
        "# Acessando um Corpus"
      ]
    },
    {
      "cell_type": "code",
      "metadata": {
        "colab": {
          "base_uri": "https://localhost:8080/"
        },
        "id": "pjUQQLCZ2iBf",
        "outputId": "39912478-1597-4a91-cd4e-de96c934bb78"
      },
      "source": [
        "print(nltk.corpus.mac_morpho.readme())"
      ],
      "execution_count": 92,
      "outputs": [
        {
          "output_type": "stream",
          "name": "stdout",
          "text": [
            "MAC-MORPHO: Brazilian Portuguese news text with part-of-speech tags\n",
            "\n",
            "1,167,183 words of journalistic texts extracted from ten sections of\n",
            "the daily newspaper Folha de Sau Paulo, 1994.  (Version for training taggers.)\n",
            "\n",
            "http://www.nilc.icmc.usp.br/lacioweb/\n",
            "\n",
            "Distributed with permission of\n",
            "NÃºcleo Interinstitucional de LingÃ¼Ã­stica Computacional (NILC),\n",
            "Universidade de SÃ£o Paulo (USP) in SÃ£o Carlos,\n",
            "Universidade Federal de SÃ£o Carlos (UFSCar),\n",
            "Universidade Estadual Paulista (UNESP) of Araraquara.\n",
            "\n"
          ]
        }
      ]
    },
    {
      "cell_type": "code",
      "metadata": {
        "colab": {
          "base_uri": "https://localhost:8080/"
        },
        "id": "u2Y89C5Pz5E-",
        "outputId": "a1624083-a784-497e-eb2d-0e55eb71c4c6"
      },
      "source": [
        "nltk.corpus.mac_morpho"
      ],
      "execution_count": 77,
      "outputs": [
        {
          "output_type": "execute_result",
          "data": {
            "text/plain": [
              "<MacMorphoCorpusReader in '/root/nltk_data/corpora/mac_morpho'>"
            ]
          },
          "metadata": {},
          "execution_count": 77
        }
      ]
    },
    {
      "cell_type": "code",
      "metadata": {
        "colab": {
          "base_uri": "https://localhost:8080/"
        },
        "id": "rohM5o640aPO",
        "outputId": "79aba997-88f1-431a-f5ca-48bfaa209c59"
      },
      "source": [
        "dir(nltk.corpus.mac_morpho)"
      ],
      "execution_count": 78,
      "outputs": [
        {
          "output_type": "execute_result",
          "data": {
            "text/plain": [
              "['__class__',\n",
              " '__delattr__',\n",
              " '__dict__',\n",
              " '__dir__',\n",
              " '__doc__',\n",
              " '__eq__',\n",
              " '__format__',\n",
              " '__ge__',\n",
              " '__getattribute__',\n",
              " '__gt__',\n",
              " '__hash__',\n",
              " '__init__',\n",
              " '__init_subclass__',\n",
              " '__le__',\n",
              " '__lt__',\n",
              " '__module__',\n",
              " '__ne__',\n",
              " '__new__',\n",
              " '__reduce__',\n",
              " '__reduce_ex__',\n",
              " '__repr__',\n",
              " '__setattr__',\n",
              " '__sizeof__',\n",
              " '__str__',\n",
              " '__subclasshook__',\n",
              " '__unicode__',\n",
              " '__weakref__',\n",
              " '_encoding',\n",
              " '_fileids',\n",
              " '_get_root',\n",
              " '_para_block_reader',\n",
              " '_read_block',\n",
              " '_root',\n",
              " '_sent_tokenizer',\n",
              " '_sep',\n",
              " '_tagset',\n",
              " '_unload',\n",
              " '_word_tokenizer',\n",
              " 'abspath',\n",
              " 'abspaths',\n",
              " 'citation',\n",
              " 'encoding',\n",
              " 'ensure_loaded',\n",
              " 'fileids',\n",
              " 'license',\n",
              " 'open',\n",
              " 'paras',\n",
              " 'raw',\n",
              " 'readme',\n",
              " 'root',\n",
              " 'sents',\n",
              " 'tagged_paras',\n",
              " 'tagged_sents',\n",
              " 'tagged_words',\n",
              " 'unicode_repr',\n",
              " 'words']"
            ]
          },
          "metadata": {},
          "execution_count": 78
        }
      ]
    },
    {
      "cell_type": "code",
      "metadata": {
        "colab": {
          "base_uri": "https://localhost:8080/"
        },
        "id": "-8J-jE1t0gCl",
        "outputId": "b0cdf729-3e8e-4463-cc7a-1e98c75d3fa7"
      },
      "source": [
        "nltk.corpus.mac_morpho.words() # lista palavras do corpus"
      ],
      "execution_count": 81,
      "outputs": [
        {
          "output_type": "execute_result",
          "data": {
            "text/plain": [
              "['Jersei', 'atinge', 'média', 'de', 'Cr$', '1,4', ...]"
            ]
          },
          "metadata": {},
          "execution_count": 81
        }
      ]
    },
    {
      "cell_type": "code",
      "metadata": {
        "colab": {
          "base_uri": "https://localhost:8080/"
        },
        "id": "Iataqdl-0vhH",
        "outputId": "66a249ec-2885-4600-fba7-307d23830201"
      },
      "source": [
        "len( nltk.corpus.mac_morpho.words() ) # quantas palavras"
      ],
      "execution_count": 82,
      "outputs": [
        {
          "output_type": "execute_result",
          "data": {
            "text/plain": [
              "1170095"
            ]
          },
          "metadata": {},
          "execution_count": 82
        }
      ]
    },
    {
      "cell_type": "code",
      "metadata": {
        "colab": {
          "base_uri": "https://localhost:8080/"
        },
        "id": "1n3xX2di00X2",
        "outputId": "c3051d3c-a4dd-4a40-a286-3329564eb9aa"
      },
      "source": [
        "nltk.corpus.mac_morpho.sents() # sentenças, lista de lista de palavras"
      ],
      "execution_count": 83,
      "outputs": [
        {
          "output_type": "execute_result",
          "data": {
            "text/plain": [
              "[['Jersei', 'atinge', 'média', 'de', 'Cr$', '1,4', 'milhão', 'em', 'a', 'venda', 'de', 'a', 'Pinhal', 'em', 'São', 'Paulo'], ['Programe', 'sua', 'viagem', 'a', 'a', 'Exposição', 'Nacional', 'do', 'Zebu', ',', 'que', 'começa', 'dia', '25'], ...]"
            ]
          },
          "metadata": {},
          "execution_count": 83
        }
      ]
    },
    {
      "cell_type": "code",
      "metadata": {
        "colab": {
          "base_uri": "https://localhost:8080/"
        },
        "id": "oJIJnFzY1Him",
        "outputId": "164a65e1-82f0-4954-bb67-92f294197201"
      },
      "source": [
        "len( nltk.corpus.mac_morpho.sents() ) # nr de sentenças "
      ],
      "execution_count": 84,
      "outputs": [
        {
          "output_type": "execute_result",
          "data": {
            "text/plain": [
              "51397"
            ]
          },
          "metadata": {},
          "execution_count": 84
        }
      ]
    },
    {
      "cell_type": "code",
      "metadata": {
        "colab": {
          "base_uri": "https://localhost:8080/"
        },
        "id": "zKgkzHm51Q2b",
        "outputId": "aa90668d-99b3-49dc-86cb-72d7b8488264"
      },
      "source": [
        "print( ' '.join(nltk.corpus.mac_morpho.sents()[0]) )"
      ],
      "execution_count": 86,
      "outputs": [
        {
          "output_type": "stream",
          "name": "stdout",
          "text": [
            "Jersei atinge média de Cr$ 1,4 milhão em a venda de a Pinhal em São Paulo\n"
          ]
        }
      ]
    },
    {
      "cell_type": "code",
      "metadata": {
        "colab": {
          "base_uri": "https://localhost:8080/"
        },
        "id": "XHkqdYdi1iRK",
        "outputId": "5e3bfa38-e139-4a24-ab9d-70ac2c115f3a"
      },
      "source": [
        "for i in range(10):\n",
        "  print( ' '.join(nltk.corpus.mac_morpho.sents()[i]) )"
      ],
      "execution_count": 89,
      "outputs": [
        {
          "output_type": "stream",
          "name": "stdout",
          "text": [
            "Jersei atinge média de Cr$ 1,4 milhão em a venda de a Pinhal em São Paulo\n",
            "Programe sua viagem a a Exposição Nacional do Zebu , que começa dia 25\n",
            "Safra recorde e disponibilidade de crédito ativam vendas de máquinas agrícolas\n",
            "A degradação de as terras por o mau uso de os solos avança em o\n",
            "A desertificação tornou crítica a produtividade de 52 mil km² em a região\n",
            "Em o dia 15 , Dia da Conservação do Solo , o único fato a festejar pode ser a Convenção Internacional sobre Desertificação\n",
            "A produção brasileira de pintos de corte totalizou , em fevereiro último , 166 milhões , volume 6,79 % superior a o registrado em fevereiro de 93 , segundo dados de a Associação Brasileira dos Produtores de Pinto de Corte ( Apinco )\n",
            "A Apinco destaca em seu boletim mensal que o setor avícola está otimista com o atual programa de estabilização econômica\n",
            "\" A melhoria de o padrão aquisitivo resulta em maior demanda de carne de frango \"\n",
            "O secretário de a agricultura paulista , Roberto Rodrigues , aprovou o pacote de o trigo , anunciado em o final de março por o governo federal\n"
          ]
        }
      ]
    },
    {
      "cell_type": "code",
      "metadata": {
        "colab": {
          "base_uri": "https://localhost:8080/"
        },
        "id": "IiugFcOz1n-m",
        "outputId": "161203d8-fa2b-4280-85a4-b96de4df7f95"
      },
      "source": [
        "nltk.corpus.mac_morpho.tagged_words() # 'N' nome, 'V' verbo, 'ART' artigo, 'PREP' preposição, 'NPROP' nome próprio ..."
      ],
      "execution_count": 87,
      "outputs": [
        {
          "output_type": "execute_result",
          "data": {
            "text/plain": [
              "[('Jersei', 'N'), ('atinge', 'V'), ('média', 'N'), ...]"
            ]
          },
          "metadata": {},
          "execution_count": 87
        }
      ]
    },
    {
      "cell_type": "code",
      "metadata": {
        "colab": {
          "base_uri": "https://localhost:8080/"
        },
        "id": "PVAUZWne11fP",
        "outputId": "e1eb9a8d-b95c-4cef-ae6e-312ad5cd3d28"
      },
      "source": [
        "nltk.corpus.mac_morpho.tagged_sents() # 'N' nome, 'V' verbo, ..."
      ],
      "execution_count": 88,
      "outputs": [
        {
          "output_type": "execute_result",
          "data": {
            "text/plain": [
              "[[('Jersei', 'N'), ('atinge', 'V'), ('média', 'N'), ('de', 'PREP'), ('Cr$', 'CUR'), ('1,4', 'NUM'), ('milhão', 'N'), ('em', 'PREP|+'), ('a', 'ART'), ('venda', 'N'), ('de', 'PREP|+'), ('a', 'ART'), ('Pinhal', 'NPROP'), ('em', 'PREP'), ('São', 'NPROP'), ('Paulo', 'NPROP')], [('Programe', 'V'), ('sua', 'PROADJ'), ('viagem', 'N'), ('a', 'PREP|+'), ('a', 'ART'), ('Exposição', 'NPROP'), ('Nacional', 'NPROP'), ('do', 'NPROP'), ('Zebu', 'NPROP'), (',', ','), ('que', 'PRO-KS-REL'), ('começa', 'V'), ('dia', 'N'), ('25', 'N|AP')], ...]"
            ]
          },
          "metadata": {},
          "execution_count": 88
        }
      ]
    },
    {
      "cell_type": "markdown",
      "metadata": {
        "id": "rsc82e2W-r1V"
      },
      "source": [
        "# Token(inzação) $\\times$ `split`\n",
        "\n",
        "Tokens, são não somente palavras, mas também pontuações, números, valores etc. e é melhor que o `split()`.\n"
      ]
    },
    {
      "cell_type": "code",
      "metadata": {
        "colab": {
          "base_uri": "https://localhost:8080/"
        },
        "id": "sXqSWW7U_B4w",
        "outputId": "de95fa10-5d80-48f9-9761-9f34c1b0fce3"
      },
      "source": [
        "nltk.word_tokenize('Esta é a nossa frase para Tokenizar, ela tem símbolos ; * e ainda tem valores, R$ 10.3 USD')"
      ],
      "execution_count": 94,
      "outputs": [
        {
          "output_type": "execute_result",
          "data": {
            "text/plain": [
              "['Esta',\n",
              " 'é',\n",
              " 'a',\n",
              " 'nossa',\n",
              " 'frase',\n",
              " 'para',\n",
              " 'Tokenizar',\n",
              " ',',\n",
              " 'ela',\n",
              " 'tem',\n",
              " 'símbolos',\n",
              " ';',\n",
              " '*',\n",
              " 'e',\n",
              " 'ainda',\n",
              " 'tem',\n",
              " 'valores',\n",
              " ',',\n",
              " 'R',\n",
              " '$',\n",
              " '10.3',\n",
              " 'USD']"
            ]
          },
          "metadata": {},
          "execution_count": 94
        }
      ]
    },
    {
      "cell_type": "code",
      "metadata": {
        "colab": {
          "base_uri": "https://localhost:8080/"
        },
        "id": "gl_xeN4H_Yko",
        "outputId": "5cc77308-1c17-48b8-e482-e47b58d74027"
      },
      "source": [
        "nltk.word_tokenize(' '.join(nltk.corpus.mac_morpho.sents()[0]) )"
      ],
      "execution_count": 97,
      "outputs": [
        {
          "output_type": "execute_result",
          "data": {
            "text/plain": [
              "['Jersei',\n",
              " 'atinge',\n",
              " 'média',\n",
              " 'de',\n",
              " 'Cr',\n",
              " '$',\n",
              " '1,4',\n",
              " 'milhão',\n",
              " 'em',\n",
              " 'a',\n",
              " 'venda',\n",
              " 'de',\n",
              " 'a',\n",
              " 'Pinhal',\n",
              " 'em',\n",
              " 'São',\n",
              " 'Paulo']"
            ]
          },
          "metadata": {},
          "execution_count": 97
        }
      ]
    },
    {
      "cell_type": "code",
      "metadata": {
        "colab": {
          "base_uri": "https://localhost:8080/"
        },
        "id": "BPXaf_toAEvB",
        "outputId": "f14d4f62-ff35-4024-c367-a8541361fb34"
      },
      "source": [
        "infile = open('/content/output.txt','r')\n",
        "texto = infile.read()\n",
        "infile.close()\n",
        "\n",
        "nltk.word_tokenize(texto)"
      ],
      "execution_count": 98,
      "outputs": [
        {
          "output_type": "execute_result",
          "data": {
            "text/plain": [
              "['Ou',\n",
              " 'se',\n",
              " 'tem',\n",
              " 'chuva',\n",
              " 'e',\n",
              " 'não',\n",
              " 'se',\n",
              " 'tem',\n",
              " 'sol',\n",
              " ',',\n",
              " 'ou',\n",
              " 'se',\n",
              " 'tem',\n",
              " 'sol',\n",
              " 'e',\n",
              " 'não',\n",
              " 'se',\n",
              " 'tem',\n",
              " 'chuva',\n",
              " '!',\n",
              " 'Ou',\n",
              " 'se',\n",
              " 'calça',\n",
              " 'a',\n",
              " 'luva',\n",
              " 'e',\n",
              " 'não',\n",
              " 'se',\n",
              " 'põe',\n",
              " 'o',\n",
              " 'anel',\n",
              " ',',\n",
              " 'ou',\n",
              " 'se',\n",
              " 'põe',\n",
              " 'o',\n",
              " 'anel',\n",
              " 'e',\n",
              " 'não',\n",
              " 'se',\n",
              " 'calça',\n",
              " 'a',\n",
              " 'luva',\n",
              " '!',\n",
              " 'Quem',\n",
              " 'sobe',\n",
              " 'nos',\n",
              " 'ares',\n",
              " 'não',\n",
              " 'fica',\n",
              " 'no',\n",
              " 'chão',\n",
              " ',',\n",
              " 'quem',\n",
              " 'fica',\n",
              " 'no',\n",
              " 'chão',\n",
              " 'não',\n",
              " 'sobe',\n",
              " 'nos',\n",
              " 'ares',\n",
              " '.',\n",
              " 'É',\n",
              " 'uma',\n",
              " 'grande',\n",
              " 'pena',\n",
              " 'que',\n",
              " 'não',\n",
              " 'se',\n",
              " 'possa',\n",
              " 'estar',\n",
              " 'ao',\n",
              " 'mesmo',\n",
              " 'tempo',\n",
              " 'nos',\n",
              " 'dois',\n",
              " 'lugares',\n",
              " '!',\n",
              " 'Ou',\n",
              " 'guardo',\n",
              " 'o',\n",
              " 'dinheiro',\n",
              " 'e',\n",
              " 'não',\n",
              " 'compro',\n",
              " 'o',\n",
              " 'doce',\n",
              " ',',\n",
              " 'ou',\n",
              " 'compro',\n",
              " 'o',\n",
              " 'doce',\n",
              " 'e',\n",
              " 'gasto',\n",
              " 'o',\n",
              " 'dinheiro',\n",
              " '.',\n",
              " 'Ou',\n",
              " 'isto',\n",
              " 'ou',\n",
              " 'aquilo',\n",
              " ':',\n",
              " 'ou',\n",
              " 'isto',\n",
              " 'ou',\n",
              " 'aquilo…',\n",
              " 'e',\n",
              " 'vivo',\n",
              " 'escolhendo',\n",
              " 'o',\n",
              " 'dia',\n",
              " 'inteiro',\n",
              " '!',\n",
              " 'Não',\n",
              " 'sei',\n",
              " 'se',\n",
              " 'brinco',\n",
              " ',',\n",
              " 'não',\n",
              " 'sei',\n",
              " 'se',\n",
              " 'estudo',\n",
              " ',',\n",
              " 'se',\n",
              " 'saio',\n",
              " 'correndo',\n",
              " 'ou',\n",
              " 'fico',\n",
              " 'tranquilo',\n",
              " '.',\n",
              " 'Mas',\n",
              " 'não',\n",
              " 'consegui',\n",
              " 'entender',\n",
              " 'ainda',\n",
              " 'qual',\n",
              " 'é',\n",
              " 'melhor',\n",
              " ':',\n",
              " 'se',\n",
              " 'é',\n",
              " 'isto',\n",
              " 'ou',\n",
              " 'aquilo',\n",
              " '.',\n",
              " '(',\n",
              " 'Ou',\n",
              " 'Isto',\n",
              " 'ou',\n",
              " 'Aquilo',\n",
              " '–',\n",
              " 'Cecília',\n",
              " 'Meireles',\n",
              " ')']"
            ]
          },
          "metadata": {},
          "execution_count": 98
        }
      ]
    },
    {
      "cell_type": "markdown",
      "metadata": {
        "id": "TfxJ5VnnAUZA"
      },
      "source": [
        "# Empregando Expressões Regulares\n",
        "\n",
        "Acesse https://pythex.org/"
      ]
    },
    {
      "cell_type": "code",
      "metadata": {
        "id": "LCRqWcNZAVC5"
      },
      "source": [
        "from nltk.tokenize import RegexpTokenizer\n",
        "tokenizer = RegexpTokenizer(r'\\w+') # elimina pontuações! \n",
        "\n",
        "tokens = tokenizer.tokenize(texto)\n",
        "tokens"
      ],
      "execution_count": null,
      "outputs": []
    },
    {
      "cell_type": "code",
      "metadata": {
        "id": "SfyX3G6fDcXk"
      },
      "source": [
        "from nltk.tokenize import RegexpTokenizer\n",
        "tokenizer = RegexpTokenizer(r'[A-z]\\w*') # elimina pontuações e números\n",
        "# tokenizer = RegexpTokenizer(r'[a-zA-Z]\\w*') # mesmo resultado!\n",
        "\n",
        "print(' '.join(nltk.corpus.mac_morpho.sents()[0]))\n",
        "tokens = tokenizer.tokenize(' '.join(nltk.corpus.mac_morpho.sents()[0]) )\n",
        "tokens"
      ],
      "execution_count": null,
      "outputs": []
    },
    {
      "cell_type": "code",
      "metadata": {
        "colab": {
          "base_uri": "https://localhost:8080/"
        },
        "id": "Gq-97ilwElSa",
        "outputId": "fdbe6787-25e6-4a39-a90a-911986a2735f"
      },
      "source": [
        "tokens = tokenizer.tokenize('www.mackenzie.br')\n",
        "tokens"
      ],
      "execution_count": 111,
      "outputs": [
        {
          "output_type": "execute_result",
          "data": {
            "text/plain": [
              "['www', 'mackenzie', 'br']"
            ]
          },
          "metadata": {},
          "execution_count": 111
        }
      ]
    },
    {
      "cell_type": "markdown",
      "metadata": {
        "id": "sP6NKh2BFLbJ"
      },
      "source": [
        "# Frequencia de Termos"
      ]
    },
    {
      "cell_type": "code",
      "metadata": {
        "colab": {
          "base_uri": "https://localhost:8080/"
        },
        "id": "gH-fBSsaFKJq",
        "outputId": "ee450e19-5629-44c6-e16c-849bad236ead"
      },
      "source": [
        "nltk.FreqDist(tokenizer.tokenize(texto))"
      ],
      "execution_count": 113,
      "outputs": [
        {
          "output_type": "execute_result",
          "data": {
            "text/plain": [
              "FreqDist({'Aquilo': 1,\n",
              "          'Cecília': 1,\n",
              "          'Isto': 1,\n",
              "          'Mas': 1,\n",
              "          'Meireles': 1,\n",
              "          'Não': 1,\n",
              "          'Ou': 5,\n",
              "          'Quem': 1,\n",
              "          'a': 2,\n",
              "          'ainda': 1,\n",
              "          'anel': 2,\n",
              "          'ao': 1,\n",
              "          'aquilo': 3,\n",
              "          'ares': 2,\n",
              "          'brinco': 1,\n",
              "          'calça': 2,\n",
              "          'chuva': 2,\n",
              "          'chão': 2,\n",
              "          'compro': 2,\n",
              "          'consegui': 1,\n",
              "          'correndo': 1,\n",
              "          'dia': 1,\n",
              "          'dinheiro': 2,\n",
              "          'doce': 2,\n",
              "          'dois': 1,\n",
              "          'e': 7,\n",
              "          'entender': 1,\n",
              "          'escolhendo': 1,\n",
              "          'estar': 1,\n",
              "          'estudo': 1,\n",
              "          'fica': 2,\n",
              "          'fico': 1,\n",
              "          'gasto': 1,\n",
              "          'grande': 1,\n",
              "          'guardo': 1,\n",
              "          'inteiro': 1,\n",
              "          'isto': 3,\n",
              "          'lugares': 1,\n",
              "          'luva': 2,\n",
              "          'melhor': 1,\n",
              "          'mesmo': 1,\n",
              "          'no': 2,\n",
              "          'nos': 3,\n",
              "          'não': 10,\n",
              "          'o': 7,\n",
              "          'ou': 9,\n",
              "          'pena': 1,\n",
              "          'possa': 1,\n",
              "          'põe': 2,\n",
              "          'qual': 1,\n",
              "          'que': 1,\n",
              "          'quem': 1,\n",
              "          'saio': 1,\n",
              "          'se': 13,\n",
              "          'sei': 2,\n",
              "          'sobe': 2,\n",
              "          'sol': 2,\n",
              "          'tem': 4,\n",
              "          'tempo': 1,\n",
              "          'tranquilo': 1,\n",
              "          'uma': 1,\n",
              "          'vivo': 1})"
            ]
          },
          "metadata": {},
          "execution_count": 113
        }
      ]
    },
    {
      "cell_type": "code",
      "metadata": {
        "colab": {
          "base_uri": "https://localhost:8080/"
        },
        "id": "0opFzjp4GHk4",
        "outputId": "1682e6e8-60de-4585-dfc0-3a7665aecf91"
      },
      "source": [
        "freq = nltk.FreqDist(tokenizer.tokenize(texto))\n",
        "\n",
        "# freq.most_common() # all\n",
        "freq.most_common(10)"
      ],
      "execution_count": 120,
      "outputs": [
        {
          "output_type": "execute_result",
          "data": {
            "text/plain": [
              "[('se', 13),\n",
              " ('não', 10),\n",
              " ('ou', 9),\n",
              " ('e', 7),\n",
              " ('o', 7),\n",
              " ('Ou', 5),\n",
              " ('tem', 4),\n",
              " ('nos', 3),\n",
              " ('isto', 3),\n",
              " ('aquilo', 3)]"
            ]
          },
          "metadata": {},
          "execution_count": 120
        }
      ]
    },
    {
      "cell_type": "code",
      "metadata": {
        "colab": {
          "base_uri": "https://localhost:8080/"
        },
        "id": "0E7UgOnvGpcR",
        "outputId": "1c50d171-89ed-489f-ee49-052cd9bcd699"
      },
      "source": [
        "tokens = tokenizer.tokenize(texto)\n",
        "freq = nltk.FreqDist(w.lower() for w in tokens)\n",
        "\n",
        "# freq.most_common() # all\n",
        "freq.most_common(10)"
      ],
      "execution_count": 122,
      "outputs": [
        {
          "output_type": "execute_result",
          "data": {
            "text/plain": [
              "[('ou', 14),\n",
              " ('se', 13),\n",
              " ('não', 11),\n",
              " ('e', 7),\n",
              " ('o', 7),\n",
              " ('tem', 4),\n",
              " ('isto', 4),\n",
              " ('aquilo', 4),\n",
              " ('nos', 3),\n",
              " ('chuva', 2)]"
            ]
          },
          "metadata": {},
          "execution_count": 122
        }
      ]
    },
    {
      "cell_type": "markdown",
      "metadata": {
        "id": "2E_41fCkHOz6"
      },
      "source": [
        "# Stopwords"
      ]
    },
    {
      "cell_type": "code",
      "metadata": {
        "colab": {
          "base_uri": "https://localhost:8080/"
        },
        "id": "qI7OAM8dHQyW",
        "outputId": "7fd3b261-6c4d-428d-92df-2dd1e1849339"
      },
      "source": [
        "nltk.corpus.stopwords.words('portuguese') "
      ],
      "execution_count": 129,
      "outputs": [
        {
          "output_type": "execute_result",
          "data": {
            "text/plain": [
              "['de',\n",
              " 'a',\n",
              " 'o',\n",
              " 'que',\n",
              " 'e',\n",
              " 'é',\n",
              " 'do',\n",
              " 'da',\n",
              " 'em',\n",
              " 'um',\n",
              " 'para',\n",
              " 'com',\n",
              " 'não',\n",
              " 'uma',\n",
              " 'os',\n",
              " 'no',\n",
              " 'se',\n",
              " 'na',\n",
              " 'por',\n",
              " 'mais',\n",
              " 'as',\n",
              " 'dos',\n",
              " 'como',\n",
              " 'mas',\n",
              " 'ao',\n",
              " 'ele',\n",
              " 'das',\n",
              " 'à',\n",
              " 'seu',\n",
              " 'sua',\n",
              " 'ou',\n",
              " 'quando',\n",
              " 'muito',\n",
              " 'nos',\n",
              " 'já',\n",
              " 'eu',\n",
              " 'também',\n",
              " 'só',\n",
              " 'pelo',\n",
              " 'pela',\n",
              " 'até',\n",
              " 'isso',\n",
              " 'ela',\n",
              " 'entre',\n",
              " 'depois',\n",
              " 'sem',\n",
              " 'mesmo',\n",
              " 'aos',\n",
              " 'seus',\n",
              " 'quem',\n",
              " 'nas',\n",
              " 'me',\n",
              " 'esse',\n",
              " 'eles',\n",
              " 'você',\n",
              " 'essa',\n",
              " 'num',\n",
              " 'nem',\n",
              " 'suas',\n",
              " 'meu',\n",
              " 'às',\n",
              " 'minha',\n",
              " 'numa',\n",
              " 'pelos',\n",
              " 'elas',\n",
              " 'qual',\n",
              " 'nós',\n",
              " 'lhe',\n",
              " 'deles',\n",
              " 'essas',\n",
              " 'esses',\n",
              " 'pelas',\n",
              " 'este',\n",
              " 'dele',\n",
              " 'tu',\n",
              " 'te',\n",
              " 'vocês',\n",
              " 'vos',\n",
              " 'lhes',\n",
              " 'meus',\n",
              " 'minhas',\n",
              " 'teu',\n",
              " 'tua',\n",
              " 'teus',\n",
              " 'tuas',\n",
              " 'nosso',\n",
              " 'nossa',\n",
              " 'nossos',\n",
              " 'nossas',\n",
              " 'dela',\n",
              " 'delas',\n",
              " 'esta',\n",
              " 'estes',\n",
              " 'estas',\n",
              " 'aquele',\n",
              " 'aquela',\n",
              " 'aqueles',\n",
              " 'aquelas',\n",
              " 'isto',\n",
              " 'aquilo',\n",
              " 'estou',\n",
              " 'está',\n",
              " 'estamos',\n",
              " 'estão',\n",
              " 'estive',\n",
              " 'esteve',\n",
              " 'estivemos',\n",
              " 'estiveram',\n",
              " 'estava',\n",
              " 'estávamos',\n",
              " 'estavam',\n",
              " 'estivera',\n",
              " 'estivéramos',\n",
              " 'esteja',\n",
              " 'estejamos',\n",
              " 'estejam',\n",
              " 'estivesse',\n",
              " 'estivéssemos',\n",
              " 'estivessem',\n",
              " 'estiver',\n",
              " 'estivermos',\n",
              " 'estiverem',\n",
              " 'hei',\n",
              " 'há',\n",
              " 'havemos',\n",
              " 'hão',\n",
              " 'houve',\n",
              " 'houvemos',\n",
              " 'houveram',\n",
              " 'houvera',\n",
              " 'houvéramos',\n",
              " 'haja',\n",
              " 'hajamos',\n",
              " 'hajam',\n",
              " 'houvesse',\n",
              " 'houvéssemos',\n",
              " 'houvessem',\n",
              " 'houver',\n",
              " 'houvermos',\n",
              " 'houverem',\n",
              " 'houverei',\n",
              " 'houverá',\n",
              " 'houveremos',\n",
              " 'houverão',\n",
              " 'houveria',\n",
              " 'houveríamos',\n",
              " 'houveriam',\n",
              " 'sou',\n",
              " 'somos',\n",
              " 'são',\n",
              " 'era',\n",
              " 'éramos',\n",
              " 'eram',\n",
              " 'fui',\n",
              " 'foi',\n",
              " 'fomos',\n",
              " 'foram',\n",
              " 'fora',\n",
              " 'fôramos',\n",
              " 'seja',\n",
              " 'sejamos',\n",
              " 'sejam',\n",
              " 'fosse',\n",
              " 'fôssemos',\n",
              " 'fossem',\n",
              " 'for',\n",
              " 'formos',\n",
              " 'forem',\n",
              " 'serei',\n",
              " 'será',\n",
              " 'seremos',\n",
              " 'serão',\n",
              " 'seria',\n",
              " 'seríamos',\n",
              " 'seriam',\n",
              " 'tenho',\n",
              " 'tem',\n",
              " 'temos',\n",
              " 'tém',\n",
              " 'tinha',\n",
              " 'tínhamos',\n",
              " 'tinham',\n",
              " 'tive',\n",
              " 'teve',\n",
              " 'tivemos',\n",
              " 'tiveram',\n",
              " 'tivera',\n",
              " 'tivéramos',\n",
              " 'tenha',\n",
              " 'tenhamos',\n",
              " 'tenham',\n",
              " 'tivesse',\n",
              " 'tivéssemos',\n",
              " 'tivessem',\n",
              " 'tiver',\n",
              " 'tivermos',\n",
              " 'tiverem',\n",
              " 'terei',\n",
              " 'terá',\n",
              " 'teremos',\n",
              " 'terão',\n",
              " 'teria',\n",
              " 'teríamos',\n",
              " 'teriam']"
            ]
          },
          "metadata": {},
          "execution_count": 129
        }
      ]
    },
    {
      "cell_type": "markdown",
      "metadata": {
        "id": "Ug4bsXTIHzVD"
      },
      "source": [
        "# Termos sem stopwords "
      ]
    },
    {
      "cell_type": "code",
      "metadata": {
        "colab": {
          "base_uri": "https://localhost:8080/"
        },
        "id": "HO-U_F4pHyuK",
        "outputId": "d4331171-c7e9-4050-b7b3-d10465dc1ba0"
      },
      "source": [
        "tokens = tokenizer.tokenize(texto)\n",
        "stopwords = nltk.corpus.stopwords.words('portuguese') \n",
        "\n",
        "tokens_sem_stopwords = [w.lower() for w in tokens if w not in stopwords]\n",
        "freq = nltk.FreqDist(tokens_sem_stopwords)\n",
        "\n",
        "# freq.most_common() # all\n",
        "freq.most_common(10)"
      ],
      "execution_count": 130,
      "outputs": [
        {
          "output_type": "execute_result",
          "data": {
            "text/plain": [
              "[('ou', 5),\n",
              " ('chuva', 2),\n",
              " ('sol', 2),\n",
              " ('calça', 2),\n",
              " ('luva', 2),\n",
              " ('põe', 2),\n",
              " ('anel', 2),\n",
              " ('sobe', 2),\n",
              " ('ares', 2),\n",
              " ('fica', 2)]"
            ]
          },
          "metadata": {},
          "execution_count": 130
        }
      ]
    },
    {
      "cell_type": "markdown",
      "metadata": {
        "id": "5uwyLrlqIkPb"
      },
      "source": [
        "# Bi, Tri e n-gramas"
      ]
    },
    {
      "cell_type": "code",
      "metadata": {
        "id": "FyS0b8JgIovL"
      },
      "source": [
        "from nltk import bigrams\n",
        "from nltk import trigrams\n",
        "from nltk import ngrams"
      ],
      "execution_count": 131,
      "outputs": []
    },
    {
      "cell_type": "code",
      "metadata": {
        "colab": {
          "base_uri": "https://localhost:8080/"
        },
        "id": "AIF2c0yQIzNj",
        "outputId": "bc368ae1-babd-48d9-8ea2-ab537bdc21c7"
      },
      "source": [
        "list( bigrams(tokens_sem_stopwords) )"
      ],
      "execution_count": 132,
      "outputs": [
        {
          "output_type": "execute_result",
          "data": {
            "text/plain": [
              "[('ou', 'chuva'),\n",
              " ('chuva', 'sol'),\n",
              " ('sol', 'sol'),\n",
              " ('sol', 'chuva'),\n",
              " ('chuva', 'ou'),\n",
              " ('ou', 'calça'),\n",
              " ('calça', 'luva'),\n",
              " ('luva', 'põe'),\n",
              " ('põe', 'anel'),\n",
              " ('anel', 'põe'),\n",
              " ('põe', 'anel'),\n",
              " ('anel', 'calça'),\n",
              " ('calça', 'luva'),\n",
              " ('luva', 'quem'),\n",
              " ('quem', 'sobe'),\n",
              " ('sobe', 'ares'),\n",
              " ('ares', 'fica'),\n",
              " ('fica', 'chão'),\n",
              " ('chão', 'fica'),\n",
              " ('fica', 'chão'),\n",
              " ('chão', 'sobe'),\n",
              " ('sobe', 'ares'),\n",
              " ('ares', 'grande'),\n",
              " ('grande', 'pena'),\n",
              " ('pena', 'possa'),\n",
              " ('possa', 'estar'),\n",
              " ('estar', 'tempo'),\n",
              " ('tempo', 'dois'),\n",
              " ('dois', 'lugares'),\n",
              " ('lugares', 'ou'),\n",
              " ('ou', 'guardo'),\n",
              " ('guardo', 'dinheiro'),\n",
              " ('dinheiro', 'compro'),\n",
              " ('compro', 'doce'),\n",
              " ('doce', 'compro'),\n",
              " ('compro', 'doce'),\n",
              " ('doce', 'gasto'),\n",
              " ('gasto', 'dinheiro'),\n",
              " ('dinheiro', 'ou'),\n",
              " ('ou', 'vivo'),\n",
              " ('vivo', 'escolhendo'),\n",
              " ('escolhendo', 'dia'),\n",
              " ('dia', 'inteiro'),\n",
              " ('inteiro', 'não'),\n",
              " ('não', 'sei'),\n",
              " ('sei', 'brinco'),\n",
              " ('brinco', 'sei'),\n",
              " ('sei', 'estudo'),\n",
              " ('estudo', 'saio'),\n",
              " ('saio', 'correndo'),\n",
              " ('correndo', 'fico'),\n",
              " ('fico', 'tranquilo'),\n",
              " ('tranquilo', 'mas'),\n",
              " ('mas', 'consegui'),\n",
              " ('consegui', 'entender'),\n",
              " ('entender', 'ainda'),\n",
              " ('ainda', 'melhor'),\n",
              " ('melhor', 'ou'),\n",
              " ('ou', 'isto'),\n",
              " ('isto', 'aquilo'),\n",
              " ('aquilo', 'cecília'),\n",
              " ('cecília', 'meireles')]"
            ]
          },
          "metadata": {},
          "execution_count": 132
        }
      ]
    },
    {
      "cell_type": "code",
      "metadata": {
        "colab": {
          "base_uri": "https://localhost:8080/"
        },
        "id": "PXysj_paJC2L",
        "outputId": "80ca97cc-f3f6-4414-94e1-eb1f8a06bcbe"
      },
      "source": [
        "list( trigrams(tokens_sem_stopwords) )"
      ],
      "execution_count": 133,
      "outputs": [
        {
          "output_type": "execute_result",
          "data": {
            "text/plain": [
              "[('ou', 'chuva', 'sol'),\n",
              " ('chuva', 'sol', 'sol'),\n",
              " ('sol', 'sol', 'chuva'),\n",
              " ('sol', 'chuva', 'ou'),\n",
              " ('chuva', 'ou', 'calça'),\n",
              " ('ou', 'calça', 'luva'),\n",
              " ('calça', 'luva', 'põe'),\n",
              " ('luva', 'põe', 'anel'),\n",
              " ('põe', 'anel', 'põe'),\n",
              " ('anel', 'põe', 'anel'),\n",
              " ('põe', 'anel', 'calça'),\n",
              " ('anel', 'calça', 'luva'),\n",
              " ('calça', 'luva', 'quem'),\n",
              " ('luva', 'quem', 'sobe'),\n",
              " ('quem', 'sobe', 'ares'),\n",
              " ('sobe', 'ares', 'fica'),\n",
              " ('ares', 'fica', 'chão'),\n",
              " ('fica', 'chão', 'fica'),\n",
              " ('chão', 'fica', 'chão'),\n",
              " ('fica', 'chão', 'sobe'),\n",
              " ('chão', 'sobe', 'ares'),\n",
              " ('sobe', 'ares', 'grande'),\n",
              " ('ares', 'grande', 'pena'),\n",
              " ('grande', 'pena', 'possa'),\n",
              " ('pena', 'possa', 'estar'),\n",
              " ('possa', 'estar', 'tempo'),\n",
              " ('estar', 'tempo', 'dois'),\n",
              " ('tempo', 'dois', 'lugares'),\n",
              " ('dois', 'lugares', 'ou'),\n",
              " ('lugares', 'ou', 'guardo'),\n",
              " ('ou', 'guardo', 'dinheiro'),\n",
              " ('guardo', 'dinheiro', 'compro'),\n",
              " ('dinheiro', 'compro', 'doce'),\n",
              " ('compro', 'doce', 'compro'),\n",
              " ('doce', 'compro', 'doce'),\n",
              " ('compro', 'doce', 'gasto'),\n",
              " ('doce', 'gasto', 'dinheiro'),\n",
              " ('gasto', 'dinheiro', 'ou'),\n",
              " ('dinheiro', 'ou', 'vivo'),\n",
              " ('ou', 'vivo', 'escolhendo'),\n",
              " ('vivo', 'escolhendo', 'dia'),\n",
              " ('escolhendo', 'dia', 'inteiro'),\n",
              " ('dia', 'inteiro', 'não'),\n",
              " ('inteiro', 'não', 'sei'),\n",
              " ('não', 'sei', 'brinco'),\n",
              " ('sei', 'brinco', 'sei'),\n",
              " ('brinco', 'sei', 'estudo'),\n",
              " ('sei', 'estudo', 'saio'),\n",
              " ('estudo', 'saio', 'correndo'),\n",
              " ('saio', 'correndo', 'fico'),\n",
              " ('correndo', 'fico', 'tranquilo'),\n",
              " ('fico', 'tranquilo', 'mas'),\n",
              " ('tranquilo', 'mas', 'consegui'),\n",
              " ('mas', 'consegui', 'entender'),\n",
              " ('consegui', 'entender', 'ainda'),\n",
              " ('entender', 'ainda', 'melhor'),\n",
              " ('ainda', 'melhor', 'ou'),\n",
              " ('melhor', 'ou', 'isto'),\n",
              " ('ou', 'isto', 'aquilo'),\n",
              " ('isto', 'aquilo', 'cecília'),\n",
              " ('aquilo', 'cecília', 'meireles')]"
            ]
          },
          "metadata": {},
          "execution_count": 133
        }
      ]
    },
    {
      "cell_type": "code",
      "metadata": {
        "colab": {
          "base_uri": "https://localhost:8080/"
        },
        "id": "MPeh3-tuJIkj",
        "outputId": "606a3c98-ad7d-407c-eec2-dfbc92d30dfa"
      },
      "source": [
        "list( ngrams(tokens_sem_stopwords, 4) )"
      ],
      "execution_count": 134,
      "outputs": [
        {
          "output_type": "execute_result",
          "data": {
            "text/plain": [
              "[('ou', 'chuva', 'sol', 'sol'),\n",
              " ('chuva', 'sol', 'sol', 'chuva'),\n",
              " ('sol', 'sol', 'chuva', 'ou'),\n",
              " ('sol', 'chuva', 'ou', 'calça'),\n",
              " ('chuva', 'ou', 'calça', 'luva'),\n",
              " ('ou', 'calça', 'luva', 'põe'),\n",
              " ('calça', 'luva', 'põe', 'anel'),\n",
              " ('luva', 'põe', 'anel', 'põe'),\n",
              " ('põe', 'anel', 'põe', 'anel'),\n",
              " ('anel', 'põe', 'anel', 'calça'),\n",
              " ('põe', 'anel', 'calça', 'luva'),\n",
              " ('anel', 'calça', 'luva', 'quem'),\n",
              " ('calça', 'luva', 'quem', 'sobe'),\n",
              " ('luva', 'quem', 'sobe', 'ares'),\n",
              " ('quem', 'sobe', 'ares', 'fica'),\n",
              " ('sobe', 'ares', 'fica', 'chão'),\n",
              " ('ares', 'fica', 'chão', 'fica'),\n",
              " ('fica', 'chão', 'fica', 'chão'),\n",
              " ('chão', 'fica', 'chão', 'sobe'),\n",
              " ('fica', 'chão', 'sobe', 'ares'),\n",
              " ('chão', 'sobe', 'ares', 'grande'),\n",
              " ('sobe', 'ares', 'grande', 'pena'),\n",
              " ('ares', 'grande', 'pena', 'possa'),\n",
              " ('grande', 'pena', 'possa', 'estar'),\n",
              " ('pena', 'possa', 'estar', 'tempo'),\n",
              " ('possa', 'estar', 'tempo', 'dois'),\n",
              " ('estar', 'tempo', 'dois', 'lugares'),\n",
              " ('tempo', 'dois', 'lugares', 'ou'),\n",
              " ('dois', 'lugares', 'ou', 'guardo'),\n",
              " ('lugares', 'ou', 'guardo', 'dinheiro'),\n",
              " ('ou', 'guardo', 'dinheiro', 'compro'),\n",
              " ('guardo', 'dinheiro', 'compro', 'doce'),\n",
              " ('dinheiro', 'compro', 'doce', 'compro'),\n",
              " ('compro', 'doce', 'compro', 'doce'),\n",
              " ('doce', 'compro', 'doce', 'gasto'),\n",
              " ('compro', 'doce', 'gasto', 'dinheiro'),\n",
              " ('doce', 'gasto', 'dinheiro', 'ou'),\n",
              " ('gasto', 'dinheiro', 'ou', 'vivo'),\n",
              " ('dinheiro', 'ou', 'vivo', 'escolhendo'),\n",
              " ('ou', 'vivo', 'escolhendo', 'dia'),\n",
              " ('vivo', 'escolhendo', 'dia', 'inteiro'),\n",
              " ('escolhendo', 'dia', 'inteiro', 'não'),\n",
              " ('dia', 'inteiro', 'não', 'sei'),\n",
              " ('inteiro', 'não', 'sei', 'brinco'),\n",
              " ('não', 'sei', 'brinco', 'sei'),\n",
              " ('sei', 'brinco', 'sei', 'estudo'),\n",
              " ('brinco', 'sei', 'estudo', 'saio'),\n",
              " ('sei', 'estudo', 'saio', 'correndo'),\n",
              " ('estudo', 'saio', 'correndo', 'fico'),\n",
              " ('saio', 'correndo', 'fico', 'tranquilo'),\n",
              " ('correndo', 'fico', 'tranquilo', 'mas'),\n",
              " ('fico', 'tranquilo', 'mas', 'consegui'),\n",
              " ('tranquilo', 'mas', 'consegui', 'entender'),\n",
              " ('mas', 'consegui', 'entender', 'ainda'),\n",
              " ('consegui', 'entender', 'ainda', 'melhor'),\n",
              " ('entender', 'ainda', 'melhor', 'ou'),\n",
              " ('ainda', 'melhor', 'ou', 'isto'),\n",
              " ('melhor', 'ou', 'isto', 'aquilo'),\n",
              " ('ou', 'isto', 'aquilo', 'cecília'),\n",
              " ('isto', 'aquilo', 'cecília', 'meireles')]"
            ]
          },
          "metadata": {},
          "execution_count": 134
        }
      ]
    },
    {
      "cell_type": "markdown",
      "metadata": {
        "id": "mo5auWTMJjEL"
      },
      "source": [
        "# STEMMING\n",
        "Consiste em reduzir a palavra ao seu radical.\n",
        "\n",
        "* amig: amigo, amiga, amigão\n",
        "* gat: gato, gata, gatos\n",
        "* prop: propõem, propuseram, propondo\n"
      ]
    },
    {
      "cell_type": "markdown",
      "metadata": {
        "id": "Q9TiGU27J4iE"
      },
      "source": [
        "## Vários algoritmos... o NLTK tem implementado vários algoritmos de\n",
        "para stemmer:\n",
        "\n",
        "* RSLP\n",
        "* Porter\n",
        "* ISRI\n",
        "* Lancaster\n",
        "* Snowball"
      ]
    },
    {
      "cell_type": "code",
      "metadata": {
        "colab": {
          "base_uri": "https://localhost:8080/"
        },
        "id": "gPdRirl1KJuD",
        "outputId": "09f7ddef-c797-4343-ef58-b99dd54cde6f"
      },
      "source": [
        "stemmer = nltk.RSLPStemmer() # RSLP = Removedor de Sufixos da Língua Portuguesa\n",
        "\n",
        "for w in ['amigão','amigos','amigas','amigável','propuseram','propondo','propôs','propõem']:\n",
        "  print( stemmer.stem(w) )"
      ],
      "execution_count": 135,
      "outputs": [
        {
          "output_type": "stream",
          "name": "stdout",
          "text": [
            "amig\n",
            "amig\n",
            "amig\n",
            "amig\n",
            "propus\n",
            "prop\n",
            "propô\n",
            "propõ\n"
          ]
        }
      ]
    },
    {
      "cell_type": "markdown",
      "metadata": {
        "id": "osvR73sfJtjr"
      },
      "source": [
        "# LEMATIZAÇÃO\n",
        "Consiste em reduzir a palavra à\n",
        "sua forma canônica, levando em conta sua\n",
        "classe gramatical.\n",
        "\n",
        "* propor: propõem, propuseram, propondo\n",
        "* estudar: estudando, estudioso, estudei"
      ]
    },
    {
      "cell_type": "markdown",
      "metadata": {
        "id": "-BG-kWpYKzy7"
      },
      "source": [
        "Infelizmente o NLTK ainda não tem um\n",
        "lematizador para o Português bom o bastante.\n",
        "O WordNet Lemmatizer funciona para Inglês."
      ]
    },
    {
      "cell_type": "code",
      "metadata": {
        "colab": {
          "base_uri": "https://localhost:8080/"
        },
        "id": "6WMERlQ9LFQS",
        "outputId": "03813155-9fa4-4b79-c741-8ece423898b2"
      },
      "source": [
        "lemmatizer = nltk.stem.WordNetLemmatizer()\n",
        "\n",
        "for w in ['studying','studied','sang','sings','singing']:\n",
        "  print( lemmatizer.lemmatize(w, pos='v') ) # try pos='n'\n"
      ],
      "execution_count": 139,
      "outputs": [
        {
          "output_type": "stream",
          "name": "stdout",
          "text": [
            "study\n",
            "study\n",
            "sing\n",
            "sing\n",
            "sing\n"
          ]
        }
      ]
    },
    {
      "cell_type": "markdown",
      "metadata": {
        "id": "Wuc7eKu-MEPJ"
      },
      "source": [
        "# NLTK – Etiquetadores\n",
        " \n",
        "O NLTK possui dois corpus que servem como\n",
        "base para o etiquetador em português: o\n",
        "Floresta e o Mac Morpho.\n",
        "\n",
        "Para o inglês já existe um etiquetador padrão\n",
        "treinado: o `nltk.pos_tag()`.\n",
        "\n",
        "Os etiquetadores passam primeiramente por uma\n",
        "fase de treinamento com as sentenças presentes.\n",
        "* Floresta: 9.266 sentenças etiquetadas\n",
        "* Mac Morpho: 51.397 sentenças etiquetadas\n",
        "\n",
        "Como resultado, os etiquetadores retornam uma\n",
        "tupla (‘palavra’, ‘classe gramatical’), na qual a classe gramatical depende do treinamento\n",
        "que é realizado."
      ]
    },
    {
      "cell_type": "code",
      "metadata": {
        "colab": {
          "base_uri": "https://localhost:8080/"
        },
        "id": "XXk0OvVfMSzb",
        "outputId": "e65147b4-e490-41e0-88cc-3527672aabca"
      },
      "source": [
        "from nltk.corpus import mac_morpho\n",
        "from nltk.tag import UnigramTagger\n",
        "\n",
        "sentencas_treinadoras = mac_morpho.tagged_sents()\n",
        "etiq = UnigramTagger(sentencas_treinadoras)\n",
        "\n",
        "tags = etiq.tag(tokens)\n",
        "tags\n"
      ],
      "execution_count": 140,
      "outputs": [
        {
          "output_type": "execute_result",
          "data": {
            "text/plain": [
              "[('Ou', 'KC'),\n",
              " ('se', 'PROPESS'),\n",
              " ('tem', 'V'),\n",
              " ('chuva', 'N'),\n",
              " ('e', 'KC'),\n",
              " ('não', 'ADV'),\n",
              " ('se', 'PROPESS'),\n",
              " ('tem', 'V'),\n",
              " ('sol', 'N'),\n",
              " ('ou', 'KC'),\n",
              " ('se', 'PROPESS'),\n",
              " ('tem', 'V'),\n",
              " ('sol', 'N'),\n",
              " ('e', 'KC'),\n",
              " ('não', 'ADV'),\n",
              " ('se', 'PROPESS'),\n",
              " ('tem', 'V'),\n",
              " ('chuva', 'N'),\n",
              " ('Ou', 'KC'),\n",
              " ('se', 'PROPESS'),\n",
              " ('calça', 'N'),\n",
              " ('a', 'ART'),\n",
              " ('luva', 'N'),\n",
              " ('e', 'KC'),\n",
              " ('não', 'ADV'),\n",
              " ('se', 'PROPESS'),\n",
              " ('põe', 'V'),\n",
              " ('o', 'ART'),\n",
              " ('anel', 'N'),\n",
              " ('ou', 'KC'),\n",
              " ('se', 'PROPESS'),\n",
              " ('põe', 'V'),\n",
              " ('o', 'ART'),\n",
              " ('anel', 'N'),\n",
              " ('e', 'KC'),\n",
              " ('não', 'ADV'),\n",
              " ('se', 'PROPESS'),\n",
              " ('calça', 'N'),\n",
              " ('a', 'ART'),\n",
              " ('luva', 'N'),\n",
              " ('Quem', 'PRO-KS'),\n",
              " ('sobe', 'V'),\n",
              " ('nos', 'PROPESS'),\n",
              " ('ares', 'N'),\n",
              " ('não', 'ADV'),\n",
              " ('fica', 'V'),\n",
              " ('no', 'KC'),\n",
              " ('chão', 'N'),\n",
              " ('quem', 'PRO-KS'),\n",
              " ('fica', 'V'),\n",
              " ('no', 'KC'),\n",
              " ('chão', 'N'),\n",
              " ('não', 'ADV'),\n",
              " ('sobe', 'V'),\n",
              " ('nos', 'PROPESS'),\n",
              " ('ares', 'N'),\n",
              " ('uma', 'ART'),\n",
              " ('grande', 'ADJ'),\n",
              " ('pena', 'N'),\n",
              " ('que', 'PRO-KS-REL'),\n",
              " ('não', 'ADV'),\n",
              " ('se', 'PROPESS'),\n",
              " ('possa', 'VAUX'),\n",
              " ('estar', 'V'),\n",
              " ('ao', 'PREP'),\n",
              " ('mesmo', 'PROADJ'),\n",
              " ('tempo', 'N'),\n",
              " ('nos', 'PROPESS'),\n",
              " ('dois', 'NUM'),\n",
              " ('lugares', 'N'),\n",
              " ('Ou', 'KC'),\n",
              " ('guardo', None),\n",
              " ('o', 'ART'),\n",
              " ('dinheiro', 'N'),\n",
              " ('e', 'KC'),\n",
              " ('não', 'ADV'),\n",
              " ('compro', 'V'),\n",
              " ('o', 'ART'),\n",
              " ('doce', 'ADJ'),\n",
              " ('ou', 'KC'),\n",
              " ('compro', 'V'),\n",
              " ('o', 'ART'),\n",
              " ('doce', 'ADJ'),\n",
              " ('e', 'KC'),\n",
              " ('gasto', 'N'),\n",
              " ('o', 'ART'),\n",
              " ('dinheiro', 'N'),\n",
              " ('Ou', 'KC'),\n",
              " ('isto', 'PROSUB'),\n",
              " ('ou', 'KC'),\n",
              " ('aquilo', 'PROSUB'),\n",
              " ('ou', 'KC'),\n",
              " ('isto', 'PROSUB'),\n",
              " ('ou', 'KC'),\n",
              " ('aquilo', 'PROSUB'),\n",
              " ('e', 'KC'),\n",
              " ('vivo', 'ADV'),\n",
              " ('escolhendo', 'V'),\n",
              " ('o', 'ART'),\n",
              " ('dia', 'N'),\n",
              " ('inteiro', 'ADJ'),\n",
              " ('Não', 'ADV'),\n",
              " ('sei', 'V'),\n",
              " ('se', 'PROPESS'),\n",
              " ('brinco', 'V'),\n",
              " ('não', 'ADV'),\n",
              " ('sei', 'V'),\n",
              " ('se', 'PROPESS'),\n",
              " ('estudo', 'N'),\n",
              " ('se', 'PROPESS'),\n",
              " ('saio', 'V'),\n",
              " ('correndo', 'V'),\n",
              " ('ou', 'KC'),\n",
              " ('fico', 'V'),\n",
              " ('tranquilo', 'ADJ'),\n",
              " ('Mas', 'KC'),\n",
              " ('não', 'ADV'),\n",
              " ('consegui', 'V'),\n",
              " ('entender', 'V'),\n",
              " ('ainda', 'ADV'),\n",
              " ('qual', 'PRO-KS-REL'),\n",
              " ('melhor', 'ADJ'),\n",
              " ('se', 'PROPESS'),\n",
              " ('isto', 'PROSUB'),\n",
              " ('ou', 'KC'),\n",
              " ('aquilo', 'PROSUB'),\n",
              " ('Ou', 'KC'),\n",
              " ('Isto', 'PROSUB'),\n",
              " ('ou', 'KC'),\n",
              " ('Aquilo', 'PROSUB'),\n",
              " ('Cecília', 'NPROP'),\n",
              " ('Meireles', 'NPROP')]"
            ]
          },
          "metadata": {},
          "execution_count": 140
        }
      ]
    },
    {
      "cell_type": "markdown",
      "metadata": {
        "id": "ILtoubmpOGD8"
      },
      "source": [
        "# Análise Gramatical"
      ]
    },
    {
      "cell_type": "code",
      "metadata": {
        "colab": {
          "base_uri": "https://localhost:8080/",
          "height": 374
        },
        "id": "nNq2y3tJOFmY",
        "outputId": "4a3855b2-2f78-441a-8967-7e5c4cf842ee"
      },
      "source": [
        "from nltk.chunk import RegexpParser\n",
        "pattern = 'NP:{<NPROP><NPROP>|<N><N>}'\n",
        "\n",
        "analiseGramatical = RegexpParser(pattern)\n",
        "arvore = analiseGramatical.parse(tags)\n",
        "\n",
        "print(arvore)\n",
        "arvore.draw()"
      ],
      "execution_count": 143,
      "outputs": [
        {
          "output_type": "error",
          "ename": "TypeError",
          "evalue": "ignored",
          "traceback": [
            "\u001b[0;31m---------------------------------------------------------------------------\u001b[0m",
            "\u001b[0;31mTypeError\u001b[0m                                 Traceback (most recent call last)",
            "\u001b[0;32m<ipython-input-143-e97511b0670e>\u001b[0m in \u001b[0;36m<module>\u001b[0;34m()\u001b[0m\n\u001b[1;32m      3\u001b[0m \u001b[0;34m\u001b[0m\u001b[0m\n\u001b[1;32m      4\u001b[0m \u001b[0manaliseGramatical\u001b[0m \u001b[0;34m=\u001b[0m \u001b[0mRegexpParser\u001b[0m\u001b[0;34m(\u001b[0m\u001b[0mpattern\u001b[0m\u001b[0;34m)\u001b[0m\u001b[0;34m\u001b[0m\u001b[0;34m\u001b[0m\u001b[0m\n\u001b[0;32m----> 5\u001b[0;31m \u001b[0marvore\u001b[0m \u001b[0;34m=\u001b[0m \u001b[0manaliseGramatical\u001b[0m\u001b[0;34m.\u001b[0m\u001b[0mparse\u001b[0m\u001b[0;34m(\u001b[0m\u001b[0mtags\u001b[0m\u001b[0;34m)\u001b[0m\u001b[0;34m\u001b[0m\u001b[0;34m\u001b[0m\u001b[0m\n\u001b[0m\u001b[1;32m      6\u001b[0m \u001b[0;34m\u001b[0m\u001b[0m\n\u001b[1;32m      7\u001b[0m \u001b[0mprint\u001b[0m\u001b[0;34m(\u001b[0m\u001b[0marvore\u001b[0m\u001b[0;34m)\u001b[0m\u001b[0;34m\u001b[0m\u001b[0;34m\u001b[0m\u001b[0m\n",
            "\u001b[0;32m/usr/local/lib/python3.7/dist-packages/nltk/chunk/regexp.py\u001b[0m in \u001b[0;36mparse\u001b[0;34m(self, chunk_struct, trace)\u001b[0m\n\u001b[1;32m   1206\u001b[0m         \u001b[0;32mfor\u001b[0m \u001b[0mi\u001b[0m \u001b[0;32min\u001b[0m \u001b[0mrange\u001b[0m\u001b[0;34m(\u001b[0m\u001b[0mself\u001b[0m\u001b[0;34m.\u001b[0m\u001b[0m_loop\u001b[0m\u001b[0;34m)\u001b[0m\u001b[0;34m:\u001b[0m\u001b[0;34m\u001b[0m\u001b[0;34m\u001b[0m\u001b[0m\n\u001b[1;32m   1207\u001b[0m             \u001b[0;32mfor\u001b[0m \u001b[0mparser\u001b[0m \u001b[0;32min\u001b[0m \u001b[0mself\u001b[0m\u001b[0;34m.\u001b[0m\u001b[0m_stages\u001b[0m\u001b[0;34m:\u001b[0m\u001b[0;34m\u001b[0m\u001b[0;34m\u001b[0m\u001b[0m\n\u001b[0;32m-> 1208\u001b[0;31m                 \u001b[0mchunk_struct\u001b[0m \u001b[0;34m=\u001b[0m \u001b[0mparser\u001b[0m\u001b[0;34m.\u001b[0m\u001b[0mparse\u001b[0m\u001b[0;34m(\u001b[0m\u001b[0mchunk_struct\u001b[0m\u001b[0;34m,\u001b[0m \u001b[0mtrace\u001b[0m\u001b[0;34m=\u001b[0m\u001b[0mtrace\u001b[0m\u001b[0;34m)\u001b[0m\u001b[0;34m\u001b[0m\u001b[0;34m\u001b[0m\u001b[0m\n\u001b[0m\u001b[1;32m   1209\u001b[0m         \u001b[0;32mreturn\u001b[0m \u001b[0mchunk_struct\u001b[0m\u001b[0;34m\u001b[0m\u001b[0;34m\u001b[0m\u001b[0m\n\u001b[1;32m   1210\u001b[0m \u001b[0;34m\u001b[0m\u001b[0m\n",
            "\u001b[0;32m/usr/local/lib/python3.7/dist-packages/nltk/chunk/regexp.py\u001b[0m in \u001b[0;36mparse\u001b[0;34m(self, chunk_struct, trace)\u001b[0m\n\u001b[1;32m   1021\u001b[0m         \u001b[0;32mif\u001b[0m \u001b[0mtrace\u001b[0m \u001b[0;32mis\u001b[0m \u001b[0;32mNone\u001b[0m\u001b[0;34m:\u001b[0m \u001b[0mtrace\u001b[0m \u001b[0;34m=\u001b[0m \u001b[0mself\u001b[0m\u001b[0;34m.\u001b[0m\u001b[0m_trace\u001b[0m\u001b[0;34m\u001b[0m\u001b[0;34m\u001b[0m\u001b[0m\n\u001b[1;32m   1022\u001b[0m \u001b[0;34m\u001b[0m\u001b[0m\n\u001b[0;32m-> 1023\u001b[0;31m         \u001b[0mchunkstr\u001b[0m \u001b[0;34m=\u001b[0m \u001b[0mChunkString\u001b[0m\u001b[0;34m(\u001b[0m\u001b[0mchunk_struct\u001b[0m\u001b[0;34m)\u001b[0m\u001b[0;34m\u001b[0m\u001b[0;34m\u001b[0m\u001b[0m\n\u001b[0m\u001b[1;32m   1024\u001b[0m \u001b[0;34m\u001b[0m\u001b[0m\n\u001b[1;32m   1025\u001b[0m         \u001b[0;31m# Apply the sequence of rules to the chunkstring.\u001b[0m\u001b[0;34m\u001b[0m\u001b[0;34m\u001b[0m\u001b[0;34m\u001b[0m\u001b[0m\n",
            "\u001b[0;32m/usr/local/lib/python3.7/dist-packages/nltk/chunk/regexp.py\u001b[0m in \u001b[0;36m__init__\u001b[0;34m(self, chunk_struct, debug_level)\u001b[0m\n\u001b[1;32m     96\u001b[0m         \u001b[0mself\u001b[0m\u001b[0;34m.\u001b[0m\u001b[0m_pieces\u001b[0m \u001b[0;34m=\u001b[0m \u001b[0mchunk_struct\u001b[0m\u001b[0;34m[\u001b[0m\u001b[0;34m:\u001b[0m\u001b[0;34m]\u001b[0m\u001b[0;34m\u001b[0m\u001b[0;34m\u001b[0m\u001b[0m\n\u001b[1;32m     97\u001b[0m         \u001b[0mtags\u001b[0m \u001b[0;34m=\u001b[0m \u001b[0;34m[\u001b[0m\u001b[0mself\u001b[0m\u001b[0;34m.\u001b[0m\u001b[0m_tag\u001b[0m\u001b[0;34m(\u001b[0m\u001b[0mtok\u001b[0m\u001b[0;34m)\u001b[0m \u001b[0;32mfor\u001b[0m \u001b[0mtok\u001b[0m \u001b[0;32min\u001b[0m \u001b[0mself\u001b[0m\u001b[0;34m.\u001b[0m\u001b[0m_pieces\u001b[0m\u001b[0;34m]\u001b[0m\u001b[0;34m\u001b[0m\u001b[0;34m\u001b[0m\u001b[0m\n\u001b[0;32m---> 98\u001b[0;31m         \u001b[0mself\u001b[0m\u001b[0;34m.\u001b[0m\u001b[0m_str\u001b[0m \u001b[0;34m=\u001b[0m \u001b[0;34m'<'\u001b[0m \u001b[0;34m+\u001b[0m \u001b[0;34m'><'\u001b[0m\u001b[0;34m.\u001b[0m\u001b[0mjoin\u001b[0m\u001b[0;34m(\u001b[0m\u001b[0mtags\u001b[0m\u001b[0;34m)\u001b[0m \u001b[0;34m+\u001b[0m \u001b[0;34m'>'\u001b[0m\u001b[0;34m\u001b[0m\u001b[0;34m\u001b[0m\u001b[0m\n\u001b[0m\u001b[1;32m     99\u001b[0m         \u001b[0mself\u001b[0m\u001b[0;34m.\u001b[0m\u001b[0m_debug\u001b[0m \u001b[0;34m=\u001b[0m \u001b[0mdebug_level\u001b[0m\u001b[0;34m\u001b[0m\u001b[0;34m\u001b[0m\u001b[0m\n\u001b[1;32m    100\u001b[0m \u001b[0;34m\u001b[0m\u001b[0m\n",
            "\u001b[0;31mTypeError\u001b[0m: sequence item 71: expected str instance, NoneType found"
          ]
        }
      ]
    },
    {
      "cell_type": "markdown",
      "metadata": {
        "id": "d-2yVnz1PbwM"
      },
      "source": [
        "## **DEU ERRO!** É isso mesmo continue..."
      ]
    },
    {
      "cell_type": "code",
      "metadata": {
        "colab": {
          "base_uri": "https://localhost:8080/"
        },
        "id": "_50RPahFPI1N",
        "outputId": "adf6a0fd-4bbf-4970-dd15-f219fc140201"
      },
      "source": [
        "tags[69:72]"
      ],
      "execution_count": 144,
      "outputs": [
        {
          "output_type": "execute_result",
          "data": {
            "text/plain": [
              "[('lugares', 'N'), ('Ou', 'KC'), ('guardo', None)]"
            ]
          },
          "metadata": {},
          "execution_count": 144
        }
      ]
    },
    {
      "cell_type": "code",
      "metadata": {
        "colab": {
          "base_uri": "https://localhost:8080/"
        },
        "id": "qfbGql_NPZ_0",
        "outputId": "2a601deb-1244-4503-8180-b4865317152b"
      },
      "source": [
        "from nltk.corpus import mac_morpho\n",
        "from nltk.tag import UnigramTagger\n",
        "from nltk.tag import DefaultTagger\n",
        "\n",
        "etiq_padrao = DefaultTagger('N')\n",
        "sentencas_treinadoras = mac_morpho.tagged_sents()\n",
        "etiq = UnigramTagger(sentencas_treinadoras, backoff=etiq_padrao)\n",
        "\n",
        "tags = etiq.tag(tokens)\n",
        "tags"
      ],
      "execution_count": 146,
      "outputs": [
        {
          "output_type": "execute_result",
          "data": {
            "text/plain": [
              "[('Ou', 'KC'),\n",
              " ('se', 'PROPESS'),\n",
              " ('tem', 'V'),\n",
              " ('chuva', 'N'),\n",
              " ('e', 'KC'),\n",
              " ('não', 'ADV'),\n",
              " ('se', 'PROPESS'),\n",
              " ('tem', 'V'),\n",
              " ('sol', 'N'),\n",
              " ('ou', 'KC'),\n",
              " ('se', 'PROPESS'),\n",
              " ('tem', 'V'),\n",
              " ('sol', 'N'),\n",
              " ('e', 'KC'),\n",
              " ('não', 'ADV'),\n",
              " ('se', 'PROPESS'),\n",
              " ('tem', 'V'),\n",
              " ('chuva', 'N'),\n",
              " ('Ou', 'KC'),\n",
              " ('se', 'PROPESS'),\n",
              " ('calça', 'N'),\n",
              " ('a', 'ART'),\n",
              " ('luva', 'N'),\n",
              " ('e', 'KC'),\n",
              " ('não', 'ADV'),\n",
              " ('se', 'PROPESS'),\n",
              " ('põe', 'V'),\n",
              " ('o', 'ART'),\n",
              " ('anel', 'N'),\n",
              " ('ou', 'KC'),\n",
              " ('se', 'PROPESS'),\n",
              " ('põe', 'V'),\n",
              " ('o', 'ART'),\n",
              " ('anel', 'N'),\n",
              " ('e', 'KC'),\n",
              " ('não', 'ADV'),\n",
              " ('se', 'PROPESS'),\n",
              " ('calça', 'N'),\n",
              " ('a', 'ART'),\n",
              " ('luva', 'N'),\n",
              " ('Quem', 'PRO-KS'),\n",
              " ('sobe', 'V'),\n",
              " ('nos', 'PROPESS'),\n",
              " ('ares', 'N'),\n",
              " ('não', 'ADV'),\n",
              " ('fica', 'V'),\n",
              " ('no', 'KC'),\n",
              " ('chão', 'N'),\n",
              " ('quem', 'PRO-KS'),\n",
              " ('fica', 'V'),\n",
              " ('no', 'KC'),\n",
              " ('chão', 'N'),\n",
              " ('não', 'ADV'),\n",
              " ('sobe', 'V'),\n",
              " ('nos', 'PROPESS'),\n",
              " ('ares', 'N'),\n",
              " ('uma', 'ART'),\n",
              " ('grande', 'ADJ'),\n",
              " ('pena', 'N'),\n",
              " ('que', 'PRO-KS-REL'),\n",
              " ('não', 'ADV'),\n",
              " ('se', 'PROPESS'),\n",
              " ('possa', 'VAUX'),\n",
              " ('estar', 'V'),\n",
              " ('ao', 'PREP'),\n",
              " ('mesmo', 'PROADJ'),\n",
              " ('tempo', 'N'),\n",
              " ('nos', 'PROPESS'),\n",
              " ('dois', 'NUM'),\n",
              " ('lugares', 'N'),\n",
              " ('Ou', 'KC'),\n",
              " ('guardo', 'N'),\n",
              " ('o', 'ART'),\n",
              " ('dinheiro', 'N'),\n",
              " ('e', 'KC'),\n",
              " ('não', 'ADV'),\n",
              " ('compro', 'V'),\n",
              " ('o', 'ART'),\n",
              " ('doce', 'ADJ'),\n",
              " ('ou', 'KC'),\n",
              " ('compro', 'V'),\n",
              " ('o', 'ART'),\n",
              " ('doce', 'ADJ'),\n",
              " ('e', 'KC'),\n",
              " ('gasto', 'N'),\n",
              " ('o', 'ART'),\n",
              " ('dinheiro', 'N'),\n",
              " ('Ou', 'KC'),\n",
              " ('isto', 'PROSUB'),\n",
              " ('ou', 'KC'),\n",
              " ('aquilo', 'PROSUB'),\n",
              " ('ou', 'KC'),\n",
              " ('isto', 'PROSUB'),\n",
              " ('ou', 'KC'),\n",
              " ('aquilo', 'PROSUB'),\n",
              " ('e', 'KC'),\n",
              " ('vivo', 'ADV'),\n",
              " ('escolhendo', 'V'),\n",
              " ('o', 'ART'),\n",
              " ('dia', 'N'),\n",
              " ('inteiro', 'ADJ'),\n",
              " ('Não', 'ADV'),\n",
              " ('sei', 'V'),\n",
              " ('se', 'PROPESS'),\n",
              " ('brinco', 'V'),\n",
              " ('não', 'ADV'),\n",
              " ('sei', 'V'),\n",
              " ('se', 'PROPESS'),\n",
              " ('estudo', 'N'),\n",
              " ('se', 'PROPESS'),\n",
              " ('saio', 'V'),\n",
              " ('correndo', 'V'),\n",
              " ('ou', 'KC'),\n",
              " ('fico', 'V'),\n",
              " ('tranquilo', 'ADJ'),\n",
              " ('Mas', 'KC'),\n",
              " ('não', 'ADV'),\n",
              " ('consegui', 'V'),\n",
              " ('entender', 'V'),\n",
              " ('ainda', 'ADV'),\n",
              " ('qual', 'PRO-KS-REL'),\n",
              " ('melhor', 'ADJ'),\n",
              " ('se', 'PROPESS'),\n",
              " ('isto', 'PROSUB'),\n",
              " ('ou', 'KC'),\n",
              " ('aquilo', 'PROSUB'),\n",
              " ('Ou', 'KC'),\n",
              " ('Isto', 'PROSUB'),\n",
              " ('ou', 'KC'),\n",
              " ('Aquilo', 'PROSUB'),\n",
              " ('Cecília', 'NPROP'),\n",
              " ('Meireles', 'NPROP')]"
            ]
          },
          "metadata": {},
          "execution_count": 146
        }
      ]
    },
    {
      "cell_type": "code",
      "metadata": {
        "colab": {
          "base_uri": "https://localhost:8080/"
        },
        "id": "o6Mb72ecP8Tl",
        "outputId": "ea8c4711-b164-4ada-c70a-88f31408c43f"
      },
      "source": [
        "from nltk.chunk import RegexpParser\n",
        "pattern = 'NP:{<NPROP><NPROP>|<N><N>}'\n",
        "\n",
        "analiseGramatical = RegexpParser(pattern)\n",
        "arvore = analiseGramatical.parse(tags)\n",
        "\n",
        "print(arvore)\n",
        "# arvore.draw() # not no Colab! :-()"
      ],
      "execution_count": 148,
      "outputs": [
        {
          "output_type": "stream",
          "name": "stdout",
          "text": [
            "(S\n",
            "  Ou/KC\n",
            "  se/PROPESS\n",
            "  tem/V\n",
            "  chuva/N\n",
            "  e/KC\n",
            "  não/ADV\n",
            "  se/PROPESS\n",
            "  tem/V\n",
            "  sol/N\n",
            "  ou/KC\n",
            "  se/PROPESS\n",
            "  tem/V\n",
            "  sol/N\n",
            "  e/KC\n",
            "  não/ADV\n",
            "  se/PROPESS\n",
            "  tem/V\n",
            "  chuva/N\n",
            "  Ou/KC\n",
            "  se/PROPESS\n",
            "  calça/N\n",
            "  a/ART\n",
            "  luva/N\n",
            "  e/KC\n",
            "  não/ADV\n",
            "  se/PROPESS\n",
            "  põe/V\n",
            "  o/ART\n",
            "  anel/N\n",
            "  ou/KC\n",
            "  se/PROPESS\n",
            "  põe/V\n",
            "  o/ART\n",
            "  anel/N\n",
            "  e/KC\n",
            "  não/ADV\n",
            "  se/PROPESS\n",
            "  calça/N\n",
            "  a/ART\n",
            "  luva/N\n",
            "  Quem/PRO-KS\n",
            "  sobe/V\n",
            "  nos/PROPESS\n",
            "  ares/N\n",
            "  não/ADV\n",
            "  fica/V\n",
            "  no/KC\n",
            "  chão/N\n",
            "  quem/PRO-KS\n",
            "  fica/V\n",
            "  no/KC\n",
            "  chão/N\n",
            "  não/ADV\n",
            "  sobe/V\n",
            "  nos/PROPESS\n",
            "  ares/N\n",
            "  uma/ART\n",
            "  grande/ADJ\n",
            "  pena/N\n",
            "  que/PRO-KS-REL\n",
            "  não/ADV\n",
            "  se/PROPESS\n",
            "  possa/VAUX\n",
            "  estar/V\n",
            "  ao/PREP\n",
            "  mesmo/PROADJ\n",
            "  tempo/N\n",
            "  nos/PROPESS\n",
            "  dois/NUM\n",
            "  lugares/N\n",
            "  Ou/KC\n",
            "  guardo/N\n",
            "  o/ART\n",
            "  dinheiro/N\n",
            "  e/KC\n",
            "  não/ADV\n",
            "  compro/V\n",
            "  o/ART\n",
            "  doce/ADJ\n",
            "  ou/KC\n",
            "  compro/V\n",
            "  o/ART\n",
            "  doce/ADJ\n",
            "  e/KC\n",
            "  gasto/N\n",
            "  o/ART\n",
            "  dinheiro/N\n",
            "  Ou/KC\n",
            "  isto/PROSUB\n",
            "  ou/KC\n",
            "  aquilo/PROSUB\n",
            "  ou/KC\n",
            "  isto/PROSUB\n",
            "  ou/KC\n",
            "  aquilo/PROSUB\n",
            "  e/KC\n",
            "  vivo/ADV\n",
            "  escolhendo/V\n",
            "  o/ART\n",
            "  dia/N\n",
            "  inteiro/ADJ\n",
            "  Não/ADV\n",
            "  sei/V\n",
            "  se/PROPESS\n",
            "  brinco/V\n",
            "  não/ADV\n",
            "  sei/V\n",
            "  se/PROPESS\n",
            "  estudo/N\n",
            "  se/PROPESS\n",
            "  saio/V\n",
            "  correndo/V\n",
            "  ou/KC\n",
            "  fico/V\n",
            "  tranquilo/ADJ\n",
            "  Mas/KC\n",
            "  não/ADV\n",
            "  consegui/V\n",
            "  entender/V\n",
            "  ainda/ADV\n",
            "  qual/PRO-KS-REL\n",
            "  melhor/ADJ\n",
            "  se/PROPESS\n",
            "  isto/PROSUB\n",
            "  ou/KC\n",
            "  aquilo/PROSUB\n",
            "  Ou/KC\n",
            "  Isto/PROSUB\n",
            "  ou/KC\n",
            "  Aquilo/PROSUB\n",
            "  (NP Cecília/NPROP Meireles/NPROP))\n"
          ]
        }
      ]
    },
    {
      "cell_type": "markdown",
      "metadata": {
        "id": "S1-UtYzKRYmK"
      },
      "source": [
        "![imagem](https://miro.medium.com/max/700/1*mfcStHLTzMZC1evPaSJaag.png)"
      ]
    }
  ]
}