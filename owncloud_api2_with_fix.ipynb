{
  "nbformat": 4,
  "nbformat_minor": 0,
  "metadata": {
    "colab": {
      "provenance": [],
      "authorship_tag": "ABX9TyNLWJVqT5c73DXXwWGsgPSI",
      "include_colab_link": true
    },
    "kernelspec": {
      "name": "python3",
      "display_name": "Python 3"
    },
    "language_info": {
      "name": "python"
    }
  },
  "cells": [
    {
      "cell_type": "markdown",
      "metadata": {
        "id": "view-in-github",
        "colab_type": "text"
      },
      "source": [
        "<a href=\"https://colab.research.google.com/github/Rogerio-mack/work/blob/main/owncloud_api2_with_fix.ipynb\" target=\"_parent\"><img src=\"https://colab.research.google.com/assets/colab-badge.svg\" alt=\"Open In Colab\"/></a>"
      ]
    },
    {
      "cell_type": "code",
      "execution_count": 1,
      "metadata": {
        "id": "n1rtJfYrJp5v",
        "colab": {
          "base_uri": "https://localhost:8080/"
        },
        "outputId": "63f5e2b2-2ddf-43d7-c515-9ee37f6fba9d"
      },
      "outputs": [
        {
          "output_type": "stream",
          "name": "stdout",
          "text": [
            "Cloning into 'pyocclient'...\n",
            "remote: Enumerating objects: 1642, done.\u001b[K\n",
            "remote: Counting objects: 100% (37/37), done.\u001b[K\n",
            "remote: Compressing objects: 100% (27/27), done.\u001b[K\n",
            "remote: Total 1642 (delta 13), reused 29 (delta 10), pack-reused 1605\u001b[K\n",
            "Receiving objects: 100% (1642/1642), 464.88 KiB | 1.95 MiB/s, done.\n",
            "Resolving deltas: 100% (953/953), done.\n"
          ]
        }
      ],
      "source": [
        "# !pip install pyocclient\n",
        "\n",
        "# Passos para o bug-FIX:\n",
        "!git clone https://github.com/hpc-fci-mackenzie/pyocclient\n"
      ]
    },
    {
      "cell_type": "code",
      "source": [
        "%cd /content/pyocclient\n",
        "!ls\n",
        "!pip install -e ."
      ],
      "metadata": {
        "id": "ec1tlU7JeGDi",
        "outputId": "03d6ca5e-a796-4c2a-ae81-b6dd5425a11a",
        "colab": {
          "base_uri": "https://localhost:8080/"
        }
      },
      "execution_count": 2,
      "outputs": [
        {
          "output_type": "stream",
          "name": "stdout",
          "text": [
            "/content/pyocclient\n",
            "CHANGES.rst\t  LICENSE.txt  README.rst   setup.py\n",
            "CONTRIBUTORS.rst  MANIFEST.in  runtests.sh  travis-build\n",
            "docs\t\t  owncloud     setup.cfg\n",
            "Looking in indexes: https://pypi.org/simple, https://us-python.pkg.dev/colab-wheels/public/simple/\n",
            "Obtaining file:///content/pyocclient\n",
            "Requirement already satisfied: requests>=2.0.1 in /usr/local/lib/python3.8/dist-packages (from pyocclient==0.6) (2.23.0)\n",
            "Requirement already satisfied: six in /usr/local/lib/python3.8/dist-packages (from pyocclient==0.6) (1.15.0)\n",
            "Requirement already satisfied: urllib3!=1.25.0,!=1.25.1,<1.26,>=1.21.1 in /usr/local/lib/python3.8/dist-packages (from requests>=2.0.1->pyocclient==0.6) (1.24.3)\n",
            "Requirement already satisfied: chardet<4,>=3.0.2 in /usr/local/lib/python3.8/dist-packages (from requests>=2.0.1->pyocclient==0.6) (3.0.4)\n",
            "Requirement already satisfied: certifi>=2017.4.17 in /usr/local/lib/python3.8/dist-packages (from requests>=2.0.1->pyocclient==0.6) (2022.9.24)\n",
            "Requirement already satisfied: idna<3,>=2.5 in /usr/local/lib/python3.8/dist-packages (from requests>=2.0.1->pyocclient==0.6) (2.10)\n",
            "Installing collected packages: pyocclient\n",
            "  Running setup.py develop for pyocclient\n",
            "Successfully installed pyocclient-0.6\n"
          ]
        }
      ]
    },
    {
      "cell_type": "code",
      "source": [
        "# !pip install pyocclient\n",
        "import owncloud\n",
        "\n",
        "!echo 'hello' > hello_toupload.txt\n",
        "\n",
        "public_link = 'https://mackcloud.mackenzie.br/owncloud/index.php/s/wp2rBlrNfuSzpfC' # pasta xyz pública e sem senha, vc pode acessar pelo Browser se quiser\n",
        "\n",
        "oc = owncloud.Client.from_public_link(public_link)\n",
        "\n",
        "try:\n",
        "  oc.drop_file('hello_toupload.txt')\n",
        "  print('Upload Successfully Executed')\n",
        "except Exception as e: \n",
        "  print(str(e))\n",
        "\n",
        "try:\n",
        "  oc.get_file('/hello_toupload.txt', 'hello_downloaded.txt')\n",
        "  print('Download Successfully Executed')\n",
        "except Exception as e: \n",
        "  print(str(e))\n",
        "\n",
        "try:\n",
        "  oc.get_file('/hello.txt', 'hello.txt')\n",
        "  print('Download Successfully Executed')\n",
        "except Exception as e: \n",
        "  print(str(e))"
      ],
      "metadata": {
        "id": "J6AzwMzwVEQ2",
        "outputId": "2b0e418f-1a3b-486f-ce02-f410ea96281a",
        "colab": {
          "base_uri": "https://localhost:8080/"
        }
      },
      "execution_count": 25,
      "outputs": [
        {
          "output_type": "stream",
          "name": "stdout",
          "text": [
            "HTTP error: 405\n",
            "HTTP error: 404\n",
            "HTTP error: 404\n"
          ]
        }
      ]
    },
    {
      "cell_type": "code",
      "source": [
        "import owncloud\n",
        "\n",
        "public_link = 'https://mackcloud.mackenzie.br/owncloud/index.php/s/wp2rBlrNfuSzpfC' # pasta xyz pública e sem senha, vc pode acessar pelo Browser se quiser\n",
        "\n",
        "try:\n",
        "  oc = owncloud.Client(url='https://mackcloud.mackenzie.br/owncloud/')\n",
        "  oc.anon_login('wp2rBlrNfuSzpfC')\n",
        "except Exception as e:\n",
        "  print(str(e))\n",
        "\n",
        "try:\n",
        "  oc.drop_file('hello_toupload.txt')\n",
        "  print('Upload Successfully Executed')\n",
        "except Exception as e:\n",
        "  print(str(e))\n",
        "\n",
        "try:\n",
        "  oc.get_file('/hello_toupload.txt', 'hello_downloaded.txt')\n",
        "  print('Download Successfully Executed')\n",
        "except Exception as e:\n",
        "  print(str(e))\n",
        "\n",
        "try:\n",
        "  oc.get_file('/hello.txt', 'hello.txt')\n",
        "  print('Download Successfully Executed')\n",
        "except Exception as e:\n",
        "  print(str(e))"
      ],
      "metadata": {
        "colab": {
          "base_uri": "https://localhost:8080/"
        },
        "id": "mn72_w2Vn6sL",
        "outputId": "ba0584b0-adc2-4048-973c-56fe6bab4272"
      },
      "execution_count": 26,
      "outputs": [
        {
          "output_type": "stream",
          "name": "stdout",
          "text": [
            "Upload Successfully Executed\n",
            "Download Successfully Executed\n",
            "Download Successfully Executed\n"
          ]
        }
      ]
    },
    {
      "cell_type": "code",
      "source": [
        "!cat hello.txt"
      ],
      "metadata": {
        "colab": {
          "base_uri": "https://localhost:8080/"
        },
        "id": "tgEoSwCgoTm6",
        "outputId": "a56800b1-fcc1-4ce1-c9d9-04f6b0f4f520"
      },
      "execution_count": 27,
      "outputs": [
        {
          "output_type": "stream",
          "name": "stdout",
          "text": [
            "hello\n"
          ]
        }
      ]
    },
    {
      "cell_type": "code",
      "source": [
        "import pandas as pd"
      ],
      "metadata": {
        "id": "0fxr2RYLvFgE"
      },
      "execution_count": 53,
      "outputs": []
    },
    {
      "cell_type": "code",
      "source": [
        "try:\n",
        "  list_dir = oc.list('/')\n",
        "  print('List Dir Successfully Executed')\n",
        "except Exception as e: \n",
        "  print(str(e))\n",
        "\n",
        "name = []; path = []; size = []; is_dir = []\n",
        "\n",
        "for i in range(len(list_dir)):\n",
        "  name.append( list_dir[i].get_name() )\n",
        "  path.append( list_dir[i].get_path() )\n",
        "  size.append( list_dir[i].get_size() )\n",
        "  is_dir.append( list_dir[i].is_dir() )\n",
        "\n",
        "df = pd.DataFrame({'name': name, 'path': path, 'size': size, 'is_dir': is_dir})\n",
        "\n",
        "display(df)"
      ],
      "metadata": {
        "colab": {
          "base_uri": "https://localhost:8080/",
          "height": 225
        },
        "id": "4FjhpHN3svvk",
        "outputId": "a89f90ed-a951-4460-8370-2c71d7c3c5bc"
      },
      "execution_count": 55,
      "outputs": [
        {
          "output_type": "stream",
          "name": "stdout",
          "text": [
            "List Dir Successfully Executed\n"
          ]
        },
        {
          "output_type": "display_data",
          "data": {
            "text/plain": [
              "                 name    path  size  is_dir\n",
              "0           hello.txt       /   6.0   False\n",
              "1          hello2.txt       /   6.0   False\n",
              "2          hello3.txt       /   6.0   False\n",
              "3  hello_toupload.txt       /   6.0   False\n",
              "4               teste  /teste   NaN    True"
            ],
            "text/html": [
              "\n",
              "  <div id=\"df-985a8c80-ad35-43cb-8496-49346b60d3b1\">\n",
              "    <div class=\"colab-df-container\">\n",
              "      <div>\n",
              "<style scoped>\n",
              "    .dataframe tbody tr th:only-of-type {\n",
              "        vertical-align: middle;\n",
              "    }\n",
              "\n",
              "    .dataframe tbody tr th {\n",
              "        vertical-align: top;\n",
              "    }\n",
              "\n",
              "    .dataframe thead th {\n",
              "        text-align: right;\n",
              "    }\n",
              "</style>\n",
              "<table border=\"1\" class=\"dataframe\">\n",
              "  <thead>\n",
              "    <tr style=\"text-align: right;\">\n",
              "      <th></th>\n",
              "      <th>name</th>\n",
              "      <th>path</th>\n",
              "      <th>size</th>\n",
              "      <th>is_dir</th>\n",
              "    </tr>\n",
              "  </thead>\n",
              "  <tbody>\n",
              "    <tr>\n",
              "      <th>0</th>\n",
              "      <td>hello.txt</td>\n",
              "      <td>/</td>\n",
              "      <td>6.0</td>\n",
              "      <td>False</td>\n",
              "    </tr>\n",
              "    <tr>\n",
              "      <th>1</th>\n",
              "      <td>hello2.txt</td>\n",
              "      <td>/</td>\n",
              "      <td>6.0</td>\n",
              "      <td>False</td>\n",
              "    </tr>\n",
              "    <tr>\n",
              "      <th>2</th>\n",
              "      <td>hello3.txt</td>\n",
              "      <td>/</td>\n",
              "      <td>6.0</td>\n",
              "      <td>False</td>\n",
              "    </tr>\n",
              "    <tr>\n",
              "      <th>3</th>\n",
              "      <td>hello_toupload.txt</td>\n",
              "      <td>/</td>\n",
              "      <td>6.0</td>\n",
              "      <td>False</td>\n",
              "    </tr>\n",
              "    <tr>\n",
              "      <th>4</th>\n",
              "      <td>teste</td>\n",
              "      <td>/teste</td>\n",
              "      <td>NaN</td>\n",
              "      <td>True</td>\n",
              "    </tr>\n",
              "  </tbody>\n",
              "</table>\n",
              "</div>\n",
              "      <button class=\"colab-df-convert\" onclick=\"convertToInteractive('df-985a8c80-ad35-43cb-8496-49346b60d3b1')\"\n",
              "              title=\"Convert this dataframe to an interactive table.\"\n",
              "              style=\"display:none;\">\n",
              "        \n",
              "  <svg xmlns=\"http://www.w3.org/2000/svg\" height=\"24px\"viewBox=\"0 0 24 24\"\n",
              "       width=\"24px\">\n",
              "    <path d=\"M0 0h24v24H0V0z\" fill=\"none\"/>\n",
              "    <path d=\"M18.56 5.44l.94 2.06.94-2.06 2.06-.94-2.06-.94-.94-2.06-.94 2.06-2.06.94zm-11 1L8.5 8.5l.94-2.06 2.06-.94-2.06-.94L8.5 2.5l-.94 2.06-2.06.94zm10 10l.94 2.06.94-2.06 2.06-.94-2.06-.94-.94-2.06-.94 2.06-2.06.94z\"/><path d=\"M17.41 7.96l-1.37-1.37c-.4-.4-.92-.59-1.43-.59-.52 0-1.04.2-1.43.59L10.3 9.45l-7.72 7.72c-.78.78-.78 2.05 0 2.83L4 21.41c.39.39.9.59 1.41.59.51 0 1.02-.2 1.41-.59l7.78-7.78 2.81-2.81c.8-.78.8-2.07 0-2.86zM5.41 20L4 18.59l7.72-7.72 1.47 1.35L5.41 20z\"/>\n",
              "  </svg>\n",
              "      </button>\n",
              "      \n",
              "  <style>\n",
              "    .colab-df-container {\n",
              "      display:flex;\n",
              "      flex-wrap:wrap;\n",
              "      gap: 12px;\n",
              "    }\n",
              "\n",
              "    .colab-df-convert {\n",
              "      background-color: #E8F0FE;\n",
              "      border: none;\n",
              "      border-radius: 50%;\n",
              "      cursor: pointer;\n",
              "      display: none;\n",
              "      fill: #1967D2;\n",
              "      height: 32px;\n",
              "      padding: 0 0 0 0;\n",
              "      width: 32px;\n",
              "    }\n",
              "\n",
              "    .colab-df-convert:hover {\n",
              "      background-color: #E2EBFA;\n",
              "      box-shadow: 0px 1px 2px rgba(60, 64, 67, 0.3), 0px 1px 3px 1px rgba(60, 64, 67, 0.15);\n",
              "      fill: #174EA6;\n",
              "    }\n",
              "\n",
              "    [theme=dark] .colab-df-convert {\n",
              "      background-color: #3B4455;\n",
              "      fill: #D2E3FC;\n",
              "    }\n",
              "\n",
              "    [theme=dark] .colab-df-convert:hover {\n",
              "      background-color: #434B5C;\n",
              "      box-shadow: 0px 1px 3px 1px rgba(0, 0, 0, 0.15);\n",
              "      filter: drop-shadow(0px 1px 2px rgba(0, 0, 0, 0.3));\n",
              "      fill: #FFFFFF;\n",
              "    }\n",
              "  </style>\n",
              "\n",
              "      <script>\n",
              "        const buttonEl =\n",
              "          document.querySelector('#df-985a8c80-ad35-43cb-8496-49346b60d3b1 button.colab-df-convert');\n",
              "        buttonEl.style.display =\n",
              "          google.colab.kernel.accessAllowed ? 'block' : 'none';\n",
              "\n",
              "        async function convertToInteractive(key) {\n",
              "          const element = document.querySelector('#df-985a8c80-ad35-43cb-8496-49346b60d3b1');\n",
              "          const dataTable =\n",
              "            await google.colab.kernel.invokeFunction('convertToInteractive',\n",
              "                                                     [key], {});\n",
              "          if (!dataTable) return;\n",
              "\n",
              "          const docLinkHtml = 'Like what you see? Visit the ' +\n",
              "            '<a target=\"_blank\" href=https://colab.research.google.com/notebooks/data_table.ipynb>data table notebook</a>'\n",
              "            + ' to learn more about interactive tables.';\n",
              "          element.innerHTML = '';\n",
              "          dataTable['output_type'] = 'display_data';\n",
              "          await google.colab.output.renderOutput(dataTable, element);\n",
              "          const docLink = document.createElement('div');\n",
              "          docLink.innerHTML = docLinkHtml;\n",
              "          element.appendChild(docLink);\n",
              "        }\n",
              "      </script>\n",
              "    </div>\n",
              "  </div>\n",
              "  "
            ]
          },
          "metadata": {}
        }
      ]
    },
    {
      "cell_type": "code",
      "source": [
        "list_dir"
      ],
      "metadata": {
        "colab": {
          "base_uri": "https://localhost:8080/"
        },
        "id": "VAgFb5fHs_Mr",
        "outputId": "2662e46f-74fd-4bb3-e7e4-4ae11c64d777"
      },
      "execution_count": 42,
      "outputs": [
        {
          "output_type": "execute_result",
          "data": {
            "text/plain": [
              "[File(path=/hello.txt,file_type=file,attributes={'{DAV:}getlastmodified': 'Thu, 27 Oct 2022 21:13:12 GMT', '{DAV:}getcontentlength': '6', '{DAV:}resourcetype': None, '{DAV:}getetag': '\"1bbe456aa0e6ec009130abb15e466803\"', '{DAV:}getcontenttype': 'text/plain'}),\n",
              " File(path=/hello2.txt,file_type=file,attributes={'{DAV:}getlastmodified': 'Fri, 28 Oct 2022 15:18:42 GMT', '{DAV:}getcontentlength': '6', '{DAV:}resourcetype': None, '{DAV:}getetag': '\"c08c634601d3bf396b683ceb94546fe1\"', '{DAV:}getcontenttype': 'text/plain'}),\n",
              " File(path=/hello3.txt,file_type=file,attributes={'{DAV:}getlastmodified': 'Fri, 28 Oct 2022 15:19:08 GMT', '{DAV:}getcontentlength': '6', '{DAV:}resourcetype': None, '{DAV:}getetag': '\"f2fc0bb1601828b5641b88c7e203ec4b\"', '{DAV:}getcontenttype': 'text/plain'}),\n",
              " File(path=/hello_toupload.txt,file_type=file,attributes={'{DAV:}getlastmodified': 'Mon, 12 Dec 2022 18:39:18 GMT', '{DAV:}getcontentlength': '6', '{DAV:}resourcetype': None, '{DAV:}getetag': '\"27d859f3dd097ed34cd409b1503be4d0\"', '{DAV:}getcontenttype': 'text/plain'}),\n",
              " File(path=/teste/,file_type=dir,attributes={'{DAV:}getlastmodified': 'Mon, 12 Dec 2022 19:00:11 GMT', '{DAV:}resourcetype': None, '{DAV:}quota-used-bytes': '3755', '{DAV:}quota-available-bytes': '25975910546', '{DAV:}getetag': '\"63977a3b33e68\"'})]"
            ]
          },
          "metadata": {},
          "execution_count": 42
        }
      ]
    },
    {
      "cell_type": "code",
      "source": [
        "try:\n",
        "  list_dir2 = oc.list('/teste')\n",
        "  print('List Dir Successfully Executed')\n",
        "except Exception as e: \n",
        "  print(str(e))\n",
        "\n",
        "list_dir2"
      ],
      "metadata": {
        "colab": {
          "base_uri": "https://localhost:8080/"
        },
        "id": "MWybUwRGtr5I",
        "outputId": "f6d30273-7d23-4115-e2be-b919fb2ae0c1"
      },
      "execution_count": 40,
      "outputs": [
        {
          "output_type": "stream",
          "name": "stdout",
          "text": [
            "List Dir Successfully Executed\n"
          ]
        },
        {
          "output_type": "execute_result",
          "data": {
            "text/plain": [
              "[File(path=/teste/comments.txt,file_type=file,attributes={'{DAV:}getlastmodified': 'Fri, 28 Oct 2022 12:44:38 GMT', '{DAV:}getcontentlength': '3755', '{DAV:}resourcetype': None, '{DAV:}getetag': '\"b7d1a9656a6ccddd617ecd0d56ce81ef\"', '{DAV:}getcontenttype': 'text/plain'})]"
            ]
          },
          "metadata": {},
          "execution_count": 40
        }
      ]
    },
    {
      "cell_type": "code",
      "source": [
        "dir(list_dir[0])"
      ],
      "metadata": {
        "colab": {
          "base_uri": "https://localhost:8080/"
        },
        "id": "7jGU0cpouV8U",
        "outputId": "3e21db99-d6e0-4778-c28b-d5ec101175e6"
      },
      "execution_count": 48,
      "outputs": [
        {
          "output_type": "execute_result",
          "data": {
            "text/plain": [
              "['_DATE_FORMAT',\n",
              " '__class__',\n",
              " '__delattr__',\n",
              " '__dict__',\n",
              " '__dir__',\n",
              " '__doc__',\n",
              " '__eq__',\n",
              " '__format__',\n",
              " '__ge__',\n",
              " '__getattribute__',\n",
              " '__gt__',\n",
              " '__hash__',\n",
              " '__init__',\n",
              " '__init_subclass__',\n",
              " '__le__',\n",
              " '__lt__',\n",
              " '__module__',\n",
              " '__ne__',\n",
              " '__new__',\n",
              " '__reduce__',\n",
              " '__reduce_ex__',\n",
              " '__repr__',\n",
              " '__setattr__',\n",
              " '__sizeof__',\n",
              " '__str__',\n",
              " '__subclasshook__',\n",
              " '__weakref__',\n",
              " 'attributes',\n",
              " 'file_type',\n",
              " 'get_content_type',\n",
              " 'get_etag',\n",
              " 'get_last_modified',\n",
              " 'get_name',\n",
              " 'get_path',\n",
              " 'get_size',\n",
              " 'is_dir',\n",
              " 'name',\n",
              " 'path']"
            ]
          },
          "metadata": {},
          "execution_count": 48
        }
      ]
    }
  ]
}