{
  "nbformat": 4,
  "nbformat_minor": 0,
  "metadata": {
    "colab": {
      "provenance": [],
      "authorship_tag": "ABX9TyMSfolfV/KgRpxgB8AnTP06",
      "include_colab_link": true
    },
    "kernelspec": {
      "name": "python3",
      "display_name": "Python 3"
    },
    "language_info": {
      "name": "python"
    }
  },
  "cells": [
    {
      "cell_type": "markdown",
      "metadata": {
        "id": "view-in-github",
        "colab_type": "text"
      },
      "source": [
        "<a href=\"https://colab.research.google.com/github/Rogerio-mack/work/blob/main/owncloud_api2_with_fix.ipynb\" target=\"_parent\"><img src=\"https://colab.research.google.com/assets/colab-badge.svg\" alt=\"Open In Colab\"/></a>"
      ]
    },
    {
      "cell_type": "code",
      "execution_count": 1,
      "metadata": {
        "id": "n1rtJfYrJp5v",
        "colab": {
          "base_uri": "https://localhost:8080/"
        },
        "outputId": "63f5e2b2-2ddf-43d7-c515-9ee37f6fba9d"
      },
      "outputs": [
        {
          "output_type": "stream",
          "name": "stdout",
          "text": [
            "Cloning into 'pyocclient'...\n",
            "remote: Enumerating objects: 1642, done.\u001b[K\n",
            "remote: Counting objects: 100% (37/37), done.\u001b[K\n",
            "remote: Compressing objects: 100% (27/27), done.\u001b[K\n",
            "remote: Total 1642 (delta 13), reused 29 (delta 10), pack-reused 1605\u001b[K\n",
            "Receiving objects: 100% (1642/1642), 464.88 KiB | 1.95 MiB/s, done.\n",
            "Resolving deltas: 100% (953/953), done.\n"
          ]
        }
      ],
      "source": [
        "# !pip install pyocclient\n",
        "\n",
        "# Passos para o bug-FIX:\n",
        "!git clone https://github.com/hpc-fci-mackenzie/pyocclient\n"
      ]
    },
    {
      "cell_type": "code",
      "source": [
        "%cd /content/pyocclient\n",
        "!ls\n",
        "!pip install -e ."
      ],
      "metadata": {
        "id": "ec1tlU7JeGDi",
        "outputId": "03d6ca5e-a796-4c2a-ae81-b6dd5425a11a",
        "colab": {
          "base_uri": "https://localhost:8080/"
        }
      },
      "execution_count": 2,
      "outputs": [
        {
          "output_type": "stream",
          "name": "stdout",
          "text": [
            "/content/pyocclient\n",
            "CHANGES.rst\t  LICENSE.txt  README.rst   setup.py\n",
            "CONTRIBUTORS.rst  MANIFEST.in  runtests.sh  travis-build\n",
            "docs\t\t  owncloud     setup.cfg\n",
            "Looking in indexes: https://pypi.org/simple, https://us-python.pkg.dev/colab-wheels/public/simple/\n",
            "Obtaining file:///content/pyocclient\n",
            "Requirement already satisfied: requests>=2.0.1 in /usr/local/lib/python3.8/dist-packages (from pyocclient==0.6) (2.23.0)\n",
            "Requirement already satisfied: six in /usr/local/lib/python3.8/dist-packages (from pyocclient==0.6) (1.15.0)\n",
            "Requirement already satisfied: urllib3!=1.25.0,!=1.25.1,<1.26,>=1.21.1 in /usr/local/lib/python3.8/dist-packages (from requests>=2.0.1->pyocclient==0.6) (1.24.3)\n",
            "Requirement already satisfied: chardet<4,>=3.0.2 in /usr/local/lib/python3.8/dist-packages (from requests>=2.0.1->pyocclient==0.6) (3.0.4)\n",
            "Requirement already satisfied: certifi>=2017.4.17 in /usr/local/lib/python3.8/dist-packages (from requests>=2.0.1->pyocclient==0.6) (2022.9.24)\n",
            "Requirement already satisfied: idna<3,>=2.5 in /usr/local/lib/python3.8/dist-packages (from requests>=2.0.1->pyocclient==0.6) (2.10)\n",
            "Installing collected packages: pyocclient\n",
            "  Running setup.py develop for pyocclient\n",
            "Successfully installed pyocclient-0.6\n"
          ]
        }
      ]
    },
    {
      "cell_type": "code",
      "source": [
        "# !pip install pyocclient\n",
        "import owncloud\n",
        "\n",
        "!echo 'hello' > hello_toupload.txt\n",
        "\n",
        "public_link = 'https://mackcloud.mackenzie.br/owncloud/index.php/s/wp2rBlrNfuSzpfC' # pasta xyz pública e sem senha, vc pode acessar pelo Browser se quiser\n",
        "\n",
        "oc = owncloud.Client.from_public_link(public_link)\n",
        "\n",
        "try:\n",
        "  oc.drop_file('hello_toupload.txt')\n",
        "  print('Upload Successfully Executed')\n",
        "except Exception as e: \n",
        "  print(str(e))\n",
        "\n",
        "try:\n",
        "  oc.get_file('/hello_toupload.txt', 'hello_downloaded.txt')\n",
        "  print('Download Successfully Executed')\n",
        "except Exception as e: \n",
        "  print(str(e))\n",
        "\n",
        "try:\n",
        "  oc.get_file('/hello.txt', 'hello.txt')\n",
        "  print('Download Successfully Executed')\n",
        "except Exception as e: \n",
        "  print(str(e))"
      ],
      "metadata": {
        "id": "J6AzwMzwVEQ2",
        "outputId": "510f02e5-145c-4a66-945e-c69fea9d6738",
        "colab": {
          "base_uri": "https://localhost:8080/"
        }
      },
      "execution_count": 5,
      "outputs": [
        {
          "output_type": "stream",
          "name": "stdout",
          "text": [
            "HTTP error: 405\n",
            "HTTP error: 404\n",
            "HTTP error: 404\n"
          ]
        }
      ]
    }
  ]
}